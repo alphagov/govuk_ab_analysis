{
 "cells": [
  {
   "cell_type": "code",
   "execution_count": 38,
   "metadata": {
    "ExecuteTime": {
     "end_time": "2019-03-28T15:43:08.510749Z",
     "start_time": "2019-03-28T15:43:08.454927Z"
    }
   },
   "outputs": [],
   "source": [
    "import os \n",
    "import pandas as pd\n",
    "import numpy as np\n",
    "import ast\n",
    "import re\n",
    "import json\n",
    "\n",
    "from tqdm import tqdm, tqdm_notebook\n",
    "tqdm.pandas(tqdm_notebook)\n",
    "from datetime import datetime\n",
    "import glob\n"
   ]
  },
  {
   "cell_type": "code",
   "execution_count": 39,
   "metadata": {
    "ExecuteTime": {
     "end_time": "2019-03-28T15:43:08.756648Z",
     "start_time": "2019-03-28T15:43:08.750048Z"
    }
   },
   "outputs": [],
   "source": [
    "DATA_DIR = os.getenv(\"DATA_DIR\")"
   ]
  },
  {
   "cell_type": "markdown",
   "metadata": {},
   "source": [
    "# Page-level"
   ]
  },
  {
   "cell_type": "markdown",
   "metadata": {},
   "source": [
    "### Read in data (content items)"
   ]
  },
  {
   "cell_type": "code",
   "execution_count": 40,
   "metadata": {
    "ExecuteTime": {
     "end_time": "2019-03-28T15:43:11.283042Z",
     "start_time": "2019-03-28T15:43:09.396324Z"
    }
   },
   "outputs": [],
   "source": [
    "clean_content_df = pd.read_csv(os.path.join(DATA_DIR, 'metadata/clean_content_links.csv')\n",
    "                              )"
   ]
  },
  {
   "cell_type": "markdown",
   "metadata": {},
   "source": [
    "### Keep only pages with related links"
   ]
  },
  {
   "cell_type": "code",
   "execution_count": 41,
   "metadata": {
    "ExecuteTime": {
     "end_time": "2019-03-28T15:43:11.408206Z",
     "start_time": "2019-03-28T15:43:11.286845Z"
    }
   },
   "outputs": [],
   "source": [
    "# only select rows that have related links (they have \n",
    "# related_mainstream_content, ordered_related_items, or quick_links)\n",
    "clean_content_rl_df = clean_content_df.copy().query(\n",
    "    'related_mainstream_content.notnull() or ordered_related_items.notnull()or part_of_step_navs.notnull() or quick_links.notnull()'\n",
    "    )"
   ]
  },
  {
   "cell_type": "code",
   "execution_count": 42,
   "metadata": {
    "ExecuteTime": {
     "end_time": "2019-03-28T15:43:11.437499Z",
     "start_time": "2019-03-28T15:43:11.410189Z"
    }
   },
   "outputs": [
    {
     "data": {
      "text/html": [
       "<div>\n",
       "<style scoped>\n",
       "    .dataframe tbody tr th:only-of-type {\n",
       "        vertical-align: middle;\n",
       "    }\n",
       "\n",
       "    .dataframe tbody tr th {\n",
       "        vertical-align: top;\n",
       "    }\n",
       "\n",
       "    .dataframe thead th {\n",
       "        text-align: right;\n",
       "    }\n",
       "</style>\n",
       "<table border=\"1\" class=\"dataframe\">\n",
       "  <thead>\n",
       "    <tr style=\"text-align: right;\">\n",
       "      <th></th>\n",
       "      <th>base_path</th>\n",
       "      <th>content_id</th>\n",
       "      <th>document_type</th>\n",
       "      <th>primary_publishing_organisation</th>\n",
       "      <th>publishing_app</th>\n",
       "      <th>title</th>\n",
       "      <th>ordered_related_items</th>\n",
       "      <th>quick_links</th>\n",
       "      <th>related_mainstream_content</th>\n",
       "      <th>related_guides</th>\n",
       "      <th>document_collections</th>\n",
       "      <th>part_of_step_navs</th>\n",
       "      <th>related_to_step_navs</th>\n",
       "      <th>slugs</th>\n",
       "    </tr>\n",
       "  </thead>\n",
       "  <tbody>\n",
       "    <tr>\n",
       "      <th>176880</th>\n",
       "      <td>/hunting</td>\n",
       "      <td>8642926f-6bec-40c7-a158-e5e9c5361254</td>\n",
       "      <td>guide</td>\n",
       "      <td>Government Digital Service</td>\n",
       "      <td>publisher</td>\n",
       "      <td>hunting and shooting wildlife</td>\n",
       "      <td>['9d06120f-4f08-407c-b98e-b849a48cf9a0', 'e516...</td>\n",
       "      <td>NaN</td>\n",
       "      <td>NaN</td>\n",
       "      <td>NaN</td>\n",
       "      <td>NaN</td>\n",
       "      <td>NaN</td>\n",
       "      <td>NaN</td>\n",
       "      <td>['overview', 'Birds', 'mammals']</td>\n",
       "    </tr>\n",
       "  </tbody>\n",
       "</table>\n",
       "</div>"
      ],
      "text/plain": [
       "       base_path                            content_id document_type  \\\n",
       "176880  /hunting  8642926f-6bec-40c7-a158-e5e9c5361254         guide   \n",
       "\n",
       "       primary_publishing_organisation publishing_app  \\\n",
       "176880      Government Digital Service      publisher   \n",
       "\n",
       "                                title  \\\n",
       "176880  hunting and shooting wildlife   \n",
       "\n",
       "                                    ordered_related_items  quick_links  \\\n",
       "176880  ['9d06120f-4f08-407c-b98e-b849a48cf9a0', 'e516...          NaN   \n",
       "\n",
       "       related_mainstream_content related_guides document_collections  \\\n",
       "176880                        NaN            NaN                  NaN   \n",
       "\n",
       "       part_of_step_navs related_to_step_navs  \\\n",
       "176880               NaN                  NaN   \n",
       "\n",
       "                                   slugs  \n",
       "176880  ['overview', 'Birds', 'mammals']  "
      ]
     },
     "execution_count": 42,
     "metadata": {},
     "output_type": "execute_result"
    }
   ],
   "source": [
    "clean_content_rl_df[clean_content_rl_df['base_path']=='/hunting']"
   ]
  },
  {
   "cell_type": "markdown",
   "metadata": {},
   "source": [
    "### Tidy related link pages data"
   ]
  },
  {
   "cell_type": "code",
   "execution_count": 43,
   "metadata": {
    "ExecuteTime": {
     "end_time": "2019-03-28T15:43:11.597178Z",
     "start_time": "2019-03-28T15:43:11.441437Z"
    }
   },
   "outputs": [],
   "source": [
    "# fill NaNs with empty arrays, and then literal_eval all the arrays so we can\n",
    "# access the items within them (the different slugs associated with each\n",
    "# content ID)\n",
    "clean_content_rl_df['slugs'] = clean_content_rl_df['slugs'].fillna(\"['']\").apply(\n",
    "    ast.literal_eval)"
   ]
  },
  {
   "cell_type": "markdown",
   "metadata": {},
   "source": [
    "This converts the string to a list and puts an empty list where there are none"
   ]
  },
  {
   "cell_type": "code",
   "execution_count": 44,
   "metadata": {
    "ExecuteTime": {
     "end_time": "2019-03-28T15:43:11.702108Z",
     "start_time": "2019-03-28T15:43:11.698769Z"
    }
   },
   "outputs": [],
   "source": [
    "clean_content_rl_df.reset_index(inplace=True, drop=True)"
   ]
  },
  {
   "cell_type": "code",
   "execution_count": 45,
   "metadata": {
    "ExecuteTime": {
     "end_time": "2019-03-28T15:43:11.974933Z",
     "start_time": "2019-03-28T15:43:11.969724Z"
    }
   },
   "outputs": [],
   "source": [
    "# sometimes there isn't an empty slug in the list of slugs, but the page path\n",
    "# exists, so this is a little hack to includ the plain basePath\n",
    "def add_dummy_slug(slugs):\n",
    "    list1 = ['']\n",
    "    list1.extend(slugs)\n",
    "    return list(set(list1))"
   ]
  },
  {
   "cell_type": "markdown",
   "metadata": {},
   "source": [
    "dummmy_slug is the url without any slug which  is also a page so needs an empty slug"
   ]
  },
  {
   "cell_type": "code",
   "execution_count": 46,
   "metadata": {
    "ExecuteTime": {
     "end_time": "2019-03-28T15:43:12.603349Z",
     "start_time": "2019-03-28T15:43:12.595826Z"
    }
   },
   "outputs": [],
   "source": [
    "clean_content_rl_df['slugs'] = clean_content_rl_df['slugs'].apply(add_dummy_slug)"
   ]
  },
  {
   "cell_type": "markdown",
   "metadata": {},
   "source": [
    "wide to long"
   ]
  },
  {
   "cell_type": "code",
   "execution_count": 47,
   "metadata": {
    "ExecuteTime": {
     "end_time": "2019-03-28T15:43:13.201574Z",
     "start_time": "2019-03-28T15:43:13.196204Z"
    }
   },
   "outputs": [],
   "source": [
    "# adapted from https://gist.github.com/jlln/338b4b0b55bd6984f883\n",
    "def splitDataFrameList(df,target_column):\n",
    "    '''\n",
    "    df = dataframe to split,\n",
    "    target_column = the column containing the values to split, in an array\n",
    "    returns: a dataframe with each entry for the target column separated,\n",
    "        with each element moved into a new row. The values in the other\n",
    "        columns are duplicated across the newly divided rows.\n",
    "    '''\n",
    "    def splitListToRows(row,row_accumulator,target_column):\n",
    "        for s in row[target_column]:\n",
    "            new_row = row.to_dict()\n",
    "            new_row[target_column] = s\n",
    "            row_accumulator.append(new_row)\n",
    "    new_rows = []\n",
    "    df.apply(splitListToRows,axis=1,args = (new_rows,target_column))\n",
    "    new_df = pd.DataFrame(new_rows)\n",
    "    return new_df"
   ]
  },
  {
   "cell_type": "code",
   "execution_count": 48,
   "metadata": {
    "ExecuteTime": {
     "end_time": "2019-03-28T15:43:14.009013Z",
     "start_time": "2019-03-28T15:43:13.719885Z"
    }
   },
   "outputs": [],
   "source": [
    "clean_content_exploded_df = splitDataFrameList(\n",
    "    clean_content_rl_df, 'slugs')"
   ]
  },
  {
   "cell_type": "code",
   "execution_count": 49,
   "metadata": {
    "ExecuteTime": {
     "end_time": "2019-03-28T15:43:14.072301Z",
     "start_time": "2019-03-28T15:43:14.069263Z"
    }
   },
   "outputs": [],
   "source": [
    "def add_slash_between_basepath_slug(slug):\n",
    "    if slug == '':\n",
    "        return ''\n",
    "    else:\n",
    "        return '/' + slug"
   ]
  },
  {
   "cell_type": "code",
   "execution_count": 50,
   "metadata": {
    "ExecuteTime": {
     "end_time": "2019-03-28T15:43:14.355489Z",
     "start_time": "2019-03-28T15:43:14.348305Z"
    }
   },
   "outputs": [],
   "source": [
    "clean_content_exploded_df['slug'] = clean_content_exploded_df['slugs'].map(\n",
    "    add_slash_between_basepath_slug)"
   ]
  },
  {
   "cell_type": "code",
   "execution_count": 51,
   "metadata": {
    "ExecuteTime": {
     "end_time": "2019-03-28T15:43:14.652558Z",
     "start_time": "2019-03-28T15:43:14.647551Z"
    }
   },
   "outputs": [],
   "source": [
    "clean_content_exploded_df['pagePath'] = clean_content_exploded_df['base_path']  + clean_content_exploded_df['slug']\n"
   ]
  },
  {
   "cell_type": "code",
   "execution_count": 52,
   "metadata": {
    "ExecuteTime": {
     "end_time": "2019-03-28T15:43:15.174248Z",
     "start_time": "2019-03-28T15:43:15.048005Z"
    }
   },
   "outputs": [],
   "source": [
    "clean_content_exploded_df.to_csv(os.path.join(DATA_DIR, 'metadata/loved_pages.csv.gz'),\n",
    "                        compression='gzip', index=False)"
   ]
  },
  {
   "cell_type": "markdown",
   "metadata": {},
   "source": [
    "SMART answers needed separately as each answer gets a new slug so the beginning of the url is matched to classify these as loved"
   ]
  },
  {
   "cell_type": "code",
   "execution_count": 53,
   "metadata": {
    "ExecuteTime": {
     "end_time": "2019-03-28T15:43:15.860003Z",
     "start_time": "2019-03-28T15:43:15.846087Z"
    }
   },
   "outputs": [],
   "source": [
    "clean_content_exploded_df[\n",
    "    clean_content_exploded_df['document_type'] == 'simple_smart_answer'].to_csv(os.path.join(DATA_DIR, 'metadata/loved_smart_answers.csv.gz'),\n",
    "                        compression='gzip', index=False)"
   ]
  },
  {
   "cell_type": "markdown",
   "metadata": {},
   "source": [
    "# Journey-level"
   ]
  },
  {
   "cell_type": "code",
   "execution_count": 54,
   "metadata": {
    "ExecuteTime": {
     "end_time": "2019-03-28T15:43:16.898470Z",
     "start_time": "2019-03-28T15:43:16.895619Z"
    }
   },
   "outputs": [],
   "source": [
    "REQUIRED_COLUMNS = [\"Occurrences\", \"ABVariant\", \"Page_Event_List\",\n",
    "                    \"Page_List\",  \"Event_cat_act_agg\"]"
   ]
  },
  {
   "cell_type": "code",
   "execution_count": 55,
   "metadata": {
    "ExecuteTime": {
     "end_time": "2019-03-28T15:43:17.152820Z",
     "start_time": "2019-03-28T15:43:17.120212Z"
    }
   },
   "outputs": [],
   "source": [
    "loved_pages_df = pd.read_csv(\n",
    "    os.path.join(DATA_DIR, 'metadata/loved_pages.csv.gz'),\n",
    "    usecols=['pagePath'])"
   ]
  },
  {
   "cell_type": "code",
   "execution_count": 56,
   "metadata": {
    "ExecuteTime": {
     "end_time": "2019-03-28T15:43:17.352635Z",
     "start_time": "2019-03-28T15:43:17.347825Z"
    }
   },
   "outputs": [],
   "source": [
    "loved_page_paths_set = set(loved_pages_df['pagePath'].tolist())"
   ]
  },
  {
   "cell_type": "code",
   "execution_count": 57,
   "metadata": {
    "ExecuteTime": {
     "end_time": "2019-03-28T15:43:17.527806Z",
     "start_time": "2019-03-28T15:43:17.519606Z"
    }
   },
   "outputs": [],
   "source": [
    "loved_smart_answers_df = pd.read_csv(\n",
    "    os.path.join(DATA_DIR, 'metadata/loved_smart_answers.csv.gz'),\n",
    "    usecols=['pagePath'])"
   ]
  },
  {
   "cell_type": "code",
   "execution_count": 58,
   "metadata": {
    "ExecuteTime": {
     "end_time": "2019-03-28T15:43:17.973371Z",
     "start_time": "2019-03-28T15:43:17.969708Z"
    }
   },
   "outputs": [],
   "source": [
    "loved_smart_answers_df['pagePath'] = loved_smart_answers_df['pagePath'] + '/'"
   ]
  },
  {
   "cell_type": "code",
   "execution_count": 59,
   "metadata": {
    "ExecuteTime": {
     "end_time": "2019-03-28T15:43:18.323903Z",
     "start_time": "2019-03-28T15:43:18.321022Z"
    }
   },
   "outputs": [],
   "source": [
    "loved_smart_answers = list(set(\n",
    "    loved_smart_answers_df['pagePath'].tolist()))"
   ]
  },
  {
   "cell_type": "markdown",
   "metadata": {},
   "source": [
    "the pages come from links in this page https://www.gov.uk/government/organisations/hm-revenue-customs/contact"
   ]
  },
  {
   "cell_type": "code",
   "execution_count": 60,
   "metadata": {
    "ExecuteTime": {
     "end_time": "2019-03-28T15:43:18.813729Z",
     "start_time": "2019-03-28T15:43:18.796049Z"
    }
   },
   "outputs": [],
   "source": [
    "with open(os.path.join(DATA_DIR, 'metadata/hmrc_contact_pages.json'), \"r\") as read_file:\n",
    "    contact_pages = json.load(read_file)"
   ]
  },
  {
   "cell_type": "code",
   "execution_count": 61,
   "metadata": {
    "ExecuteTime": {
     "end_time": "2019-03-28T15:43:19.073107Z",
     "start_time": "2019-03-28T15:43:19.069997Z"
    }
   },
   "outputs": [],
   "source": [
    "hmrc_contact_pages = [link['base_path'] for link in contact_pages['links']['children']]"
   ]
  },
  {
   "cell_type": "code",
   "execution_count": 62,
   "metadata": {
    "ExecuteTime": {
     "end_time": "2019-03-28T15:43:19.549111Z",
     "start_time": "2019-03-28T15:43:19.546109Z"
    }
   },
   "outputs": [],
   "source": [
    "hmrc_contact_pages_set = set(hmrc_contact_pages)"
   ]
  },
  {
   "cell_type": "code",
   "execution_count": 65,
   "metadata": {
    "ExecuteTime": {
     "end_time": "2019-03-28T15:46:02.458671Z",
     "start_time": "2019-03-28T15:46:02.451657Z"
    }
   },
   "outputs": [],
   "source": [
    "def is_loved_page(page):\n",
    "    page = page.split('?')[0]\n",
    "    return any([\n",
    "        re.compile(r'/foreign-travel-advice/|/find-local-council/|/premises-licence/').match(page),\n",
    "        page in hmrc_contact_pages_set,\n",
    "        page in loved_page_paths_set,\n",
    "        page == '/help',\n",
    "        page in ['/help/terms-conditions', \n",
    "         '/help/about-govuk',\n",
    "         '/help/accessibility', \n",
    "         '/help/privacy-policy',\n",
    "         '/help/cookies', \n",
    "         '/help/update-email-notifications',\n",
    "         '/help/browsers', \n",
    "         '/help/beta'],\n",
    "        any([pagepath in page for pagepath in loved_smart_answers]), \n",
    "        \n",
    "        page in ['/visit-europe-brexit',\n",
    "            '/apply-company-tachograph-card',\n",
    "            '/cymraeg',\n",
    "            '/guidance/apprenticeship-funding-rules'],\n",
    "        any([pagepath in page for pagepath in [\n",
    "            '/food-premises-approval','/marriage-abroad',\n",
    "            '/guidance/transport-goods-out-of-the-uk-by-road-if-the-uk-leaves-the-eu-without-a-deal-checklist-for-hauliers',\n",
    "            '/check-british-citizenship','/renew-driving-licence']])\n",
    "        ])"
   ]
  },
  {
   "cell_type": "code",
   "execution_count": 66,
   "metadata": {
    "ExecuteTime": {
     "end_time": "2019-03-28T15:46:04.512911Z",
     "start_time": "2019-03-28T15:46:04.501693Z"
    }
   },
   "outputs": [],
   "source": [
    "def split_daily_data(file_prefix):\n",
    "    print(f\"reading {file_prefix} data\")\n",
    "    df = pd.read_csv(\n",
    "        os.path.join(DATA_DIR, f'processed_journey/taxon_ab_{file_prefix}.csv.gz'), \n",
    "        sep='\\t', \n",
    "        usecols=REQUIRED_COLUMNS)\n",
    "    print(\"page_event_list to literal list\")\n",
    "    df['Page_Event_List'] = df['Page_Event_List'].apply(ast.literal_eval)\n",
    "    print(\"Derive var: there_is_atleastone_loved_page\")\n",
    "    # filter on Page_Event_List becuase sometimes it doesn't match but Page_List is created from Page_Event_list so will always inlcude more\n",
    "    df['pages'] = df.Page_Event_List.apply(lambda x: [triple[0] for triple in x])\n",
    "    df['there_is_atleastone_loved_page'] = df.pages.map(lambda x: any([is_loved_page(page) for page in x]))\n",
    "    print(\"Derive var: is_loved_journey\")\n",
    "    df = df.assign(is_loved_journey = np.where(df.there_is_atleastone_loved_page==1, True, False))\n",
    "    \n",
    "    print(\"Number of occurences of journeys of this type\")\n",
    "    print(df[['Occurrences', 'is_loved_journey']].groupby('is_loved_journey').sum())\n",
    "    percent = df[['Occurrences', 'is_loved_journey']].groupby('is_loved_journey').sum().iloc[0]/(df[['Occurrences', \n",
    "                                                    'is_loved_journey']].groupby('is_loved_journey').sum().iloc[0] + \n",
    "                                                df[['Occurrences', 'is_loved_journey']].groupby('is_loved_journey').sum().iloc[1])\n",
    "    print(\"{:2.2%} of journeys are unloved on {}, a {}\".format(percent.item(), file_prefix, datetime.strptime(file_prefix, '%Y-%m-%d').strftime(\"%A\")))\n",
    "    print(\"writing files\")\n",
    "\n",
    "    df[df['is_loved_journey']==False].to_csv(os.path.join(DATA_DIR, f'processed_journey/unloved_{file_prefix}.csv.gz'), \n",
    "                                             sep=\"\\t\", \n",
    "                                             compression=\"gzip\", index=False)\n",
    "    df[df['is_loved_journey']==True].to_csv(\n",
    "        os.path.join(DATA_DIR, f'processed_journey/loved_{file_prefix}.csv.gz'), \n",
    "        sep=\"\\t\", \n",
    "        compression=\"gzip\", \n",
    "        index=False)"
   ]
  },
  {
   "cell_type": "code",
   "execution_count": 67,
   "metadata": {
    "ExecuteTime": {
     "end_time": "2019-03-28T15:46:05.804398Z",
     "start_time": "2019-03-28T15:46:05.799010Z"
    }
   },
   "outputs": [],
   "source": [
    "combined_loved_and_unloved = sorted(glob.glob(\n",
    "        f'{DATA_DIR}/processed_journey/taxon_ab_*.csv.gz'))"
   ]
  },
  {
   "cell_type": "code",
   "execution_count": 68,
   "metadata": {
    "ExecuteTime": {
     "end_time": "2019-03-28T15:46:06.252155Z",
     "start_time": "2019-03-28T15:46:06.247539Z"
    }
   },
   "outputs": [
    {
     "data": {
      "text/plain": [
       "['/Users/suganyasivaskantharajah/code/govuk_ab_analysis/data/processed_journey/taxon_ab_2019-03-23.csv.gz',\n",
       " '/Users/suganyasivaskantharajah/code/govuk_ab_analysis/data/processed_journey/taxon_ab_2019-03-24.csv.gz',\n",
       " '/Users/suganyasivaskantharajah/code/govuk_ab_analysis/data/processed_journey/taxon_ab_2019-03-25.csv.gz',\n",
       " '/Users/suganyasivaskantharajah/code/govuk_ab_analysis/data/processed_journey/taxon_ab_2019-03-26.csv.gz',\n",
       " '/Users/suganyasivaskantharajah/code/govuk_ab_analysis/data/processed_journey/taxon_ab_2019-03-27.csv.gz']"
      ]
     },
     "execution_count": 68,
     "metadata": {},
     "output_type": "execute_result"
    }
   ],
   "source": [
    "combined_loved_and_unloved"
   ]
  },
  {
   "cell_type": "code",
   "execution_count": 69,
   "metadata": {
    "ExecuteTime": {
     "end_time": "2019-03-28T16:24:03.791215Z",
     "start_time": "2019-03-28T15:46:11.249823Z"
    }
   },
   "outputs": [
    {
     "name": "stdout",
     "output_type": "stream",
     "text": [
      "reading 2019-03-23 data\n",
      "page_event_list to literal list\n",
      "Derive var: there_is_atleastone_loved_page\n",
      "Derive var: is_loved_journey\n",
      "Number of occurences of journeys of this type\n",
      "                  Occurrences\n",
      "is_loved_journey             \n",
      "False                  498577\n",
      "True                  1722339\n",
      "22.45% of journeys are unloved on 2019-03-23, a Saturday\n",
      "writing files\n",
      "reading 2019-03-24 data\n",
      "page_event_list to literal list\n",
      "Derive var: there_is_atleastone_loved_page\n",
      "Derive var: is_loved_journey\n",
      "Number of occurences of journeys of this type\n",
      "                  Occurrences\n",
      "is_loved_journey             \n",
      "False                  478630\n",
      "True                  1709592\n",
      "21.87% of journeys are unloved on 2019-03-24, a Sunday\n",
      "writing files\n",
      "reading 2019-03-25 data\n",
      "page_event_list to literal list\n",
      "Derive var: there_is_atleastone_loved_page\n",
      "Derive var: is_loved_journey\n",
      "Number of occurences of journeys of this type\n",
      "                  Occurrences\n",
      "is_loved_journey             \n",
      "False                 1128418\n",
      "True                  3355193\n",
      "25.17% of journeys are unloved on 2019-03-25, a Monday\n",
      "writing files\n",
      "reading 2019-03-26 data\n",
      "page_event_list to literal list\n",
      "Derive var: there_is_atleastone_loved_page\n",
      "Derive var: is_loved_journey\n",
      "Number of occurences of journeys of this type\n",
      "                  Occurrences\n",
      "is_loved_journey             \n",
      "False                 1090455\n",
      "True                  3293830\n",
      "24.87% of journeys are unloved on 2019-03-26, a Tuesday\n",
      "writing files\n",
      "reading 2019-03-27 data\n",
      "page_event_list to literal list\n",
      "Derive var: there_is_atleastone_loved_page\n",
      "Derive var: is_loved_journey\n",
      "Number of occurences of journeys of this type\n",
      "                  Occurrences\n",
      "is_loved_journey             \n",
      "False                 1073021\n",
      "True                  3294258\n",
      "24.57% of journeys are unloved on 2019-03-27, a Wednesday\n",
      "writing files\n"
     ]
    }
   ],
   "source": [
    "for file in combined_loved_and_unloved:\n",
    "    date = re.search(r'\\d{4}-\\d{2}-\\d{2}', file)\n",
    "    split_daily_data(date.group())"
   ]
  },
  {
   "cell_type": "code",
   "execution_count": null,
   "metadata": {},
   "outputs": [],
   "source": []
  }
 ],
 "metadata": {
  "kernelspec": {
   "display_name": "Python 3",
   "language": "python",
   "name": "python3"
  },
  "language_info": {
   "codemirror_mode": {
    "name": "ipython",
    "version": 3
   },
   "file_extension": ".py",
   "mimetype": "text/x-python",
   "name": "python",
   "nbconvert_exporter": "python",
   "pygments_lexer": "ipython3",
   "version": "3.7.2"
  },
  "toc": {
   "base_numbering": 1,
   "nav_menu": {},
   "number_sections": true,
   "sideBar": true,
   "skip_h1_title": false,
   "title_cell": "Table of Contents",
   "title_sidebar": "Contents",
   "toc_cell": false,
   "toc_position": {},
   "toc_section_display": true,
   "toc_window_display": false
  }
 },
 "nbformat": 4,
 "nbformat_minor": 2
}
