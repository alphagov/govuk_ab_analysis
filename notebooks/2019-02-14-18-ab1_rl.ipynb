{
 "cells": [
  {
   "cell_type": "markdown",
   "metadata": {},
   "source": [
    "## Import"
   ]
  },
  {
   "cell_type": "code",
   "execution_count": 5,
   "metadata": {
    "ExecuteTime": {
     "end_time": "2019-02-19T11:01:20.461895Z",
     "start_time": "2019-02-19T11:01:20.415066Z"
    }
   },
   "outputs": [],
   "source": [
    "import os \n",
    "import pandas as pd\n",
    "import numpy as np\n",
    "import ast\n",
    "import re\n",
    "\n",
    "# z test\n",
    "from statsmodels.stats.proportion import proportions_ztest\n",
    "\n",
    "# bayesian bootstrap and vis\n",
    "import matplotlib.pyplot as plt\n",
    "import seaborn as sns\n",
    "import bayesian_bootstrap.bootstrap as bb\n",
    "from astropy.utils import NumpyRNGContext\n",
    "\n",
    "# progress bar\n",
    "from tqdm import tqdm, tqdm_notebook\n",
    "\n",
    "from scipy import stats\n",
    "from collections import Counter\n",
    "\n",
    "# set up the style for our plots\n",
    "sns.set(style='white', palette='colorblind', font_scale=1.3,\n",
    "        rc={'figure.figsize':(12,9), \n",
    "            \"axes.facecolor\": (0, 0, 0, 0)})\n",
    "\n",
    "# instantiate progress bar goodness\n",
    "tqdm.pandas(tqdm_notebook)\n",
    "\n",
    "pd.set_option('max_colwidth',500)\n",
    "\n",
    "# 10k, 5k crashed, try 4k\n",
    "# also look to do a temp save of file at 6, in case of kernel crashing for bootstrap\n",
    "boot_reps = 4000"
   ]
  },
  {
   "cell_type": "markdown",
   "metadata": {},
   "source": [
    "## File/dir locations\n",
    "### Processed journey data"
   ]
  },
  {
   "cell_type": "code",
   "execution_count": 6,
   "metadata": {
    "ExecuteTime": {
     "end_time": "2019-02-19T11:01:50.291118Z",
     "start_time": "2019-02-19T11:01:50.284284Z"
    }
   },
   "outputs": [
    {
     "data": {
      "text/plain": [
       "'/Users/suganyasivaskantharajah/code/govuk_ab_analysis/data/sampled_journey/full_sample_taxon_ab_2019_947858.csv.gz'"
      ]
     },
     "execution_count": 6,
     "metadata": {},
     "output_type": "execute_result"
    }
   ],
   "source": [
    "DATA_DIR = os.getenv(\"DATA_DIR\")\n",
    "filename = \"full_sample_taxon_ab_2019_947858.csv.gz\"\n",
    "filepath = os.path.join(\n",
    "    DATA_DIR, \"sampled_journey\",\n",
    "    filename)\n",
    "filepath"
   ]
  },
  {
   "cell_type": "code",
   "execution_count": 7,
   "metadata": {
    "ExecuteTime": {
     "end_time": "2019-02-19T11:04:04.082598Z",
     "start_time": "2019-02-19T11:01:52.053430Z"
    }
   },
   "outputs": [
    {
     "name": "stderr",
     "output_type": "stream",
     "text": [
      "100%|██████████| 748354/748354 [00:37<00:00, 19796.80it/s]\n",
      "100%|██████████| 748354/748354 [01:04<00:00, 11635.02it/s]\n",
      "100%|██████████| 748354/748354 [00:14<00:00, 50209.91it/s]\n"
     ]
    }
   ],
   "source": [
    "# read in processed sampled journey with just the cols we need for related links\n",
    "df = pd.read_csv(filepath, sep =\"\\t\", compression=\"gzip\")\n",
    "# convert from str to list\n",
    "df['Event_cat_act_agg']= df['Event_cat_act_agg'].progress_apply(ast.literal_eval)\n",
    "df['Page_Event_List'] = df['Page_Event_List'].progress_apply(ast.literal_eval)\n",
    "df['Page_List'] = df['Page_List'].progress_apply(ast.literal_eval)"
   ]
  },
  {
   "cell_type": "code",
   "execution_count": 8,
   "metadata": {
    "ExecuteTime": {
     "end_time": "2019-02-19T11:04:05.108349Z",
     "start_time": "2019-02-19T11:04:04.085562Z"
    }
   },
   "outputs": [
    {
     "name": "stderr",
     "output_type": "stream",
     "text": [
      "100%|██████████| 748354/748354 [00:01<00:00, 737114.43it/s]\n"
     ]
    }
   ],
   "source": [
    "df['Page_List_Length'] = df['Page_List'].progress_apply(len)\n"
   ]
  },
  {
   "cell_type": "code",
   "execution_count": 9,
   "metadata": {
    "ExecuteTime": {
     "end_time": "2019-02-19T11:04:05.242125Z",
     "start_time": "2019-02-19T11:04:05.110440Z"
    }
   },
   "outputs": [],
   "source": [
    "# drop dodgy rows, where page variant is not A or B. \n",
    "df = df.query('ABVariant in [\"A\", \"B\"]')"
   ]
  },
  {
   "cell_type": "code",
   "execution_count": 10,
   "metadata": {
    "ExecuteTime": {
     "end_time": "2019-02-19T11:04:05.307130Z",
     "start_time": "2019-02-19T11:04:05.244960Z"
    }
   },
   "outputs": [
    {
     "data": {
      "text/plain": [
       "B    374217\n",
       "A    374137\n",
       "Name: ABVariant, dtype: int64"
      ]
     },
     "execution_count": 10,
     "metadata": {},
     "output_type": "execute_result"
    }
   ],
   "source": [
    "df.ABVariant.value_counts()"
   ]
  },
  {
   "cell_type": "code",
   "execution_count": 12,
   "metadata": {
    "ExecuteTime": {
     "end_time": "2019-02-19T11:04:51.941298Z",
     "start_time": "2019-02-19T11:04:51.896593Z"
    }
   },
   "outputs": [
    {
     "data": {
      "text/plain": [
       "ABVariant\n",
       "A    947859\n",
       "B    947859\n",
       "Name: Occurrences, dtype: int64"
      ]
     },
     "execution_count": 12,
     "metadata": {},
     "output_type": "execute_result"
    }
   ],
   "source": [
    "# how many occurrences (journeys) per variant\n",
    "df.groupby('ABVariant').Occurrences.sum()"
   ]
  },
  {
   "cell_type": "markdown",
   "metadata": {},
   "source": [
    "### Nav type of page lookup - is it a finding page? if not it's a thing page"
   ]
  },
  {
   "cell_type": "code",
   "execution_count": 13,
   "metadata": {
    "ExecuteTime": {
     "end_time": "2019-02-19T11:21:40.314363Z",
     "start_time": "2019-02-19T11:21:38.031935Z"
    }
   },
   "outputs": [
    {
     "name": "stdout",
     "output_type": "stream",
     "text": [
      "/Users/suganyasivaskantharajah/code/govuk_ab_analysis/data/metadata/document_types_20190214_20190218.csv.gz\n"
     ]
    },
    {
     "data": {
      "text/html": [
       "<div>\n",
       "<style scoped>\n",
       "    .dataframe tbody tr th:only-of-type {\n",
       "        vertical-align: middle;\n",
       "    }\n",
       "\n",
       "    .dataframe tbody tr th {\n",
       "        vertical-align: top;\n",
       "    }\n",
       "\n",
       "    .dataframe thead th {\n",
       "        text-align: right;\n",
       "    }\n",
       "</style>\n",
       "<table border=\"1\" class=\"dataframe\">\n",
       "  <thead>\n",
       "    <tr style=\"text-align: right;\">\n",
       "      <th></th>\n",
       "      <th>pagePath</th>\n",
       "      <th>is_finding</th>\n",
       "    </tr>\n",
       "  </thead>\n",
       "  <tbody>\n",
       "    <tr>\n",
       "      <th>0</th>\n",
       "      <td>/exchange-foreign-driving-licence/y/yes/car-or-motorcycle/european-union</td>\n",
       "      <td>0</td>\n",
       "    </tr>\n",
       "    <tr>\n",
       "      <th>1</th>\n",
       "      <td>/dvlaforms</td>\n",
       "      <td>0</td>\n",
       "    </tr>\n",
       "    <tr>\n",
       "      <th>2</th>\n",
       "      <td>/licence-finder/activities?sectors=373_388</td>\n",
       "      <td>0</td>\n",
       "    </tr>\n",
       "    <tr>\n",
       "      <th>3</th>\n",
       "      <td>/carers-allowance/how-to-claim</td>\n",
       "      <td>0</td>\n",
       "    </tr>\n",
       "    <tr>\n",
       "      <th>4</th>\n",
       "      <td>/prepare-eu-exit</td>\n",
       "      <td>0</td>\n",
       "    </tr>\n",
       "  </tbody>\n",
       "</table>\n",
       "</div>"
      ],
      "text/plain": [
       "                                                                   pagePath  \\\n",
       "0  /exchange-foreign-driving-licence/y/yes/car-or-motorcycle/european-union   \n",
       "1                                                                /dvlaforms   \n",
       "2                                /licence-finder/activities?sectors=373_388   \n",
       "3                                            /carers-allowance/how-to-claim   \n",
       "4                                                          /prepare-eu-exit   \n",
       "\n",
       "   is_finding  \n",
       "0           0  \n",
       "1           0  \n",
       "2           0  \n",
       "3           0  \n",
       "4           0  "
      ]
     },
     "execution_count": 13,
     "metadata": {},
     "output_type": "execute_result"
    }
   ],
   "source": [
    "filename = \"document_types_20190214_20190218.csv.gz\"\n",
    "\n",
    "# created a metadata dir in the DATA_DIR to hold this data\n",
    "filepath = os.path.join(\n",
    "    DATA_DIR, \"metadata\",\n",
    "    filename)\n",
    "print(filepath)\n",
    "\n",
    "df_finding_thing = pd.read_csv(filepath, sep=\"\\t\", compression=\"gzip\")\n",
    "\n",
    "df_finding_thing.head()"
   ]
  },
  {
   "cell_type": "code",
   "execution_count": 8,
   "metadata": {
    "ExecuteTime": {
     "end_time": "2019-02-17T09:26:28.406527Z",
     "start_time": "2019-02-17T09:26:28.211269Z"
    }
   },
   "outputs": [],
   "source": [
    "thing_page_paths = df_finding_thing[\n",
    "    df_finding_thing['is_finding']==0]['pagePath'].tolist()\n",
    "\n",
    "\n",
    "finding_page_paths = df_finding_thing[\n",
    "    df_finding_thing['is_finding']==1]['pagePath'].tolist()"
   ]
  },
  {
   "cell_type": "markdown",
   "metadata": {},
   "source": [
    "## Outliers\n",
    "Some rows should be removed before analysis. For example rows with journey lengths of 500 or very high related link click rates. This process might have to happen once features have been created."
   ]
  },
  {
   "cell_type": "markdown",
   "metadata": {},
   "source": [
    "## journey_click_rate\n",
    "There is no difference in the proportion of journeys using at least one related link (journey_click_rate) between page variant A and page variant B.\n",
    "\n"
   ]
  },
  {
   "cell_type": "markdown",
   "metadata": {},
   "source": [
    "\\begin{equation*}\n",
    "\\frac{\\text{total number of journeys including at least one click on a related link}}{\\text{total number of journeys}}\n",
    "\\end{equation*}"
   ]
  },
  {
   "cell_type": "markdown",
   "metadata": {},
   "source": [
    "### Prepare features"
   ]
  },
  {
   "cell_type": "markdown",
   "metadata": {},
   "source": [
    "#### Related link prep"
   ]
  },
  {
   "cell_type": "code",
   "execution_count": 9,
   "metadata": {
    "ExecuteTime": {
     "end_time": "2019-02-17T09:26:28.415994Z",
     "start_time": "2019-02-17T09:26:28.408749Z"
    }
   },
   "outputs": [],
   "source": [
    "def get_number_of_events_rl(event):\n",
    "    \"\"\"Counts events with category 'relatedLinkClicked' and action'Related content'.\"\"\"\n",
    "    if event[0][0] == 'relatedLinkClicked' and 'Related content' in event[0][1]:\n",
    "        return event[1]\n",
    "    return 0\n",
    "\n",
    "\n",
    "def sum_related_click_events(event_list):\n",
    "    return sum([get_number_of_events_rl(event) for event in event_list])\n",
    "\n",
    "\n",
    "def is_related(x):\n",
    "    \"\"\"Compute whether a journey includes at least one related link click.\"\"\"\n",
    "    return x > 0"
   ]
  },
  {
   "cell_type": "code",
   "execution_count": 10,
   "metadata": {
    "ExecuteTime": {
     "end_time": "2019-02-17T09:26:29.659971Z",
     "start_time": "2019-02-17T09:26:28.418281Z"
    }
   },
   "outputs": [],
   "source": [
    "# get the number of related links clicks per Sequence\n",
    "df['Related Links Clicks per seq'] = df['Event_cat_act_agg'].map(sum_related_click_events)"
   ]
  },
  {
   "cell_type": "code",
   "execution_count": 11,
   "metadata": {
    "ExecuteTime": {
     "end_time": "2019-02-17T09:26:29.844367Z",
     "start_time": "2019-02-17T09:26:29.664560Z"
    }
   },
   "outputs": [],
   "source": [
    "# map across the Sequence variable, which includes pages and Events\n",
    "# we want to pass all the list elements to a function one-by-one and then collect the output.\n",
    "df[\"Has_Related\"] = df[\"Related Links Clicks per seq\"].map(is_related)\n",
    "\n",
    "df['Related Links Clicks row total'] = df['Related Links Clicks per seq'] * df['Occurrences']\n"
   ]
  },
  {
   "cell_type": "code",
   "execution_count": 12,
   "metadata": {
    "ExecuteTime": {
     "end_time": "2019-02-17T09:26:29.883852Z",
     "start_time": "2019-02-17T09:26:29.846427Z"
    }
   },
   "outputs": [
    {
     "data": {
      "text/html": [
       "<div>\n",
       "<style scoped>\n",
       "    .dataframe tbody tr th:only-of-type {\n",
       "        vertical-align: middle;\n",
       "    }\n",
       "\n",
       "    .dataframe tbody tr th {\n",
       "        vertical-align: top;\n",
       "    }\n",
       "\n",
       "    .dataframe thead th {\n",
       "        text-align: right;\n",
       "    }\n",
       "</style>\n",
       "<table border=\"1\" class=\"dataframe\">\n",
       "  <thead>\n",
       "    <tr style=\"text-align: right;\">\n",
       "      <th></th>\n",
       "      <th>ABVariant</th>\n",
       "      <th>Page_Event_List</th>\n",
       "      <th>Page_List</th>\n",
       "      <th>Event_cat_act_agg</th>\n",
       "      <th>Occurrences</th>\n",
       "      <th>Page_List_Length</th>\n",
       "      <th>Related Links Clicks per seq</th>\n",
       "      <th>Has_Related</th>\n",
       "      <th>Related Links Clicks row total</th>\n",
       "    </tr>\n",
       "  </thead>\n",
       "  <tbody>\n",
       "    <tr>\n",
       "      <th>0</th>\n",
       "      <td>A</td>\n",
       "      <td>[(/ apprenticship, PAGE&lt;:&lt;NULL&lt;:&lt;NULL, other), (/apprenticship, PAGE&lt;:&lt;NULL&lt;:&lt;NULL, other), (/, EVENT&lt;:&lt;user_satisfaction_survey&lt;:&lt;banner_shown, other), (/, PAGE&lt;:&lt;NULL&lt;:&lt;NULL, other), (/search?q=universal+credit, PAGE&lt;:&lt;NULL&lt;:&lt;NULL, other), (/search?q=universal+credit, EVENT&lt;:&lt;searchResults&lt;:&lt;resultsShown, other), (/search?q=universal+credit, EVENT&lt;:&lt;UX&lt;:&lt;click, other), (/sign-in-universal-credit, EVENT&lt;:&lt;user_satisfaction_survey&lt;:&lt;banner_shown, 536f83c0-8c67-47a3-88a4-d5b1eda591ed,62fcbba5...</td>\n",
       "      <td>[/ apprenticship, /apprenticship, /, /search?q=universal+credit, /sign-in-universal-credit, /sign-in-universal-credit, /search?q=universal+credit, /search?q=apprenticeship, /apply-apprenticeship, /search?q=universal+credit, /search?q=find+a+job, /jobsearch]</td>\n",
       "      <td>[((PAGE_NULL, PAGE_NULL), 12), ((user_satisfaction_survey, banner_shown), 2), ((searchResults, resultsShown), 5), ((UX, click), 3), ((External Link Clicked, https://www.universal-credit.service.gov.uk/sign-in), 1), ((External Link Clicked, https://www.findapprenticeship.service.gov.uk/apprenticeshipsearch), 1), ((External Link Clicked, https://findajob.dwp.gov.uk), 1)]</td>\n",
       "      <td>1</td>\n",
       "      <td>12</td>\n",
       "      <td>0</td>\n",
       "      <td>False</td>\n",
       "      <td>0</td>\n",
       "    </tr>\n",
       "    <tr>\n",
       "      <th>1</th>\n",
       "      <td>A</td>\n",
       "      <td>[(/ child benefit tax chsrge, PAGE&lt;:&lt;NULL&lt;:&lt;NULL, other), (/child-benefit-tax-charge, PAGE&lt;:&lt;NULL&lt;:&lt;NULL, c73891d9-1ead-4075-8681-8189de727cb9,bdcfeeac-8482-46c1-8a8a-7fb746fb289c,edb9b4a6-b804-4348-beee-81827c86bf0b), (/child-benefit-tax-charge, EVENT&lt;:&lt;contentsClicked&lt;:&lt;content_item 5, c73891d9-1ead-4075-8681-8189de727cb9,bdcfeeac-8482-46c1-8a8a-7fb746fb289c,edb9b4a6-b804-4348-beee-81827c86bf0b), (/child-benefit-tax-charge, EVENT&lt;:&lt;contentsClicked&lt;:&lt;content_item 5, c73891d9-1ead-4075-8681-...</td>\n",
       "      <td>[/ child benefit tax chsrge, /child-benefit-tax-charge, /browse/tax/self-assessment, /check-if-you-need-tax-return, /check-if-you-need-tax-return/y, /check-if-you-need-tax-return/y/no, /check-if-you-need-tax-return/y/no/between-50-000-and-100-000, /check-if-you-need-tax-return/y/no/between-50-000-and-100-000/yes, /child-benefit-tax-calculator, /child-benefit-tax-calculator/main, /child-benefit-tax-calculator/main?childcare=0&amp;children_count=2&amp;cycle_scheme=&amp;gift_aid_donations=0.00&amp;gross_income...</td>\n",
       "      <td>[((PAGE_NULL, PAGE_NULL), 31), ((contentsClicked, content_item 5), 2), ((relatedLinkClicked, 1.2 Explore the topic), 1), ((thirdLevelBrowseLinkClicked, 1.5), 1), ((Simple Smart Answer, Completed), 1), ((Radio button chosen, register-for-self-assessment), 2), ((Radio button chosen, create-an-account), 1), ((Radio button chosen, sign-in-with-government-gateway), 2)]</td>\n",
       "      <td>1</td>\n",
       "      <td>31</td>\n",
       "      <td>0</td>\n",
       "      <td>False</td>\n",
       "      <td>0</td>\n",
       "    </tr>\n",
       "    <tr>\n",
       "      <th>2</th>\n",
       "      <td>A</td>\n",
       "      <td>[(/ government/publications/ working-together-to-safeguard-children--, PAGE&lt;:&lt;NULL&lt;:&lt;NULL, other), (/government/publications/working-together-to-safeguard-children--2, PAGE&lt;:&lt;NULL&lt;:&lt;NULL, df68fd4e-8e6f-4473-a24a-6033d65fb1d0,47fbdb87-b4ff-432a-a4cf-a2f2468ff6d4,b67afac3-0bfc-4e44-9893-951be4d05e4c), (/government/publications/working-together-to-safeguard-children--2, EVENT&lt;:&lt;Download Link Clicked&lt;:&lt;/government/uploads/system/uploads/attachment_data/file/729914/Working_Together_to_Safeguard_C...</td>\n",
       "      <td>[/ government/publications/ working-together-to-safeguard-children--, /government/publications/working-together-to-safeguard-children--2]</td>\n",
       "      <td>[((PAGE_NULL, PAGE_NULL), 2), ((Download Link Clicked, /government/uploads/system/uploads/attachment_data/file/729914/Working_Together_to_Safeguard_Children-2018.pdf), 1)]</td>\n",
       "      <td>2</td>\n",
       "      <td>2</td>\n",
       "      <td>0</td>\n",
       "      <td>False</td>\n",
       "      <td>0</td>\n",
       "    </tr>\n",
       "  </tbody>\n",
       "</table>\n",
       "</div>"
      ],
      "text/plain": [
       "  ABVariant  \\\n",
       "0         A   \n",
       "1         A   \n",
       "2         A   \n",
       "\n",
       "                                                                                                                                                                                                                                                                                                                                                                                                                                                                                                       Page_Event_List  \\\n",
       "0  [(/ apprenticship, PAGE<:<NULL<:<NULL, other), (/apprenticship, PAGE<:<NULL<:<NULL, other), (/, EVENT<:<user_satisfaction_survey<:<banner_shown, other), (/, PAGE<:<NULL<:<NULL, other), (/search?q=universal+credit, PAGE<:<NULL<:<NULL, other), (/search?q=universal+credit, EVENT<:<searchResults<:<resultsShown, other), (/search?q=universal+credit, EVENT<:<UX<:<click, other), (/sign-in-universal-credit, EVENT<:<user_satisfaction_survey<:<banner_shown, 536f83c0-8c67-47a3-88a4-d5b1eda591ed,62fcbba5...   \n",
       "1  [(/ child benefit tax chsrge, PAGE<:<NULL<:<NULL, other), (/child-benefit-tax-charge, PAGE<:<NULL<:<NULL, c73891d9-1ead-4075-8681-8189de727cb9,bdcfeeac-8482-46c1-8a8a-7fb746fb289c,edb9b4a6-b804-4348-beee-81827c86bf0b), (/child-benefit-tax-charge, EVENT<:<contentsClicked<:<content_item 5, c73891d9-1ead-4075-8681-8189de727cb9,bdcfeeac-8482-46c1-8a8a-7fb746fb289c,edb9b4a6-b804-4348-beee-81827c86bf0b), (/child-benefit-tax-charge, EVENT<:<contentsClicked<:<content_item 5, c73891d9-1ead-4075-8681-...   \n",
       "2  [(/ government/publications/ working-together-to-safeguard-children--, PAGE<:<NULL<:<NULL, other), (/government/publications/working-together-to-safeguard-children--2, PAGE<:<NULL<:<NULL, df68fd4e-8e6f-4473-a24a-6033d65fb1d0,47fbdb87-b4ff-432a-a4cf-a2f2468ff6d4,b67afac3-0bfc-4e44-9893-951be4d05e4c), (/government/publications/working-together-to-safeguard-children--2, EVENT<:<Download Link Clicked<:</government/uploads/system/uploads/attachment_data/file/729914/Working_Together_to_Safeguard_C...   \n",
       "\n",
       "                                                                                                                                                                                                                                                                                                                                                                                                                                                                                                             Page_List  \\\n",
       "0                                                                                                                                                                                                                                                    [/ apprenticship, /apprenticship, /, /search?q=universal+credit, /sign-in-universal-credit, /sign-in-universal-credit, /search?q=universal+credit, /search?q=apprenticeship, /apply-apprenticeship, /search?q=universal+credit, /search?q=find+a+job, /jobsearch]   \n",
       "1  [/ child benefit tax chsrge, /child-benefit-tax-charge, /browse/tax/self-assessment, /check-if-you-need-tax-return, /check-if-you-need-tax-return/y, /check-if-you-need-tax-return/y/no, /check-if-you-need-tax-return/y/no/between-50-000-and-100-000, /check-if-you-need-tax-return/y/no/between-50-000-and-100-000/yes, /child-benefit-tax-calculator, /child-benefit-tax-calculator/main, /child-benefit-tax-calculator/main?childcare=0&children_count=2&cycle_scheme=&gift_aid_donations=0.00&gross_income...   \n",
       "2                                                                                                                                                                                                                                                                                                                                                                            [/ government/publications/ working-together-to-safeguard-children--, /government/publications/working-together-to-safeguard-children--2]   \n",
       "\n",
       "                                                                                                                                                                                                                                                                                                                                                                     Event_cat_act_agg  \\\n",
       "0  [((PAGE_NULL, PAGE_NULL), 12), ((user_satisfaction_survey, banner_shown), 2), ((searchResults, resultsShown), 5), ((UX, click), 3), ((External Link Clicked, https://www.universal-credit.service.gov.uk/sign-in), 1), ((External Link Clicked, https://www.findapprenticeship.service.gov.uk/apprenticeshipsearch), 1), ((External Link Clicked, https://findajob.dwp.gov.uk), 1)]   \n",
       "1       [((PAGE_NULL, PAGE_NULL), 31), ((contentsClicked, content_item 5), 2), ((relatedLinkClicked, 1.2 Explore the topic), 1), ((thirdLevelBrowseLinkClicked, 1.5), 1), ((Simple Smart Answer, Completed), 1), ((Radio button chosen, register-for-self-assessment), 2), ((Radio button chosen, create-an-account), 1), ((Radio button chosen, sign-in-with-government-gateway), 2)]   \n",
       "2                                                                                                                                                                                                          [((PAGE_NULL, PAGE_NULL), 2), ((Download Link Clicked, /government/uploads/system/uploads/attachment_data/file/729914/Working_Together_to_Safeguard_Children-2018.pdf), 1)]   \n",
       "\n",
       "   Occurrences  Page_List_Length  Related Links Clicks per seq  Has_Related  \\\n",
       "0            1                12                             0        False   \n",
       "1            1                31                             0        False   \n",
       "2            2                 2                             0        False   \n",
       "\n",
       "   Related Links Clicks row total  \n",
       "0                               0  \n",
       "1                               0  \n",
       "2                               0  "
      ]
     },
     "execution_count": 12,
     "metadata": {},
     "output_type": "execute_result"
    }
   ],
   "source": [
    "df.head(3)"
   ]
  },
  {
   "cell_type": "markdown",
   "metadata": {},
   "source": [
    "### Frequentist statistics"
   ]
  },
  {
   "cell_type": "code",
   "execution_count": 13,
   "metadata": {
    "ExecuteTime": {
     "end_time": "2019-02-17T09:26:30.312367Z",
     "start_time": "2019-02-17T09:26:29.886081Z"
    }
   },
   "outputs": [],
   "source": [
    "# using Bernoulli trial terminology where X (or x) is number of successes and n is number of trials\n",
    "# total occurrences, both A and B\n",
    "# assume non- A and B were dropped\n",
    "\n",
    "# A & B\n",
    "n = df.Occurrences.sum()\n",
    "# prop of journeys with at least one related link, occurrences summed for those rows gives X\n",
    "p = df[df.Has_Related == 1].Occurrences.sum() / n\n",
    "\n",
    "assert (p >= 0),\"Prop less than zero!\"\n",
    "assert (p <= 1),\"Prop greater than one!\"\n",
    "\n",
    "# A\n",
    "# number of trials for page A\n",
    "n_a = df[df.ABVariant == \"A\"].Occurrences.sum()\n",
    "# number of successes (occurrences), for page A and at least one related link clicked journeys\n",
    "x_a = df[(df['ABVariant'] == 'A') & (df['Has_Related'] == 1)].Occurrences.sum()\n",
    "# prop of journeys where one related link was clicked, on A\n",
    "p_a = x_a / n_a\n",
    "\n",
    "# B\n",
    "# number of trials for page B\n",
    "n_b = df[df.ABVariant == \"B\"].Occurrences.sum()\n",
    "# number of successes for page B, at least one related link clicked\n",
    "x_b = df[(df['ABVariant'] == 'B') & (df['Has_Related'] == 1)].Occurrences.sum()\n",
    "# prop of journeys where one related link was clicked, on B\n",
    "p_b = x_b / n_b\n",
    "\n",
    "assert (n == n_a + n_b), \"Error in filtering by ABVariant!\"\n",
    "\n",
    "# validate assumptions\n",
    "# The formula of z-statistic is valid only when sample size (n) is large enough.\n",
    "# nAp, nAq, nBp and nBq should be ≥ 5.\n",
    "# where p is probability of success (we can use current baseline)\n",
    "# q = 1 - p\n",
    "\n",
    "# tried a helper function here but it didn't work hence not DRY\n",
    "assert (n_a*p) >= 5, \"Assumptions for z prop test invalid!\"\n",
    "assert (n_a*(1-p)) >= 5, \"Assumptions for z prop test invalid!\"\n",
    "\n",
    "assert (n_b*p) >= 5, \"Assumptions for z prop test invalid!\"\n",
    "assert (n_b*(1-p)) >= 5, \"Assumptions for z prop test invalid!\""
   ]
  },
  {
   "cell_type": "markdown",
   "metadata": {},
   "source": [
    "#### Statistical significance"
   ]
  },
  {
   "cell_type": "code",
   "execution_count": 38,
   "metadata": {
    "ExecuteTime": {
     "end_time": "2019-02-17T21:35:18.917770Z",
     "start_time": "2019-02-17T21:35:18.912096Z"
    }
   },
   "outputs": [
    {
     "name": "stdout",
     "output_type": "stream",
     "text": [
      "Help on function proportions_ztest in module statsmodels.stats.proportion:\n",
      "\n",
      "proportions_ztest(count, nobs, value=None, alternative='two-sided', prop_var=False)\n",
      "    Test for proportions based on normal (z) test\n",
      "    \n",
      "    Parameters\n",
      "    ----------\n",
      "    count : integer or array_like\n",
      "        the number of successes in nobs trials. If this is array_like, then\n",
      "        the assumption is that this represents the number of successes for\n",
      "        each independent sample\n",
      "    nobs : integer or array-like\n",
      "        the number of trials or observations, with the same length as\n",
      "        count.\n",
      "    value : float, array_like or None, optional\n",
      "        This is the value of the null hypothesis equal to the proportion in the\n",
      "        case of a one sample test. In the case of a two-sample test, the\n",
      "        null hypothesis is that prop[0] - prop[1] = value, where prop is the\n",
      "        proportion in the two samples. If not provided value = 0 and the null\n",
      "        is prop[0] = prop[1]\n",
      "    alternative : string in ['two-sided', 'smaller', 'larger']\n",
      "        The alternative hypothesis can be either two-sided or one of the one-\n",
      "        sided tests, smaller means that the alternative hypothesis is\n",
      "        ``prop < value`` and larger means ``prop > value``. In the two sample\n",
      "        test, smaller means that the alternative hypothesis is ``p1 < p2`` and\n",
      "        larger means ``p1 > p2`` where ``p1`` is the proportion of the first\n",
      "        sample and ``p2`` of the second one.\n",
      "    prop_var : False or float in (0, 1)\n",
      "        If prop_var is false, then the variance of the proportion estimate is\n",
      "        calculated based on the sample proportion. Alternatively, a proportion\n",
      "        can be specified to calculate this variance. Common use case is to\n",
      "        use the proportion under the Null hypothesis to specify the variance\n",
      "        of the proportion estimate.\n",
      "    \n",
      "    Returns\n",
      "    -------\n",
      "    zstat : float\n",
      "        test statistic for the z-test\n",
      "    p-value : float\n",
      "        p-value for the z-test\n",
      "    \n",
      "    Examples\n",
      "    --------\n",
      "    >>> count = 5\n",
      "    >>> nobs = 83\n",
      "    >>> value = .05\n",
      "    >>> stat, pval = proportions_ztest(count, nobs, value)\n",
      "    >>> print('{0:0.3f}'.format(pval))\n",
      "    0.695\n",
      "    \n",
      "    >>> import numpy as np\n",
      "    >>> from statsmodels.stats.proportion import proportions_ztest\n",
      "    >>> count = np.array([5, 12])\n",
      "    >>> nobs = np.array([83, 99])\n",
      "    >>> stat, pval = proportions_ztest(counts, nobs)\n",
      "    >>> print('{0:0.3f}'.format(pval))\n",
      "    0.159\n",
      "    \n",
      "    Notes\n",
      "    -----\n",
      "    This uses a simple normal test for proportions. It should be the same as\n",
      "    running the mean z-test on the data encoded 1 for event and 0 for no event\n",
      "    so that the sum corresponds to the count.\n",
      "    \n",
      "    In the one and two sample cases with two-sided alternative, this test\n",
      "    produces the same p-value as ``proportions_chisquare``, since the\n",
      "    chisquare is the distribution of the square of a standard normal\n",
      "    distribution.\n",
      "\n"
     ]
    }
   ],
   "source": [
    "#help(proportions_ztest)"
   ]
  },
  {
   "cell_type": "code",
   "execution_count": 15,
   "metadata": {
    "ExecuteTime": {
     "end_time": "2019-02-17T09:26:30.327005Z",
     "start_time": "2019-02-17T09:26:30.318817Z"
    }
   },
   "outputs": [
    {
     "name": "stdout",
     "output_type": "stream",
     "text": [
      " z-stat = 0.01201972012021413 \n",
      " p-value = 0.9904098818113968\n"
     ]
    }
   ],
   "source": [
    "# using statsmodels\n",
    "# successes\n",
    "count = np.array([x_a, x_b])\n",
    "# number of trials\n",
    "nobs = np.array([n_a, n_b])\n",
    "# z prop test\n",
    "z,p_value = proportions_ztest(count, nobs, value=0, alternative='two-sided')\n",
    "print(' z-stat = {z} \\n p-value = {p_value}'.format(z=z,p_value=p_value))"
   ]
  },
  {
   "cell_type": "markdown",
   "metadata": {},
   "source": [
    "#### Practical significance - uplift"
   ]
  },
  {
   "cell_type": "code",
   "execution_count": 18,
   "metadata": {
    "ExecuteTime": {
     "end_time": "2019-02-17T12:28:18.939224Z",
     "start_time": "2019-02-17T12:28:18.930389Z"
    }
   },
   "outputs": [],
   "source": [
    "# uplift\n",
    "def compute_standard_error_prop_two_samples(x_a, n_a, x_b, n_b):\n",
    "    \"\"\"\n",
    "    The standard error of the difference between two proportions is given by the square root of the variances.\n",
    "    \n",
    "    The square of the standard error of a proportion is known as the variance of proportion. \n",
    "    The variance of the difference between two independent proportions is equal to the sum of the variances of the proportions of each sample. \n",
    "    The variances are summed because each sample contributes to sampling error in the distribution of differences.\n",
    "    \n",
    "    \"\"\"\n",
    "    p1 = x_a/n_a\n",
    "    p2 = x_b/n_b    \n",
    "    se = p1*(1-p1)/n_a + p2*(1-p2)/n_b\n",
    "    return np.sqrt(se)\n",
    "    \n",
    "def zconf_interval_two_samples(x_a, n_a, x_b, n_b, alpha=0.05):\n",
    "    \"\"\"\n",
    "    Gives two points, the lower and upper bound of a (1-alpha)% confidence interval.\n",
    "    \n",
    "    To calculate the confidence interval we need to know the standard error of the difference between two proportions. \n",
    "    The standard error of the difference between two proportions is the combination of the standard error of two independent distributions, ES (p_a) and (p_b).\n",
    "    \n",
    "    If the CI includes one then we accept the null hypothesis at the defined alpha.\n",
    "    \"\"\"\n",
    "    p1 = x_a/n_a\n",
    "    p2 = x_b/n_b    \n",
    "    se = compute_standard_error_prop_two_samples(x_a, n_a, x_b, n_b)\n",
    "    z_critical = stats.norm.ppf(1-0.5*alpha)\n",
    "    return p2-p1-z_critical*se, p2-p1+z_critical*se\n"
   ]
  },
  {
   "cell_type": "code",
   "execution_count": 17,
   "metadata": {
    "ExecuteTime": {
     "end_time": "2019-02-17T09:26:30.343755Z",
     "start_time": "2019-02-17T09:26:30.338976Z"
    },
    "code_folding": []
   },
   "outputs": [
    {
     "name": "stdout",
     "output_type": "stream",
     "text": [
      " 95% Confidence Interval = ( -0.07% , 0.07% )\n"
     ]
    }
   ],
   "source": [
    "# Due to multiple testing we used the Bonferroni correction for alpha\n",
    "ci_low,ci_upp = zconf_interval_two_samples(x_a, n_a,\n",
    "                                           x_b, n_b, alpha = 0.01)\n",
    "print(' 95% Confidence Interval = ( {0:.2f}% , {1:.2f}% )'\n",
    "      .format(100*ci_low, 100*ci_upp))"
   ]
  },
  {
   "cell_type": "markdown",
   "metadata": {},
   "source": [
    "### Bayesian statistics "
   ]
  },
  {
   "cell_type": "code",
   "execution_count": 18,
   "metadata": {
    "ExecuteTime": {
     "end_time": "2019-02-17T09:26:30.353222Z",
     "start_time": "2019-02-17T09:26:30.350261Z"
    }
   },
   "outputs": [],
   "source": [
    "# https://medium.com/@thibalbo/coding-bayesian-ab-tests-in-python-e89356b3f4bd"
   ]
  },
  {
   "cell_type": "markdown",
   "metadata": {},
   "source": [
    "To be developed, a Bayesian approach can provide a simpler interpretation."
   ]
  },
  {
   "cell_type": "markdown",
   "metadata": {},
   "source": [
    "## ratio of clicks on navigation elements vs. clicks on related links\n",
    "\n",
    "There is no statistically significant difference in the ratio of clicks on navigation elements vs. clicks on related links between page variant A and page variant B\n",
    "\n",
    "\\begin{equation*}\n",
    "\\frac{\\text{total number of navigation element click events from content pages}}{\\text{total number of related link click events}}\n",
    "\\end{equation*}"
   ]
  },
  {
   "cell_type": "markdown",
   "metadata": {
    "ExecuteTime": {
     "end_time": "2019-02-14T22:12:55.711730Z",
     "start_time": "2019-02-14T22:12:55.709272Z"
    }
   },
   "source": [
    "### Related link counts"
   ]
  },
  {
   "cell_type": "code",
   "execution_count": 19,
   "metadata": {
    "ExecuteTime": {
     "end_time": "2019-02-17T09:26:30.364432Z",
     "start_time": "2019-02-17T09:26:30.356061Z"
    }
   },
   "outputs": [],
   "source": [
    "# get the total number of related links clicks for that row (clicks per sequence multiplied by occurrences)\n",
    "df['Related Links Clicks row total'] = df['Related Links Clicks per seq'] * df['Occurrences']"
   ]
  },
  {
   "cell_type": "markdown",
   "metadata": {},
   "source": [
    "### Navigation events"
   ]
  },
  {
   "cell_type": "code",
   "execution_count": 20,
   "metadata": {
    "ExecuteTime": {
     "end_time": "2019-02-17T09:26:30.373544Z",
     "start_time": "2019-02-17T09:26:30.366636Z"
    }
   },
   "outputs": [],
   "source": [
    "def is_nav_event(event):\n",
    "    \"\"\"\n",
    "    Return the total number of related links clicks for that row.\n",
    "    \n",
    "    Clicks per sequence multiplied by occurrences. \n",
    "    \"\"\"\n",
    "    return any(\n",
    "        ['breadcrumbClicked' in event, 'homeLinkClicked' in event,\n",
    "         all(cond in event for cond in [\n",
    "             'relatedLinkClicked','Explore the topic'])])\n",
    "\n",
    "\n",
    "def count_nav_events(page_event_list):\n",
    "    \"\"\"Counts the number of nav events from a content page in a Page Event List.\"\"\"\n",
    "    content_page_nav_events = 0\n",
    "    for pair in page_event_list:\n",
    "        if is_nav_event(pair[1]):\n",
    "            if pair[0] in thing_page_paths:\n",
    "                content_page_nav_events += 1\n",
    "    return content_page_nav_events"
   ]
  },
  {
   "cell_type": "code",
   "execution_count": 21,
   "metadata": {
    "ExecuteTime": {
     "end_time": "2019-02-17T09:43:46.020588Z",
     "start_time": "2019-02-17T09:26:30.375665Z"
    },
    "scrolled": false
   },
   "outputs": [
    {
     "name": "stderr",
     "output_type": "stream",
     "text": [
      "100%|██████████| 801050/801050 [17:15<00:00, 773.49it/s]  \n"
     ]
    }
   ],
   "source": [
    "# needs finding_thing_df read in from document_types.csv.gz\n",
    "df['Content_Page_Nav_Event_Count'] = df['Page_Event_List'].progress_map(count_nav_events)"
   ]
  },
  {
   "cell_type": "code",
   "execution_count": 22,
   "metadata": {
    "ExecuteTime": {
     "end_time": "2019-02-17T09:43:46.028212Z",
     "start_time": "2019-02-17T09:43:46.023294Z"
    }
   },
   "outputs": [],
   "source": [
    "def count_search_from_content(page_list):\n",
    "    search_from_content = 0\n",
    "    for i, page in enumerate(page_list):\n",
    "        if i > 0:\n",
    "            if '/search?q=' in page:\n",
    "                if page_list[i-1] in thing_page_paths:\n",
    "                    search_from_content += 1\n",
    "    return search_from_content"
   ]
  },
  {
   "cell_type": "code",
   "execution_count": 23,
   "metadata": {
    "ExecuteTime": {
     "end_time": "2019-02-17T10:24:57.617475Z",
     "start_time": "2019-02-17T09:43:46.031036Z"
    }
   },
   "outputs": [
    {
     "name": "stderr",
     "output_type": "stream",
     "text": [
      "100%|██████████| 801050/801050 [41:11<00:00, 324.10it/s]  \n"
     ]
    }
   ],
   "source": [
    "df['Content_Search_Event_Count'] = df['Page_List'].progress_map(count_search_from_content)"
   ]
  },
  {
   "cell_type": "markdown",
   "metadata": {},
   "source": [
    "### Generate the derived metric"
   ]
  },
  {
   "cell_type": "code",
   "execution_count": 24,
   "metadata": {
    "ExecuteTime": {
     "end_time": "2019-02-17T10:24:58.091834Z",
     "start_time": "2019-02-17T10:24:57.619512Z"
    }
   },
   "outputs": [
    {
     "data": {
      "image/png": "[encoded data removed]",
      "text/plain": [
       "<Figure size 432x288 with 1 Axes>"
      ]
     },
     "metadata": {
      "needs_background": "light"
     },
     "output_type": "display_data"
    }
   ],
   "source": [
    "# potential BUG? is this correctly derived? confirm with colleague\n",
    "# (nav events + search events) + 1 / related links clicked + 1\n",
    "# add one to numerator and denominator to avoid undesirable characteristics\n",
    "# not sure this has great utility as a proxy, seems volatile\n",
    "df['Ratio_Nav_Search_to_Rel'] = (df['Content_Page_Nav_Event_Count'] + df.Content_Search_Event_Count + 1) / (df['Related Links Clicks row total'] + 1)\n",
    "sns.distplot(df['Ratio_Nav_Search_to_Rel'].values);"
   ]
  },
  {
   "cell_type": "markdown",
   "metadata": {},
   "source": [
    "This derived variable is problematic, should consider dropping it. Use counts of the numerator instead (as this could be modelled using generalised linear model), as related link clickedness is captured by the earlier metric."
   ]
  },
  {
   "cell_type": "markdown",
   "metadata": {},
   "source": [
    "## Tempoary df file in case of crash\n",
    "### Save"
   ]
  },
  {
   "cell_type": "code",
   "execution_count": 5,
   "metadata": {
    "ExecuteTime": {
     "end_time": "2019-02-17T11:04:27.568786Z",
     "start_time": "2019-02-17T11:04:27.565920Z"
    }
   },
   "outputs": [],
   "source": [
    "# create temp file incase bootstrap below crashes\n",
    "filepath = os.path.join(\n",
    "    DATA_DIR, \"metadata\",\n",
    "    \"temp.csv.gz\")\n",
    "\n"
   ]
  },
  {
   "cell_type": "code",
   "execution_count": null,
   "metadata": {},
   "outputs": [],
   "source": [
    "# df.to_csv(filepath, sep=\"\\t\", compression=\"gzip\", index=False)"
   ]
  },
  {
   "cell_type": "markdown",
   "metadata": {},
   "source": [
    "## Read in temp df"
   ]
  },
  {
   "cell_type": "code",
   "execution_count": 6,
   "metadata": {
    "ExecuteTime": {
     "end_time": "2019-02-17T11:05:37.499411Z",
     "start_time": "2019-02-17T11:05:20.427240Z"
    }
   },
   "outputs": [],
   "source": [
    "df = pd.read_csv(filepath, sep =\"\\t\", compression=\"gzip\")\n"
   ]
  },
  {
   "cell_type": "markdown",
   "metadata": {},
   "source": [
    "### Bayesian bootstrap"
   ]
  },
  {
   "cell_type": "code",
   "execution_count": 9,
   "metadata": {
    "ExecuteTime": {
     "end_time": "2019-02-17T11:23:50.733550Z",
     "start_time": "2019-02-17T11:15:45.003544Z"
    }
   },
   "outputs": [
    {
     "name": "stdout",
     "output_type": "stream",
     "text": [
      "low ci: 1.0346298304202886 \n",
      "high ci: 1.0358759734897627\n",
      "low ci: 1.0347711795949046 \n",
      "high ci: 1.036027475636675\n"
     ]
    }
   ],
   "source": [
    "# For tutorial see...\n",
    "# http://savvastjortjoglou.com/nfl-bayesian-bootstrap.html\n",
    "\n",
    "# need to roll out the data, to resample from, deaggregate on one variable of interest\n",
    "# we want to repeat each row's journey length by it's occurrences\n",
    "# so more common journey lengths are more likely to be sampled\n",
    "\n",
    "# r for ratio\n",
    "a_r = np.repeat(df[df.ABVariant == \"A\"].Ratio_Nav_Search_to_Rel, df[df.ABVariant == \"A\"].Occurrences)\n",
    "b_r = np.repeat(df[df.ABVariant == \"B\"].Ratio_Nav_Search_to_Rel, df[df.ABVariant == \"B\"].Occurrences)\n",
    "\n",
    "# for reproducibility, set the seed within this context\n",
    "with NumpyRNGContext(1337):\n",
    "    a_bootstrap = bb.mean(a_r.values, n_replications=boot_reps)\n",
    "    b_bootstrap = bb.mean(b_r.values, n_replications=boot_reps)\n",
    "    \n",
    "# Calculate a 95% HDI\n",
    "a_ci_low, a_ci_hi = bb.highest_density_interval(a_bootstrap)\n",
    "print('low ci:', a_ci_low, '\\nhigh ci:', a_ci_hi)\n",
    "\n",
    "# Calculate a 95% HDI\n",
    "b_ci_low, b_ci_hi = bb.highest_density_interval(b_bootstrap)\n",
    "print('low ci:', b_ci_low, '\\nhigh ci:', b_ci_hi)"
   ]
  },
  {
   "cell_type": "code",
   "execution_count": 10,
   "metadata": {
    "ExecuteTime": {
     "end_time": "2019-02-17T11:24:04.018302Z",
     "start_time": "2019-02-17T11:23:50.749962Z"
    }
   },
   "outputs": [
    {
     "data": {
      "image/png": "[encoded data removed]",
      "text/plain": [
       "<Figure size 432x288 with 1 Axes>"
      ]
     },
     "metadata": {
      "needs_background": "light"
     },
     "output_type": "display_data"
    }
   ],
   "source": [
    "ax = sns.distplot(b_bootstrap, label='B')\n",
    "ax.errorbar(x=[b_ci_low, b_ci_hi], y=[2, 2], linewidth=5, c='teal', marker='o', \n",
    "         label='95% HDI B')\n",
    "\n",
    "ax = sns.distplot(a_bootstrap, label='A', ax=ax, color='salmon')\n",
    "ax.errorbar(x=[a_ci_low, a_ci_hi], y=[5, 5], linewidth=5, c='salmon', marker='o', \n",
    "         label='95% HDI A')\n",
    "\n",
    "ax.set(xlabel='Ratio of clicks on nav to clicks on related links', ylabel='Density')\n",
    "sns.despine()\n",
    "plt.legend();"
   ]
  },
  {
   "cell_type": "code",
   "execution_count": 11,
   "metadata": {
    "ExecuteTime": {
     "end_time": "2019-02-17T11:24:04.036331Z",
     "start_time": "2019-02-17T11:24:04.024497Z"
    }
   },
   "outputs": [
    {
     "name": "stdout",
     "output_type": "stream",
     "text": [
      "mean: 0.00013904231462012507\n",
      "low ci: -0.0007133003395105586 \n",
      "high ci: 0.001047501533098405\n"
     ]
    }
   ],
   "source": [
    "# calculate the posterior for the difference between A's and B's ratio\n",
    "# ypa prefix is vestigial from blog post\n",
    "ypa_diff = np.array(b_bootstrap) - np.array(a_bootstrap)\n",
    "# get the hdi\n",
    "ypa_diff_ci_low, ypa_diff_ci_hi = bb.highest_density_interval(ypa_diff)\n",
    "\n",
    "# the mean of the posterior\n",
    "print('mean:', ypa_diff.mean())\n",
    "\n",
    "print('low ci:', ypa_diff_ci_low, '\\nhigh ci:', ypa_diff_ci_hi)"
   ]
  },
  {
   "cell_type": "code",
   "execution_count": 12,
   "metadata": {
    "ExecuteTime": {
     "end_time": "2019-02-17T11:24:04.473960Z",
     "start_time": "2019-02-17T11:24:04.042424Z"
    }
   },
   "outputs": [
    {
     "data": {
      "image/png": "[encoded data removed]",
      "text/plain": [
       "<Figure size 432x288 with 1 Axes>"
      ]
     },
     "metadata": {
      "needs_background": "light"
     },
     "output_type": "display_data"
    }
   ],
   "source": [
    "ax = sns.distplot(ypa_diff)\n",
    "ax.plot([ypa_diff_ci_low, ypa_diff_ci_hi], [0, 0], linewidth=10, c='k', marker='o', \n",
    "         label='95% HDI')\n",
    "ax.set(xlabel='Ratio of nav events to related link events', ylabel='Density', \n",
    "       title='The difference between B\\'s and A\\'s mean ratio')\n",
    "sns.despine()\n",
    "plt.legend();"
   ]
  },
  {
   "cell_type": "code",
   "execution_count": 13,
   "metadata": {
    "ExecuteTime": {
     "end_time": "2019-02-17T11:24:04.484915Z",
     "start_time": "2019-02-17T11:24:04.477549Z"
    }
   },
   "outputs": [
    {
     "data": {
      "text/plain": [
       "0.6205"
      ]
     },
     "execution_count": 13,
     "metadata": {},
     "output_type": "execute_result"
    }
   ],
   "source": [
    "# We count the number of values greater than 0 and divide by the total number\n",
    "# of observations\n",
    "# which returns us the the proportion of values in the distribution that are\n",
    "# greater than 0, could act a bit like a p-value\n",
    "(ypa_diff > 0).sum() / ypa_diff.shape[0]"
   ]
  },
  {
   "cell_type": "markdown",
   "metadata": {},
   "source": [
    "## proportion of journeys with a page sequence including content and related links only\n",
    "\n",
    "There is no statistically significant difference in the proportion of journeys with a page sequence including content and related links only (including loops) between page variant A and page variant B"
   ]
  },
  {
   "cell_type": "markdown",
   "metadata": {},
   "source": [
    "\\begin{equation*}\n",
    "\\frac{\\text{total number of journeys that only contain content pages and related links (i.e. no nav pages)}}{\\text{total number of journeys}}\n",
    "\\end{equation*}"
   ]
  },
  {
   "cell_type": "markdown",
   "metadata": {},
   "source": [
    "### Overall"
   ]
  },
  {
   "cell_type": "code",
   "execution_count": 14,
   "metadata": {
    "ExecuteTime": {
     "end_time": "2019-02-17T11:24:09.816414Z",
     "start_time": "2019-02-17T11:24:04.486713Z"
    }
   },
   "outputs": [
    {
     "data": {
      "text/plain": [
       "0.9669233329658382"
      ]
     },
     "execution_count": 14,
     "metadata": {},
     "output_type": "execute_result"
    }
   ],
   "source": [
    "# overall\n",
    "df[df.Content_Page_Nav_Event_Count == 0].Occurrences.sum() / df.Occurrences.sum()"
   ]
  },
  {
   "cell_type": "markdown",
   "metadata": {
    "ExecuteTime": {
     "end_time": "2019-02-13T17:13:51.806312Z",
     "start_time": "2019-02-13T17:13:51.803513Z"
    }
   },
   "source": [
    "### Frequentist statistics\n",
    "#### Statistical significance"
   ]
  },
  {
   "cell_type": "code",
   "execution_count": 15,
   "metadata": {
    "ExecuteTime": {
     "end_time": "2019-02-17T11:24:10.514412Z",
     "start_time": "2019-02-17T11:24:09.819078Z"
    }
   },
   "outputs": [],
   "source": [
    "# using Bernoulli trial terminology where X (or x) is number of successes and n is number of trials\n",
    "# total occurrences, both A and B\n",
    "# assume non- A and B were dropped\n",
    "\n",
    "# A & B\n",
    "n = df.Occurrences.sum()\n",
    "# prop of journeys with no nav events, occurrences summed for those rows gives X\n",
    "p = df[df.Content_Page_Nav_Event_Count == 0].Occurrences.sum() / n\n",
    "\n",
    "assert (p >= 0),\"Prop less than zero!\"\n",
    "assert (p <= 1),\"Prop greater than one!\"\n",
    "\n",
    "# A\n",
    "# number of trials for page A\n",
    "n_a = df[df.ABVariant == \"A\"].Occurrences.sum()\n",
    "# number of successes (occurrences), for page A and no nav events\n",
    "x_a = df[(df['ABVariant'] == 'A') & (df['Content_Page_Nav_Event_Count'] == 0)].Occurrences.sum()\n",
    "# prop of journeys where one related link was clicked, on A\n",
    "p_a = x_a / n_a\n",
    "\n",
    "# B\n",
    "# number of trials for page B\n",
    "n_b = df[df.ABVariant == \"B\"].Occurrences.sum()\n",
    "# number of successes for page B, and no nav events\n",
    "x_b = df[(df['ABVariant'] == 'B') & (df['Content_Page_Nav_Event_Count'] == 0)].Occurrences.sum()\n",
    "# prop of journeys where one related link was clicked, on B\n",
    "p_b = x_b / n_b\n",
    "\n",
    "assert (n == n_a + n_b), \"Error in filtering by ABVariant!\"\n",
    "\n",
    "# validate assumptions\n",
    "# The formula of z-statistic is valid only when sample size (n) is large enough.\n",
    "# nAp, nAq, nBp and nBq should be ≥ 5.\n",
    "# where p is probability of success (we can use current baseline)\n",
    "# q = 1 - p\n",
    "\n",
    "# tried a helper function here but it didn't work hence not DRY\n",
    "assert (n_a*p) >= 5, \"Assumptions for z prop test invalid!\"\n",
    "assert (n_a*(1-p)) >= 5, \"Assumptions for z prop test invalid!\"\n",
    "\n",
    "assert (n_b*p) >= 5, \"Assumptions for z prop test invalid!\"\n",
    "assert (n_b*(1-p)) >= 5, \"Assumptions for z prop test invalid!\""
   ]
  },
  {
   "cell_type": "code",
   "execution_count": 16,
   "metadata": {
    "ExecuteTime": {
     "end_time": "2019-02-17T11:24:22.556792Z",
     "start_time": "2019-02-17T11:24:10.516251Z"
    }
   },
   "outputs": [
    {
     "name": "stdout",
     "output_type": "stream",
     "text": [
      " z-stat = -0.38974264522801866 \n",
      " p-value = 0.6967268588441017\n"
     ]
    }
   ],
   "source": [
    "# using statsmodels\n",
    "# successes\n",
    "count = np.array([x_a, x_b])\n",
    "# number of trials\n",
    "nobs = np.array([n_a, n_b])\n",
    "# z prop test\n",
    "z,p_value = proportions_ztest(count, nobs, value=0, alternative='two-sided')\n",
    "print(' z-stat = {z} \\n p-value = {p_value}'.format(z=z,p_value=p_value))"
   ]
  },
  {
   "cell_type": "markdown",
   "metadata": {},
   "source": [
    "#### Practical significance - uplift"
   ]
  },
  {
   "cell_type": "code",
   "execution_count": 19,
   "metadata": {
    "ExecuteTime": {
     "end_time": "2019-02-17T12:28:37.644084Z",
     "start_time": "2019-02-17T12:28:37.639669Z"
    }
   },
   "outputs": [
    {
     "name": "stdout",
     "output_type": "stream",
     "text": [
      " 95% Confidence Interval = ( -0.06% , 0.08% )\n"
     ]
    }
   ],
   "source": [
    "# function defined earlier in notebook\n",
    "\n",
    "# Due to multiple testing we used the Bonferroni correction for alpha\n",
    "ci_low,ci_upp = zconf_interval_two_samples(x_a, n_a,\n",
    "                                           x_b, n_b, alpha = 0.01)\n",
    "print(' 95% Confidence Interval = ( {0:.2f}% , {1:.2f}% )'\n",
    "      .format(100*ci_low, 100*ci_upp))"
   ]
  },
  {
   "cell_type": "markdown",
   "metadata": {},
   "source": [
    "## Average Journey Length (number of page views)\n",
    "There is no statistically significant difference in the average page list length of journeys (including loops) between page variant A and page variant B.\n",
    "### Bayesian bootstrap for non-parametric hypotheses"
   ]
  },
  {
   "cell_type": "code",
   "execution_count": 20,
   "metadata": {
    "ExecuteTime": {
     "end_time": "2019-02-17T12:29:40.203448Z",
     "start_time": "2019-02-17T12:29:40.200943Z"
    }
   },
   "outputs": [],
   "source": [
    "# http://savvastjortjoglou.com/nfl-bayesian-bootstrap.html"
   ]
  },
  {
   "cell_type": "code",
   "execution_count": 21,
   "metadata": {
    "ExecuteTime": {
     "end_time": "2019-02-17T12:29:41.145641Z",
     "start_time": "2019-02-17T12:29:41.142787Z"
    }
   },
   "outputs": [],
   "source": [
    "# let's use mean journey length (could probably model parametrically but we use it for demonstration here)\n",
    "# some journeys have length 500 and should probably be removed as they are liekely bots or other weirdness"
   ]
  },
  {
   "cell_type": "code",
   "execution_count": 23,
   "metadata": {
    "ExecuteTime": {
     "end_time": "2019-02-17T12:29:55.562954Z",
     "start_time": "2019-02-17T12:29:55.554005Z"
    }
   },
   "outputs": [
    {
     "name": "stdout",
     "output_type": "stream",
     "text": [
      "0    12\n",
      "1    31\n",
      "2     2\n",
      "3     3\n",
      "4    10\n",
      "Name: Page_List_Length, dtype: int64\n",
      "0    1\n",
      "1    1\n",
      "2    2\n",
      "3    1\n",
      "4    1\n",
      "Name: Occurrences, dtype: int64\n"
     ]
    },
    {
     "data": {
      "text/plain": [
       "0    12\n",
       "1    31\n",
       "2     2\n",
       "2     2\n",
       "3     3\n",
       "4    10\n",
       "Name: Page_List_Length, dtype: int64"
      ]
     },
     "execution_count": 23,
     "metadata": {},
     "output_type": "execute_result"
    }
   ],
   "source": [
    "# need to roll out the data, deaggregate on one variable of interest\n",
    "# we want to repeat each row's journey length by it's occurrences\n",
    "# so more common journey lengths are more likely to be sampled\n",
    "print(df['Page_List_Length'].head())\n",
    "print(df['Occurrences'].head())\n",
    "\n",
    "np.repeat(df['Page_List_Length'].head(), df['Occurrences'].head())\n"
   ]
  },
  {
   "cell_type": "code",
   "execution_count": 24,
   "metadata": {
    "ExecuteTime": {
     "end_time": "2019-02-17T12:29:56.053948Z",
     "start_time": "2019-02-17T12:29:55.566147Z"
    }
   },
   "outputs": [
    {
     "data": {
      "text/plain": [
       "array([11, 16,  6, ...,  2,  3,  1])"
      ]
     },
     "execution_count": 24,
     "metadata": {},
     "output_type": "execute_result"
    }
   ],
   "source": [
    "a_len = np.repeat(df[df.ABVariant == \"A\"].Page_List_Length, df[df.ABVariant == \"A\"].Occurrences)\n",
    "a_len.values\n",
    "\n",
    "b_len = np.repeat(df[df.ABVariant == \"B\"].Page_List_Length, df[df.ABVariant == \"B\"].Occurrences)\n",
    "b_len.values"
   ]
  },
  {
   "cell_type": "code",
   "execution_count": 25,
   "metadata": {
    "ExecuteTime": {
     "end_time": "2019-02-17T12:29:56.060297Z",
     "start_time": "2019-02-17T12:29:56.055939Z"
    }
   },
   "outputs": [
    {
     "name": "stdout",
     "output_type": "stream",
     "text": [
      "Help on function mean in module bayesian_bootstrap.bootstrap:\n",
      "\n",
      "mean(X, n_replications)\n",
      "    Simulate the posterior distribution of the mean.\n",
      "    \n",
      "    Parameter X: The observed data (array like)\n",
      "    \n",
      "    Parameter n_replications: The number of bootstrap replications to perform (positive integer)\n",
      "    \n",
      "    Returns: Samples from the posterior\n",
      "\n"
     ]
    }
   ],
   "source": [
    "help(bb.mean)"
   ]
  },
  {
   "cell_type": "code",
   "execution_count": 26,
   "metadata": {
    "ExecuteTime": {
     "end_time": "2019-02-17T12:38:03.462370Z",
     "start_time": "2019-02-17T12:29:56.063966Z"
    }
   },
   "outputs": [],
   "source": [
    "# for reproducibility, set the seed within this context\n",
    "with NumpyRNGContext(1337):\n",
    "    a_bootstrap = bb.mean(a_len.values, n_replications=boot_reps)\n",
    "    b_bootstrap = bb.mean(b_len.values, n_replications=boot_reps)"
   ]
  },
  {
   "cell_type": "code",
   "execution_count": 27,
   "metadata": {
    "ExecuteTime": {
     "end_time": "2019-02-17T12:38:04.181195Z",
     "start_time": "2019-02-17T12:38:03.503424Z"
    }
   },
   "outputs": [
    {
     "data": {
      "image/png": "[encoded data removed]",
      "text/plain": [
       "<Figure size 432x288 with 1 Axes>"
      ]
     },
     "metadata": {
      "needs_background": "light"
     },
     "output_type": "display_data"
    }
   ],
   "source": [
    "ax = sns.distplot(a_bootstrap, color='salmon')\n",
    "ax.set(xlabel='Journey Length', ylabel='Density', title='Page Variant A Mean Journey Length')\n",
    "sns.despine();"
   ]
  },
  {
   "cell_type": "code",
   "execution_count": 28,
   "metadata": {
    "ExecuteTime": {
     "end_time": "2019-02-17T12:38:04.190251Z",
     "start_time": "2019-02-17T12:38:04.183313Z"
    }
   },
   "outputs": [
    {
     "name": "stdout",
     "output_type": "stream",
     "text": [
      "low ci: 2.944496837436394 \n",
      "high ci: 2.9617327071878643\n"
     ]
    }
   ],
   "source": [
    "# Calculate a 95% HDI\n",
    "a_ci_low, a_ci_hi = bb.highest_density_interval(a_bootstrap)\n",
    "print('low ci:', a_ci_low, '\\nhigh ci:', a_ci_hi)"
   ]
  },
  {
   "cell_type": "code",
   "execution_count": 29,
   "metadata": {
    "ExecuteTime": {
     "end_time": "2019-02-17T12:38:04.604422Z",
     "start_time": "2019-02-17T12:38:04.192740Z"
    }
   },
   "outputs": [
    {
     "data": {
      "image/png": "[encoded data removed]",
      "text/plain": [
       "<Figure size 432x288 with 1 Axes>"
      ]
     },
     "metadata": {
      "needs_background": "light"
     },
     "output_type": "display_data"
    }
   ],
   "source": [
    "ax = sns.distplot(a_bootstrap, color='salmon')\n",
    "ax.plot([a_ci_low, a_ci_hi], [0, 0], linewidth=10, c='k', marker='o', \n",
    "         label='95% HDI')\n",
    "ax.set(xlabel='Journey Length', ylabel='Density', title='Page Variant A Mean Journey Length')\n",
    "sns.despine()\n",
    "plt.legend();"
   ]
  },
  {
   "cell_type": "code",
   "execution_count": 30,
   "metadata": {
    "ExecuteTime": {
     "end_time": "2019-02-17T12:38:04.611769Z",
     "start_time": "2019-02-17T12:38:04.606407Z"
    }
   },
   "outputs": [
    {
     "name": "stdout",
     "output_type": "stream",
     "text": [
      "low ci: 2.9432618250419242 \n",
      "high ci: 2.960736430124203\n"
     ]
    }
   ],
   "source": [
    "# Calculate a 95% HDI\n",
    "b_ci_low, b_ci_hi = bb.highest_density_interval(b_bootstrap)\n",
    "print('low ci:', b_ci_low, '\\nhigh ci:', b_ci_hi)"
   ]
  },
  {
   "cell_type": "code",
   "execution_count": 31,
   "metadata": {
    "ExecuteTime": {
     "end_time": "2019-02-17T12:38:05.022862Z",
     "start_time": "2019-02-17T12:38:04.615141Z"
    }
   },
   "outputs": [
    {
     "data": {
      "image/png": "[encoded data removed]",
      "text/plain": [
       "<Figure size 432x288 with 1 Axes>"
      ]
     },
     "metadata": {
      "needs_background": "light"
     },
     "output_type": "display_data"
    }
   ],
   "source": [
    "ax = sns.distplot(b_bootstrap)\n",
    "ax.plot([b_ci_low, b_ci_hi], [0, 0], linewidth=10, c='k', marker='o', \n",
    "         label='95% HDI')\n",
    "ax.set(xlabel='Journey Length', ylabel='Density', title='Page Variant B Mean Journey Length')\n",
    "sns.despine()\n",
    "plt.legend();"
   ]
  },
  {
   "cell_type": "code",
   "execution_count": 32,
   "metadata": {
    "ExecuteTime": {
     "end_time": "2019-02-17T12:38:05.520751Z",
     "start_time": "2019-02-17T12:38:05.024939Z"
    }
   },
   "outputs": [
    {
     "data": {
      "image/png": "[encoded data removed]",
      "text/plain": [
       "<Figure size 432x288 with 1 Axes>"
      ]
     },
     "metadata": {
      "needs_background": "light"
     },
     "output_type": "display_data"
    }
   ],
   "source": [
    "ax = sns.distplot(b_bootstrap, label='B')\n",
    "ax = sns.distplot(a_bootstrap, label='A', ax=ax, color='salmon')\n",
    "ax.set(xlabel='Journey Length', ylabel='Density')\n",
    "sns.despine()\n",
    "plt.legend();"
   ]
  },
  {
   "cell_type": "markdown",
   "metadata": {},
   "source": [
    "We can also measure the uncertainty in the difference between the Page Variants's Journey Length by subtracting their posteriors.\n",
    "\n"
   ]
  },
  {
   "cell_type": "code",
   "execution_count": 33,
   "metadata": {
    "ExecuteTime": {
     "end_time": "2019-02-17T12:38:05.531141Z",
     "start_time": "2019-02-17T12:38:05.523297Z"
    }
   },
   "outputs": [],
   "source": [
    "# calculate the posterior for the difference between A's and B's YPA\n",
    "ypa_diff = np.array(b_bootstrap) - np.array(a_bootstrap)\n",
    "# get the hdi\n",
    "ypa_diff_ci_low, ypa_diff_ci_hi = bb.highest_density_interval(ypa_diff)"
   ]
  },
  {
   "cell_type": "code",
   "execution_count": 34,
   "metadata": {
    "ExecuteTime": {
     "end_time": "2019-02-17T12:38:05.539527Z",
     "start_time": "2019-02-17T12:38:05.533559Z"
    }
   },
   "outputs": [
    {
     "data": {
      "text/plain": [
       "-0.0003399336458193403"
      ]
     },
     "execution_count": 34,
     "metadata": {},
     "output_type": "execute_result"
    }
   ],
   "source": [
    "# the mean of the posterior\n",
    "ypa_diff.mean()"
   ]
  },
  {
   "cell_type": "code",
   "execution_count": 35,
   "metadata": {
    "ExecuteTime": {
     "end_time": "2019-02-17T12:38:05.546526Z",
     "start_time": "2019-02-17T12:38:05.541994Z"
    }
   },
   "outputs": [
    {
     "name": "stdout",
     "output_type": "stream",
     "text": [
      "low ci: -0.012141617649469971 \n",
      "high ci: 0.012394960510099917\n"
     ]
    }
   ],
   "source": [
    "print('low ci:', ypa_diff_ci_low, '\\nhigh ci:', ypa_diff_ci_hi)\n"
   ]
  },
  {
   "cell_type": "code",
   "execution_count": 36,
   "metadata": {
    "ExecuteTime": {
     "end_time": "2019-02-17T12:38:05.953535Z",
     "start_time": "2019-02-17T12:38:05.549309Z"
    }
   },
   "outputs": [
    {
     "data": {
      "image/png": "[encoded data removed]",
      "text/plain": [
       "<Figure size 432x288 with 1 Axes>"
      ]
     },
     "metadata": {
      "needs_background": "light"
     },
     "output_type": "display_data"
    }
   ],
   "source": [
    "ax = sns.distplot(ypa_diff)\n",
    "ax.plot([ypa_diff_ci_low, ypa_diff_ci_hi], [0, 0], linewidth=10, c='k', marker='o', \n",
    "         label='95% HDI')\n",
    "ax.set(xlabel='Journey Length', ylabel='Density', \n",
    "       title='The difference between B\\'s and A\\'s mean Journey Length')\n",
    "sns.despine()\n",
    "plt.legend();"
   ]
  },
  {
   "cell_type": "markdown",
   "metadata": {},
   "source": [
    "We can actually calculate the probability that B's mean Journey Length was greater than A's mean Journey Length by measuring the proportion of values greater than 0 in the above distribution."
   ]
  },
  {
   "cell_type": "code",
   "execution_count": 37,
   "metadata": {
    "ExecuteTime": {
     "end_time": "2019-02-17T12:38:05.960931Z",
     "start_time": "2019-02-17T12:38:05.955619Z"
    }
   },
   "outputs": [
    {
     "data": {
      "text/plain": [
       "0.483"
      ]
     },
     "execution_count": 37,
     "metadata": {},
     "output_type": "execute_result"
    }
   ],
   "source": [
    "# We count the number of values greater than 0 and divide by the total number\n",
    "# of observations\n",
    "# which returns us the the proportion of values in the distribution that are\n",
    "# greater than 0, could act a bit like a p-value\n",
    "(ypa_diff > 0).sum() / ypa_diff.shape[0]"
   ]
  }
 ],
 "metadata": {
  "kernelspec": {
   "display_name": "Python 3",
   "language": "python",
   "name": "python3"
  },
  "language_info": {
   "codemirror_mode": {
    "name": "ipython",
    "version": 3
   },
   "file_extension": ".py",
   "mimetype": "text/x-python",
   "name": "python",
   "nbconvert_exporter": "python",
   "pygments_lexer": "ipython3",
   "version": "3.7.2"
  },
  "toc": {
   "base_numbering": 1,
   "nav_menu": {},
   "number_sections": true,
   "sideBar": true,
   "skip_h1_title": false,
   "title_cell": "Table of Contents",
   "title_sidebar": "Contents",
   "toc_cell": false,
   "toc_position": {
    "height": "calc(100% - 180px)",
    "left": "10px",
    "top": "150px",
    "width": "220.15px"
   },
   "toc_section_display": true,
   "toc_window_display": true
  }
 },
 "nbformat": 4,
 "nbformat_minor": 2
}
