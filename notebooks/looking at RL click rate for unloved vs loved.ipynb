{
 "cells": [
  {
   "cell_type": "code",
   "execution_count": 6,
   "metadata": {
    "ExecuteTime": {
     "end_time": "2019-03-04T17:32:36.464952Z",
     "start_time": "2019-03-04T17:32:36.443101Z"
    }
   },
   "outputs": [],
   "source": [
    "import os \n",
    "import pandas as pd\n",
    "import numpy as np\n",
    "import ast\n",
    "import re\n",
    "\n",
    "# progress bar\n",
    "from tqdm import tqdm, tqdm_notebook\n",
    "# instantiate progress bar goodness\n",
    "tqdm.pandas(tqdm_notebook)"
   ]
  },
  {
   "cell_type": "code",
   "execution_count": 4,
   "metadata": {
    "ExecuteTime": {
     "end_time": "2019-03-04T17:32:03.444396Z",
     "start_time": "2019-03-04T17:32:03.441446Z"
    }
   },
   "outputs": [],
   "source": [
    "unloved_list = ['../data/processed_journey/unloved_2019_02_14.csv.gz',\n",
    "               '../data/processed_journey/unloved_2019_02_15.csv.gz',\n",
    "               '../data/processed_journey/unloved_2019-02-16.csv.gz',\n",
    "               '../data/processed_journey/unloved_2019-02-17.csv.gz',\n",
    "               '../data/processed_journey/unloved_2019-02-18.csv.gz']"
   ]
  },
  {
   "cell_type": "code",
   "execution_count": 5,
   "metadata": {
    "ExecuteTime": {
     "end_time": "2019-03-04T17:32:34.379553Z",
     "start_time": "2019-03-04T17:32:03.665832Z"
    }
   },
   "outputs": [],
   "source": [
    "# read in processed sampled journey with just the cols we need for related links\n",
    "unloved_df = pd.concat(\n",
    "    [pd.read_csv(\n",
    "        filepath, sep =\"\\t\", compression=\"gzip\"\n",
    "    ) for filepath in unloved_list])\n"
   ]
  },
  {
   "cell_type": "code",
   "execution_count": 8,
   "metadata": {
    "ExecuteTime": {
     "end_time": "2019-03-04T17:34:03.048144Z",
     "start_time": "2019-03-04T17:32:47.694605Z"
    }
   },
   "outputs": [
    {
     "name": "stderr",
     "output_type": "stream",
     "text": [
      "100%|██████████| 1657704/1657704 [01:15<00:00, 22060.24it/s]\n"
     ]
    }
   ],
   "source": [
    "unloved_df['Event_cat_act_agg']= unloved_df['Event_cat_act_agg'].progress_apply(\n",
    "    ast.literal_eval)\n"
   ]
  },
  {
   "cell_type": "code",
   "execution_count": 9,
   "metadata": {
    "ExecuteTime": {
     "end_time": "2019-03-04T17:34:03.056626Z",
     "start_time": "2019-03-04T17:34:03.050964Z"
    }
   },
   "outputs": [],
   "source": [
    "def get_number_of_events_rl(event):\n",
    "    \"\"\"Counts events with category 'relatedLinkClicked' and action'Related content'.\"\"\"\n",
    "    if event[0][0] == 'relatedLinkClicked' and 'Related content' in event[0][1]:\n",
    "        return event[1]\n",
    "    return 0\n",
    "\n",
    "\n",
    "def sum_related_click_events(event_list):\n",
    "    return sum([get_number_of_events_rl(event) for event in event_list])\n",
    "\n",
    "\n",
    "def is_related(x):\n",
    "    \"\"\"Compute whether a journey includes at least one related link click.\"\"\"\n",
    "    return x > 0"
   ]
  },
  {
   "cell_type": "code",
   "execution_count": 11,
   "metadata": {
    "ExecuteTime": {
     "end_time": "2019-03-04T17:34:17.989517Z",
     "start_time": "2019-03-04T17:34:15.721471Z"
    }
   },
   "outputs": [],
   "source": [
    "# get the number of related links clicks per Sequence\n",
    "unloved_df['Related Links Clicks per seq'] = unloved_df['Event_cat_act_agg'].map(sum_related_click_events)"
   ]
  },
  {
   "cell_type": "code",
   "execution_count": 12,
   "metadata": {
    "ExecuteTime": {
     "end_time": "2019-03-04T17:34:28.836480Z",
     "start_time": "2019-03-04T17:34:28.523147Z"
    }
   },
   "outputs": [],
   "source": [
    "# map across the Sequence variable, which includes pages and Events\n",
    "# we want to pass all the list elements to a function one-by-one and then collect the output.\n",
    "unloved_df[\"Has_Related\"] = unloved_df[\"Related Links Clicks per seq\"].map(is_related)\n",
    "\n",
    "unloved_df['Related Links Clicks row total'] = unloved_df['Related Links Clicks per seq'] * unloved_df['Occurrences']\n"
   ]
  },
  {
   "cell_type": "code",
   "execution_count": 21,
   "metadata": {
    "ExecuteTime": {
     "end_time": "2019-03-04T17:36:42.836070Z",
     "start_time": "2019-03-04T17:36:42.832982Z"
    }
   },
   "outputs": [],
   "source": [
    "unloved_df.reset_index(drop=True, inplace=True)"
   ]
  },
  {
   "cell_type": "code",
   "execution_count": 22,
   "metadata": {
    "ExecuteTime": {
     "end_time": "2019-03-04T17:36:43.567990Z",
     "start_time": "2019-03-04T17:36:43.530276Z"
    }
   },
   "outputs": [
    {
     "name": "stdout",
     "output_type": "stream",
     "text": [
      "4142352\n",
      "0.006147715114504996\n"
     ]
    }
   ],
   "source": [
    "n = unloved_df.Occurrences.sum()\n",
    "p = unloved_df[unloved_df.Has_Related == 1].Occurrences.sum() / n\n",
    "print(n)\n",
    "print(p)"
   ]
  },
  {
   "cell_type": "code",
   "execution_count": 26,
   "metadata": {
    "ExecuteTime": {
     "end_time": "2019-03-04T17:38:21.831485Z",
     "start_time": "2019-03-04T17:38:21.690635Z"
    }
   },
   "outputs": [
    {
     "data": {
      "text/plain": [
       "A    832293\n",
       "B    825411\n",
       "Name: ABVariant, dtype: int64"
      ]
     },
     "execution_count": 26,
     "metadata": {},
     "output_type": "execute_result"
    }
   ],
   "source": [
    "unloved_df.ABVariant.value_counts()"
   ]
  },
  {
   "cell_type": "code",
   "execution_count": 28,
   "metadata": {
    "ExecuteTime": {
     "end_time": "2019-03-04T17:38:49.037908Z",
     "start_time": "2019-03-04T17:38:49.033836Z"
    }
   },
   "outputs": [],
   "source": [
    "df = unloved_df"
   ]
  },
  {
   "cell_type": "code",
   "execution_count": 29,
   "metadata": {
    "ExecuteTime": {
     "end_time": "2019-03-04T17:38:51.658923Z",
     "start_time": "2019-03-04T17:38:49.683512Z"
    }
   },
   "outputs": [],
   "source": [
    "# A\n",
    "# number of trials for page A\n",
    "n_a = df[df.ABVariant == \"A\"].Occurrences.sum()\n",
    "# number of successes (occurrences), for page A and at least one related link clicked journeys\n",
    "x_a = df[(df['ABVariant'] == 'A') & (df['Has_Related'] == 1)].Occurrences.sum()\n",
    "# prop of journeys where one related link was clicked, on A\n",
    "p_a = x_a / n_a\n",
    "\n",
    "# B\n",
    "# number of trials for page B\n",
    "n_b = df[df.ABVariant == \"B\"].Occurrences.sum()\n",
    "# number of successes for page B, at least one related link clicked\n",
    "x_b = df[(df['ABVariant'] == 'B') & (df['Has_Related'] == 1)].Occurrences.sum()\n",
    "# prop of journeys where one related link was clicked, on B\n",
    "p_b = x_b / n_b\n",
    "\n",
    "assert (n == n_a + n_b), \"Error in filtering by ABVariant!\"\n",
    "\n",
    "# validate assumptions\n",
    "# The formula of z-statistic is valid only when sample size (n) is large enough.\n",
    "# nAp, nAq, nBp and nBq should be ≥ 5.\n",
    "# where p is probability of success (we can use current baseline)\n",
    "# q = 1 - p\n",
    "\n",
    "# tried a helper function here but it didn't work hence not DRY\n",
    "assert (n_a*p) >= 5, \"Assumptions for z prop test invalid!\"\n",
    "assert (n_a*(1-p)) >= 5, \"Assumptions for z prop test invalid!\"\n",
    "\n",
    "assert (n_b*p) >= 5, \"Assumptions for z prop test invalid!\"\n",
    "assert (n_b*(1-p)) >= 5, \"Assumptions for z prop test invalid!\""
   ]
  },
  {
   "cell_type": "code",
   "execution_count": 31,
   "metadata": {
    "ExecuteTime": {
     "end_time": "2019-03-04T17:39:26.190881Z",
     "start_time": "2019-03-04T17:39:26.187083Z"
    }
   },
   "outputs": [
    {
     "name": "stdout",
     "output_type": "stream",
     "text": [
      "2094233\n",
      "1865\n",
      "0.0008905408328490669\n"
     ]
    }
   ],
   "source": [
    "print(n_a)\n",
    "print(x_a)\n",
    "print(p_a)"
   ]
  },
  {
   "cell_type": "code",
   "execution_count": 32,
   "metadata": {
    "ExecuteTime": {
     "end_time": "2019-03-04T17:39:31.890928Z",
     "start_time": "2019-03-04T17:39:31.887209Z"
    }
   },
   "outputs": [
    {
     "name": "stdout",
     "output_type": "stream",
     "text": [
      "2048119\n",
      "23601\n",
      "0.011523256217045983\n"
     ]
    }
   ],
   "source": [
    "print(n_b)\n",
    "print(x_b)\n",
    "print(p_b)"
   ]
  },
  {
   "cell_type": "markdown",
   "metadata": {},
   "source": [
    "Although we're trying to remove all pages that have related links, some are sneaking through because they are not in our data dump:\n",
    "- foreigh travel advice pages eg [this one](https://www.gov.uk/foreign-travel-advice/zambia)\n",
    "- contact pages with quick links eg [this one](https://www.gov.uk/government/organisations/hm-revenue-customs/contact/online-services-helpdesk)\n",
    "- smart answers eg [this one](/settle-in-the-uk/y/you-re-in-or-have-been-in-hm-forces)\n",
    "- [the help page](https://www.gov.uk/help)\n",
    "- inconsistent Page_List and Page_Event_List e.g \n",
    "  - Page_List \"['/browse/visas-immigration/tourist-short-stay-visas']\"\n",
    "  - Page_Event_List \"[('/government/publications/apply-for-a-uk-visa-in-china/3207063', 'EVENT<:<contentsClicked<:<content_item 1', 'other'), ('/government/publications/apply-for-a-uk-visa-in-china/3207063', 'EVENT<:<breadcrumbClicked<:<2', 'other'), ('/apply-to-come-to-the-uk', 'EVENT<:<relatedLinkClicked<:<1.3 Related content', 'other'), ('/apply-to-come-to-the-uk', 'EVENT<:<contentsClicked<:<content_item 2', 'other'), ('/apply-to-come-to-the-uk/prepare-your-application', 'EVENT<:<breadcrumbClicked<:<2', 'other'), ('/browse/visas-immigration', 'EVENT<:<secondLevelBrowseLinkClicked<:<3', 'other'), ('/browse/visas-immigration/tourist-short-stay-visas', 'PAGE<:<NULL<:<NULL', 'other'), ('/browse/visas-immigration', 'EVENT<:<thirdLevelBrowseLinkClicked<:<1.2', 'other'), ('/visit-uk-holiday-family-friends', 'EVENT<:<pageElementInteraction<:<stepNavShown', 'd612c61e-22f4-4922-8bb2-b04b9202126e'), ('/visit-uk-holiday-family-friends', 'EVENT<:<pageElementInteraction<:<stepNavShown', 'd612c61e-22f4-4922-8bb2-b04b9202126e'), ('/visit-uk-holiday-family-friends', 'EVENT<:<pageElementInteraction<:<stepNavShown', 'd612c61e-22f4-4922-8bb2-b04b9202126e'), ('/visit-uk-holiday-family-friends', 'EVENT<:<stepNavLinkClicked<:<2.1', 'd612c61e-22f4-4922-8bb2-b04b9202126e'), ('/apply-standard-visitor-visa?step-by-step-nav=e8254fb0-f2d9-45b1-bdc4-d17cbba11bef', 'EVENT<:<pageElementInteraction<:<stepNavShown', '29480b00-dc4d-49a0-b48c-25dda8569325'), ('/apply-standard-visitor-visa?step-by-step-nav=e8254fb0-f2d9-45b1-bdc4-d17cbba11bef', 'EVENT<:<pageElementInteraction<:<stepNavShown', '29480b00-dc4d-49a0-b48c-25dda8569325'), ('/apply-standard-visitor-visa?step-by-step-nav=e8254fb0-f2d9-45b1-bdc4-d17cbba11bef', 'EVENT<:<stepNavLinkClicked<:<3.1', '29480b00-dc4d-49a0-b48c-25dda8569325')]\""
   ]
  },
  {
   "cell_type": "code",
   "execution_count": 33,
   "metadata": {
    "ExecuteTime": {
     "end_time": "2019-03-04T17:39:57.602392Z",
     "start_time": "2019-03-04T17:39:57.513520Z"
    }
   },
   "outputs": [
    {
     "data": {
      "text/plain": [
       "5104       ['/settle-in-the-uk/y/you-re-in-or-have-been-i...\n",
       "5135       ['/government/organisations/hm-revenue-customs...\n",
       "5528       ['/foreign-travel-advice/thailand', '/foreign-...\n",
       "6409       ['/government/organisations/hm-revenue-customs...\n",
       "6935       ['/browse/benefits/universal-credit', '/browse...\n",
       "8695       ['/government/organisations/hm-revenue-customs...\n",
       "9160       ['/foreign-travel-advice/zambia', '/foreign-tr...\n",
       "9510       ['/foreign-travel-advice', '/foreign-travel-ad...\n",
       "9828       ['/government/publications/cic53-application-t...\n",
       "10925      ['/government/organisations/hm-revenue-customs...\n",
       "11294      ['/government/organisations/hm-revenue-customs...\n",
       "11541      ['/foreign-travel-advice', '/foreign-travel-ad...\n",
       "11689      ['/foreign-travel-advice', '/foreign-travel-ad...\n",
       "12642                      ['/help', '/contact', '/contact']\n",
       "12725      ['/foreign-travel-advice/turkey', '/world/turk...\n",
       "14068                                                     []\n",
       "14104      ['/foreign-travel-advice/australia/entry-requi...\n",
       "14994                                                     []\n",
       "15424      ['/foreign-travel-advice/india', '/foreign-tra...\n",
       "15863      ['/government/publications/genuine-hmrc-contac...\n",
       "18682                                                     []\n",
       "20198      ['/government/organisations/hm-revenue-customs...\n",
       "21258                                                     []\n",
       "21675      ['/foreign-travel-advice', '/foreign-travel-ad...\n",
       "24355      ['/government/publications/application-to-sett...\n",
       "24694      ['/foreign-travel-advice/tanzania', '/guidance...\n",
       "28755                                                     []\n",
       "29395      ['/mot-tester-training-assessments', '/mot-tes...\n",
       "29459                                                     []\n",
       "30171                                                     []\n",
       "                                 ...                        \n",
       "1632766                                                   []\n",
       "1632768    ['/foreign-travel-advice/canada/entry-requirem...\n",
       "1632949                                                   []\n",
       "1633063    ['/foreign-travel-advice/mexico/health', '/for...\n",
       "1633659                                                   []\n",
       "1634123    ['/government/organisations/hm-revenue-customs...\n",
       "1635302    ['/foreign-travel-advice/france/safety-and-sec...\n",
       "1635741    ['/foreign-travel-advice/portugal', '/foreign-...\n",
       "1635942                                                   []\n",
       "1636270    ['/government/publications/your-charter/your-c...\n",
       "1638584    ['/guidance/non-resident-trusts', '/government...\n",
       "1638794                                                   []\n",
       "1640959    ['/topic/dealing-with-hmrc/tax-agent-guidance'...\n",
       "1643778    ['/government/organisations/valuation-office-a...\n",
       "1643815    ['/foreign-travel-advice/russia/entry-requirem...\n",
       "1645132                                                   []\n",
       "1645467    ['/guidance/help-and-support-for-making-tax-di...\n",
       "1646086                         ['/browse/abroad/passports']\n",
       "1646542    ['/government/organisations/hm-revenue-customs...\n",
       "1646828    ['/government/organisations/hm-revenue-customs...\n",
       "1647851    ['/foreign-travel-advice/malaysia/entry-requir...\n",
       "1647928    ['/foreign-travel-advice/israel/entry-requirem...\n",
       "1648130    ['/browse/visas-immigration/tourist-short-stay...\n",
       "1649150    ['/government/organisations/foreign-commonweal...\n",
       "1649391    ['/government/organisations/hm-revenue-customs...\n",
       "1649705    ['/government/organisations/hm-revenue-customs...\n",
       "1649827    ['/government/organisations/hm-revenue-customs...\n",
       "1650728                                                   []\n",
       "1651312                                                   []\n",
       "1656448                                                   []\n",
       "Name: Page_List, Length: 1816, dtype: object"
      ]
     },
     "execution_count": 33,
     "metadata": {},
     "output_type": "execute_result"
    }
   ],
   "source": [
    "df[(df['ABVariant'] == 'A') & (df['Has_Related'] == 1)]['Page_List']"
   ]
  },
  {
   "cell_type": "code",
   "execution_count": 44,
   "metadata": {
    "ExecuteTime": {
     "end_time": "2019-03-04T17:50:55.874002Z",
     "start_time": "2019-03-04T17:50:55.869328Z"
    }
   },
   "outputs": [
    {
     "data": {
      "text/plain": [
       "\"[('/government/publications/apply-for-a-uk-visa-in-china/3207063', 'EVENT<:<contentsClicked<:<content_item 1', 'other'), ('/government/publications/apply-for-a-uk-visa-in-china/3207063', 'EVENT<:<breadcrumbClicked<:<2', 'other'), ('/apply-to-come-to-the-uk', 'EVENT<:<relatedLinkClicked<:<1.3 Related content', 'other'), ('/apply-to-come-to-the-uk', 'EVENT<:<contentsClicked<:<content_item 2', 'other'), ('/apply-to-come-to-the-uk/prepare-your-application', 'EVENT<:<breadcrumbClicked<:<2', 'other'), ('/browse/visas-immigration', 'EVENT<:<secondLevelBrowseLinkClicked<:<3', 'other'), ('/browse/visas-immigration/tourist-short-stay-visas', 'PAGE<:<NULL<:<NULL', 'other'), ('/browse/visas-immigration', 'EVENT<:<thirdLevelBrowseLinkClicked<:<1.2', 'other'), ('/visit-uk-holiday-family-friends', 'EVENT<:<pageElementInteraction<:<stepNavShown', 'd612c61e-22f4-4922-8bb2-b04b9202126e'), ('/visit-uk-holiday-family-friends', 'EVENT<:<pageElementInteraction<:<stepNavShown', 'd612c61e-22f4-4922-8bb2-b04b9202126e'), ('/visit-uk-holiday-family-friends', 'EVENT<:<pageElementInteraction<:<stepNavShown', 'd612c61e-22f4-4922-8bb2-b04b9202126e'), ('/visit-uk-holiday-family-friends', 'EVENT<:<stepNavLinkClicked<:<2.1', 'd612c61e-22f4-4922-8bb2-b04b9202126e'), ('/apply-standard-visitor-visa?step-by-step-nav=e8254fb0-f2d9-45b1-bdc4-d17cbba11bef', 'EVENT<:<pageElementInteraction<:<stepNavShown', '29480b00-dc4d-49a0-b48c-25dda8569325'), ('/apply-standard-visitor-visa?step-by-step-nav=e8254fb0-f2d9-45b1-bdc4-d17cbba11bef', 'EVENT<:<pageElementInteraction<:<stepNavShown', '29480b00-dc4d-49a0-b48c-25dda8569325'), ('/apply-standard-visitor-visa?step-by-step-nav=e8254fb0-f2d9-45b1-bdc4-d17cbba11bef', 'EVENT<:<stepNavLinkClicked<:<3.1', '29480b00-dc4d-49a0-b48c-25dda8569325')]\""
      ]
     },
     "execution_count": 44,
     "metadata": {},
     "output_type": "execute_result"
    }
   ],
   "source": [
    "df['Page_Event_List'][1648130]"
   ]
  },
  {
   "cell_type": "code",
   "execution_count": 43,
   "metadata": {
    "ExecuteTime": {
     "end_time": "2019-03-04T17:50:19.204367Z",
     "start_time": "2019-03-04T17:50:19.199748Z"
    }
   },
   "outputs": [
    {
     "data": {
      "text/plain": [
       "\"['/browse/visas-immigration/tourist-short-stay-visas']\""
      ]
     },
     "execution_count": 43,
     "metadata": {},
     "output_type": "execute_result"
    }
   ],
   "source": [
    "df['Page_List'][1648130]"
   ]
  },
  {
   "cell_type": "code",
   "execution_count": 49,
   "metadata": {
    "ExecuteTime": {
     "end_time": "2019-03-04T17:52:07.583716Z",
     "start_time": "2019-03-04T17:52:07.574030Z"
    }
   },
   "outputs": [
    {
     "data": {
      "text/plain": [
       "Occurrences                                                                       1\n",
       "ABVariant                                                                         A\n",
       "Page_Event_List                   [('/government/publications/apply-for-a-uk-vis...\n",
       "Page_List                         ['/browse/visas-immigration/tourist-short-stay...\n",
       "Event_cat_act_agg                 [((contentsClicked, content_item 1), 1), ((bre...\n",
       "is_loved_journey                                                              False\n",
       "Related Links Clicks per seq                                                      1\n",
       "Has_Related                                                                    True\n",
       "Related Links Clicks row total                                                    1\n",
       "Name: 1648130, dtype: object"
      ]
     },
     "execution_count": 49,
     "metadata": {},
     "output_type": "execute_result"
    }
   ],
   "source": [
    "df.loc[1648130, :]"
   ]
  },
  {
   "cell_type": "code",
   "execution_count": 50,
   "metadata": {
    "ExecuteTime": {
     "end_time": "2019-03-04T17:52:58.780846Z",
     "start_time": "2019-03-04T17:52:58.775908Z"
    }
   },
   "outputs": [
    {
     "data": {
      "text/plain": [
       "\"['/guidance/non-resident-trusts', '/government/organisations/hm-revenue-customs/contact/trusts', '/guidance/trusts-and-capital-gains-tax']\""
      ]
     },
     "execution_count": 50,
     "metadata": {},
     "output_type": "execute_result"
    }
   ],
   "source": [
    "df['Page_List'][1638584]"
   ]
  },
  {
   "cell_type": "code",
   "execution_count": 51,
   "metadata": {
    "ExecuteTime": {
     "end_time": "2019-03-04T17:53:04.631105Z",
     "start_time": "2019-03-04T17:53:04.625965Z"
    }
   },
   "outputs": [
    {
     "data": {
      "text/plain": [
       "\"[('/guidance/non-resident-trusts', 'PAGE<:<NULL<:<NULL', 'a83ce24e-0ef4-476e-bac6-d18061e0a22e,41d3523d-34c4-445f-80c8-d429663cb184'), ('/government/organisations/hm-revenue-customs/contact/trusts', 'PAGE<:<NULL<:<NULL', 'other'), ('/government/organisations/hm-revenue-customs/contact/trusts', 'EVENT<:<relatedLinkClicked<:<1.2 Related content', 'other'), ('/guidance/trusts-and-capital-gains-tax', 'EVENT<:<user_satisfaction_survey<:<banner_shown', '3bc4ec93-fd86-4c66-98d0-7623cbbaa6be,41d3523d-34c4-445f-80c8-d429663cb184'), ('/guidance/trusts-and-capital-gains-tax', 'PAGE<:<NULL<:<NULL', '3bc4ec93-fd86-4c66-98d0-7623cbbaa6be,41d3523d-34c4-445f-80c8-d429663cb184')]\""
      ]
     },
     "execution_count": 51,
     "metadata": {},
     "output_type": "execute_result"
    }
   ],
   "source": [
    "df['Page_Event_List'][1638584]"
   ]
  },
  {
   "cell_type": "code",
   "execution_count": null,
   "metadata": {},
   "outputs": [],
   "source": []
  }
 ],
 "metadata": {
  "kernelspec": {
   "display_name": "Python 3",
   "language": "python",
   "name": "python3"
  },
  "language_info": {
   "codemirror_mode": {
    "name": "ipython",
    "version": 3
   },
   "file_extension": ".py",
   "mimetype": "text/x-python",
   "name": "python",
   "nbconvert_exporter": "python",
   "pygments_lexer": "ipython3",
   "version": "3.7.2"
  },
  "toc": {
   "base_numbering": 1,
   "nav_menu": {},
   "number_sections": true,
   "sideBar": true,
   "skip_h1_title": false,
   "title_cell": "Table of Contents",
   "title_sidebar": "Contents",
   "toc_cell": false,
   "toc_position": {},
   "toc_section_display": true,
   "toc_window_display": false
  }
 },
 "nbformat": 4,
 "nbformat_minor": 2
}
