{
 "cells": [
  {
   "cell_type": "code",
   "execution_count": 1,
   "metadata": {
    "ExecuteTime": {
     "end_time": "2019-03-05T13:36:59.291030Z",
     "start_time": "2019-03-05T13:36:57.034500Z"
    }
   },
   "outputs": [],
   "source": [
    "import os \n",
    "import pandas as pd\n",
    "\n",
    "import ast\n",
    "\n",
    "from tqdm import tqdm, tqdm_notebook\n",
    "tqdm.pandas(tqdm_notebook)"
   ]
  },
  {
   "cell_type": "code",
   "execution_count": 4,
   "metadata": {},
   "outputs": [],
   "source": [
    "DATA_DIR = os.getenv(\"DATA_DIR\")"
   ]
  },
  {
   "cell_type": "code",
   "execution_count": 5,
   "metadata": {
    "ExecuteTime": {
     "end_time": "2019-03-05T13:37:00.589091Z",
     "start_time": "2019-03-05T13:36:59.294452Z"
    }
   },
   "outputs": [],
   "source": [
    "clean_content_df = pd.read_csv(os.path.join(DATA_DIR, 'metadata/clean_content_links.csv')\n",
    "                              )"
   ]
  },
  {
   "cell_type": "code",
   "execution_count": 6,
   "metadata": {
    "ExecuteTime": {
     "end_time": "2019-03-05T13:37:00.600037Z",
     "start_time": "2019-03-05T13:37:00.591043Z"
    }
   },
   "outputs": [
    {
     "data": {
      "text/plain": [
       "(236590, 14)"
      ]
     },
     "execution_count": 6,
     "metadata": {},
     "output_type": "execute_result"
    }
   ],
   "source": [
    "clean_content_df.shape"
   ]
  },
  {
   "cell_type": "code",
   "execution_count": 7,
   "metadata": {
    "ExecuteTime": {
     "end_time": "2019-03-05T13:37:00.629851Z",
     "start_time": "2019-03-05T13:37:00.603040Z"
    }
   },
   "outputs": [
    {
     "data": {
      "text/html": [
       "<div>\n",
       "<style scoped>\n",
       "    .dataframe tbody tr th:only-of-type {\n",
       "        vertical-align: middle;\n",
       "    }\n",
       "\n",
       "    .dataframe tbody tr th {\n",
       "        vertical-align: top;\n",
       "    }\n",
       "\n",
       "    .dataframe thead th {\n",
       "        text-align: right;\n",
       "    }\n",
       "</style>\n",
       "<table border=\"1\" class=\"dataframe\">\n",
       "  <thead>\n",
       "    <tr style=\"text-align: right;\">\n",
       "      <th></th>\n",
       "      <th>base_path</th>\n",
       "      <th>content_id</th>\n",
       "      <th>document_type</th>\n",
       "      <th>primary_publishing_organisation</th>\n",
       "      <th>publishing_app</th>\n",
       "      <th>title</th>\n",
       "      <th>ordered_related_items</th>\n",
       "      <th>quick_links</th>\n",
       "      <th>related_mainstream_content</th>\n",
       "      <th>related_guides</th>\n",
       "      <th>document_collections</th>\n",
       "      <th>part_of_step_navs</th>\n",
       "      <th>related_to_step_navs</th>\n",
       "      <th>slugs</th>\n",
       "    </tr>\n",
       "  </thead>\n",
       "  <tbody>\n",
       "    <tr>\n",
       "      <th>0</th>\n",
       "      <td>/government/publications/list-of-psychologists...</td>\n",
       "      <td>04a0cc0d-0b9f-45ad-bf57-7c54cbab9df9</td>\n",
       "      <td>guidance</td>\n",
       "      <td>Foreign &amp; Commonwealth Office</td>\n",
       "      <td>whitehall</td>\n",
       "      <td>chile - list of psychologists and psychiatrist...</td>\n",
       "      <td>NaN</td>\n",
       "      <td>NaN</td>\n",
       "      <td>NaN</td>\n",
       "      <td>NaN</td>\n",
       "      <td>NaN</td>\n",
       "      <td>NaN</td>\n",
       "      <td>NaN</td>\n",
       "      <td>NaN</td>\n",
       "    </tr>\n",
       "    <tr>\n",
       "      <th>1</th>\n",
       "      <td>/government/statistics/uk-labour-market-statis...</td>\n",
       "      <td>a61985b0-d6eb-4cf1-8140-642b9557ce00</td>\n",
       "      <td>national_statistics</td>\n",
       "      <td>Office for National Statistics</td>\n",
       "      <td>whitehall</td>\n",
       "      <td>uk labour market statistics: may 2017</td>\n",
       "      <td>NaN</td>\n",
       "      <td>NaN</td>\n",
       "      <td>NaN</td>\n",
       "      <td>NaN</td>\n",
       "      <td>NaN</td>\n",
       "      <td>NaN</td>\n",
       "      <td>NaN</td>\n",
       "      <td>NaN</td>\n",
       "    </tr>\n",
       "    <tr>\n",
       "      <th>2</th>\n",
       "      <td>/government/publications/monitor-remuneration-...</td>\n",
       "      <td>d569ef4b-d632-49a0-9795-6a7ea934b799</td>\n",
       "      <td>transparency</td>\n",
       "      <td>Monitor</td>\n",
       "      <td>whitehall</td>\n",
       "      <td>monitor: remuneration committee papers october...</td>\n",
       "      <td>NaN</td>\n",
       "      <td>NaN</td>\n",
       "      <td>NaN</td>\n",
       "      <td>NaN</td>\n",
       "      <td>['5f4c7b0f-7631-11e4-a3cb-005056011aef']</td>\n",
       "      <td>NaN</td>\n",
       "      <td>NaN</td>\n",
       "      <td>NaN</td>\n",
       "    </tr>\n",
       "    <tr>\n",
       "      <th>3</th>\n",
       "      <td>/government/statistical-data-sets/env26-expend...</td>\n",
       "      <td>5e0fee54-7631-11e4-a3cb-005056011aef</td>\n",
       "      <td>statistical_data_set</td>\n",
       "      <td>Department for Environment, Food &amp; Rural Affairs</td>\n",
       "      <td>whitehall</td>\n",
       "      <td>env26 - expenditure on biodiversity</td>\n",
       "      <td>NaN</td>\n",
       "      <td>NaN</td>\n",
       "      <td>NaN</td>\n",
       "      <td>NaN</td>\n",
       "      <td>['5eb6d242-7631-11e4-a3cb-005056011aef']</td>\n",
       "      <td>NaN</td>\n",
       "      <td>NaN</td>\n",
       "      <td>NaN</td>\n",
       "    </tr>\n",
       "    <tr>\n",
       "      <th>4</th>\n",
       "      <td>/government/publications/hmg-spending-moratori...</td>\n",
       "      <td>581cabaf-2ed1-4411-8d1b-35b1bcb559b5</td>\n",
       "      <td>transparency</td>\n",
       "      <td>Department for International Development</td>\n",
       "      <td>whitehall</td>\n",
       "      <td>hmg spending moratoria: dfid ict january to ma...</td>\n",
       "      <td>NaN</td>\n",
       "      <td>NaN</td>\n",
       "      <td>NaN</td>\n",
       "      <td>NaN</td>\n",
       "      <td>['5eb71ddb-7631-11e4-a3cb-005056011aef']</td>\n",
       "      <td>NaN</td>\n",
       "      <td>NaN</td>\n",
       "      <td>NaN</td>\n",
       "    </tr>\n",
       "  </tbody>\n",
       "</table>\n",
       "</div>"
      ],
      "text/plain": [
       "                                           base_path  \\\n",
       "0  /government/publications/list-of-psychologists...   \n",
       "1  /government/statistics/uk-labour-market-statis...   \n",
       "2  /government/publications/monitor-remuneration-...   \n",
       "3  /government/statistical-data-sets/env26-expend...   \n",
       "4  /government/publications/hmg-spending-moratori...   \n",
       "\n",
       "                             content_id         document_type  \\\n",
       "0  04a0cc0d-0b9f-45ad-bf57-7c54cbab9df9              guidance   \n",
       "1  a61985b0-d6eb-4cf1-8140-642b9557ce00   national_statistics   \n",
       "2  d569ef4b-d632-49a0-9795-6a7ea934b799          transparency   \n",
       "3  5e0fee54-7631-11e4-a3cb-005056011aef  statistical_data_set   \n",
       "4  581cabaf-2ed1-4411-8d1b-35b1bcb559b5          transparency   \n",
       "\n",
       "                    primary_publishing_organisation publishing_app  \\\n",
       "0                     Foreign & Commonwealth Office      whitehall   \n",
       "1                    Office for National Statistics      whitehall   \n",
       "2                                           Monitor      whitehall   \n",
       "3  Department for Environment, Food & Rural Affairs      whitehall   \n",
       "4          Department for International Development      whitehall   \n",
       "\n",
       "                                               title ordered_related_items  \\\n",
       "0  chile - list of psychologists and psychiatrist...                   NaN   \n",
       "1              uk labour market statistics: may 2017                   NaN   \n",
       "2  monitor: remuneration committee papers october...                   NaN   \n",
       "3                env26 - expenditure on biodiversity                   NaN   \n",
       "4  hmg spending moratoria: dfid ict january to ma...                   NaN   \n",
       "\n",
       "   quick_links related_mainstream_content related_guides  \\\n",
       "0          NaN                        NaN            NaN   \n",
       "1          NaN                        NaN            NaN   \n",
       "2          NaN                        NaN            NaN   \n",
       "3          NaN                        NaN            NaN   \n",
       "4          NaN                        NaN            NaN   \n",
       "\n",
       "                       document_collections part_of_step_navs  \\\n",
       "0                                       NaN               NaN   \n",
       "1                                       NaN               NaN   \n",
       "2  ['5f4c7b0f-7631-11e4-a3cb-005056011aef']               NaN   \n",
       "3  ['5eb6d242-7631-11e4-a3cb-005056011aef']               NaN   \n",
       "4  ['5eb71ddb-7631-11e4-a3cb-005056011aef']               NaN   \n",
       "\n",
       "  related_to_step_navs slugs  \n",
       "0                  NaN   NaN  \n",
       "1                  NaN   NaN  \n",
       "2                  NaN   NaN  \n",
       "3                  NaN   NaN  \n",
       "4                  NaN   NaN  "
      ]
     },
     "execution_count": 7,
     "metadata": {},
     "output_type": "execute_result"
    }
   ],
   "source": [
    "clean_content_df.head()"
   ]
  },
  {
   "cell_type": "code",
   "execution_count": 8,
   "metadata": {
    "ExecuteTime": {
     "end_time": "2019-03-05T13:37:10.648707Z",
     "start_time": "2019-03-05T13:37:10.611062Z"
    }
   },
   "outputs": [
    {
     "data": {
      "text/plain": [
       "base_path                          2290\n",
       "content_id                         2290\n",
       "document_type                      2290\n",
       "primary_publishing_organisation    2259\n",
       "publishing_app                     2290\n",
       "title                              2290\n",
       "ordered_related_items              1935\n",
       "quick_links                           0\n",
       "related_mainstream_content          312\n",
       "related_guides                      141\n",
       "document_collections                134\n",
       "part_of_step_navs                   170\n",
       "related_to_step_navs                 57\n",
       "slugs                               749\n",
       "dtype: int64"
      ]
     },
     "execution_count": 8,
     "metadata": {},
     "output_type": "execute_result"
    }
   ],
   "source": [
    "clean_content_df[\n",
    "    clean_content_df['related_mainstream_content'].notnull() |\n",
    "    clean_content_df['ordered_related_items'].notnull() |\n",
    "    clean_content_df['part_of_step_navs'].notnull()].count()"
   ]
  },
  {
   "cell_type": "code",
   "execution_count": 9,
   "metadata": {
    "ExecuteTime": {
     "end_time": "2019-03-05T13:38:30.577892Z",
     "start_time": "2019-03-05T13:38:30.489351Z"
    }
   },
   "outputs": [],
   "source": [
    "# only select rows that have related links (they have \n",
    "# related_mainstream_content, ordered_related_items, or quick_links)\n",
    "clean_content_rl_df = clean_content_df.copy().query(\n",
    "    'related_mainstream_content.notnull() or ordered_related_items.notnull()or part_of_step_navs.notnull() or quick_links.notnull()'\n",
    "    )"
   ]
  },
  {
   "cell_type": "code",
   "execution_count": 10,
   "metadata": {
    "ExecuteTime": {
     "end_time": "2019-03-05T13:38:31.191346Z",
     "start_time": "2019-03-05T13:38:31.187410Z"
    }
   },
   "outputs": [
    {
     "data": {
      "text/plain": [
       "(2290, 14)"
      ]
     },
     "execution_count": 10,
     "metadata": {},
     "output_type": "execute_result"
    }
   ],
   "source": [
    "clean_content_rl_df.shape"
   ]
  },
  {
   "cell_type": "code",
   "execution_count": 11,
   "metadata": {
    "ExecuteTime": {
     "end_time": "2019-03-05T13:38:31.515900Z",
     "start_time": "2019-03-05T13:38:31.464231Z"
    }
   },
   "outputs": [],
   "source": [
    "# fill NaNs with empty arrays, and then literal_eval all the arrays so we can\n",
    "# access the items within them (the different slugs associated with each\n",
    "# content ID)\n",
    "clean_content_rl_df['slugs'] = clean_content_rl_df['slugs'].fillna(\"['']\").apply(\n",
    "    ast.literal_eval)"
   ]
  },
  {
   "cell_type": "markdown",
   "metadata": {},
   "source": [
    "This converts the string to a list and puts an empty list where there are none"
   ]
  },
  {
   "cell_type": "code",
   "execution_count": 12,
   "metadata": {
    "ExecuteTime": {
     "end_time": "2019-03-05T13:38:32.667663Z",
     "start_time": "2019-03-05T13:38:32.664524Z"
    }
   },
   "outputs": [],
   "source": [
    "clean_content_rl_df.reset_index(inplace=True, drop=True)"
   ]
  },
  {
   "cell_type": "code",
   "execution_count": 13,
   "metadata": {
    "ExecuteTime": {
     "end_time": "2019-03-05T13:38:32.894955Z",
     "start_time": "2019-03-05T13:38:32.888561Z"
    }
   },
   "outputs": [
    {
     "data": {
      "text/plain": [
       "0                                                   []\n",
       "1    [overview, rules-for-class-3-invalid-carriages...\n",
       "2    [overview, what-you-can-get, eligibility, how-...\n",
       "3                                                   []\n",
       "4    [overview, how-it-works, calculating-dea, what...\n",
       "Name: slugs, dtype: object"
      ]
     },
     "execution_count": 13,
     "metadata": {},
     "output_type": "execute_result"
    }
   ],
   "source": [
    "clean_content_rl_df['slugs'].head()"
   ]
  },
  {
   "cell_type": "code",
   "execution_count": 14,
   "metadata": {
    "ExecuteTime": {
     "end_time": "2019-03-05T13:38:33.093016Z",
     "start_time": "2019-03-05T13:38:33.087966Z"
    }
   },
   "outputs": [
    {
     "data": {
      "text/plain": [
       "['']"
      ]
     },
     "execution_count": 14,
     "metadata": {},
     "output_type": "execute_result"
    }
   ],
   "source": [
    "clean_content_rl_df['slugs'][0]"
   ]
  },
  {
   "cell_type": "code",
   "execution_count": 15,
   "metadata": {
    "ExecuteTime": {
     "end_time": "2019-03-05T13:38:33.269949Z",
     "start_time": "2019-03-05T13:38:33.265284Z"
    }
   },
   "outputs": [
    {
     "data": {
      "text/plain": [
       "['overview',\n",
       " 'rules-for-class-3-invalid-carriages',\n",
       " 'driving-on-the-road',\n",
       " 'driving-on-footpaths-and-parking',\n",
       " 'eyesight-requirements',\n",
       " 'use-by-nondisabled-people',\n",
       " 'vehicle-tax-registration-and-insurance']"
      ]
     },
     "execution_count": 15,
     "metadata": {},
     "output_type": "execute_result"
    }
   ],
   "source": [
    "clean_content_rl_df['slugs'][1]"
   ]
  },
  {
   "cell_type": "code",
   "execution_count": 17,
   "metadata": {
    "ExecuteTime": {
     "end_time": "2019-03-05T13:38:33.667398Z",
     "start_time": "2019-03-05T13:38:33.664200Z"
    }
   },
   "outputs": [],
   "source": [
    "# sometimes there isn't an empty slug in the list of slugs, but the page path\n",
    "# exists, so this is a little hack to includ the plain basePath\n",
    "def add_dummy_slug(slugs):\n",
    "    list1 = ['']\n",
    "    list1.extend(slugs)\n",
    "    return list(set(list1))"
   ]
  },
  {
   "cell_type": "markdown",
   "metadata": {},
   "source": [
    "dummmy_slug is the url without any slug which  is also a page so needs an empty slug"
   ]
  },
  {
   "cell_type": "code",
   "execution_count": 19,
   "metadata": {
    "ExecuteTime": {
     "end_time": "2019-03-05T13:38:37.345026Z",
     "start_time": "2019-03-05T13:38:37.338481Z"
    }
   },
   "outputs": [],
   "source": [
    "clean_content_rl_df['slugs'] = clean_content_rl_df['slugs'].apply(add_dummy_slug)"
   ]
  },
  {
   "cell_type": "markdown",
   "metadata": {},
   "source": [
    "wide to long"
   ]
  },
  {
   "cell_type": "code",
   "execution_count": 20,
   "metadata": {
    "ExecuteTime": {
     "end_time": "2019-03-05T13:38:39.194625Z",
     "start_time": "2019-03-05T13:38:39.189133Z"
    }
   },
   "outputs": [],
   "source": [
    "# adapted from https://gist.github.com/jlln/338b4b0b55bd6984f883\n",
    "def splitDataFrameList(df,target_column):\n",
    "    '''\n",
    "    df = dataframe to split,\n",
    "    target_column = the column containing the values to split, in an array\n",
    "    returns: a dataframe with each entry for the target column separated,\n",
    "        with each element moved into a new row. The values in the other\n",
    "        columns are duplicated across the newly divided rows.\n",
    "    '''\n",
    "    def splitListToRows(row,row_accumulator,target_column):\n",
    "        for s in row[target_column]:\n",
    "            new_row = row.to_dict()\n",
    "            new_row[target_column] = s\n",
    "            row_accumulator.append(new_row)\n",
    "    new_rows = []\n",
    "    df.apply(splitListToRows,axis=1,args = (new_rows,target_column))\n",
    "    new_df = pd.DataFrame(new_rows)\n",
    "    return new_df"
   ]
  },
  {
   "cell_type": "code",
   "execution_count": 21,
   "metadata": {
    "ExecuteTime": {
     "end_time": "2019-03-05T13:38:42.779207Z",
     "start_time": "2019-03-05T13:38:42.515622Z"
    }
   },
   "outputs": [],
   "source": [
    "clean_content_exploded_df = splitDataFrameList(\n",
    "    clean_content_rl_df, 'slugs')"
   ]
  },
  {
   "cell_type": "code",
   "execution_count": 22,
   "metadata": {
    "ExecuteTime": {
     "end_time": "2019-03-04T16:13:13.897719Z",
     "start_time": "2019-03-04T16:13:13.894423Z"
    }
   },
   "outputs": [],
   "source": [
    "def add_slash_between_basepath_slug(slug):\n",
    "    if slug == '':\n",
    "        return ''\n",
    "    else:\n",
    "        return '/' + slug"
   ]
  },
  {
   "cell_type": "code",
   "execution_count": 23,
   "metadata": {
    "ExecuteTime": {
     "end_time": "2019-03-04T16:13:14.450255Z",
     "start_time": "2019-03-04T16:13:14.444566Z"
    }
   },
   "outputs": [],
   "source": [
    "clean_content_exploded_df['slug'] = clean_content_exploded_df['slugs'].map(\n",
    "    add_slash_between_basepath_slug)"
   ]
  },
  {
   "cell_type": "code",
   "execution_count": 24,
   "metadata": {
    "ExecuteTime": {
     "end_time": "2019-03-04T16:13:15.103071Z",
     "start_time": "2019-03-04T16:13:15.094796Z"
    }
   },
   "outputs": [],
   "source": [
    "clean_content_exploded_df['pagePath'] = clean_content_exploded_df['base_path']  + clean_content_exploded_df['slug']\n"
   ]
  },
  {
   "cell_type": "code",
   "execution_count": 25,
   "metadata": {
    "ExecuteTime": {
     "end_time": "2019-03-04T16:13:15.614298Z",
     "start_time": "2019-03-04T16:13:15.594369Z"
    }
   },
   "outputs": [
    {
     "data": {
      "text/html": [
       "<div>\n",
       "<style scoped>\n",
       "    .dataframe tbody tr th:only-of-type {\n",
       "        vertical-align: middle;\n",
       "    }\n",
       "\n",
       "    .dataframe tbody tr th {\n",
       "        vertical-align: top;\n",
       "    }\n",
       "\n",
       "    .dataframe thead th {\n",
       "        text-align: right;\n",
       "    }\n",
       "</style>\n",
       "<table border=\"1\" class=\"dataframe\">\n",
       "  <thead>\n",
       "    <tr style=\"text-align: right;\">\n",
       "      <th></th>\n",
       "      <th>base_path</th>\n",
       "      <th>content_id</th>\n",
       "      <th>document_collections</th>\n",
       "      <th>document_type</th>\n",
       "      <th>ordered_related_items</th>\n",
       "      <th>part_of_step_navs</th>\n",
       "      <th>primary_publishing_organisation</th>\n",
       "      <th>publishing_app</th>\n",
       "      <th>quick_links</th>\n",
       "      <th>related_guides</th>\n",
       "      <th>related_mainstream_content</th>\n",
       "      <th>related_to_step_navs</th>\n",
       "      <th>slugs</th>\n",
       "      <th>title</th>\n",
       "      <th>slug</th>\n",
       "      <th>pagePath</th>\n",
       "    </tr>\n",
       "  </thead>\n",
       "  <tbody>\n",
       "    <tr>\n",
       "      <th>0</th>\n",
       "      <td>/company-voluntary-arrangements</td>\n",
       "      <td>6fafa451-96b4-4d38-a97d-5261c8a62dd9</td>\n",
       "      <td>NaN</td>\n",
       "      <td>answer</td>\n",
       "      <td>['86e9a768-4162-4d75-9744-f92f56f461ae', 'a0c7...</td>\n",
       "      <td>NaN</td>\n",
       "      <td>Government Digital Service</td>\n",
       "      <td>publisher</td>\n",
       "      <td>NaN</td>\n",
       "      <td>NaN</td>\n",
       "      <td>NaN</td>\n",
       "      <td>NaN</td>\n",
       "      <td></td>\n",
       "      <td>company voluntary arrangements</td>\n",
       "      <td></td>\n",
       "      <td>/company-voluntary-arrangements</td>\n",
       "    </tr>\n",
       "    <tr>\n",
       "      <th>1</th>\n",
       "      <td>/mobility-scooters-and-powered-wheelchairs-rules</td>\n",
       "      <td>b3202d1a-f26d-49a2-8f2b-0c7923ba410d</td>\n",
       "      <td>NaN</td>\n",
       "      <td>guide</td>\n",
       "      <td>['fa748fae-3de4-4266-ae85-0797ada3f40c', '2157...</td>\n",
       "      <td>NaN</td>\n",
       "      <td>Government Digital Service</td>\n",
       "      <td>publisher</td>\n",
       "      <td>NaN</td>\n",
       "      <td>NaN</td>\n",
       "      <td>NaN</td>\n",
       "      <td>NaN</td>\n",
       "      <td></td>\n",
       "      <td>mobility scooters and powered wheelchairs: the...</td>\n",
       "      <td></td>\n",
       "      <td>/mobility-scooters-and-powered-wheelchairs-rules</td>\n",
       "    </tr>\n",
       "    <tr>\n",
       "      <th>2</th>\n",
       "      <td>/mobility-scooters-and-powered-wheelchairs-rules</td>\n",
       "      <td>b3202d1a-f26d-49a2-8f2b-0c7923ba410d</td>\n",
       "      <td>NaN</td>\n",
       "      <td>guide</td>\n",
       "      <td>['fa748fae-3de4-4266-ae85-0797ada3f40c', '2157...</td>\n",
       "      <td>NaN</td>\n",
       "      <td>Government Digital Service</td>\n",
       "      <td>publisher</td>\n",
       "      <td>NaN</td>\n",
       "      <td>NaN</td>\n",
       "      <td>NaN</td>\n",
       "      <td>NaN</td>\n",
       "      <td>use-by-nondisabled-people</td>\n",
       "      <td>mobility scooters and powered wheelchairs: the...</td>\n",
       "      <td>/use-by-nondisabled-people</td>\n",
       "      <td>/mobility-scooters-and-powered-wheelchairs-rul...</td>\n",
       "    </tr>\n",
       "    <tr>\n",
       "      <th>3</th>\n",
       "      <td>/mobility-scooters-and-powered-wheelchairs-rules</td>\n",
       "      <td>b3202d1a-f26d-49a2-8f2b-0c7923ba410d</td>\n",
       "      <td>NaN</td>\n",
       "      <td>guide</td>\n",
       "      <td>['fa748fae-3de4-4266-ae85-0797ada3f40c', '2157...</td>\n",
       "      <td>NaN</td>\n",
       "      <td>Government Digital Service</td>\n",
       "      <td>publisher</td>\n",
       "      <td>NaN</td>\n",
       "      <td>NaN</td>\n",
       "      <td>NaN</td>\n",
       "      <td>NaN</td>\n",
       "      <td>eyesight-requirements</td>\n",
       "      <td>mobility scooters and powered wheelchairs: the...</td>\n",
       "      <td>/eyesight-requirements</td>\n",
       "      <td>/mobility-scooters-and-powered-wheelchairs-rul...</td>\n",
       "    </tr>\n",
       "    <tr>\n",
       "      <th>4</th>\n",
       "      <td>/mobility-scooters-and-powered-wheelchairs-rules</td>\n",
       "      <td>b3202d1a-f26d-49a2-8f2b-0c7923ba410d</td>\n",
       "      <td>NaN</td>\n",
       "      <td>guide</td>\n",
       "      <td>['fa748fae-3de4-4266-ae85-0797ada3f40c', '2157...</td>\n",
       "      <td>NaN</td>\n",
       "      <td>Government Digital Service</td>\n",
       "      <td>publisher</td>\n",
       "      <td>NaN</td>\n",
       "      <td>NaN</td>\n",
       "      <td>NaN</td>\n",
       "      <td>NaN</td>\n",
       "      <td>overview</td>\n",
       "      <td>mobility scooters and powered wheelchairs: the...</td>\n",
       "      <td>/overview</td>\n",
       "      <td>/mobility-scooters-and-powered-wheelchairs-rul...</td>\n",
       "    </tr>\n",
       "  </tbody>\n",
       "</table>\n",
       "</div>"
      ],
      "text/plain": [
       "                                          base_path  \\\n",
       "0                   /company-voluntary-arrangements   \n",
       "1  /mobility-scooters-and-powered-wheelchairs-rules   \n",
       "2  /mobility-scooters-and-powered-wheelchairs-rules   \n",
       "3  /mobility-scooters-and-powered-wheelchairs-rules   \n",
       "4  /mobility-scooters-and-powered-wheelchairs-rules   \n",
       "\n",
       "                             content_id document_collections document_type  \\\n",
       "0  6fafa451-96b4-4d38-a97d-5261c8a62dd9                  NaN        answer   \n",
       "1  b3202d1a-f26d-49a2-8f2b-0c7923ba410d                  NaN         guide   \n",
       "2  b3202d1a-f26d-49a2-8f2b-0c7923ba410d                  NaN         guide   \n",
       "3  b3202d1a-f26d-49a2-8f2b-0c7923ba410d                  NaN         guide   \n",
       "4  b3202d1a-f26d-49a2-8f2b-0c7923ba410d                  NaN         guide   \n",
       "\n",
       "                               ordered_related_items part_of_step_navs  \\\n",
       "0  ['86e9a768-4162-4d75-9744-f92f56f461ae', 'a0c7...               NaN   \n",
       "1  ['fa748fae-3de4-4266-ae85-0797ada3f40c', '2157...               NaN   \n",
       "2  ['fa748fae-3de4-4266-ae85-0797ada3f40c', '2157...               NaN   \n",
       "3  ['fa748fae-3de4-4266-ae85-0797ada3f40c', '2157...               NaN   \n",
       "4  ['fa748fae-3de4-4266-ae85-0797ada3f40c', '2157...               NaN   \n",
       "\n",
       "  primary_publishing_organisation publishing_app  quick_links related_guides  \\\n",
       "0      Government Digital Service      publisher          NaN            NaN   \n",
       "1      Government Digital Service      publisher          NaN            NaN   \n",
       "2      Government Digital Service      publisher          NaN            NaN   \n",
       "3      Government Digital Service      publisher          NaN            NaN   \n",
       "4      Government Digital Service      publisher          NaN            NaN   \n",
       "\n",
       "  related_mainstream_content related_to_step_navs                      slugs  \\\n",
       "0                        NaN                  NaN                              \n",
       "1                        NaN                  NaN                              \n",
       "2                        NaN                  NaN  use-by-nondisabled-people   \n",
       "3                        NaN                  NaN      eyesight-requirements   \n",
       "4                        NaN                  NaN                   overview   \n",
       "\n",
       "                                               title  \\\n",
       "0                     company voluntary arrangements   \n",
       "1  mobility scooters and powered wheelchairs: the...   \n",
       "2  mobility scooters and powered wheelchairs: the...   \n",
       "3  mobility scooters and powered wheelchairs: the...   \n",
       "4  mobility scooters and powered wheelchairs: the...   \n",
       "\n",
       "                         slug  \\\n",
       "0                               \n",
       "1                               \n",
       "2  /use-by-nondisabled-people   \n",
       "3      /eyesight-requirements   \n",
       "4                   /overview   \n",
       "\n",
       "                                            pagePath  \n",
       "0                    /company-voluntary-arrangements  \n",
       "1   /mobility-scooters-and-powered-wheelchairs-rules  \n",
       "2  /mobility-scooters-and-powered-wheelchairs-rul...  \n",
       "3  /mobility-scooters-and-powered-wheelchairs-rul...  \n",
       "4  /mobility-scooters-and-powered-wheelchairs-rul...  "
      ]
     },
     "execution_count": 25,
     "metadata": {},
     "output_type": "execute_result"
    }
   ],
   "source": [
    "clean_content_exploded_df.head()"
   ]
  },
  {
   "cell_type": "code",
   "execution_count": 26,
   "metadata": {
    "ExecuteTime": {
     "end_time": "2019-03-04T16:13:16.494397Z",
     "start_time": "2019-03-04T16:13:16.470225Z"
    }
   },
   "outputs": [
    {
     "data": {
      "text/html": [
       "<div>\n",
       "<style scoped>\n",
       "    .dataframe tbody tr th:only-of-type {\n",
       "        vertical-align: middle;\n",
       "    }\n",
       "\n",
       "    .dataframe tbody tr th {\n",
       "        vertical-align: top;\n",
       "    }\n",
       "\n",
       "    .dataframe thead th {\n",
       "        text-align: right;\n",
       "    }\n",
       "</style>\n",
       "<table border=\"1\" class=\"dataframe\">\n",
       "  <thead>\n",
       "    <tr style=\"text-align: right;\">\n",
       "      <th></th>\n",
       "      <th>base_path</th>\n",
       "      <th>content_id</th>\n",
       "      <th>document_collections</th>\n",
       "      <th>document_type</th>\n",
       "      <th>ordered_related_items</th>\n",
       "      <th>part_of_step_navs</th>\n",
       "      <th>primary_publishing_organisation</th>\n",
       "      <th>publishing_app</th>\n",
       "      <th>quick_links</th>\n",
       "      <th>related_guides</th>\n",
       "      <th>related_mainstream_content</th>\n",
       "      <th>related_to_step_navs</th>\n",
       "      <th>slugs</th>\n",
       "      <th>title</th>\n",
       "      <th>slug</th>\n",
       "      <th>pagePath</th>\n",
       "    </tr>\n",
       "  </thead>\n",
       "  <tbody>\n",
       "    <tr>\n",
       "      <th>3098</th>\n",
       "      <td>/deposit-protection-schemes-and-landlords</td>\n",
       "      <td>806a3397-878a-492f-977a-a5a2afbf249c</td>\n",
       "      <td>NaN</td>\n",
       "      <td>guide</td>\n",
       "      <td>['fd824dab-4f80-4a20-a7fd-b48c2c2f70f8', '3c65...</td>\n",
       "      <td>NaN</td>\n",
       "      <td>Government Digital Service</td>\n",
       "      <td>publisher</td>\n",
       "      <td>NaN</td>\n",
       "      <td>NaN</td>\n",
       "      <td>NaN</td>\n",
       "      <td>NaN</td>\n",
       "      <td></td>\n",
       "      <td>deposit protection schemes and landlords</td>\n",
       "      <td></td>\n",
       "      <td>/deposit-protection-schemes-and-landlords</td>\n",
       "    </tr>\n",
       "    <tr>\n",
       "      <th>3099</th>\n",
       "      <td>/deposit-protection-schemes-and-landlords</td>\n",
       "      <td>806a3397-878a-492f-977a-a5a2afbf249c</td>\n",
       "      <td>NaN</td>\n",
       "      <td>guide</td>\n",
       "      <td>['fd824dab-4f80-4a20-a7fd-b48c2c2f70f8', '3c65...</td>\n",
       "      <td>NaN</td>\n",
       "      <td>Government Digital Service</td>\n",
       "      <td>publisher</td>\n",
       "      <td>NaN</td>\n",
       "      <td>NaN</td>\n",
       "      <td>NaN</td>\n",
       "      <td>NaN</td>\n",
       "      <td>information-you-must-give-to-your-tenants</td>\n",
       "      <td>deposit protection schemes and landlords</td>\n",
       "      <td>/information-you-must-give-to-your-tenants</td>\n",
       "      <td>/deposit-protection-schemes-and-landlords/info...</td>\n",
       "    </tr>\n",
       "    <tr>\n",
       "      <th>3100</th>\n",
       "      <td>/deposit-protection-schemes-and-landlords</td>\n",
       "      <td>806a3397-878a-492f-977a-a5a2afbf249c</td>\n",
       "      <td>NaN</td>\n",
       "      <td>guide</td>\n",
       "      <td>['fd824dab-4f80-4a20-a7fd-b48c2c2f70f8', '3c65...</td>\n",
       "      <td>NaN</td>\n",
       "      <td>Government Digital Service</td>\n",
       "      <td>publisher</td>\n",
       "      <td>NaN</td>\n",
       "      <td>NaN</td>\n",
       "      <td>NaN</td>\n",
       "      <td>NaN</td>\n",
       "      <td>overview</td>\n",
       "      <td>deposit protection schemes and landlords</td>\n",
       "      <td>/overview</td>\n",
       "      <td>/deposit-protection-schemes-and-landlords/over...</td>\n",
       "    </tr>\n",
       "    <tr>\n",
       "      <th>3101</th>\n",
       "      <td>/deposit-protection-schemes-and-landlords</td>\n",
       "      <td>806a3397-878a-492f-977a-a5a2afbf249c</td>\n",
       "      <td>NaN</td>\n",
       "      <td>guide</td>\n",
       "      <td>['fd824dab-4f80-4a20-a7fd-b48c2c2f70f8', '3c65...</td>\n",
       "      <td>NaN</td>\n",
       "      <td>Government Digital Service</td>\n",
       "      <td>publisher</td>\n",
       "      <td>NaN</td>\n",
       "      <td>NaN</td>\n",
       "      <td>NaN</td>\n",
       "      <td>NaN</td>\n",
       "      <td>if-you-dont-protect-your-tenants-deposit</td>\n",
       "      <td>deposit protection schemes and landlords</td>\n",
       "      <td>/if-you-dont-protect-your-tenants-deposit</td>\n",
       "      <td>/deposit-protection-schemes-and-landlords/if-y...</td>\n",
       "    </tr>\n",
       "    <tr>\n",
       "      <th>3102</th>\n",
       "      <td>/deposit-protection-schemes-and-landlords</td>\n",
       "      <td>806a3397-878a-492f-977a-a5a2afbf249c</td>\n",
       "      <td>NaN</td>\n",
       "      <td>guide</td>\n",
       "      <td>['fd824dab-4f80-4a20-a7fd-b48c2c2f70f8', '3c65...</td>\n",
       "      <td>NaN</td>\n",
       "      <td>Government Digital Service</td>\n",
       "      <td>publisher</td>\n",
       "      <td>NaN</td>\n",
       "      <td>NaN</td>\n",
       "      <td>NaN</td>\n",
       "      <td>NaN</td>\n",
       "      <td>disputes</td>\n",
       "      <td>deposit protection schemes and landlords</td>\n",
       "      <td>/disputes</td>\n",
       "      <td>/deposit-protection-schemes-and-landlords/disp...</td>\n",
       "    </tr>\n",
       "  </tbody>\n",
       "</table>\n",
       "</div>"
      ],
      "text/plain": [
       "                                      base_path  \\\n",
       "3098  /deposit-protection-schemes-and-landlords   \n",
       "3099  /deposit-protection-schemes-and-landlords   \n",
       "3100  /deposit-protection-schemes-and-landlords   \n",
       "3101  /deposit-protection-schemes-and-landlords   \n",
       "3102  /deposit-protection-schemes-and-landlords   \n",
       "\n",
       "                                content_id document_collections document_type  \\\n",
       "3098  806a3397-878a-492f-977a-a5a2afbf249c                  NaN         guide   \n",
       "3099  806a3397-878a-492f-977a-a5a2afbf249c                  NaN         guide   \n",
       "3100  806a3397-878a-492f-977a-a5a2afbf249c                  NaN         guide   \n",
       "3101  806a3397-878a-492f-977a-a5a2afbf249c                  NaN         guide   \n",
       "3102  806a3397-878a-492f-977a-a5a2afbf249c                  NaN         guide   \n",
       "\n",
       "                                  ordered_related_items part_of_step_navs  \\\n",
       "3098  ['fd824dab-4f80-4a20-a7fd-b48c2c2f70f8', '3c65...               NaN   \n",
       "3099  ['fd824dab-4f80-4a20-a7fd-b48c2c2f70f8', '3c65...               NaN   \n",
       "3100  ['fd824dab-4f80-4a20-a7fd-b48c2c2f70f8', '3c65...               NaN   \n",
       "3101  ['fd824dab-4f80-4a20-a7fd-b48c2c2f70f8', '3c65...               NaN   \n",
       "3102  ['fd824dab-4f80-4a20-a7fd-b48c2c2f70f8', '3c65...               NaN   \n",
       "\n",
       "     primary_publishing_organisation publishing_app  quick_links  \\\n",
       "3098      Government Digital Service      publisher          NaN   \n",
       "3099      Government Digital Service      publisher          NaN   \n",
       "3100      Government Digital Service      publisher          NaN   \n",
       "3101      Government Digital Service      publisher          NaN   \n",
       "3102      Government Digital Service      publisher          NaN   \n",
       "\n",
       "     related_guides related_mainstream_content related_to_step_navs  \\\n",
       "3098            NaN                        NaN                  NaN   \n",
       "3099            NaN                        NaN                  NaN   \n",
       "3100            NaN                        NaN                  NaN   \n",
       "3101            NaN                        NaN                  NaN   \n",
       "3102            NaN                        NaN                  NaN   \n",
       "\n",
       "                                          slugs  \\\n",
       "3098                                              \n",
       "3099  information-you-must-give-to-your-tenants   \n",
       "3100                                   overview   \n",
       "3101   if-you-dont-protect-your-tenants-deposit   \n",
       "3102                                   disputes   \n",
       "\n",
       "                                         title  \\\n",
       "3098  deposit protection schemes and landlords   \n",
       "3099  deposit protection schemes and landlords   \n",
       "3100  deposit protection schemes and landlords   \n",
       "3101  deposit protection schemes and landlords   \n",
       "3102  deposit protection schemes and landlords   \n",
       "\n",
       "                                            slug  \\\n",
       "3098                                               \n",
       "3099  /information-you-must-give-to-your-tenants   \n",
       "3100                                   /overview   \n",
       "3101   /if-you-dont-protect-your-tenants-deposit   \n",
       "3102                                   /disputes   \n",
       "\n",
       "                                               pagePath  \n",
       "3098          /deposit-protection-schemes-and-landlords  \n",
       "3099  /deposit-protection-schemes-and-landlords/info...  \n",
       "3100  /deposit-protection-schemes-and-landlords/over...  \n",
       "3101  /deposit-protection-schemes-and-landlords/if-y...  \n",
       "3102  /deposit-protection-schemes-and-landlords/disp...  "
      ]
     },
     "execution_count": 26,
     "metadata": {},
     "output_type": "execute_result"
    }
   ],
   "source": [
    "clean_content_exploded_df[clean_content_exploded_df['base_path'] == '/deposit-protection-schemes-and-landlords']"
   ]
  },
  {
   "cell_type": "code",
   "execution_count": 27,
   "metadata": {
    "ExecuteTime": {
     "end_time": "2019-03-04T16:16:10.132948Z",
     "start_time": "2019-03-04T16:16:10.127948Z"
    }
   },
   "outputs": [
    {
     "data": {
      "text/plain": [
       "(5977, 16)"
      ]
     },
     "execution_count": 27,
     "metadata": {},
     "output_type": "execute_result"
    }
   ],
   "source": [
    "clean_content_exploded_df.shape"
   ]
  },
  {
   "cell_type": "code",
   "execution_count": 28,
   "metadata": {
    "ExecuteTime": {
     "end_time": "2019-03-04T16:21:05.112665Z",
     "start_time": "2019-03-04T16:21:05.092214Z"
    }
   },
   "outputs": [
    {
     "data": {
      "text/plain": [
       "(5977, 16)"
      ]
     },
     "execution_count": 28,
     "metadata": {},
     "output_type": "execute_result"
    }
   ],
   "source": [
    "clean_content_exploded_df.drop_duplicates().shape"
   ]
  },
  {
   "cell_type": "code",
   "execution_count": 29,
   "metadata": {
    "ExecuteTime": {
     "end_time": "2019-03-04T16:20:44.747780Z",
     "start_time": "2019-03-04T16:20:44.741640Z"
    }
   },
   "outputs": [
    {
     "data": {
      "text/plain": [
       "5977"
      ]
     },
     "execution_count": 29,
     "metadata": {},
     "output_type": "execute_result"
    }
   ],
   "source": [
    "len(set(clean_content_exploded_df['pagePath']))\n",
    "# we should dedupe the list wehen we read it"
   ]
  },
  {
   "cell_type": "code",
   "execution_count": 35,
   "metadata": {
    "ExecuteTime": {
     "end_time": "2019-03-04T16:48:37.100274Z",
     "start_time": "2019-03-04T16:48:36.969169Z"
    }
   },
   "outputs": [],
   "source": [
    "clean_content_exploded_df.to_csv(os.path.join(DATA_DIR, 'metadata/loved_pages.csv.gz'),\n",
    "                        compression='gzip', index=False)"
   ]
  },
  {
   "cell_type": "code",
   "execution_count": 33,
   "metadata": {
    "ExecuteTime": {
     "end_time": "2019-03-05T10:27:23.232171Z",
     "start_time": "2019-03-05T10:27:23.123219Z"
    }
   },
   "outputs": [
    {
     "data": {
      "text/html": [
       "<div>\n",
       "<style scoped>\n",
       "    .dataframe tbody tr th:only-of-type {\n",
       "        vertical-align: middle;\n",
       "    }\n",
       "\n",
       "    .dataframe tbody tr th {\n",
       "        vertical-align: top;\n",
       "    }\n",
       "\n",
       "    .dataframe thead th {\n",
       "        text-align: right;\n",
       "    }\n",
       "</style>\n",
       "<table border=\"1\" class=\"dataframe\">\n",
       "  <thead>\n",
       "    <tr style=\"text-align: right;\">\n",
       "      <th></th>\n",
       "      <th>base_path</th>\n",
       "      <th>content_id</th>\n",
       "      <th>document_collections</th>\n",
       "      <th>ordered_related_items</th>\n",
       "      <th>part_of_step_navs</th>\n",
       "      <th>primary_publishing_organisation</th>\n",
       "      <th>publishing_app</th>\n",
       "      <th>quick_links</th>\n",
       "      <th>related_guides</th>\n",
       "      <th>related_mainstream_content</th>\n",
       "      <th>related_to_step_navs</th>\n",
       "      <th>slugs</th>\n",
       "      <th>title</th>\n",
       "      <th>slug</th>\n",
       "      <th>pagePath</th>\n",
       "    </tr>\n",
       "    <tr>\n",
       "      <th>document_type</th>\n",
       "      <th></th>\n",
       "      <th></th>\n",
       "      <th></th>\n",
       "      <th></th>\n",
       "      <th></th>\n",
       "      <th></th>\n",
       "      <th></th>\n",
       "      <th></th>\n",
       "      <th></th>\n",
       "      <th></th>\n",
       "      <th></th>\n",
       "      <th></th>\n",
       "      <th></th>\n",
       "      <th></th>\n",
       "      <th></th>\n",
       "    </tr>\n",
       "  </thead>\n",
       "  <tbody>\n",
       "    <tr>\n",
       "      <th>answer</th>\n",
       "      <td>694</td>\n",
       "      <td>694</td>\n",
       "      <td>0</td>\n",
       "      <td>691</td>\n",
       "      <td>29</td>\n",
       "      <td>694</td>\n",
       "      <td>694</td>\n",
       "      <td>0</td>\n",
       "      <td>0</td>\n",
       "      <td>0</td>\n",
       "      <td>16</td>\n",
       "      <td>694</td>\n",
       "      <td>694</td>\n",
       "      <td>694</td>\n",
       "      <td>694</td>\n",
       "    </tr>\n",
       "    <tr>\n",
       "      <th>calendar</th>\n",
       "      <td>2</td>\n",
       "      <td>2</td>\n",
       "      <td>0</td>\n",
       "      <td>2</td>\n",
       "      <td>0</td>\n",
       "      <td>2</td>\n",
       "      <td>2</td>\n",
       "      <td>0</td>\n",
       "      <td>0</td>\n",
       "      <td>0</td>\n",
       "      <td>0</td>\n",
       "      <td>2</td>\n",
       "      <td>2</td>\n",
       "      <td>2</td>\n",
       "      <td>2</td>\n",
       "    </tr>\n",
       "    <tr>\n",
       "      <th>detailed_guide</th>\n",
       "      <td>317</td>\n",
       "      <td>317</td>\n",
       "      <td>122</td>\n",
       "      <td>0</td>\n",
       "      <td>10</td>\n",
       "      <td>317</td>\n",
       "      <td>317</td>\n",
       "      <td>0</td>\n",
       "      <td>141</td>\n",
       "      <td>312</td>\n",
       "      <td>1</td>\n",
       "      <td>317</td>\n",
       "      <td>317</td>\n",
       "      <td>317</td>\n",
       "      <td>317</td>\n",
       "    </tr>\n",
       "    <tr>\n",
       "      <th>form</th>\n",
       "      <td>10</td>\n",
       "      <td>10</td>\n",
       "      <td>7</td>\n",
       "      <td>0</td>\n",
       "      <td>10</td>\n",
       "      <td>10</td>\n",
       "      <td>10</td>\n",
       "      <td>0</td>\n",
       "      <td>0</td>\n",
       "      <td>0</td>\n",
       "      <td>0</td>\n",
       "      <td>10</td>\n",
       "      <td>10</td>\n",
       "      <td>10</td>\n",
       "      <td>10</td>\n",
       "    </tr>\n",
       "    <tr>\n",
       "      <th>guidance</th>\n",
       "      <td>16</td>\n",
       "      <td>16</td>\n",
       "      <td>5</td>\n",
       "      <td>0</td>\n",
       "      <td>16</td>\n",
       "      <td>16</td>\n",
       "      <td>16</td>\n",
       "      <td>0</td>\n",
       "      <td>0</td>\n",
       "      <td>0</td>\n",
       "      <td>0</td>\n",
       "      <td>16</td>\n",
       "      <td>16</td>\n",
       "      <td>16</td>\n",
       "      <td>16</td>\n",
       "    </tr>\n",
       "    <tr>\n",
       "      <th>guide</th>\n",
       "      <td>4436</td>\n",
       "      <td>4436</td>\n",
       "      <td>0</td>\n",
       "      <td>4426</td>\n",
       "      <td>387</td>\n",
       "      <td>4436</td>\n",
       "      <td>4436</td>\n",
       "      <td>0</td>\n",
       "      <td>0</td>\n",
       "      <td>0</td>\n",
       "      <td>198</td>\n",
       "      <td>4436</td>\n",
       "      <td>4436</td>\n",
       "      <td>4436</td>\n",
       "      <td>4436</td>\n",
       "    </tr>\n",
       "    <tr>\n",
       "      <th>licence</th>\n",
       "      <td>60</td>\n",
       "      <td>60</td>\n",
       "      <td>0</td>\n",
       "      <td>60</td>\n",
       "      <td>0</td>\n",
       "      <td>60</td>\n",
       "      <td>60</td>\n",
       "      <td>0</td>\n",
       "      <td>0</td>\n",
       "      <td>0</td>\n",
       "      <td>0</td>\n",
       "      <td>60</td>\n",
       "      <td>60</td>\n",
       "      <td>60</td>\n",
       "      <td>60</td>\n",
       "    </tr>\n",
       "    <tr>\n",
       "      <th>local_transaction</th>\n",
       "      <td>128</td>\n",
       "      <td>128</td>\n",
       "      <td>0</td>\n",
       "      <td>128</td>\n",
       "      <td>6</td>\n",
       "      <td>128</td>\n",
       "      <td>128</td>\n",
       "      <td>0</td>\n",
       "      <td>0</td>\n",
       "      <td>0</td>\n",
       "      <td>1</td>\n",
       "      <td>128</td>\n",
       "      <td>128</td>\n",
       "      <td>128</td>\n",
       "      <td>128</td>\n",
       "    </tr>\n",
       "    <tr>\n",
       "      <th>manual</th>\n",
       "      <td>1</td>\n",
       "      <td>1</td>\n",
       "      <td>0</td>\n",
       "      <td>0</td>\n",
       "      <td>1</td>\n",
       "      <td>1</td>\n",
       "      <td>1</td>\n",
       "      <td>0</td>\n",
       "      <td>0</td>\n",
       "      <td>0</td>\n",
       "      <td>0</td>\n",
       "      <td>1</td>\n",
       "      <td>1</td>\n",
       "      <td>1</td>\n",
       "      <td>1</td>\n",
       "    </tr>\n",
       "    <tr>\n",
       "      <th>place</th>\n",
       "      <td>19</td>\n",
       "      <td>19</td>\n",
       "      <td>0</td>\n",
       "      <td>19</td>\n",
       "      <td>3</td>\n",
       "      <td>19</td>\n",
       "      <td>19</td>\n",
       "      <td>0</td>\n",
       "      <td>0</td>\n",
       "      <td>0</td>\n",
       "      <td>1</td>\n",
       "      <td>19</td>\n",
       "      <td>19</td>\n",
       "      <td>19</td>\n",
       "      <td>19</td>\n",
       "    </tr>\n",
       "    <tr>\n",
       "      <th>simple_smart_answer</th>\n",
       "      <td>25</td>\n",
       "      <td>25</td>\n",
       "      <td>0</td>\n",
       "      <td>24</td>\n",
       "      <td>4</td>\n",
       "      <td>25</td>\n",
       "      <td>25</td>\n",
       "      <td>0</td>\n",
       "      <td>0</td>\n",
       "      <td>0</td>\n",
       "      <td>0</td>\n",
       "      <td>25</td>\n",
       "      <td>25</td>\n",
       "      <td>25</td>\n",
       "      <td>25</td>\n",
       "    </tr>\n",
       "    <tr>\n",
       "      <th>statutory_guidance</th>\n",
       "      <td>1</td>\n",
       "      <td>1</td>\n",
       "      <td>0</td>\n",
       "      <td>0</td>\n",
       "      <td>1</td>\n",
       "      <td>1</td>\n",
       "      <td>1</td>\n",
       "      <td>0</td>\n",
       "      <td>0</td>\n",
       "      <td>0</td>\n",
       "      <td>0</td>\n",
       "      <td>1</td>\n",
       "      <td>1</td>\n",
       "      <td>1</td>\n",
       "      <td>1</td>\n",
       "    </tr>\n",
       "    <tr>\n",
       "      <th>step_by_step_nav</th>\n",
       "      <td>2</td>\n",
       "      <td>2</td>\n",
       "      <td>0</td>\n",
       "      <td>0</td>\n",
       "      <td>2</td>\n",
       "      <td>0</td>\n",
       "      <td>2</td>\n",
       "      <td>0</td>\n",
       "      <td>0</td>\n",
       "      <td>0</td>\n",
       "      <td>0</td>\n",
       "      <td>2</td>\n",
       "      <td>2</td>\n",
       "      <td>2</td>\n",
       "      <td>2</td>\n",
       "    </tr>\n",
       "    <tr>\n",
       "      <th>transaction</th>\n",
       "      <td>266</td>\n",
       "      <td>266</td>\n",
       "      <td>0</td>\n",
       "      <td>264</td>\n",
       "      <td>28</td>\n",
       "      <td>237</td>\n",
       "      <td>266</td>\n",
       "      <td>0</td>\n",
       "      <td>0</td>\n",
       "      <td>0</td>\n",
       "      <td>8</td>\n",
       "      <td>266</td>\n",
       "      <td>266</td>\n",
       "      <td>266</td>\n",
       "      <td>266</td>\n",
       "    </tr>\n",
       "  </tbody>\n",
       "</table>\n",
       "</div>"
      ],
      "text/plain": [
       "                     base_path  content_id  document_collections  \\\n",
       "document_type                                                      \n",
       "answer                     694         694                     0   \n",
       "calendar                     2           2                     0   \n",
       "detailed_guide             317         317                   122   \n",
       "form                        10          10                     7   \n",
       "guidance                    16          16                     5   \n",
       "guide                     4436        4436                     0   \n",
       "licence                     60          60                     0   \n",
       "local_transaction          128         128                     0   \n",
       "manual                       1           1                     0   \n",
       "place                       19          19                     0   \n",
       "simple_smart_answer         25          25                     0   \n",
       "statutory_guidance           1           1                     0   \n",
       "step_by_step_nav             2           2                     0   \n",
       "transaction                266         266                     0   \n",
       "\n",
       "                     ordered_related_items  part_of_step_navs  \\\n",
       "document_type                                                   \n",
       "answer                                 691                 29   \n",
       "calendar                                 2                  0   \n",
       "detailed_guide                           0                 10   \n",
       "form                                     0                 10   \n",
       "guidance                                 0                 16   \n",
       "guide                                 4426                387   \n",
       "licence                                 60                  0   \n",
       "local_transaction                      128                  6   \n",
       "manual                                   0                  1   \n",
       "place                                   19                  3   \n",
       "simple_smart_answer                     24                  4   \n",
       "statutory_guidance                       0                  1   \n",
       "step_by_step_nav                         0                  2   \n",
       "transaction                            264                 28   \n",
       "\n",
       "                     primary_publishing_organisation  publishing_app  \\\n",
       "document_type                                                          \n",
       "answer                                           694             694   \n",
       "calendar                                           2               2   \n",
       "detailed_guide                                   317             317   \n",
       "form                                              10              10   \n",
       "guidance                                          16              16   \n",
       "guide                                           4436            4436   \n",
       "licence                                           60              60   \n",
       "local_transaction                                128             128   \n",
       "manual                                             1               1   \n",
       "place                                             19              19   \n",
       "simple_smart_answer                               25              25   \n",
       "statutory_guidance                                 1               1   \n",
       "step_by_step_nav                                   0               2   \n",
       "transaction                                      237             266   \n",
       "\n",
       "                     quick_links  related_guides  related_mainstream_content  \\\n",
       "document_type                                                                  \n",
       "answer                         0               0                           0   \n",
       "calendar                       0               0                           0   \n",
       "detailed_guide                 0             141                         312   \n",
       "form                           0               0                           0   \n",
       "guidance                       0               0                           0   \n",
       "guide                          0               0                           0   \n",
       "licence                        0               0                           0   \n",
       "local_transaction              0               0                           0   \n",
       "manual                         0               0                           0   \n",
       "place                          0               0                           0   \n",
       "simple_smart_answer            0               0                           0   \n",
       "statutory_guidance             0               0                           0   \n",
       "step_by_step_nav               0               0                           0   \n",
       "transaction                    0               0                           0   \n",
       "\n",
       "                     related_to_step_navs  slugs  title  slug  pagePath  \n",
       "document_type                                                            \n",
       "answer                                 16    694    694   694       694  \n",
       "calendar                                0      2      2     2         2  \n",
       "detailed_guide                          1    317    317   317       317  \n",
       "form                                    0     10     10    10        10  \n",
       "guidance                                0     16     16    16        16  \n",
       "guide                                 198   4436   4436  4436      4436  \n",
       "licence                                 0     60     60    60        60  \n",
       "local_transaction                       1    128    128   128       128  \n",
       "manual                                  0      1      1     1         1  \n",
       "place                                   1     19     19    19        19  \n",
       "simple_smart_answer                     0     25     25    25        25  \n",
       "statutory_guidance                      0      1      1     1         1  \n",
       "step_by_step_nav                        0      2      2     2         2  \n",
       "transaction                             8    266    266   266       266  "
      ]
     },
     "execution_count": 33,
     "metadata": {},
     "output_type": "execute_result"
    }
   ],
   "source": [
    "clean_content_exploded_df.groupby('document_type').count()"
   ]
  },
  {
   "cell_type": "code",
   "execution_count": 34,
   "metadata": {
    "ExecuteTime": {
     "end_time": "2019-03-05T11:35:25.388279Z",
     "start_time": "2019-03-05T11:35:25.364954Z"
    }
   },
   "outputs": [],
   "source": [
    "clean_content_exploded_df[\n",
    "    clean_content_exploded_df['document_type'] == 'simple_smart_answer'].to_csv(os.path.join(DATA_DIR, 'metadata/loved_smart_answers.csv.gz'),\n",
    "                        compression='gzip', index=False)"
   ]
  },
  {
   "cell_type": "code",
   "execution_count": 36,
   "metadata": {
    "ExecuteTime": {
     "end_time": "2019-03-05T13:38:52.842680Z",
     "start_time": "2019-03-05T13:38:52.813137Z"
    }
   },
   "outputs": [
    {
     "data": {
      "text/html": [
       "<div>\n",
       "<style scoped>\n",
       "    .dataframe tbody tr th:only-of-type {\n",
       "        vertical-align: middle;\n",
       "    }\n",
       "\n",
       "    .dataframe tbody tr th {\n",
       "        vertical-align: top;\n",
       "    }\n",
       "\n",
       "    .dataframe thead th {\n",
       "        text-align: right;\n",
       "    }\n",
       "</style>\n",
       "<table border=\"1\" class=\"dataframe\">\n",
       "  <thead>\n",
       "    <tr style=\"text-align: right;\">\n",
       "      <th></th>\n",
       "      <th>base_path</th>\n",
       "      <th>content_id</th>\n",
       "      <th>document_type</th>\n",
       "      <th>primary_publishing_organisation</th>\n",
       "      <th>publishing_app</th>\n",
       "      <th>title</th>\n",
       "      <th>ordered_related_items</th>\n",
       "      <th>quick_links</th>\n",
       "      <th>related_mainstream_content</th>\n",
       "      <th>related_guides</th>\n",
       "      <th>document_collections</th>\n",
       "      <th>part_of_step_navs</th>\n",
       "      <th>related_to_step_navs</th>\n",
       "      <th>slugs</th>\n",
       "    </tr>\n",
       "  </thead>\n",
       "  <tbody>\n",
       "    <tr>\n",
       "      <th>64327</th>\n",
       "      <td>/government/statistics/primary-school-performa...</td>\n",
       "      <td>bb4c660d-3f60-476a-8378-2c1af2e548d1</td>\n",
       "      <td>national_statistics</td>\n",
       "      <td>Department for Education</td>\n",
       "      <td>whitehall</td>\n",
       "      <td>primary school performance tables: 2018</td>\n",
       "      <td>NaN</td>\n",
       "      <td>NaN</td>\n",
       "      <td>NaN</td>\n",
       "      <td>NaN</td>\n",
       "      <td>['5efbd793-7631-11e4-a3cb-005056011aef', '5eb7...</td>\n",
       "      <td>NaN</td>\n",
       "      <td>NaN</td>\n",
       "      <td>NaN</td>\n",
       "    </tr>\n",
       "  </tbody>\n",
       "</table>\n",
       "</div>"
      ],
      "text/plain": [
       "                                               base_path  \\\n",
       "64327  /government/statistics/primary-school-performa...   \n",
       "\n",
       "                                 content_id        document_type  \\\n",
       "64327  bb4c660d-3f60-476a-8378-2c1af2e548d1  national_statistics   \n",
       "\n",
       "      primary_publishing_organisation publishing_app  \\\n",
       "64327        Department for Education      whitehall   \n",
       "\n",
       "                                         title ordered_related_items  \\\n",
       "64327  primary school performance tables: 2018                   NaN   \n",
       "\n",
       "       quick_links related_mainstream_content related_guides  \\\n",
       "64327          NaN                        NaN            NaN   \n",
       "\n",
       "                                    document_collections part_of_step_navs  \\\n",
       "64327  ['5efbd793-7631-11e4-a3cb-005056011aef', '5eb7...               NaN   \n",
       "\n",
       "      related_to_step_navs slugs  \n",
       "64327                  NaN   NaN  "
      ]
     },
     "execution_count": 36,
     "metadata": {},
     "output_type": "execute_result"
    }
   ],
   "source": [
    "clean_content_df[clean_content_df['content_id'] == 'bb4c660d-3f60-476a-8378-2c1af2e548d1']"
   ]
  },
  {
   "cell_type": "code",
   "execution_count": null,
   "metadata": {},
   "outputs": [],
   "source": []
  }
 ],
 "metadata": {
  "kernelspec": {
   "display_name": "Python 3",
   "language": "python",
   "name": "python3"
  },
  "language_info": {
   "codemirror_mode": {
    "name": "ipython",
    "version": 3
   },
   "file_extension": ".py",
   "mimetype": "text/x-python",
   "name": "python",
   "nbconvert_exporter": "python",
   "pygments_lexer": "ipython3",
   "version": "3.7.0"
  },
  "toc": {
   "base_numbering": 1,
   "nav_menu": {},
   "number_sections": true,
   "sideBar": true,
   "skip_h1_title": false,
   "title_cell": "Table of Contents",
   "title_sidebar": "Contents",
   "toc_cell": false,
   "toc_position": {},
   "toc_section_display": true,
   "toc_window_display": false
  }
 },
 "nbformat": 4,
 "nbformat_minor": 2
}
