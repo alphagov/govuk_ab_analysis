{
 "cells": [
  {
   "cell_type": "code",
   "execution_count": 1,
   "metadata": {
    "ExecuteTime": {
     "end_time": "2019-03-04T16:08:57.152267Z",
     "start_time": "2019-03-04T16:08:55.032360Z"
    }
   },
   "outputs": [],
   "source": [
    "import os \n",
    "import pandas as pd\n",
    "\n",
    "import ast\n",
    "\n",
    "from tqdm import tqdm, tqdm_notebook\n",
    "tqdm.pandas(tqdm_notebook)"
   ]
  },
  {
   "cell_type": "code",
   "execution_count": 2,
   "metadata": {
    "ExecuteTime": {
     "end_time": "2019-03-04T16:08:59.018804Z",
     "start_time": "2019-03-04T16:08:57.783061Z"
    }
   },
   "outputs": [],
   "source": [
    "clean_content_df = pd.read_csv(\n",
    "    '/Users/suganyasivaskantharajah/code/govuk-taxonomy-supervised-learning/data/clean_content_links.csv')"
   ]
  },
  {
   "cell_type": "code",
   "execution_count": 3,
   "metadata": {
    "ExecuteTime": {
     "end_time": "2019-03-04T16:08:59.942530Z",
     "start_time": "2019-03-04T16:08:59.931594Z"
    }
   },
   "outputs": [
    {
     "data": {
      "text/plain": [
       "(236590, 14)"
      ]
     },
     "execution_count": 3,
     "metadata": {},
     "output_type": "execute_result"
    }
   ],
   "source": [
    "clean_content_df.shape"
   ]
  },
  {
   "cell_type": "code",
   "execution_count": 4,
   "metadata": {
    "ExecuteTime": {
     "end_time": "2019-03-04T16:09:03.454093Z",
     "start_time": "2019-03-04T16:09:03.431712Z"
    }
   },
   "outputs": [
    {
     "data": {
      "text/html": [
       "<div>\n",
       "<style scoped>\n",
       "    .dataframe tbody tr th:only-of-type {\n",
       "        vertical-align: middle;\n",
       "    }\n",
       "\n",
       "    .dataframe tbody tr th {\n",
       "        vertical-align: top;\n",
       "    }\n",
       "\n",
       "    .dataframe thead th {\n",
       "        text-align: right;\n",
       "    }\n",
       "</style>\n",
       "<table border=\"1\" class=\"dataframe\">\n",
       "  <thead>\n",
       "    <tr style=\"text-align: right;\">\n",
       "      <th></th>\n",
       "      <th>base_path</th>\n",
       "      <th>content_id</th>\n",
       "      <th>document_type</th>\n",
       "      <th>primary_publishing_organisation</th>\n",
       "      <th>publishing_app</th>\n",
       "      <th>title</th>\n",
       "      <th>ordered_related_items</th>\n",
       "      <th>quick_links</th>\n",
       "      <th>related_mainstream_content</th>\n",
       "      <th>related_guides</th>\n",
       "      <th>document_collections</th>\n",
       "      <th>part_of_step_navs</th>\n",
       "      <th>related_to_step_navs</th>\n",
       "      <th>slugs</th>\n",
       "    </tr>\n",
       "  </thead>\n",
       "  <tbody>\n",
       "    <tr>\n",
       "      <th>0</th>\n",
       "      <td>/government/publications/list-of-psychologists...</td>\n",
       "      <td>04a0cc0d-0b9f-45ad-bf57-7c54cbab9df9</td>\n",
       "      <td>guidance</td>\n",
       "      <td>Foreign &amp; Commonwealth Office</td>\n",
       "      <td>whitehall</td>\n",
       "      <td>chile - list of psychologists and psychiatrist...</td>\n",
       "      <td>NaN</td>\n",
       "      <td>NaN</td>\n",
       "      <td>NaN</td>\n",
       "      <td>NaN</td>\n",
       "      <td>NaN</td>\n",
       "      <td>NaN</td>\n",
       "      <td>NaN</td>\n",
       "      <td>NaN</td>\n",
       "    </tr>\n",
       "    <tr>\n",
       "      <th>1</th>\n",
       "      <td>/government/statistics/uk-labour-market-statis...</td>\n",
       "      <td>a61985b0-d6eb-4cf1-8140-642b9557ce00</td>\n",
       "      <td>national_statistics</td>\n",
       "      <td>Office for National Statistics</td>\n",
       "      <td>whitehall</td>\n",
       "      <td>uk labour market statistics: may 2017</td>\n",
       "      <td>NaN</td>\n",
       "      <td>NaN</td>\n",
       "      <td>NaN</td>\n",
       "      <td>NaN</td>\n",
       "      <td>NaN</td>\n",
       "      <td>NaN</td>\n",
       "      <td>NaN</td>\n",
       "      <td>NaN</td>\n",
       "    </tr>\n",
       "    <tr>\n",
       "      <th>2</th>\n",
       "      <td>/government/publications/monitor-remuneration-...</td>\n",
       "      <td>d569ef4b-d632-49a0-9795-6a7ea934b799</td>\n",
       "      <td>transparency</td>\n",
       "      <td>Monitor</td>\n",
       "      <td>whitehall</td>\n",
       "      <td>monitor: remuneration committee papers october...</td>\n",
       "      <td>NaN</td>\n",
       "      <td>NaN</td>\n",
       "      <td>NaN</td>\n",
       "      <td>NaN</td>\n",
       "      <td>['5f4c7b0f-7631-11e4-a3cb-005056011aef']</td>\n",
       "      <td>NaN</td>\n",
       "      <td>NaN</td>\n",
       "      <td>NaN</td>\n",
       "    </tr>\n",
       "    <tr>\n",
       "      <th>3</th>\n",
       "      <td>/government/statistical-data-sets/env26-expend...</td>\n",
       "      <td>5e0fee54-7631-11e4-a3cb-005056011aef</td>\n",
       "      <td>statistical_data_set</td>\n",
       "      <td>Department for Environment, Food &amp; Rural Affairs</td>\n",
       "      <td>whitehall</td>\n",
       "      <td>env26 - expenditure on biodiversity</td>\n",
       "      <td>NaN</td>\n",
       "      <td>NaN</td>\n",
       "      <td>NaN</td>\n",
       "      <td>NaN</td>\n",
       "      <td>['5eb6d242-7631-11e4-a3cb-005056011aef']</td>\n",
       "      <td>NaN</td>\n",
       "      <td>NaN</td>\n",
       "      <td>NaN</td>\n",
       "    </tr>\n",
       "    <tr>\n",
       "      <th>4</th>\n",
       "      <td>/government/publications/hmg-spending-moratori...</td>\n",
       "      <td>581cabaf-2ed1-4411-8d1b-35b1bcb559b5</td>\n",
       "      <td>transparency</td>\n",
       "      <td>Department for International Development</td>\n",
       "      <td>whitehall</td>\n",
       "      <td>hmg spending moratoria: dfid ict january to ma...</td>\n",
       "      <td>NaN</td>\n",
       "      <td>NaN</td>\n",
       "      <td>NaN</td>\n",
       "      <td>NaN</td>\n",
       "      <td>['5eb71ddb-7631-11e4-a3cb-005056011aef']</td>\n",
       "      <td>NaN</td>\n",
       "      <td>NaN</td>\n",
       "      <td>NaN</td>\n",
       "    </tr>\n",
       "  </tbody>\n",
       "</table>\n",
       "</div>"
      ],
      "text/plain": [
       "                                           base_path  \\\n",
       "0  /government/publications/list-of-psychologists...   \n",
       "1  /government/statistics/uk-labour-market-statis...   \n",
       "2  /government/publications/monitor-remuneration-...   \n",
       "3  /government/statistical-data-sets/env26-expend...   \n",
       "4  /government/publications/hmg-spending-moratori...   \n",
       "\n",
       "                             content_id         document_type  \\\n",
       "0  04a0cc0d-0b9f-45ad-bf57-7c54cbab9df9              guidance   \n",
       "1  a61985b0-d6eb-4cf1-8140-642b9557ce00   national_statistics   \n",
       "2  d569ef4b-d632-49a0-9795-6a7ea934b799          transparency   \n",
       "3  5e0fee54-7631-11e4-a3cb-005056011aef  statistical_data_set   \n",
       "4  581cabaf-2ed1-4411-8d1b-35b1bcb559b5          transparency   \n",
       "\n",
       "                    primary_publishing_organisation publishing_app  \\\n",
       "0                     Foreign & Commonwealth Office      whitehall   \n",
       "1                    Office for National Statistics      whitehall   \n",
       "2                                           Monitor      whitehall   \n",
       "3  Department for Environment, Food & Rural Affairs      whitehall   \n",
       "4          Department for International Development      whitehall   \n",
       "\n",
       "                                               title ordered_related_items  \\\n",
       "0  chile - list of psychologists and psychiatrist...                   NaN   \n",
       "1              uk labour market statistics: may 2017                   NaN   \n",
       "2  monitor: remuneration committee papers october...                   NaN   \n",
       "3                env26 - expenditure on biodiversity                   NaN   \n",
       "4  hmg spending moratoria: dfid ict january to ma...                   NaN   \n",
       "\n",
       "   quick_links related_mainstream_content related_guides  \\\n",
       "0          NaN                        NaN            NaN   \n",
       "1          NaN                        NaN            NaN   \n",
       "2          NaN                        NaN            NaN   \n",
       "3          NaN                        NaN            NaN   \n",
       "4          NaN                        NaN            NaN   \n",
       "\n",
       "                       document_collections part_of_step_navs  \\\n",
       "0                                       NaN               NaN   \n",
       "1                                       NaN               NaN   \n",
       "2  ['5f4c7b0f-7631-11e4-a3cb-005056011aef']               NaN   \n",
       "3  ['5eb6d242-7631-11e4-a3cb-005056011aef']               NaN   \n",
       "4  ['5eb71ddb-7631-11e4-a3cb-005056011aef']               NaN   \n",
       "\n",
       "  related_to_step_navs slugs  \n",
       "0                  NaN   NaN  \n",
       "1                  NaN   NaN  \n",
       "2                  NaN   NaN  \n",
       "3                  NaN   NaN  \n",
       "4                  NaN   NaN  "
      ]
     },
     "execution_count": 4,
     "metadata": {},
     "output_type": "execute_result"
    }
   ],
   "source": [
    "clean_content_df.head()"
   ]
  },
  {
   "cell_type": "code",
   "execution_count": 5,
   "metadata": {
    "ExecuteTime": {
     "end_time": "2019-03-04T16:09:04.767186Z",
     "start_time": "2019-03-04T16:09:04.607470Z"
    }
   },
   "outputs": [
    {
     "data": {
      "text/plain": [
       "base_path                          236590\n",
       "content_id                         236590\n",
       "document_type                      236590\n",
       "primary_publishing_organisation    223219\n",
       "publishing_app                     236590\n",
       "title                              236590\n",
       "ordered_related_items                1935\n",
       "quick_links                             0\n",
       "related_mainstream_content            312\n",
       "related_guides                       1086\n",
       "document_collections                52778\n",
       "part_of_step_navs                     170\n",
       "related_to_step_navs                   69\n",
       "slugs                                 775\n",
       "dtype: int64"
      ]
     },
     "execution_count": 5,
     "metadata": {},
     "output_type": "execute_result"
    }
   ],
   "source": [
    "clean_content_df.count()"
   ]
  },
  {
   "cell_type": "code",
   "execution_count": 6,
   "metadata": {
    "ExecuteTime": {
     "end_time": "2019-03-04T16:09:05.630884Z",
     "start_time": "2019-03-04T16:09:05.581969Z"
    }
   },
   "outputs": [
    {
     "data": {
      "text/plain": [
       "base_path                          2290\n",
       "content_id                         2290\n",
       "document_type                      2290\n",
       "primary_publishing_organisation    2259\n",
       "publishing_app                     2290\n",
       "title                              2290\n",
       "ordered_related_items              1935\n",
       "quick_links                           0\n",
       "related_mainstream_content          312\n",
       "related_guides                      141\n",
       "document_collections                134\n",
       "part_of_step_navs                   170\n",
       "related_to_step_navs                 57\n",
       "slugs                               749\n",
       "dtype: int64"
      ]
     },
     "execution_count": 6,
     "metadata": {},
     "output_type": "execute_result"
    }
   ],
   "source": [
    "clean_content_df[\n",
    "    clean_content_df['related_mainstream_content'].notnull() |\n",
    "    clean_content_df['ordered_related_items'].notnull() |\n",
    "    clean_content_df['part_of_step_navs']].count()"
   ]
  },
  {
   "cell_type": "code",
   "execution_count": 10,
   "metadata": {
    "ExecuteTime": {
     "end_time": "2019-03-04T16:12:55.637330Z",
     "start_time": "2019-03-04T16:12:55.598791Z"
    }
   },
   "outputs": [],
   "source": [
    "# only select rows that have related links (they have \n",
    "# related_mainstream_content, ordered_related_items, or quick_links)\n",
    "clean_content_df.query(\n",
    "    'related_mainstream_content.notnull() or ordered_related_items.notnull()or part_of_step_navs.notnull() or quick_links.notnull()'\n",
    "    , inplace=True)"
   ]
  },
  {
   "cell_type": "code",
   "execution_count": 11,
   "metadata": {
    "ExecuteTime": {
     "end_time": "2019-03-04T16:12:58.947951Z",
     "start_time": "2019-03-04T16:12:58.943743Z"
    }
   },
   "outputs": [
    {
     "data": {
      "text/plain": [
       "(2290, 14)"
      ]
     },
     "execution_count": 11,
     "metadata": {},
     "output_type": "execute_result"
    }
   ],
   "source": [
    "clean_content_df.shape"
   ]
  },
  {
   "cell_type": "code",
   "execution_count": 12,
   "metadata": {
    "ExecuteTime": {
     "end_time": "2019-03-04T16:13:02.953916Z",
     "start_time": "2019-03-04T16:13:02.920185Z"
    }
   },
   "outputs": [],
   "source": [
    "# fill NaNs with empty arrays, and then literal_eval all the arrays so we can\n",
    "# access the items within them (the different slugs associated with each\n",
    "# content ID)\n",
    "clean_content_df['slugs'] = clean_content_df['slugs'].fillna(\"['']\").apply(\n",
    "    ast.literal_eval)"
   ]
  },
  {
   "cell_type": "code",
   "execution_count": 13,
   "metadata": {
    "ExecuteTime": {
     "end_time": "2019-03-04T16:13:04.922742Z",
     "start_time": "2019-03-04T16:13:04.919467Z"
    }
   },
   "outputs": [],
   "source": [
    "clean_content_df.reset_index(inplace=True, drop=True)"
   ]
  },
  {
   "cell_type": "code",
   "execution_count": 14,
   "metadata": {
    "ExecuteTime": {
     "end_time": "2019-03-04T16:13:05.950843Z",
     "start_time": "2019-03-04T16:13:05.944040Z"
    }
   },
   "outputs": [
    {
     "data": {
      "text/plain": [
       "0                                                   []\n",
       "1    [overview, rules-for-class-3-invalid-carriages...\n",
       "2    [overview, what-you-can-get, eligibility, how-...\n",
       "3                                                   []\n",
       "4    [overview, how-it-works, calculating-dea, what...\n",
       "Name: slugs, dtype: object"
      ]
     },
     "execution_count": 14,
     "metadata": {},
     "output_type": "execute_result"
    }
   ],
   "source": [
    "clean_content_df['slugs'].head()"
   ]
  },
  {
   "cell_type": "code",
   "execution_count": 15,
   "metadata": {
    "ExecuteTime": {
     "end_time": "2019-03-04T16:13:07.524526Z",
     "start_time": "2019-03-04T16:13:07.519394Z"
    }
   },
   "outputs": [
    {
     "data": {
      "text/plain": [
       "['']"
      ]
     },
     "execution_count": 15,
     "metadata": {},
     "output_type": "execute_result"
    }
   ],
   "source": [
    "clean_content_df['slugs'][0]"
   ]
  },
  {
   "cell_type": "code",
   "execution_count": 16,
   "metadata": {
    "ExecuteTime": {
     "end_time": "2019-03-04T16:13:07.971360Z",
     "start_time": "2019-03-04T16:13:07.966799Z"
    }
   },
   "outputs": [
    {
     "data": {
      "text/plain": [
       "['overview',\n",
       " 'rules-for-class-3-invalid-carriages',\n",
       " 'driving-on-the-road',\n",
       " 'driving-on-footpaths-and-parking',\n",
       " 'eyesight-requirements',\n",
       " 'use-by-nondisabled-people',\n",
       " 'vehicle-tax-registration-and-insurance']"
      ]
     },
     "execution_count": 16,
     "metadata": {},
     "output_type": "execute_result"
    }
   ],
   "source": [
    "clean_content_df['slugs'][1]"
   ]
  },
  {
   "cell_type": "code",
   "execution_count": 17,
   "metadata": {
    "ExecuteTime": {
     "end_time": "2019-03-04T16:13:10.171625Z",
     "start_time": "2019-03-04T16:13:10.168645Z"
    }
   },
   "outputs": [],
   "source": [
    "# sometimes there isn't an empty slug in the list of slugs, but the page path\n",
    "# exists, so this is a little hack to includ the plain basePath\n",
    "def add_dummy_slug(slugs):\n",
    "    list1 = ['']\n",
    "    list1.extend(slugs)\n",
    "    return list(set(list1))"
   ]
  },
  {
   "cell_type": "code",
   "execution_count": 18,
   "metadata": {
    "ExecuteTime": {
     "end_time": "2019-03-04T16:13:10.599458Z",
     "start_time": "2019-03-04T16:13:10.594789Z"
    }
   },
   "outputs": [
    {
     "data": {
      "text/plain": [
       "['']"
      ]
     },
     "execution_count": 18,
     "metadata": {},
     "output_type": "execute_result"
    }
   ],
   "source": [
    "add_dummy_slug(clean_content_df['slugs'][0])"
   ]
  },
  {
   "cell_type": "code",
   "execution_count": 19,
   "metadata": {
    "ExecuteTime": {
     "end_time": "2019-03-04T16:13:11.251244Z",
     "start_time": "2019-03-04T16:13:11.244310Z"
    }
   },
   "outputs": [],
   "source": [
    "clean_content_df['slugs'] = clean_content_df['slugs'].apply(add_dummy_slug)"
   ]
  },
  {
   "cell_type": "code",
   "execution_count": 20,
   "metadata": {
    "ExecuteTime": {
     "end_time": "2019-03-04T16:13:12.149772Z",
     "start_time": "2019-03-04T16:13:12.144574Z"
    }
   },
   "outputs": [],
   "source": [
    "# adapted from https://gist.github.com/jlln/338b4b0b55bd6984f883\n",
    "def splitDataFrameList(df,target_column):\n",
    "    '''\n",
    "    df = dataframe to split,\n",
    "    target_column = the column containing the values to split, in an array\n",
    "    returns: a dataframe with each entry for the target column separated,\n",
    "        with each element moved into a new row. The values in the other\n",
    "        columns are duplicated across the newly divided rows.\n",
    "    '''\n",
    "    def splitListToRows(row,row_accumulator,target_column):\n",
    "        for s in row[target_column]:\n",
    "            new_row = row.to_dict()\n",
    "            new_row[target_column] = s\n",
    "            row_accumulator.append(new_row)\n",
    "    new_rows = []\n",
    "    df.apply(splitListToRows,axis=1,args = (new_rows,target_column))\n",
    "    new_df = pd.DataFrame(new_rows)\n",
    "    return new_df"
   ]
  },
  {
   "cell_type": "code",
   "execution_count": 21,
   "metadata": {
    "ExecuteTime": {
     "end_time": "2019-03-04T16:13:13.352494Z",
     "start_time": "2019-03-04T16:13:13.094819Z"
    }
   },
   "outputs": [],
   "source": [
    "clean_content_exploded_df = splitDataFrameList(\n",
    "    clean_content_df, 'slugs')"
   ]
  },
  {
   "cell_type": "code",
   "execution_count": 22,
   "metadata": {
    "ExecuteTime": {
     "end_time": "2019-03-04T16:13:13.897719Z",
     "start_time": "2019-03-04T16:13:13.894423Z"
    }
   },
   "outputs": [],
   "source": [
    "def overview_to_nothing(slug):\n",
    "    if slug == '':\n",
    "        return ''\n",
    "    elif slug == 'overview':\n",
    "        return ''\n",
    "    else:\n",
    "        return '/' + slug"
   ]
  },
  {
   "cell_type": "code",
   "execution_count": 23,
   "metadata": {
    "ExecuteTime": {
     "end_time": "2019-03-04T16:13:14.450255Z",
     "start_time": "2019-03-04T16:13:14.444566Z"
    }
   },
   "outputs": [],
   "source": [
    "clean_content_exploded_df['slug'] = clean_content_exploded_df['slugs'].map(\n",
    "    overview_to_nothing)"
   ]
  },
  {
   "cell_type": "code",
   "execution_count": 24,
   "metadata": {
    "ExecuteTime": {
     "end_time": "2019-03-04T16:13:15.103071Z",
     "start_time": "2019-03-04T16:13:15.094796Z"
    }
   },
   "outputs": [],
   "source": [
    "clean_content_exploded_df['pagePath'] = clean_content_exploded_df['base_path']  + clean_content_exploded_df['slug']\n"
   ]
  },
  {
   "cell_type": "code",
   "execution_count": 25,
   "metadata": {
    "ExecuteTime": {
     "end_time": "2019-03-04T16:13:15.614298Z",
     "start_time": "2019-03-04T16:13:15.594369Z"
    }
   },
   "outputs": [
    {
     "data": {
      "text/html": [
       "<div>\n",
       "<style scoped>\n",
       "    .dataframe tbody tr th:only-of-type {\n",
       "        vertical-align: middle;\n",
       "    }\n",
       "\n",
       "    .dataframe tbody tr th {\n",
       "        vertical-align: top;\n",
       "    }\n",
       "\n",
       "    .dataframe thead th {\n",
       "        text-align: right;\n",
       "    }\n",
       "</style>\n",
       "<table border=\"1\" class=\"dataframe\">\n",
       "  <thead>\n",
       "    <tr style=\"text-align: right;\">\n",
       "      <th></th>\n",
       "      <th>base_path</th>\n",
       "      <th>content_id</th>\n",
       "      <th>document_collections</th>\n",
       "      <th>document_type</th>\n",
       "      <th>ordered_related_items</th>\n",
       "      <th>part_of_step_navs</th>\n",
       "      <th>primary_publishing_organisation</th>\n",
       "      <th>publishing_app</th>\n",
       "      <th>quick_links</th>\n",
       "      <th>related_guides</th>\n",
       "      <th>related_mainstream_content</th>\n",
       "      <th>related_to_step_navs</th>\n",
       "      <th>slugs</th>\n",
       "      <th>title</th>\n",
       "      <th>slug</th>\n",
       "      <th>pagePath</th>\n",
       "    </tr>\n",
       "  </thead>\n",
       "  <tbody>\n",
       "    <tr>\n",
       "      <th>0</th>\n",
       "      <td>/company-voluntary-arrangements</td>\n",
       "      <td>6fafa451-96b4-4d38-a97d-5261c8a62dd9</td>\n",
       "      <td>NaN</td>\n",
       "      <td>answer</td>\n",
       "      <td>['86e9a768-4162-4d75-9744-f92f56f461ae', 'a0c7...</td>\n",
       "      <td>NaN</td>\n",
       "      <td>Government Digital Service</td>\n",
       "      <td>publisher</td>\n",
       "      <td>NaN</td>\n",
       "      <td>NaN</td>\n",
       "      <td>NaN</td>\n",
       "      <td>NaN</td>\n",
       "      <td></td>\n",
       "      <td>company voluntary arrangements</td>\n",
       "      <td></td>\n",
       "      <td>/company-voluntary-arrangements</td>\n",
       "    </tr>\n",
       "    <tr>\n",
       "      <th>1</th>\n",
       "      <td>/mobility-scooters-and-powered-wheelchairs-rules</td>\n",
       "      <td>b3202d1a-f26d-49a2-8f2b-0c7923ba410d</td>\n",
       "      <td>NaN</td>\n",
       "      <td>guide</td>\n",
       "      <td>['fa748fae-3de4-4266-ae85-0797ada3f40c', '2157...</td>\n",
       "      <td>NaN</td>\n",
       "      <td>Government Digital Service</td>\n",
       "      <td>publisher</td>\n",
       "      <td>NaN</td>\n",
       "      <td>NaN</td>\n",
       "      <td>NaN</td>\n",
       "      <td>NaN</td>\n",
       "      <td></td>\n",
       "      <td>mobility scooters and powered wheelchairs: the...</td>\n",
       "      <td></td>\n",
       "      <td>/mobility-scooters-and-powered-wheelchairs-rules</td>\n",
       "    </tr>\n",
       "    <tr>\n",
       "      <th>2</th>\n",
       "      <td>/mobility-scooters-and-powered-wheelchairs-rules</td>\n",
       "      <td>b3202d1a-f26d-49a2-8f2b-0c7923ba410d</td>\n",
       "      <td>NaN</td>\n",
       "      <td>guide</td>\n",
       "      <td>['fa748fae-3de4-4266-ae85-0797ada3f40c', '2157...</td>\n",
       "      <td>NaN</td>\n",
       "      <td>Government Digital Service</td>\n",
       "      <td>publisher</td>\n",
       "      <td>NaN</td>\n",
       "      <td>NaN</td>\n",
       "      <td>NaN</td>\n",
       "      <td>NaN</td>\n",
       "      <td>overview</td>\n",
       "      <td>mobility scooters and powered wheelchairs: the...</td>\n",
       "      <td></td>\n",
       "      <td>/mobility-scooters-and-powered-wheelchairs-rules</td>\n",
       "    </tr>\n",
       "    <tr>\n",
       "      <th>3</th>\n",
       "      <td>/mobility-scooters-and-powered-wheelchairs-rules</td>\n",
       "      <td>b3202d1a-f26d-49a2-8f2b-0c7923ba410d</td>\n",
       "      <td>NaN</td>\n",
       "      <td>guide</td>\n",
       "      <td>['fa748fae-3de4-4266-ae85-0797ada3f40c', '2157...</td>\n",
       "      <td>NaN</td>\n",
       "      <td>Government Digital Service</td>\n",
       "      <td>publisher</td>\n",
       "      <td>NaN</td>\n",
       "      <td>NaN</td>\n",
       "      <td>NaN</td>\n",
       "      <td>NaN</td>\n",
       "      <td>rules-for-class-3-invalid-carriages</td>\n",
       "      <td>mobility scooters and powered wheelchairs: the...</td>\n",
       "      <td>/rules-for-class-3-invalid-carriages</td>\n",
       "      <td>/mobility-scooters-and-powered-wheelchairs-rul...</td>\n",
       "    </tr>\n",
       "    <tr>\n",
       "      <th>4</th>\n",
       "      <td>/mobility-scooters-and-powered-wheelchairs-rules</td>\n",
       "      <td>b3202d1a-f26d-49a2-8f2b-0c7923ba410d</td>\n",
       "      <td>NaN</td>\n",
       "      <td>guide</td>\n",
       "      <td>['fa748fae-3de4-4266-ae85-0797ada3f40c', '2157...</td>\n",
       "      <td>NaN</td>\n",
       "      <td>Government Digital Service</td>\n",
       "      <td>publisher</td>\n",
       "      <td>NaN</td>\n",
       "      <td>NaN</td>\n",
       "      <td>NaN</td>\n",
       "      <td>NaN</td>\n",
       "      <td>eyesight-requirements</td>\n",
       "      <td>mobility scooters and powered wheelchairs: the...</td>\n",
       "      <td>/eyesight-requirements</td>\n",
       "      <td>/mobility-scooters-and-powered-wheelchairs-rul...</td>\n",
       "    </tr>\n",
       "  </tbody>\n",
       "</table>\n",
       "</div>"
      ],
      "text/plain": [
       "                                          base_path  \\\n",
       "0                   /company-voluntary-arrangements   \n",
       "1  /mobility-scooters-and-powered-wheelchairs-rules   \n",
       "2  /mobility-scooters-and-powered-wheelchairs-rules   \n",
       "3  /mobility-scooters-and-powered-wheelchairs-rules   \n",
       "4  /mobility-scooters-and-powered-wheelchairs-rules   \n",
       "\n",
       "                             content_id document_collections document_type  \\\n",
       "0  6fafa451-96b4-4d38-a97d-5261c8a62dd9                  NaN        answer   \n",
       "1  b3202d1a-f26d-49a2-8f2b-0c7923ba410d                  NaN         guide   \n",
       "2  b3202d1a-f26d-49a2-8f2b-0c7923ba410d                  NaN         guide   \n",
       "3  b3202d1a-f26d-49a2-8f2b-0c7923ba410d                  NaN         guide   \n",
       "4  b3202d1a-f26d-49a2-8f2b-0c7923ba410d                  NaN         guide   \n",
       "\n",
       "                               ordered_related_items part_of_step_navs  \\\n",
       "0  ['86e9a768-4162-4d75-9744-f92f56f461ae', 'a0c7...               NaN   \n",
       "1  ['fa748fae-3de4-4266-ae85-0797ada3f40c', '2157...               NaN   \n",
       "2  ['fa748fae-3de4-4266-ae85-0797ada3f40c', '2157...               NaN   \n",
       "3  ['fa748fae-3de4-4266-ae85-0797ada3f40c', '2157...               NaN   \n",
       "4  ['fa748fae-3de4-4266-ae85-0797ada3f40c', '2157...               NaN   \n",
       "\n",
       "  primary_publishing_organisation publishing_app  quick_links related_guides  \\\n",
       "0      Government Digital Service      publisher          NaN            NaN   \n",
       "1      Government Digital Service      publisher          NaN            NaN   \n",
       "2      Government Digital Service      publisher          NaN            NaN   \n",
       "3      Government Digital Service      publisher          NaN            NaN   \n",
       "4      Government Digital Service      publisher          NaN            NaN   \n",
       "\n",
       "  related_mainstream_content related_to_step_navs  \\\n",
       "0                        NaN                  NaN   \n",
       "1                        NaN                  NaN   \n",
       "2                        NaN                  NaN   \n",
       "3                        NaN                  NaN   \n",
       "4                        NaN                  NaN   \n",
       "\n",
       "                                 slugs  \\\n",
       "0                                        \n",
       "1                                        \n",
       "2                             overview   \n",
       "3  rules-for-class-3-invalid-carriages   \n",
       "4                eyesight-requirements   \n",
       "\n",
       "                                               title  \\\n",
       "0                     company voluntary arrangements   \n",
       "1  mobility scooters and powered wheelchairs: the...   \n",
       "2  mobility scooters and powered wheelchairs: the...   \n",
       "3  mobility scooters and powered wheelchairs: the...   \n",
       "4  mobility scooters and powered wheelchairs: the...   \n",
       "\n",
       "                                   slug  \\\n",
       "0                                         \n",
       "1                                         \n",
       "2                                         \n",
       "3  /rules-for-class-3-invalid-carriages   \n",
       "4                /eyesight-requirements   \n",
       "\n",
       "                                            pagePath  \n",
       "0                    /company-voluntary-arrangements  \n",
       "1   /mobility-scooters-and-powered-wheelchairs-rules  \n",
       "2   /mobility-scooters-and-powered-wheelchairs-rules  \n",
       "3  /mobility-scooters-and-powered-wheelchairs-rul...  \n",
       "4  /mobility-scooters-and-powered-wheelchairs-rul...  "
      ]
     },
     "execution_count": 25,
     "metadata": {},
     "output_type": "execute_result"
    }
   ],
   "source": [
    "clean_content_exploded_df.head()"
   ]
  },
  {
   "cell_type": "code",
   "execution_count": 26,
   "metadata": {
    "ExecuteTime": {
     "end_time": "2019-03-04T16:13:16.494397Z",
     "start_time": "2019-03-04T16:13:16.470225Z"
    }
   },
   "outputs": [
    {
     "data": {
      "text/html": [
       "<div>\n",
       "<style scoped>\n",
       "    .dataframe tbody tr th:only-of-type {\n",
       "        vertical-align: middle;\n",
       "    }\n",
       "\n",
       "    .dataframe tbody tr th {\n",
       "        vertical-align: top;\n",
       "    }\n",
       "\n",
       "    .dataframe thead th {\n",
       "        text-align: right;\n",
       "    }\n",
       "</style>\n",
       "<table border=\"1\" class=\"dataframe\">\n",
       "  <thead>\n",
       "    <tr style=\"text-align: right;\">\n",
       "      <th></th>\n",
       "      <th>base_path</th>\n",
       "      <th>content_id</th>\n",
       "      <th>document_collections</th>\n",
       "      <th>document_type</th>\n",
       "      <th>ordered_related_items</th>\n",
       "      <th>part_of_step_navs</th>\n",
       "      <th>primary_publishing_organisation</th>\n",
       "      <th>publishing_app</th>\n",
       "      <th>quick_links</th>\n",
       "      <th>related_guides</th>\n",
       "      <th>related_mainstream_content</th>\n",
       "      <th>related_to_step_navs</th>\n",
       "      <th>slugs</th>\n",
       "      <th>title</th>\n",
       "      <th>slug</th>\n",
       "      <th>pagePath</th>\n",
       "    </tr>\n",
       "  </thead>\n",
       "  <tbody>\n",
       "    <tr>\n",
       "      <th>3098</th>\n",
       "      <td>/deposit-protection-schemes-and-landlords</td>\n",
       "      <td>806a3397-878a-492f-977a-a5a2afbf249c</td>\n",
       "      <td>NaN</td>\n",
       "      <td>guide</td>\n",
       "      <td>['fd824dab-4f80-4a20-a7fd-b48c2c2f70f8', '3c65...</td>\n",
       "      <td>NaN</td>\n",
       "      <td>Government Digital Service</td>\n",
       "      <td>publisher</td>\n",
       "      <td>NaN</td>\n",
       "      <td>NaN</td>\n",
       "      <td>NaN</td>\n",
       "      <td>NaN</td>\n",
       "      <td></td>\n",
       "      <td>deposit protection schemes and landlords</td>\n",
       "      <td></td>\n",
       "      <td>/deposit-protection-schemes-and-landlords</td>\n",
       "    </tr>\n",
       "    <tr>\n",
       "      <th>3099</th>\n",
       "      <td>/deposit-protection-schemes-and-landlords</td>\n",
       "      <td>806a3397-878a-492f-977a-a5a2afbf249c</td>\n",
       "      <td>NaN</td>\n",
       "      <td>guide</td>\n",
       "      <td>['fd824dab-4f80-4a20-a7fd-b48c2c2f70f8', '3c65...</td>\n",
       "      <td>NaN</td>\n",
       "      <td>Government Digital Service</td>\n",
       "      <td>publisher</td>\n",
       "      <td>NaN</td>\n",
       "      <td>NaN</td>\n",
       "      <td>NaN</td>\n",
       "      <td>NaN</td>\n",
       "      <td>overview</td>\n",
       "      <td>deposit protection schemes and landlords</td>\n",
       "      <td></td>\n",
       "      <td>/deposit-protection-schemes-and-landlords</td>\n",
       "    </tr>\n",
       "    <tr>\n",
       "      <th>3100</th>\n",
       "      <td>/deposit-protection-schemes-and-landlords</td>\n",
       "      <td>806a3397-878a-492f-977a-a5a2afbf249c</td>\n",
       "      <td>NaN</td>\n",
       "      <td>guide</td>\n",
       "      <td>['fd824dab-4f80-4a20-a7fd-b48c2c2f70f8', '3c65...</td>\n",
       "      <td>NaN</td>\n",
       "      <td>Government Digital Service</td>\n",
       "      <td>publisher</td>\n",
       "      <td>NaN</td>\n",
       "      <td>NaN</td>\n",
       "      <td>NaN</td>\n",
       "      <td>NaN</td>\n",
       "      <td>information-you-must-give-to-your-tenants</td>\n",
       "      <td>deposit protection schemes and landlords</td>\n",
       "      <td>/information-you-must-give-to-your-tenants</td>\n",
       "      <td>/deposit-protection-schemes-and-landlords/info...</td>\n",
       "    </tr>\n",
       "    <tr>\n",
       "      <th>3101</th>\n",
       "      <td>/deposit-protection-schemes-and-landlords</td>\n",
       "      <td>806a3397-878a-492f-977a-a5a2afbf249c</td>\n",
       "      <td>NaN</td>\n",
       "      <td>guide</td>\n",
       "      <td>['fd824dab-4f80-4a20-a7fd-b48c2c2f70f8', '3c65...</td>\n",
       "      <td>NaN</td>\n",
       "      <td>Government Digital Service</td>\n",
       "      <td>publisher</td>\n",
       "      <td>NaN</td>\n",
       "      <td>NaN</td>\n",
       "      <td>NaN</td>\n",
       "      <td>NaN</td>\n",
       "      <td>disputes</td>\n",
       "      <td>deposit protection schemes and landlords</td>\n",
       "      <td>/disputes</td>\n",
       "      <td>/deposit-protection-schemes-and-landlords/disp...</td>\n",
       "    </tr>\n",
       "    <tr>\n",
       "      <th>3102</th>\n",
       "      <td>/deposit-protection-schemes-and-landlords</td>\n",
       "      <td>806a3397-878a-492f-977a-a5a2afbf249c</td>\n",
       "      <td>NaN</td>\n",
       "      <td>guide</td>\n",
       "      <td>['fd824dab-4f80-4a20-a7fd-b48c2c2f70f8', '3c65...</td>\n",
       "      <td>NaN</td>\n",
       "      <td>Government Digital Service</td>\n",
       "      <td>publisher</td>\n",
       "      <td>NaN</td>\n",
       "      <td>NaN</td>\n",
       "      <td>NaN</td>\n",
       "      <td>NaN</td>\n",
       "      <td>if-you-dont-protect-your-tenants-deposit</td>\n",
       "      <td>deposit protection schemes and landlords</td>\n",
       "      <td>/if-you-dont-protect-your-tenants-deposit</td>\n",
       "      <td>/deposit-protection-schemes-and-landlords/if-y...</td>\n",
       "    </tr>\n",
       "  </tbody>\n",
       "</table>\n",
       "</div>"
      ],
      "text/plain": [
       "                                      base_path  \\\n",
       "3098  /deposit-protection-schemes-and-landlords   \n",
       "3099  /deposit-protection-schemes-and-landlords   \n",
       "3100  /deposit-protection-schemes-and-landlords   \n",
       "3101  /deposit-protection-schemes-and-landlords   \n",
       "3102  /deposit-protection-schemes-and-landlords   \n",
       "\n",
       "                                content_id document_collections document_type  \\\n",
       "3098  806a3397-878a-492f-977a-a5a2afbf249c                  NaN         guide   \n",
       "3099  806a3397-878a-492f-977a-a5a2afbf249c                  NaN         guide   \n",
       "3100  806a3397-878a-492f-977a-a5a2afbf249c                  NaN         guide   \n",
       "3101  806a3397-878a-492f-977a-a5a2afbf249c                  NaN         guide   \n",
       "3102  806a3397-878a-492f-977a-a5a2afbf249c                  NaN         guide   \n",
       "\n",
       "                                  ordered_related_items part_of_step_navs  \\\n",
       "3098  ['fd824dab-4f80-4a20-a7fd-b48c2c2f70f8', '3c65...               NaN   \n",
       "3099  ['fd824dab-4f80-4a20-a7fd-b48c2c2f70f8', '3c65...               NaN   \n",
       "3100  ['fd824dab-4f80-4a20-a7fd-b48c2c2f70f8', '3c65...               NaN   \n",
       "3101  ['fd824dab-4f80-4a20-a7fd-b48c2c2f70f8', '3c65...               NaN   \n",
       "3102  ['fd824dab-4f80-4a20-a7fd-b48c2c2f70f8', '3c65...               NaN   \n",
       "\n",
       "     primary_publishing_organisation publishing_app  quick_links  \\\n",
       "3098      Government Digital Service      publisher          NaN   \n",
       "3099      Government Digital Service      publisher          NaN   \n",
       "3100      Government Digital Service      publisher          NaN   \n",
       "3101      Government Digital Service      publisher          NaN   \n",
       "3102      Government Digital Service      publisher          NaN   \n",
       "\n",
       "     related_guides related_mainstream_content related_to_step_navs  \\\n",
       "3098            NaN                        NaN                  NaN   \n",
       "3099            NaN                        NaN                  NaN   \n",
       "3100            NaN                        NaN                  NaN   \n",
       "3101            NaN                        NaN                  NaN   \n",
       "3102            NaN                        NaN                  NaN   \n",
       "\n",
       "                                          slugs  \\\n",
       "3098                                              \n",
       "3099                                   overview   \n",
       "3100  information-you-must-give-to-your-tenants   \n",
       "3101                                   disputes   \n",
       "3102   if-you-dont-protect-your-tenants-deposit   \n",
       "\n",
       "                                         title  \\\n",
       "3098  deposit protection schemes and landlords   \n",
       "3099  deposit protection schemes and landlords   \n",
       "3100  deposit protection schemes and landlords   \n",
       "3101  deposit protection schemes and landlords   \n",
       "3102  deposit protection schemes and landlords   \n",
       "\n",
       "                                            slug  \\\n",
       "3098                                               \n",
       "3099                                               \n",
       "3100  /information-you-must-give-to-your-tenants   \n",
       "3101                                   /disputes   \n",
       "3102   /if-you-dont-protect-your-tenants-deposit   \n",
       "\n",
       "                                               pagePath  \n",
       "3098          /deposit-protection-schemes-and-landlords  \n",
       "3099          /deposit-protection-schemes-and-landlords  \n",
       "3100  /deposit-protection-schemes-and-landlords/info...  \n",
       "3101  /deposit-protection-schemes-and-landlords/disp...  \n",
       "3102  /deposit-protection-schemes-and-landlords/if-y...  "
      ]
     },
     "execution_count": 26,
     "metadata": {},
     "output_type": "execute_result"
    }
   ],
   "source": [
    "clean_content_exploded_df[clean_content_exploded_df['base_path'] == '/deposit-protection-schemes-and-landlords']"
   ]
  },
  {
   "cell_type": "code",
   "execution_count": 28,
   "metadata": {
    "ExecuteTime": {
     "end_time": "2019-03-04T16:16:10.132948Z",
     "start_time": "2019-03-04T16:16:10.127948Z"
    }
   },
   "outputs": [
    {
     "data": {
      "text/plain": [
       "(5977, 16)"
      ]
     },
     "execution_count": 28,
     "metadata": {},
     "output_type": "execute_result"
    }
   ],
   "source": [
    "clean_content_exploded_df.shape"
   ]
  },
  {
   "cell_type": "code",
   "execution_count": 43,
   "metadata": {
    "ExecuteTime": {
     "end_time": "2019-03-04T16:21:05.112665Z",
     "start_time": "2019-03-04T16:21:05.092214Z"
    }
   },
   "outputs": [
    {
     "data": {
      "text/plain": [
       "(5977, 16)"
      ]
     },
     "execution_count": 43,
     "metadata": {},
     "output_type": "execute_result"
    }
   ],
   "source": [
    "clean_content_exploded_df.drop_duplicates().shape"
   ]
  },
  {
   "cell_type": "code",
   "execution_count": 40,
   "metadata": {
    "ExecuteTime": {
     "end_time": "2019-03-04T16:20:44.747780Z",
     "start_time": "2019-03-04T16:20:44.741640Z"
    }
   },
   "outputs": [
    {
     "data": {
      "text/plain": [
       "5496"
      ]
     },
     "execution_count": 40,
     "metadata": {},
     "output_type": "execute_result"
    }
   ],
   "source": [
    "len(set(clean_content_exploded_df['pagePath']))\n",
    "# we should dedupe the list wehen we read it"
   ]
  },
  {
   "cell_type": "code",
   "execution_count": 44,
   "metadata": {
    "ExecuteTime": {
     "end_time": "2019-03-04T16:48:37.100274Z",
     "start_time": "2019-03-04T16:48:36.969169Z"
    }
   },
   "outputs": [],
   "source": [
    "clean_content_exploded_df.to_csv('/Users/suganyasivaskantharajah/code/govuk_ab_analysis/loved_pages.csv.gz',\n",
    "                        compression='gzip', index=False)"
   ]
  },
  {
   "cell_type": "code",
   "execution_count": null,
   "metadata": {},
   "outputs": [],
   "source": []
  }
 ],
 "metadata": {
  "kernelspec": {
   "display_name": "Python 3",
   "language": "python",
   "name": "python3"
  },
  "language_info": {
   "codemirror_mode": {
    "name": "ipython",
    "version": 3
   },
   "file_extension": ".py",
   "mimetype": "text/x-python",
   "name": "python",
   "nbconvert_exporter": "python",
   "pygments_lexer": "ipython3",
   "version": "3.7.2"
  },
  "toc": {
   "base_numbering": 1,
   "nav_menu": {},
   "number_sections": true,
   "sideBar": true,
   "skip_h1_title": false,
   "title_cell": "Table of Contents",
   "title_sidebar": "Contents",
   "toc_cell": false,
   "toc_position": {},
   "toc_section_display": true,
   "toc_window_display": false
  }
 },
 "nbformat": 4,
 "nbformat_minor": 2
}
