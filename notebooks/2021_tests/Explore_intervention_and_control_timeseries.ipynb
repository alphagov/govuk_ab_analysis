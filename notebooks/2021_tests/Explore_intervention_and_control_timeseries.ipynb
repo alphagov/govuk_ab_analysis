{
 "cells": [
  {
   "cell_type": "markdown",
   "id": "fc6148e2",
   "metadata": {},
   "source": [
    "## Explore the time-series of metrics in the control group"
   ]
  },
  {
   "cell_type": "markdown",
   "id": "e4f488db",
   "metadata": {},
   "source": [
    "#### Aim\n",
    "\n",
    "Explore the characteristics of the time-series of the main evaluation metrics (in terms of trends and seasonality) in the control group: those visitors who, on a given date, only visited pages containing no node2vec-generated related links.\n",
    "\n",
    "The assumption is that their behaviours should not be affected by our intervention but, if we see trends, these could be the result of confounders that are shared with the intervention time-series, like the Explore Team's changes to the main menu and navigation or increase user needs for - e.g. - coronavirus information.\n",
    "\n",
    "#### Background\n",
    "\n",
    "The time-series data was created by the `notebooks/2021_tests/<ADD>.sql` for the time period currently available covering both A and B segments from 11-Oct-2021 to 15-Dec-2021 and saved in BigQuery data in the `govuk-bigquery-analytics.datascience.control_manual_links_20211011_20211215_data` table.\n",
    "\n",
    "**IMPORTANT**: This notebook uses an R kernel.\n",
    "\n",
    "#### How to setup Jupyter Notebook for R\n",
    "\n",
    "These instructions assume that you already have a working Python environment for your local repository of this project, and Jupyter Notebook already installed in that environment that you can execute from your Terminal.\n",
    "\n",
    "1. Install R \n",
    "\n",
    "   If not already installed, see https://cloud.r-project.org/index.html\n",
    "   \n",
    "\n",
    "2. Install R kernel for Jupyter Notebook\n",
    "\n",
    "    In your Terminal (note: not in RStudio, not in the R GUI):\n",
    "    \n",
    "    - launch R by entering `R` on the command line.\n",
    "\n",
    "    - You should now be using R from your Terminal. Thus, run:\n",
    "    ```\n",
    "    install.packages('IRkernel')\n",
    "    IRkernel::installspec()\n",
    "    ```\n",
    "\n",
    "    Done! You can now quit R by entering `q()`.\n",
    "\n",
    "If you now launch Jupyter Notebook, you'll have the option to choose `R` as kernel.\n"
   ]
  },
  {
   "cell_type": "markdown",
   "id": "5c1bbf2b",
   "metadata": {},
   "source": [
    "### Setting things up"
   ]
  },
  {
   "cell_type": "code",
   "execution_count": null,
   "id": "79e57651",
   "metadata": {},
   "outputs": [],
   "source": [
    "# Install packages, if they aren't already available.\n",
    "# This can take a minute or two.\n",
    "packages <- c(\"bigrquery\", \"tidyverse\", \"plotly\", \"gridExtra\", \n",
    "              \"tsibble\", \"feasts\", \"DT\", \"TTR\", \"lmtest\", \"Epi\", \"tsModel\", \"sandwich\")\n",
    "install.packages(setdiff(packages, rownames(installed.packages())), quiet = TRUE) "
   ]
  },
  {
   "cell_type": "code",
   "execution_count": null,
   "id": "651112e3",
   "metadata": {},
   "outputs": [],
   "source": [
    "for(pckg in packages){\n",
    "    suppressPackageStartupMessages(library(pckg, character.only = TRUE))\n",
    "}"
   ]
  },
  {
   "cell_type": "code",
   "execution_count": null,
   "id": "5bc00729",
   "metadata": {},
   "outputs": [],
   "source": [
    "#Authenticate\n",
    "#/path/to/your/service-account.json\n",
    "bq_auth(path = \"/Users/alessiatosi/Secrets/govuk-bigquery-analytics-service-credentials.json\")  "
   ]
  },
  {
   "cell_type": "code",
   "execution_count": null,
   "id": "9a9b342f",
   "metadata": {},
   "outputs": [],
   "source": [
    "# Make plots wider \n",
    "options(repr.plot.width=15, repr.plot.height=8)"
   ]
  },
  {
   "cell_type": "code",
   "execution_count": null,
   "id": "95927efd",
   "metadata": {},
   "outputs": [],
   "source": [
    "# create custom plotting theme\n",
    "theme_custom <- theme(plot.title = element_text(face = \"bold\", hjust = 0.5, size=18),\n",
    "                      plot.subtitle = element_text(size=14),\n",
    "                      axis.text.y = element_text(colour = 'black', size = 12), \n",
    "                      axis.title.y = element_text(size = 16, hjust = 0.5, vjust = 0.2),\n",
    "                      axis.text.x = element_text(colour = 'black', size = 12), \n",
    "                      axis.title.x = element_text(size = 16, hjust = 0.5, vjust = 0.2),\n",
    "                      panel.background = element_blank(),\n",
    "                      axis.line = element_line(colour = \"black\"),\n",
    "                      legend.position = \"bottom\",\n",
    "                      legend.direction = \"horizontal\")"
   ]
  },
  {
   "cell_type": "markdown",
   "id": "c08e9d56",
   "metadata": {},
   "source": [
    "### Get the data"
   ]
  },
  {
   "cell_type": "code",
   "execution_count": null,
   "id": "8e9e04b6",
   "metadata": {},
   "outputs": [],
   "source": [
    "#billing <- \"govuk-xgov\" # replace this with your project ID \n",
    "project = \"govuk-bigquery-analytics\"\n",
    "sql <- \"SELECT * FROM `govuk-bigquery-analytics.datascience.related_links_20211011_20211219_intervention`\"\n",
    "\n",
    "tb <- bq_table_download(bq_project_query(project, sql))"
   ]
  },
  {
   "cell_type": "markdown",
   "id": "37fda8d3",
   "metadata": {},
   "source": [
    "### Data pre-processing"
   ]
  },
  {
   "cell_type": "code",
   "execution_count": null,
   "id": "d9d0e901",
   "metadata": {},
   "outputs": [],
   "source": [
    "# cast date as a date type variable\n",
    "tb$date <- as.Date(strptime(tb$date, \"%Y%m%d\"))"
   ]
  },
  {
   "cell_type": "code",
   "execution_count": null,
   "id": "960813b8",
   "metadata": {},
   "outputs": [],
   "source": [
    "tb <- tb %>% \n",
    "    arrange(date)"
   ]
  },
  {
   "cell_type": "code",
   "execution_count": null,
   "id": "0e695f71",
   "metadata": {},
   "outputs": [],
   "source": [
    "tb"
   ]
  },
  {
   "cell_type": "code",
   "execution_count": null,
   "id": "4ab0287d",
   "metadata": {},
   "outputs": [],
   "source": []
  },
  {
   "cell_type": "markdown",
   "id": "36e8de43",
   "metadata": {},
   "source": [
    "### Plotting the time series of data"
   ]
  },
  {
   "cell_type": "markdown",
   "id": "af42e06e",
   "metadata": {},
   "source": [
    "Here we will plotting the time series of data for all the metrics. Later in the notebook we will explore seasonality and trends in the time series of the two main evaluation metrics:\n",
    "- Proportion of visitors who click a related link (RL) at least once\n",
    "- Proportion of repeated-clicker visitors (those that, having click on a RL, click on others)"
   ]
  },
  {
   "cell_type": "code",
   "execution_count": null,
   "id": "9c459692",
   "metadata": {},
   "outputs": [],
   "source": [
    "plot_timeseries <- function(data, \n",
    "                            ts_var=\"\", \n",
    "                            title=\"\", \n",
    "                            x_title=\"\", \n",
    "                            subtitle = \"Intervention time series (visited at least one page with node2vec related links)\"){\n",
    "    #'@param data (data.frame) : dataset  \n",
    "    #'@param ts_var (character string) : name of the variable containing the time-series data\n",
    "    #'@param title (character string) : plot title\n",
    "    #'@param x_title (character string) : x-axis title\n",
    "    #'@return time-series plot\n",
    "    \n",
    "    if(!\"date\" %in% colnames(data)) stop(paste0(\"column `date` is missing from dataset\"))\n",
    "    \n",
    "    sym_ts_var <- dplyr::sym(ts_var)\n",
    "    \n",
    "    data %>% \n",
    "    ggplot2::ggplot(., aes(date, !!sym_ts_var)) +\n",
    "    geom_point(size=2) +\n",
    "    geom_line(size=1) +\n",
    "    #geom_smooth(method=\"lm\", colour=\"blue\") +\n",
    "    geom_smooth(method = \"loess\", formula=y~x, colour=\"red\", se=TRUE) +\n",
    "    geom_vline(aes(xintercept = as.Date(\"20211025\", \"%Y%m%d\")), col=\"blue\", linetype=2) +\n",
    "    geom_vline(aes(xintercept = as.Date(\"20211110\", \"%Y%m%d\")), col=\"darkgreen\", linetype=2) +\n",
    "    geom_vline(aes(xintercept = as.Date(\"20211111\", \"%Y%m%d\")), col=\"blue\", linetype=2) +\n",
    "    geom_vline(aes(xintercept = as.Date(\"20211120\", \"%Y%m%d\")), col=\"purple\", linetype=2) +\n",
    "    geom_vline(aes(xintercept = as.Date(\"20211211\", \"%Y%m%d\")), col=\"purple\", linetype=2) +\n",
    "    geom_vline(aes(xintercept = as.Date(\"20211213\", \"%Y%m%d\")), col=\"darkgreen\", linetype=2) +\n",
    "    geom_text(aes(x=as.Date(\"20211025\", \"%Y%m%d\"), y=0, label=\"25 Oct 2021 unweighted\"), size=5, angle=90, vjust=-0.4, hjust=0, color=\"blue\") +\n",
    "    geom_text(aes(x=as.Date(\"20211110\", \"%Y%m%d\"), y=0, label=\"10 Nov 2021 menu bar v2\"), size=5, angle=90, vjust=-0.4, hjust=0, color=\"darkgreen\") +\n",
    "    geom_text(aes(x=as.Date(\"20211111\", \"%Y%m%d\"), y=0, label=\"11 Nov 2021 unweighted\"), size=5, angle=90, vjust=-0.4, hjust=0, color=\"blue\") +\n",
    "    geom_text(aes(x=as.Date(\"20211120\", \"%Y%m%d\"), y=0, label=\"20 Nov 2021 weighted\"), size=5, angle=90, vjust=-0.4, hjust=0, color=\"purple\") +\n",
    "    geom_text(aes(x=as.Date(\"20211211\", \"%Y%m%d\"), y=0, label=\"12 Dec 2021 weighted\"), size=5, angle=90, vjust=-0.4, hjust=0, color=\"purple\") +\n",
    "    geom_text(aes(x=as.Date(\"20211213\", \"%Y%m%d\"), y=0, label=\"13 Dec 2021 new homepage\"), size=5, angle=90, vjust=-0.4, hjust=0, color=\"darkgreen\") +\n",
    "    labs(\n",
    "        title = title,\n",
    "        subtitle = subtitle) +\n",
    "    ylab(x_title) +\n",
    "    theme_custom\n",
    "    }"
   ]
  },
  {
   "cell_type": "code",
   "execution_count": null,
   "id": "321f2428",
   "metadata": {},
   "outputs": [],
   "source": []
  },
  {
   "cell_type": "markdown",
   "id": "9972cadd",
   "metadata": {},
   "source": [
    "#### Main metrics of evaluation"
   ]
  },
  {
   "cell_type": "code",
   "execution_count": null,
   "id": "cbef55c3",
   "metadata": {},
   "outputs": [],
   "source": [
    "plot_timeseries(data=tb,\n",
    "               ts_var=\"pc_visitors_used_rl\",\n",
    "               title=\"Proportion of visitors who clicked on at least 1 related link\",\n",
    "               x_title=\"Proportion of visitors\")"
   ]
  },
  {
   "cell_type": "markdown",
   "id": "ffdc1302",
   "metadata": {},
   "source": [
    "Let's check the number to see whether the decline may be explained by an increase in the denominator rather than a decrease in the numerator. This may be the case if, for instance, external circumstance would bring visiotrs to come and look at one page only. "
   ]
  },
  {
   "cell_type": "code",
   "execution_count": null,
   "id": "9135273a",
   "metadata": {},
   "outputs": [],
   "source": [
    "plot_timeseries(data=tb,\n",
    "               ts_var=\"visitors_that_clicked_rl\",\n",
    "               title=\"Number of visitors who clicked on at least 1 related link\",\n",
    "               x_title=\"Number of visitors\")"
   ]
  },
  {
   "cell_type": "code",
   "execution_count": null,
   "id": "3dade20e",
   "metadata": {},
   "outputs": [],
   "source": [
    "head(tb)"
   ]
  },
  {
   "cell_type": "code",
   "execution_count": null,
   "id": "faa67db1",
   "metadata": {
    "scrolled": true
   },
   "outputs": [],
   "source": [
    "plot_timeseries(data=tb,\n",
    "               ts_var=\"pc_visitors_returning_to_rl\",\n",
    "               title=\"Proportion of repeated-clicker visitors (they clicked one RL who then click again on a RL)\",\n",
    "               x_title=\"Proportion of visitors\")"
   ]
  },
  {
   "cell_type": "markdown",
   "id": "c6d7eaf3",
   "metadata": {},
   "source": [
    "#### Other potential behaviour of interest"
   ]
  },
  {
   "cell_type": "code",
   "execution_count": null,
   "id": "ffac983c",
   "metadata": {},
   "outputs": [],
   "source": [
    "plot_timeseries(data=tb,\n",
    "               ts_var=\"pc_visitors_that_clicked_navigation\",\n",
    "               title=\"Proportion of visitors who clicked on a navigation element\",\n",
    "               x_title=\"Proportion of visitors\")"
   ]
  },
  {
   "cell_type": "code",
   "execution_count": null,
   "id": "3acb9cb3",
   "metadata": {},
   "outputs": [],
   "source": [
    "plot_timeseries(data=tb,\n",
    "               ts_var=\"pc_visitors_2_or_more_rl\",\n",
    "               title=\"Proportion of visitors who clicked 2 or more related links\",\n",
    "               x_title=\"Proportion of visitors\")"
   ]
  },
  {
   "cell_type": "code",
   "execution_count": null,
   "id": "e0c38ba6",
   "metadata": {},
   "outputs": [],
   "source": []
  },
  {
   "cell_type": "markdown",
   "id": "dafb78a7",
   "metadata": {},
   "source": [
    "### Trends, seasonality and stationarity"
   ]
  },
  {
   "cell_type": "markdown",
   "id": "b2f8099f",
   "metadata": {},
   "source": [
    "- **Trend**: whether and when there is an overall increasing or decreasing pattern in our observations over time\n",
    "- **Seasonality**: whether and when there are repeating patterns in the series at fixed and known periods (e.g., weekly)\n",
    "- **Stationarity**: when a time-series has constant mean, variance and covariance over time\n",
    "Put another way, a time-series is **stationary** when it has no trend nor seasonality, and has constant variance over time. Typically, this will mean when you plot values over time, it will be roughly horizontal (though some cyclic behaviour is possible) and have constant variance.\n",
    "\n",
    "- **Remainder/random noise**: leftover of original time-series after trend and seasonality are removed\n",
    "- **Autocorrelation**: the strength of the relationship between a variable and its observations at prior time-periods\n",
    "The **autocorrelation function** is a plot of a **stationary** time-series with its lags (meaning its observations at prior time-periods). It can be used to obtain the order of a **moving-average model**, *q*. It will be the first lag at which the **autocorrelation** value passes the upper 95% **confidence interval**, as indicated by the blue dotted line in the corresponding **ACF** plot.\n",
    "\n",
    "- **Partial autocorrelation**: the strength of the relationship between an observation in a time-series with its observations at prior time-peridos, with the relationships of intervening observations removed. **Partial autocorrelation** is different to **autocorrelation** because the latter is comprised of both *direct* and *indirect* correlations, whereas the former removes these *indirect* correlations. It can be used to obtain the order of an auto-regressive model, *p*.^[Indirect correlations are a linear function of the correlation of the observation, with observations at intervening time periods.]\n",
    "\n",
    "We explore **trend** to help identify whether the shares in page view traffic by device cateogry has evolved over time, and whether this change in the cookie-policy has further affected this trend in any peculiar way. Whereas for the **ACF** and **PACF** concepts, we explore these to inform our choice of the statistical method to model our time-series data with.\n"
   ]
  },
  {
   "cell_type": "code",
   "execution_count": null,
   "id": "4dd67bde",
   "metadata": {},
   "outputs": [],
   "source": []
  },
  {
   "cell_type": "code",
   "execution_count": null,
   "id": "900fb1fd",
   "metadata": {},
   "outputs": [],
   "source": [
    "# convert to time-series object\n",
    "tb <- tb %>%\n",
    "    tsibble::as_tsibble(index = date)"
   ]
  },
  {
   "cell_type": "code",
   "execution_count": null,
   "id": "c5c999b0",
   "metadata": {},
   "outputs": [],
   "source": [
    "plot_SLT <- function(data, ts_var=\"\", title_ts_var=\"\"){\n",
    "    #'@param data (data.frame) : dataset  \n",
    "    #'@param ts_var (character string) : name of the variable containing the time-series data\n",
    "    #'@param title_ts_var (character string) : Plain English description of time-series variable\n",
    "    #'@return time-series plot\n",
    "    \n",
    "    if(!\"date\" %in% colnames(data)) stop(paste0(\"column `date` is missing from dataset\"))\n",
    "    \n",
    "    sym_ts_var <- dplyr::sym(ts_var)\n",
    "    \n",
    "    decomp <- data %>% model(STL(!!sym_ts_var)) %>% components()\n",
    "    \n",
    "    p1 <- data %>%\n",
    "        feasts::gg_tsdisplay(y = !!sym_ts_var, plot_type = \"partial\") + \n",
    "        labs(title = paste(title_ts_var, \"- Time, ACF and PACF plots\"))\n",
    "    \n",
    "    p2 <- decomp %>% autoplot()\n",
    "    \n",
    "    list(p1, p2)\n",
    "    }"
   ]
  },
  {
   "cell_type": "code",
   "execution_count": null,
   "id": "6be01afb",
   "metadata": {},
   "outputs": [],
   "source": []
  },
  {
   "cell_type": "markdown",
   "id": "4bb9bc69",
   "metadata": {},
   "source": [
    "#### Proportion of visitors who click RL at least once"
   ]
  },
  {
   "cell_type": "code",
   "execution_count": null,
   "id": "1f11f7a6",
   "metadata": {
    "scrolled": true
   },
   "outputs": [],
   "source": [
    "plot_SLT(tb, \"pc_visitors_used_rl\", \"Percentage of visitors who clicked RL at least once\")"
   ]
  },
  {
   "cell_type": "code",
   "execution_count": null,
   "id": "6827527b",
   "metadata": {},
   "outputs": [],
   "source": []
  },
  {
   "cell_type": "markdown",
   "id": "a1b73dec",
   "metadata": {},
   "source": [
    "#### Proportion of repeated-clicker visitors"
   ]
  },
  {
   "cell_type": "code",
   "execution_count": null,
   "id": "883278cb",
   "metadata": {},
   "outputs": [],
   "source": [
    "plot_SLT(tb, \"pc_visitors_returning_to_rl\", \n",
    "         \"Proportion of visitors who clicked on more RLs after having clicked on one\")"
   ]
  },
  {
   "cell_type": "markdown",
   "id": "9b42d83b",
   "metadata": {},
   "source": [
    "#### Proportion of visitors who clicked on a navigation element while on a RL page"
   ]
  },
  {
   "cell_type": "code",
   "execution_count": null,
   "id": "a3f83966",
   "metadata": {},
   "outputs": [],
   "source": [
    "plot_SLT(tb, \"pc_visitors_that_clicked_navigation\", \n",
    "         \"Proportion of visitors who clicked on a navigation element\")"
   ]
  },
  {
   "cell_type": "code",
   "execution_count": null,
   "id": "eb65f21b",
   "metadata": {},
   "outputs": [],
   "source": []
  },
  {
   "cell_type": "markdown",
   "id": "6cfa18c9",
   "metadata": {},
   "source": [
    "## Conclusions"
   ]
  },
  {
   "cell_type": "markdown",
   "id": "bf2751e8",
   "metadata": {},
   "source": [
    "The time series of our two main metrics of evaluation display both weekly seasonality and some upward not-fully linear trend that we will try to account for when modelling the time-series as part of the interrupted time series analysis."
   ]
  },
  {
   "cell_type": "code",
   "execution_count": null,
   "id": "2d2c2343",
   "metadata": {},
   "outputs": [],
   "source": []
  },
  {
   "cell_type": "markdown",
   "id": "41d272df",
   "metadata": {},
   "source": [
    "### Comparing whole intervention time-series (pre-/post segments) and control"
   ]
  },
  {
   "cell_type": "code",
   "execution_count": null,
   "id": "5614009a",
   "metadata": {},
   "outputs": [],
   "source": [
    "# get the intervention data\n",
    "sql_control <- \"SELECT * FROM `govuk-bigquery-analytics.datascience.control_manual_links_20211011_20211219_data`\"\n",
    "\n",
    "tb_control <- bq_table_download(bq_project_query(project, sql_control))\n",
    "tb_control$date <- as.Date(strptime(tb_control$date, \"%Y%m%d\"))\n",
    "tb_control <- tb_control %>% \n",
    "    arrange(date)"
   ]
  },
  {
   "cell_type": "code",
   "execution_count": null,
   "id": "363bc6e3",
   "metadata": {},
   "outputs": [],
   "source": [
    "# join the two time series by date\n",
    "ts <- tb %>% inner_join(tb_control, by=\"date\")"
   ]
  },
  {
   "cell_type": "code",
   "execution_count": null,
   "id": "941c2324",
   "metadata": {},
   "outputs": [],
   "source": [
    "names(ts)"
   ]
  },
  {
   "cell_type": "code",
   "execution_count": null,
   "id": "e8327368",
   "metadata": {},
   "outputs": [],
   "source": [
    "ts <- ts[, c('date', \n",
    "             'visitors.x',\n",
    "             'visitors.y', \n",
    "             'visitors_that_clicked_rl.x',\n",
    "             'visitors_that_clicked_rl.y',\n",
    "             'visitors_2_or_more_rl.x',\n",
    "             'visitors_2_or_more_rl.y',\n",
    "             'pc_visitors_used_rl.x',\n",
    "             'pc_visitors_used_rl.y',\n",
    "             'pc_visitors_returning_to_rl.x',\n",
    "             'pc_visitors_returning_to_rl.y')]"
   ]
  },
  {
   "cell_type": "code",
   "execution_count": null,
   "id": "cc69cfa0",
   "metadata": {},
   "outputs": [],
   "source": [
    "ts_long <- gather(ts, metric, value, c('visitors.x',\n",
    "                                       'visitors.y', \n",
    "                                       'visitors_that_clicked_rl.x',\n",
    "                                       'visitors_that_clicked_rl.y',\n",
    "                                       'visitors_2_or_more_rl.x',\n",
    "                                       'visitors_2_or_more_rl.y',\n",
    "                                       'pc_visitors_used_rl.x',\n",
    "                                       'pc_visitors_used_rl.y',\n",
    "                                       'pc_visitors_returning_to_rl.x',\n",
    "                                       'pc_visitors_returning_to_rl.y'), \n",
    "                   factor_key=FALSE)\n",
    "\n"
   ]
  },
  {
   "cell_type": "code",
   "execution_count": null,
   "id": "8b33aaa0",
   "metadata": {},
   "outputs": [],
   "source": [
    "tail(ts_long)"
   ]
  },
  {
   "cell_type": "code",
   "execution_count": null,
   "id": "7a69d25e",
   "metadata": {},
   "outputs": [],
   "source": [
    "ts_long <- ts_long %>% \n",
    "    separate(metric, c(\"metric\", \"time_series\"), sep = \"\\\\.\") %>% \n",
    "    mutate(time_series = ifelse(time_series == \"x\", \"intervention\", \"control\"))   "
   ]
  },
  {
   "cell_type": "code",
   "execution_count": null,
   "id": "53ec1f3e",
   "metadata": {},
   "outputs": [],
   "source": [
    "head(ts_long)\n"
   ]
  },
  {
   "cell_type": "code",
   "execution_count": null,
   "id": "72a3f50b",
   "metadata": {},
   "outputs": [],
   "source": [
    "plot_multiple_timeseries <- function(data, \n",
    "                            ts_var=\"\", \n",
    "                            group_var=\"\",\n",
    "                            title=\"\", \n",
    "                            x_title=\"\", \n",
    "                            subtitle = \"Control-group time series (only visited pages with manually-curated links )\"){\n",
    "    #'@param data (data.frame) : dataset  \n",
    "    #'@param ts_var (character string) : name of the variable containing the time-series data\n",
    "    #'@param title (character string) : plot title\n",
    "    #'@param x_title (character string) : x-axis title\n",
    "    #'@return time-series plot\n",
    "    \n",
    "    if(!\"date\" %in% colnames(data)) stop(paste0(\"column `date` is missing from dataset\"))\n",
    "    \n",
    "    sym_ts_var <- dplyr::sym(ts_var)\n",
    "    sym_group_var <- dplyr::sym(group_var)\n",
    "    \n",
    "    data %>% \n",
    "    ggplot2::ggplot(., aes(date, !!sym_ts_var, group=!!sym_group_var, colour=!!sym_group_var)) +\n",
    "    geom_point(size=2) +\n",
    "    geom_line(size=1) +\n",
    "    #geom_smooth(method=\"lm\", colour=\"blue\") +\n",
    "    geom_smooth(method = \"loess\", formula=y~x, colour=\"red\", se=TRUE) +\n",
    "    geom_vline(aes(xintercept = as.Date(\"20211025\", \"%Y%m%d\")), col=\"blue\", linetype=2) +\n",
    "    geom_vline(aes(xintercept = as.Date(\"20211110\", \"%Y%m%d\")), col=\"darkgreen\", linetype=2) +\n",
    "    geom_vline(aes(xintercept = as.Date(\"20211111\", \"%Y%m%d\")), col=\"blue\", linetype=2) +\n",
    "    geom_vline(aes(xintercept = as.Date(\"20211120\", \"%Y%m%d\")), col=\"purple\", linetype=2) +\n",
    "    geom_vline(aes(xintercept = as.Date(\"20211211\", \"%Y%m%d\")), col=\"purple\", linetype=2) +\n",
    "    geom_vline(aes(xintercept = as.Date(\"20211213\", \"%Y%m%d\")), col=\"darkgreen\", linetype=2) +\n",
    "    geom_text(aes(x=as.Date(\"20211025\", \"%Y%m%d\"), y=0, label=\"25 Oct 2021 unweighted\"), size=5, angle=90, vjust=-0.4, hjust=0, color=\"blue\") +\n",
    "    geom_text(aes(x=as.Date(\"20211110\", \"%Y%m%d\"), y=0, label=\"10 Nov 2021 menu bar v2\"), size=5, angle=90, vjust=-0.4, hjust=0, color=\"darkgreen\") +\n",
    "    geom_text(aes(x=as.Date(\"20211111\", \"%Y%m%d\"), y=0, label=\"11 Nov 2021 unweighted\"), size=5, angle=90, vjust=-0.4, hjust=0, color=\"blue\") +\n",
    "    geom_text(aes(x=as.Date(\"20211120\", \"%Y%m%d\"), y=0, label=\"20 Nov 2021 weighted\"), size=5, angle=90, vjust=-0.4, hjust=0, color=\"purple\") +\n",
    "    geom_text(aes(x=as.Date(\"20211211\", \"%Y%m%d\"), y=0, label=\"12 Dec 2021 weighted\"), size=5, angle=90, vjust=-0.4, hjust=0, color=\"purple\") +\n",
    "    geom_text(aes(x=as.Date(\"20211213\", \"%Y%m%d\"), y=0, label=\"13 Dec 2021 new homepage\"), size=5, angle=90, vjust=-0.4, hjust=0, color=\"darkgreen\") +\n",
    "    labs(\n",
    "        title = title,\n",
    "        subtitle = subtitle) +\n",
    "    ylab(x_title) +\n",
    "    theme_custom\n",
    "    }"
   ]
  },
  {
   "cell_type": "code",
   "execution_count": null,
   "id": "01b64feb",
   "metadata": {},
   "outputs": [],
   "source": [
    "ts_long %>%\n",
    "    filter(metric==\"pc_visitors_used_rl\") %>%\n",
    "    plot_multiple_timeseries(data=., \n",
    "                         ts_var=\"value\", \n",
    "                         group_var=\"time_series\",\n",
    "                         title=\"Proportion of day visitors who clicked on at least 1 related-link\", \n",
    "                         x_title=\"Proportion of day visitors\", \n",
    "                         subtitle = \"Intervention and control time series\")"
   ]
  },
  {
   "cell_type": "code",
   "execution_count": null,
   "id": "793dc9fc",
   "metadata": {},
   "outputs": [],
   "source": [
    "ts_long %>%\n",
    "    filter(metric==\"pc_visitors_returning_to_rl\") %>%\n",
    "    plot_multiple_timeseries(data=., \n",
    "                         ts_var=\"value\", \n",
    "                         group_var=\"time_series\",\n",
    "                         title=\"Proportion of daily repeated-clicker visitors\", \n",
    "                         x_title=\"Proportion of daily visitors\", \n",
    "                         subtitle = \"Intervention and control time series\")"
   ]
  },
  {
   "cell_type": "code",
   "execution_count": null,
   "id": "75052feb",
   "metadata": {},
   "outputs": [],
   "source": [
    "unique(ts_long$metric)"
   ]
  },
  {
   "cell_type": "markdown",
   "id": "211d1e55",
   "metadata": {},
   "source": [
    "### Possible concurring cause"
   ]
  },
  {
   "cell_type": "markdown",
   "id": "0a712850",
   "metadata": {},
   "source": [
    "Here we will check whether an increase in single page visits, perhaps linked to an increased needs to find coronavirus information like reporting lateral flow test or checking travel advice, may explain the decrease in proportions of users who click on related links.\n",
    "\n",
    "Single-page visiting visitors, in fact, would \"inflate\" the denominator in our proportions."
   ]
  },
  {
   "cell_type": "code",
   "execution_count": null,
   "id": "acb95459",
   "metadata": {},
   "outputs": [],
   "source": [
    "sql_singlepage_sessions <- \"SELECT * FROM `govuk-bigquery-analytics.datascience.singlepage_dayvisitors_20211011_20211219`\"\n",
    "\n",
    "tb_ss <- bq_table_download(bq_project_query(project, sql_singlepage_sessions))"
   ]
  },
  {
   "cell_type": "code",
   "execution_count": null,
   "id": "f71d55d6",
   "metadata": {},
   "outputs": [],
   "source": [
    "# cast date as a date type variable\n",
    "tb_ss$date <- as.Date(strptime(tb_ss$date, \"%Y%m%d\"))\n",
    "\n",
    "# filter for the single-page session data\n",
    "tb_ss <- tb_ss %>%\n",
    "    filter(single_pagehit_session == TRUE)\n"
   ]
  },
  {
   "cell_type": "code",
   "execution_count": null,
   "id": "c9a411cd",
   "metadata": {},
   "outputs": [],
   "source": [
    "plot_timeseries(data=tb_ss, \n",
    "                ts_var=\"proportion\", \n",
    "                x_title=\"Proportion of single-page day-visitors\", \n",
    "                title=\"Proportion of visitors who only visited one page on given day\",\n",
    "               subtitle=\"\")"
   ]
  },
  {
   "cell_type": "code",
   "execution_count": null,
   "id": "810af3bb",
   "metadata": {},
   "outputs": [],
   "source": [
    "plot_timeseries(data=tb_ss, \n",
    "                ts_var=\"frequency\",\n",
    "                x_title=\"Number of single-page day-visitors\", \n",
    "                title=\"Number of visitors who only visited one page on given day\",\n",
    "               subtitle=\"\")"
   ]
  },
  {
   "cell_type": "code",
   "execution_count": null,
   "id": "cabce7d2",
   "metadata": {},
   "outputs": [],
   "source": []
  },
  {
   "cell_type": "code",
   "execution_count": null,
   "id": "69976246",
   "metadata": {},
   "outputs": [],
   "source": []
  },
  {
   "cell_type": "markdown",
   "id": "bb73016f",
   "metadata": {},
   "source": [
    "## Analysis"
   ]
  },
  {
   "cell_type": "markdown",
   "id": "4c0589d3",
   "metadata": {},
   "source": [
    "### Proportion of visitors who clicked on at least one related link"
   ]
  },
  {
   "cell_type": "code",
   "execution_count": null,
   "id": "5acc318f",
   "metadata": {},
   "outputs": [],
   "source": [
    "clicks_ts <- ts_long %>% filter(metric=='pc_visitors_used_rl') "
   ]
  },
  {
   "cell_type": "markdown",
   "id": "eda76a41",
   "metadata": {},
   "source": [
    "Create new variables:\n",
    "- **Time**: time variable capturing time passed from start of the intervention\n",
    "- **Intervention**: dummy variable signalling before (0) and after (1) weighted related-links were introduced\n",
    "- **TimeSince**: variable capturing time passed since intervention (introduction of weighted related links) occured"
   ]
  },
  {
   "cell_type": "code",
   "execution_count": null,
   "id": "5a2fa0fa",
   "metadata": {},
   "outputs": [],
   "source": [
    "clicks_ts <- clicks_ts %>%\n",
    "    group_by(time_series) %>%\n",
    "    mutate(Time = row_number()) %>%\n",
    "    mutate(Intervention = ifelse(date <= as.Date(\"2021-11-20\"), 0, 1))"
   ]
  },
  {
   "cell_type": "code",
   "execution_count": null,
   "id": "50f6524b",
   "metadata": {},
   "outputs": [],
   "source": [
    "# how many data points after intervention took place?\n",
    "table(clicks_ts[clicks_ts$time_series==\"intervention\",]$Intervention)"
   ]
  },
  {
   "cell_type": "code",
   "execution_count": null,
   "id": "8153e3de",
   "metadata": {},
   "outputs": [],
   "source": [
    "clicks_ts$TimeSince <- 0\n",
    "clicks_ts[clicks_ts$time_series==\"intervention\",]$TimeSince <- c(rep(0, 41), rep(1:29))\n",
    "clicks_ts[clicks_ts$time_series==\"control\",]$TimeSince <- c(rep(0, 41), rep(1:29))"
   ]
  },
  {
   "cell_type": "code",
   "execution_count": null,
   "id": "391dea32",
   "metadata": {},
   "outputs": [],
   "source": [
    "# intervention only data\n",
    "clicks_its <- clicks_ts[clicks_ts$time_series==\"intervention\",]"
   ]
  },
  {
   "cell_type": "code",
   "execution_count": null,
   "id": "7061074d",
   "metadata": {},
   "outputs": [],
   "source": [
    "head(clicks_its)"
   ]
  },
  {
   "cell_type": "code",
   "execution_count": null,
   "id": "4d764c34",
   "metadata": {},
   "outputs": [],
   "source": [
    "# plot\n",
    "plot( clicks_its$Time, \n",
    "      clicks_its$value,\n",
    "      bty=\"n\", pch=19, col=\"gray\",\n",
    "      ylim = c(0, 0.04), xlim=c(0,72),\n",
    "      xlab = \"Time (days)\", \n",
    "      ylab = \"pc_visitors_used_rl\" )\n",
    "\n",
    "# Line marking the interruption\n",
    "abline( v=42, col=\"firebrick\", lty=2 )\n",
    "text( 42, 0, \"Start of Weighted related links\", col=\"firebrick\", cex=1.3, pos=4 )\n",
    "\n",
    "# Add the regression line\n",
    "ts <- lm( value ~ Time + Intervention + TimeSince, data=clicks_its )\n",
    "lines( clicks_its$Time, ts$fitted.values, col=\"steelblue\", lwd=2 )"
   ]
  },
  {
   "cell_type": "code",
   "execution_count": null,
   "id": "014ed992",
   "metadata": {},
   "outputs": [],
   "source": []
  },
  {
   "cell_type": "code",
   "execution_count": null,
   "id": "3617d688",
   "metadata": {},
   "outputs": [],
   "source": []
  },
  {
   "cell_type": "code",
   "execution_count": null,
   "id": "5640f770",
   "metadata": {},
   "outputs": [],
   "source": [
    "reg_clicks <- lm( value ~ Time + Intervention + TimeSince, data=clicks_its )\n",
    "\n",
    "pred1 <- predict(reg_clicks, clicks_its) \n",
    "# To estimate all predicted values of Y, we just use our dataset\n",
    "\n",
    "datanew <- as.data.frame(cbind(Time = rep(1 : length(clicks_its$Time)), Intervention = rep(0), TimeSince = rep(0))) \n",
    "# Create a new dataset where Treatment and Time Since Treatment are equal to 0 as the intervention did not occur.\n",
    "pred2 <- predict(reg_clicks, datanew) \n",
    "# Predict the counterfactuals\n",
    "\n",
    "plot(clicks_its$Time, \n",
    "    clicks_its$value,\n",
    "      bty=\"n\",\n",
    "      col = gray(0.3,0.5), pch=19,\n",
    "      ylim = c(0, 0.04), \n",
    "      xlim = c(0,72),\n",
    "      main = \"Proportion of visitors who clicked on at least 1 related link\",\n",
    "      xlab = \"Time elapsed since beginning of study (days)\", \n",
    "      ylab = \"Proportion of visitors\")\n",
    "\n",
    "lines( 1:41, pred1[1:41], col=\"dodgerblue4\", lwd = 3 )\n",
    "lines( 42:70, pred1[42:70], col=\"dodgerblue4\", lwd = 3 )\n",
    "lines( 42:70, pred2[42:70], col=\"darkorange2\", lwd = 3, lty = 5 ) \n",
    "\n",
    "text(45, 0.015, labels = \"Predicted values\", pos = 4, cex = 1.3, col = \"dodgerblue3\")\n",
    "text(50, 0.025, labels = \"Counterfactual\", pos = 4, cex = 1.3, col = \"darkorange2\")\n",
    "\n",
    "# Line marking the interruption\n",
    "abline( v=42, col=\"firebrick\",lwd = 2, lty=2 )\n",
    "text( 42, 0, \"Start of weighted related links\", col=\"firebrick\", cex=1.3, pos=4 )\n"
   ]
  },
  {
   "cell_type": "code",
   "execution_count": null,
   "id": "0994629f",
   "metadata": {},
   "outputs": [],
   "source": []
  },
  {
   "cell_type": "code",
   "execution_count": null,
   "id": "567c9529",
   "metadata": {},
   "outputs": [],
   "source": [
    "summary(reg)"
   ]
  },
  {
   "cell_type": "code",
   "execution_count": null,
   "id": "a22fb3da",
   "metadata": {},
   "outputs": [],
   "source": [
    "acf(resid( reg ))"
   ]
  },
  {
   "cell_type": "markdown",
   "id": "508d64fb",
   "metadata": {},
   "source": [
    "#### Poisson approach"
   ]
  },
  {
   "cell_type": "code",
   "execution_count": null,
   "id": "e2a162e1",
   "metadata": {
    "scrolled": true
   },
   "outputs": [],
   "source": [
    "unique(ts_long$metric)"
   ]
  },
  {
   "cell_type": "code",
   "execution_count": null,
   "id": "465baa8a",
   "metadata": {},
   "outputs": [],
   "source": [
    "clicks_ts <- ts_long %>% filter(metric %in% c('visitors', 'visitors_that_clicked_rl')) \n",
    "\n",
    "\n",
    "clicks_ts <- clicks_ts %>%\n",
    "    group_by(time_series, metric) %>%\n",
    "    mutate(Time = row_number()) %>%\n",
    "    mutate(Intervention = ifelse(date <= as.Date(\"2021-11-20\"), 0, 1))"
   ]
  },
  {
   "cell_type": "code",
   "execution_count": null,
   "id": "cfaa31b2",
   "metadata": {},
   "outputs": [],
   "source": [
    "# check\n",
    "table(clicks_ts[clicks_ts$metric == \"visitors\",]$time_series)\n",
    "table(clicks_ts[clicks_ts$metric == \"visitors_that_clicked_rl\",]$time_series)"
   ]
  },
  {
   "cell_type": "code",
   "execution_count": null,
   "id": "40084253",
   "metadata": {},
   "outputs": [],
   "source": [
    "hist(clicks_ts[clicks_ts$metric == \"visitors_that_clicked_rl\",]$value, breaks=20)"
   ]
  },
  {
   "cell_type": "code",
   "execution_count": null,
   "id": "85d85947",
   "metadata": {},
   "outputs": [],
   "source": [
    "hist(clicks_ts[clicks_ts$metric == \"visitors\",]$value, breaks=20)"
   ]
  },
  {
   "cell_type": "code",
   "execution_count": null,
   "id": "1e4997c8",
   "metadata": {},
   "outputs": [],
   "source": [
    "clicks_ts_spread <- clicks_ts %>%\n",
    "    spread(metric, value)"
   ]
  },
  {
   "cell_type": "code",
   "execution_count": null,
   "id": "cf85fa47",
   "metadata": {},
   "outputs": [],
   "source": [
    "clicks_ts_spread$TimeSince <- 0\n",
    "clicks_ts_spread[clicks_ts_spread$time_series==\"intervention\",]$TimeSince <- c(rep(0, 41), rep(1:29))\n",
    "clicks_ts_spread[clicks_ts_spread$time_series==\"control\",]$TimeSince <- c(rep(0, 41), rep(1:29))"
   ]
  },
  {
   "cell_type": "code",
   "execution_count": null,
   "id": "19ef0885",
   "metadata": {},
   "outputs": [],
   "source": [
    "clicks_ts_spread_int <- clicks_ts_spread[clicks_ts_spread$time_series == \"intervention\",]"
   ]
  },
  {
   "cell_type": "code",
   "execution_count": null,
   "id": "8a6531e9",
   "metadata": {},
   "outputs": [],
   "source": [
    "poisson_reg <- glm(visitors_that_clicked_rl ~ Time + Intervention + TimeSince + offset(log(visitors)), \n",
    "                    data=clicks_ts_spread_int, \n",
    "                    family = poisson(link = \"log\"))"
   ]
  },
  {
   "cell_type": "code",
   "execution_count": null,
   "id": "6e7b412d",
   "metadata": {},
   "outputs": [],
   "source": [
    "summary(poisson_reg)"
   ]
  },
  {
   "cell_type": "markdown",
   "id": "5b3e1cd7",
   "metadata": {},
   "source": [
    "##### Overdispersion...\n",
    "\n",
    "The Residual Deviance is greater than the degrees of freedom, thus over-dispersion exists. This means that the estimates are correct, but the standard errors are wrong and unaccounted for by the model.\n",
    "\n",
    "Let's use a quasi-poisson link family for the error to try to correct for this."
   ]
  },
  {
   "cell_type": "code",
   "execution_count": null,
   "id": "6cba6e31",
   "metadata": {},
   "outputs": [],
   "source": [
    "quasipoisson_reg <- glm(visitors_that_clicked_rl ~ Time + Intervention + TimeSince + offset(log(visitors)), \n",
    "                    data=clicks_ts_spread_int, \n",
    "                    family = quasipoisson(link = \"log\"))"
   ]
  },
  {
   "cell_type": "code",
   "execution_count": null,
   "id": "1ceb2bc7",
   "metadata": {},
   "outputs": [],
   "source": [
    "summary(quasipoisson_reg)"
   ]
  },
  {
   "cell_type": "code",
   "execution_count": null,
   "id": "2efd33bd",
   "metadata": {},
   "outputs": [],
   "source": [
    "# let's check residuals for evidence of autocorrelation/ seasonality\n",
    "acf(residuals(quasipoisson_reg, type='deviance'))"
   ]
  },
  {
   "cell_type": "markdown",
   "id": "e449d2b7",
   "metadata": {},
   "source": [
    "Ok, the familiar day-of-the-week seasonality kicks in... we should account for it in the model. "
   ]
  },
  {
   "cell_type": "code",
   "execution_count": null,
   "id": "51b3ab88",
   "metadata": {},
   "outputs": [],
   "source": [
    "summary(quasipoisson_reg)$dispersion\n",
    "round(ci.lin(quasipoisson_reg, Exp=T),3)"
   ]
  },
  {
   "cell_type": "code",
   "execution_count": null,
   "id": "fbbb82c5",
   "metadata": {},
   "outputs": [],
   "source": [
    "clicks_ts_spread_int$ctr <- with(clicks_ts_spread_int, visitors_that_clicked_rl/visitors*10^5)"
   ]
  },
  {
   "cell_type": "code",
   "execution_count": null,
   "id": "f63087fc",
   "metadata": {},
   "outputs": [],
   "source": [
    "head(clicks_ts_spread_int)"
   ]
  },
  {
   "cell_type": "code",
   "execution_count": null,
   "id": "c3df4575",
   "metadata": {},
   "outputs": [],
   "source": []
  },
  {
   "cell_type": "code",
   "execution_count": null,
   "id": "9d6ab32f",
   "metadata": {},
   "outputs": [],
   "source": [
    "### NEED TO FIX THIS PLOT, SOMETHING IS NOT RIGHT\n",
    "\n",
    "pred1 <- predict(quasipoisson_reg_season, clicks_ts_spread_int, type = \"response\")/mean(\n",
    "    clicks_ts_spread_int$visitors)*10^5\n",
    "# To estimate all predicted values of Y, we just use our dataset\n",
    "\n",
    "# Predict the counterfactuals\n",
    "# Create a new dataset where Treatment and Time Since Treatment are equal to 0 as the intervention did not occur.\n",
    "datanew <- as.data.frame(cbind(\n",
    "    visitors = mean(clicks_ts_spread_int$visitors),\n",
    "    Time = 1:length(clicks_ts_spread_int$Time), \n",
    "    Intervention = 0, \n",
    "    TimeSince = 0)) \n",
    "pred2 <- predict(quasipoisson_reg_season, datanew, type = \"response\")/mean(\n",
    "    clicks_ts_spread_int$visitors)*10^5 \n",
    "\n",
    "plot(clicks_ts_spread_int$ctr, \n",
    "      bty=\"n\",\n",
    "      col = gray(0.3,0.5), pch=19,\n",
    "      #ylim = c(0, 46000), \n",
    "      xlim = c(0,72),\n",
    "      main = \"Proportion of visitors who clicked on at least 1 related link\",\n",
    "      xlab = \"Time elapsed since beginning of study (days)\", \n",
    "      ylab = \"Proportion of visitors\")\n",
    "\n",
    "\n",
    "#lines( 1:41, pred1[1:41], col=\"dodgerblue4\", lwd = 3 )\n",
    "#lines( 42:70, pred1[42:70], col=\"dodgerblue4\", lwd = 3 )\n",
    "lines(1:70,pred1,col=\"dodgerblue4\")\n",
    "#lines( 42:70, pred2[42:70], col=\"darkorange2\", lwd = 3, lty = 5 ) \n",
    "\n",
    "lines(datanew$Time,pred2,col=\"darkorange2\",lty=2)\n",
    "\n",
    "\n",
    "text(45, 0.015, labels = \"Predicted values\", pos = 4, cex = 1.3, col = \"dodgerblue3\")\n",
    "text(50, 0.025, labels = \"Counterfactual\", pos = 4, cex = 1.3, col = \"darkorange2\")\n",
    "\n",
    "# Line marking the interruption\n",
    "abline( v=42, col=\"firebrick\",lwd = 2, lty=2 )\n",
    "text( 42, 0, \"Start of weighted related links\", col=\"firebrick\", cex=1.3, pos=4 )\n"
   ]
  },
  {
   "cell_type": "markdown",
   "id": "e62a8c01",
   "metadata": {},
   "source": [
    "##### Using Fourier terms to adjust for seasonlity, using sine and cosine transform functions\n",
    "\n",
    "These are periodic terms composed of sine and cosine waves that can model regular fluctuations, such as those from seasonal variation"
   ]
  },
  {
   "cell_type": "code",
   "execution_count": null,
   "id": "a876b3e9",
   "metadata": {},
   "outputs": [],
   "source": [
    "#c) adjusting for seasonality\n",
    "# There are various ways of adjusting for seasonality - here we use harmonic\n",
    "#   terms specifying the number of sin and cosine pairs to include (in this\n",
    "#   case 2) and the length of the period (7 days)\n",
    "quasipoisson_reg_season <- glm(visitors_that_clicked_rl ~ Time + Intervention + TimeSince + \n",
    "                               offset(log(visitors)) +\n",
    "                               tsModel::harmonic(clicks_ts_spread_int$date,2,7), \n",
    "                    data=clicks_ts_spread_int, \n",
    "                    family = quasipoisson(link = \"log\"))\n",
    "\n"
   ]
  },
  {
   "cell_type": "code",
   "execution_count": null,
   "id": "41ded4dc",
   "metadata": {
    "scrolled": true
   },
   "outputs": [],
   "source": [
    "summary(quasipoisson_reg_season)"
   ]
  },
  {
   "cell_type": "code",
   "execution_count": null,
   "id": "f76cab62",
   "metadata": {},
   "outputs": [],
   "source": [
    "acf(residuals(quasipoisson_reg_season, type='deviance'))"
   ]
  },
  {
   "cell_type": "code",
   "execution_count": null,
   "id": "5b4398f0",
   "metadata": {},
   "outputs": [],
   "source": [
    "pacf(residuals(quasipoisson_reg_season, type='deviance'))"
   ]
  },
  {
   "cell_type": "markdown",
   "id": "e8c4e901",
   "metadata": {},
   "source": [
    "There is no longer seasonality, still some autocorrelation though.\n",
    "\n",
    "Thus, we keep the quasi-Poisson model fitted ignoring the autocorrelation but adjust the\n",
    "standard errors using the Newey-West method (ref: https://researchonline.lshtm.ac.uk/id/eprint/4651093/1/Analysing-interrupted-time-series-with-a-control.pdf)"
   ]
  },
  {
   "cell_type": "code",
   "execution_count": null,
   "id": "071b166e",
   "metadata": {
    "scrolled": true
   },
   "outputs": [],
   "source": [
    "coeftest(quasipoisson_reg_season, vcov = NeweyWest(quasipoisson_reg_season, lag=4))"
   ]
  },
  {
   "cell_type": "code",
   "execution_count": null,
   "id": "a9240176",
   "metadata": {},
   "outputs": [],
   "source": [
    "NeweyWest(quasipoisson_reg_season, lag = 2, prewhite = F) %>%\n",
    "    diag() %>% sqrt()"
   ]
  },
  {
   "cell_type": "code",
   "execution_count": null,
   "id": "5ceb318d",
   "metadata": {},
   "outputs": [],
   "source": [
    "glm(visitors_that_clicked_rl ~ Time + Intervention + TimeSince + \n",
    "                               offset(log(visitors)) +\n",
    "                               tsModel::harmonic(clicks_ts_spread_int$date,2,7), \n",
    "                    data=clicks_ts_spread_int, \n",
    "                    family = quasipoisson(link = \"log\"))"
   ]
  },
  {
   "cell_type": "code",
   "execution_count": null,
   "id": "a906321a",
   "metadata": {},
   "outputs": [],
   "source": [
    "reg_clicks <- lm( ctr ~ Time + Intervention + TimeSince +\n",
    "                tsModel::harmonic(clicks_ts_spread_int$date,2,7), \n",
    "                    data=clicks_ts_spread_int)\n",
    "\n",
    "pred1 <- predict(reg_clicks, clicks_ts_spread_int) \n",
    "# To estimate all predicted values of Y, we just use our dataset\n",
    "\n",
    "datanew <- as.data.frame(cbind(Time = rep(1 : length(clicks_its$Time)), Intervention = rep(0), TimeSince = rep(0))) \n",
    "# Create a new dataset where Treatment and Time Since Treatment are equal to 0 as the intervention did not occur.\n",
    "pred2 <- predict(reg_clicks, datanew)\n",
    "# Predict the counterfactuals\n",
    "\n",
    "plot(clicks_ts_spread_int$ctr, \n",
    "      bty=\"n\",\n",
    "      col = gray(0.3,0.5), pch=19,\n",
    "      #ylim = c(0, 0.04), \n",
    "      xlim = c(0,72),\n",
    "      main = \"Rate of visitors who clicked on at least 1 related link (per 10000 visitors)\",\n",
    "      xlab = \"Time elapsed since beginning of study (days)\", \n",
    "      ylab = \"Rate of visitors (per 10,000)\")\n",
    "\n",
    "lines( 1:41, pred1[1:41], col=\"dodgerblue4\", lwd = 3 )\n",
    "lines( 42:70, pred1[42:70], col=\"dodgerblue4\", lwd = 3 )\n",
    "lines( 42:70, pred2[42:70], col=\"darkorange2\", lwd = 3, lty = 5 ) \n",
    "\n",
    "text(45, 1500, labels = \"Predicted values\", pos = 4, cex = 1.3, col = \"dodgerblue3\")\n",
    "text(50, 2700, labels = \"Counterfactual\", pos = 4, cex = 1.3, col = \"darkorange2\")\n",
    "\n",
    "# Line marking the interruption\n",
    "abline( v=42, col=\"firebrick\",lwd = 2, lty=2 )\n",
    "text( 42, 1200, \"Start of weighted related links\", col=\"firebrick\", cex=1.3, pos=4 )\n"
   ]
  },
  {
   "cell_type": "code",
   "execution_count": null,
   "id": "48b4ad3a",
   "metadata": {},
   "outputs": [],
   "source": [
    "summary(reg_clicks)"
   ]
  },
  {
   "cell_type": "code",
   "execution_count": null,
   "id": "7fa91f62",
   "metadata": {},
   "outputs": [],
   "source": [
    "plot(acf(resid(reg_clicks)))"
   ]
  },
  {
   "cell_type": "code",
   "execution_count": null,
   "id": "a1f203e7",
   "metadata": {},
   "outputs": [],
   "source": [
    "coeftest(reg_clicks, vcov = NeweyWest(reg_clicks, lag=2))"
   ]
  },
  {
   "cell_type": "code",
   "execution_count": null,
   "id": "315c03a7",
   "metadata": {},
   "outputs": [],
   "source": []
  },
  {
   "cell_type": "markdown",
   "id": "aad94d90",
   "metadata": {},
   "source": [
    "#### Controlled Interrupted Time Series"
   ]
  },
  {
   "cell_type": "code",
   "execution_count": null,
   "id": "d15246c2",
   "metadata": {},
   "outputs": [],
   "source": [
    "clicks_ts_spread <- clicks_ts_spread %>%\n",
    "    mutate(ctr = visitors_that_clicked_rl/visitors*10^5)"
   ]
  },
  {
   "cell_type": "code",
   "execution_count": null,
   "id": "42a96dea",
   "metadata": {},
   "outputs": [],
   "source": [
    "ctr_ts_spread <- clicks_ts_spread %>%\n",
    "    select(date, Time, Intervention, TimeSince, ctr) %>%\n",
    "    spread(time_series, ctr)"
   ]
  },
  {
   "cell_type": "code",
   "execution_count": null,
   "id": "fed77bbf",
   "metadata": {},
   "outputs": [],
   "source": [
    "head(ctr_ts_spread)"
   ]
  },
  {
   "cell_type": "code",
   "execution_count": null,
   "id": "d2458760",
   "metadata": {},
   "outputs": [],
   "source": [
    "ctr_ts_spread$ctr_diff <- with(ctr_ts_spread, intervention-control)"
   ]
  },
  {
   "cell_type": "code",
   "execution_count": null,
   "id": "36411e0d",
   "metadata": {},
   "outputs": [],
   "source": [
    "head(ctr_ts_spread)"
   ]
  },
  {
   "cell_type": "code",
   "execution_count": null,
   "id": "88d8fd66",
   "metadata": {},
   "outputs": [],
   "source": [
    "plot(ctr_ts_spread$ctr_diff, \n",
    "      bty=\"n\",\n",
    "      col = gray(0.3,0.5), pch=19,\n",
    "      #ylim = c(0, 0.04), \n",
    "      xlim = c(0,72),\n",
    "      main = \"Difference in Rate of visitors who clicked on at least 1 related link (per 10000 visitors)\",\n",
    "      xlab = \"Time elapsed since beginning of study (days)\", \n",
    "      ylab = \"Difference in Rate of visitors (per 10,000)\")\n",
    "# Line marking the interruption\n",
    "abline( v=42, col=\"firebrick\",lwd = 2, lty=2 )\n",
    "text( 42, 350, \"Start of weighted related links\", col=\"firebrick\", cex=1.3, pos=4 )\n"
   ]
  },
  {
   "cell_type": "code",
   "execution_count": null,
   "id": "09780ea4",
   "metadata": {},
   "outputs": [],
   "source": [
    "reg_ctr_diff <- lm( ctr_diff ~ Time + Intervention + TimeSince +\n",
    "                tsModel::harmonic(ctr_ts_spread$date,2,7), \n",
    "                    data=ctr_ts_spread)\n"
   ]
  },
  {
   "cell_type": "code",
   "execution_count": null,
   "id": "891e88dc",
   "metadata": {},
   "outputs": [],
   "source": [
    "summary(reg_ctr_diff)"
   ]
  },
  {
   "cell_type": "code",
   "execution_count": null,
   "id": "8d062a7d",
   "metadata": {},
   "outputs": [],
   "source": [
    "plot(acf(resid(reg_ctr_diff)))"
   ]
  },
  {
   "cell_type": "code",
   "execution_count": null,
   "id": "94f4ec7f",
   "metadata": {},
   "outputs": [],
   "source": [
    "# robust standrad error\n",
    "coeftest(reg_ctr_diff, vcov = NeweyWest(reg_ctr_diff, lag=2))"
   ]
  },
  {
   "cell_type": "code",
   "execution_count": null,
   "id": "7e32b2e7",
   "metadata": {},
   "outputs": [],
   "source": [
    "diff_pred1 <- predict(reg_ctr_diff, ctr_ts_spread) \n",
    "# To estimate all predicted values of Y, we just use our dataset\n",
    "\n",
    "diff_datanew <- as.data.frame(cbind(Time = rep(1 : length(ctr_ts_spread$Time)), \n",
    "                                    Intervention = 0, \n",
    "                                    TimeSince = 0)) \n",
    "# Create a new dataset where Treatment and Time Since Treatment are equal to 0 as the intervention did not occur.\n",
    "diff_pred2 <- predict(reg_ctr_diff, diff_datanew)\n",
    "# Predict the counterfactuals\n",
    "\n",
    "plot(ctr_ts_spread$ctr_diff, \n",
    "      bty=\"n\",\n",
    "      col = gray(0.3,0.5), pch=19,\n",
    "      #ylim = c(0, 0.04), \n",
    "      xlim = c(0,72),\n",
    "      main = \"Difference in Rate of visitors who clicked on at least 1 related link (per 100,000 visitors)\",\n",
    "      xlab = \"Time elapsed since beginning of study (days)\", \n",
    "      ylab = \"Difference in Rate of visitors (per 100,000)\")\n",
    "\n",
    "lines( 1:41, diff_pred1[1:41], col=\"dodgerblue4\", lwd = 3 )\n",
    "lines( 42:70, diff_pred2[42:70], col=\"dodgerblue4\", lwd = 3 )\n",
    "lines( 42:70, diff_pred2[42:70], col=\"darkorange2\", lwd = 3, lty = 5 ) \n",
    "\n",
    "text(45, 1500, labels = \"Predicted values\", pos = 4, cex = 1.3, col = \"dodgerblue3\")\n",
    "text(50, 2700, labels = \"Counterfactual\", pos = 4, cex = 1.3, col = \"darkorange2\")\n",
    "\n",
    "# Line marking the interruption\n",
    "abline( v=42, col=\"firebrick\",lwd = 2, lty=2 )\n",
    "text( 42, 350, \"Start of weighted related links\", col=\"firebrick\", cex=1.3, pos=4 )\n"
   ]
  },
  {
   "cell_type": "markdown",
   "id": "407fcba1",
   "metadata": {},
   "source": [
    "So after accounting for confounding variables via the controlled time series, we can see there is actually no effect whatsoever due to our intervention"
   ]
  },
  {
   "cell_type": "code",
   "execution_count": null,
   "id": "625c9dd5",
   "metadata": {},
   "outputs": [],
   "source": []
  },
  {
   "cell_type": "code",
   "execution_count": null,
   "id": "112465e2",
   "metadata": {},
   "outputs": [],
   "source": []
  },
  {
   "cell_type": "markdown",
   "id": "27dde629",
   "metadata": {},
   "source": [
    "### Proportion of repeated-clicker visitors"
   ]
  },
  {
   "cell_type": "markdown",
   "id": "c11d5f53",
   "metadata": {},
   "source": [
    "Let's do the same for our second evaluation metric"
   ]
  },
  {
   "cell_type": "code",
   "execution_count": null,
   "id": "db8116db",
   "metadata": {
    "scrolled": true
   },
   "outputs": [],
   "source": [
    "unique(ts_long$metric)"
   ]
  },
  {
   "cell_type": "code",
   "execution_count": null,
   "id": "1780deda",
   "metadata": {},
   "outputs": [],
   "source": [
    "repeat_ts <- ts_long %>% filter(metric %in% c('visitors_that_clicked_rl', 'visitors_2_or_more_rl')) \n",
    "\n",
    "\n",
    "repeat_ts <- repeat_ts %>%\n",
    "    group_by(time_series, metric) %>%\n",
    "    mutate(Time = row_number()) %>%\n",
    "    mutate(Intervention = ifelse(date <= as.Date(\"2021-11-20\"), 0, 1))"
   ]
  },
  {
   "cell_type": "code",
   "execution_count": null,
   "id": "239ca46c",
   "metadata": {},
   "outputs": [],
   "source": [
    "# check\n",
    "table(repeat_ts[repeat_ts$metric == \"visitors_2_or_more_rl\",]$time_series)\n",
    "table(repeat_ts[repeat_ts$metric == \"visitors_that_clicked_rl\",]$time_series)"
   ]
  },
  {
   "cell_type": "code",
   "execution_count": null,
   "id": "8f8e7599",
   "metadata": {},
   "outputs": [],
   "source": [
    "head(repeat_ts)"
   ]
  },
  {
   "cell_type": "code",
   "execution_count": null,
   "id": "f04deef8",
   "metadata": {},
   "outputs": [],
   "source": [
    "repeat_ts_spread <- repeat_ts %>%\n",
    "    spread(metric, value)"
   ]
  },
  {
   "cell_type": "code",
   "execution_count": null,
   "id": "8e5c34aa",
   "metadata": {},
   "outputs": [],
   "source": [
    "repeat_ts_spread$TimeSince <- 0\n",
    "repeat_ts_spread[repeat_ts_spread$time_series==\"intervention\",]$TimeSince <- c(rep(0, 41), rep(1:29))\n",
    "repeat_ts_spread[repeat_ts_spread$time_series==\"control\",]$TimeSince <- c(rep(0, 41), rep(1:29))"
   ]
  },
  {
   "cell_type": "code",
   "execution_count": null,
   "id": "d7a3c513",
   "metadata": {},
   "outputs": [],
   "source": [
    "repeat_ts_spread$repeated_ctr <- with(repeat_ts_spread, visitors_2_or_more_rl/visitors_that_clicked_rl*10^3)"
   ]
  },
  {
   "cell_type": "code",
   "execution_count": null,
   "id": "356a391b",
   "metadata": {},
   "outputs": [],
   "source": [
    "head(repeat_ts_spread)"
   ]
  },
  {
   "cell_type": "code",
   "execution_count": null,
   "id": "cacdc577",
   "metadata": {},
   "outputs": [],
   "source": [
    "repeat_ts_int <- repeat_ts_spread %>% filter(time_series==\"intervention\")"
   ]
  },
  {
   "cell_type": "code",
   "execution_count": null,
   "id": "9b5c0178",
   "metadata": {},
   "outputs": [],
   "source": [
    "repeat_ts_int[38:44,]"
   ]
  },
  {
   "cell_type": "code",
   "execution_count": null,
   "id": "494707b8",
   "metadata": {},
   "outputs": [],
   "source": []
  },
  {
   "cell_type": "markdown",
   "id": "1447d52f",
   "metadata": {},
   "source": [
    "### ITS analysis\n",
    "\n",
    "We use the same approach and run an LSO on the rate values (per 10,000) (we can confirm with a quasipoisson as above later if needed), modelling seasonality with Fourier terms and autocorrelated errors with robust NeweyWest standard errors."
   ]
  },
  {
   "cell_type": "code",
   "execution_count": null,
   "id": "00b4bf13",
   "metadata": {},
   "outputs": [],
   "source": [
    "plot(repeat_ts_int$repeated_ctr, \n",
    "      bty=\"n\",\n",
    "      col = gray(0.3,0.5), pch=19,\n",
    "      xlim = c(0,72),\n",
    "      main = \"Rate of repeated-click visitors (per 1,000 visitors)\",\n",
    "      xlab = \"Time elapsed since beginning of study (days)\", \n",
    "      ylab = \"Rate of repeated-click visitors (per 1,000)\")\n",
    "\n",
    "# Line marking the interruption\n",
    "abline( v=42, col=\"firebrick\",lwd = 2, lty=2 )\n",
    "text( 42, 160, \"Start of weighted related links\", col=\"firebrick\", cex=1.3, pos=4 )\n"
   ]
  },
  {
   "cell_type": "code",
   "execution_count": null,
   "id": "9ac4e1c4",
   "metadata": {},
   "outputs": [],
   "source": [
    "reg_repeated <- lm( repeated_ctr ~ Time + Intervention + TimeSince +\n",
    "                tsModel::harmonic(repeat_ts_int$date,2,7), \n",
    "                    data=repeat_ts_int)\n"
   ]
  },
  {
   "cell_type": "code",
   "execution_count": null,
   "id": "19f575cc",
   "metadata": {},
   "outputs": [],
   "source": [
    "plot(acf(resid(reg_repeated)))"
   ]
  },
  {
   "cell_type": "code",
   "execution_count": null,
   "id": "9d50dc88",
   "metadata": {},
   "outputs": [],
   "source": [
    "# robust standrad error\n",
    "coeftest(reg_repeated, vcov = NeweyWest(reg_repeated, lag=2))"
   ]
  },
  {
   "cell_type": "markdown",
   "id": "1a0b631f",
   "metadata": {},
   "source": [
    "No effect of our intervention (switch to related links), just a slight pre-intervention increase seemingly unaffacted by our intervention) "
   ]
  },
  {
   "cell_type": "code",
   "execution_count": null,
   "id": "2859a0b3",
   "metadata": {},
   "outputs": [],
   "source": [
    "rep_pred1 <- predict(reg_repeated, repeat_ts_int) \n",
    "# To estimate all predicted values of Y, we just use our dataset\n",
    "\n",
    "rep_datanew <- as.data.frame(cbind(\n",
    "    Time = rep(1 : length(repeat_ts_int$Time)), \n",
    "    Intervention = 0, \n",
    "    TimeSince = 0)) \n",
    "# Create a new dataset where Treatment and Time Since Treatment are equal to 0 as the intervention did not occur.\n",
    "rep_pred2 <- predict(reg_repeated, rep_datanew)\n",
    "# Predict the counterfactuals\n",
    "\n",
    "plot(repeat_ts_int$repeated_ctr, \n",
    "      bty=\"n\",\n",
    "      col = gray(0.3,0.5), pch=19,\n",
    "      ylim = c(170, 250), \n",
    "      xlim = c(0,72),\n",
    "      main = \"Rate of repeated-clicker visitors (per 1,000 visitors)\",\n",
    "      xlab = \"Time elapsed since beginning of study (days)\", \n",
    "      ylab = \"Rate of visitors (per 1,000)\")\n",
    "\n",
    "lines( 1:41, rep_pred1[1:41], col=\"dodgerblue4\", lwd = 3 )\n",
    "lines( 42:70, rep_pred1[42:70], col=\"dodgerblue4\", lwd = 3 )\n",
    "lines( 42:70, rep_pred2[42:70], col=\"darkorange2\", lwd = 3, lty = 5 ) \n",
    "\n",
    "text(45, 190, labels = \"Predicted values\", pos = 4, cex = 1.3, col = \"dodgerblue3\")\n",
    "text(50, 230, labels = \"Counterfactual\", pos = 4, cex = 1.3, col = \"darkorange2\")\n",
    "\n",
    "# Line marking the interruption\n",
    "abline( v=42, col=\"firebrick\",lwd = 2, lty=2 )\n",
    "text( 42, 170, \"Start of weighted related links\", col=\"firebrick\", cex=1.3, pos=4 )\n"
   ]
  },
  {
   "cell_type": "code",
   "execution_count": null,
   "id": "b4c5f3d5",
   "metadata": {},
   "outputs": [],
   "source": []
  },
  {
   "cell_type": "markdown",
   "id": "aee08c39",
   "metadata": {},
   "source": [
    "### Controlled time-series"
   ]
  },
  {
   "cell_type": "code",
   "execution_count": null,
   "id": "ff78adfc",
   "metadata": {},
   "outputs": [],
   "source": [
    "repeat_ts_spread <- repeat_ts_spread %>%\n",
    "    mutate(ctr = visitors_that_clicked_rl/visitors*10^5)"
   ]
  },
  {
   "cell_type": "code",
   "execution_count": null,
   "id": "5dfcc7af",
   "metadata": {},
   "outputs": [],
   "source": [
    "diff_repeat_ts <- repeat_ts_spread %>%\n",
    "    select(date, time_series, Time, Intervention, TimeSince, repeated_ctr) %>%\n",
    "    spread(time_series, repeated_ctr)"
   ]
  },
  {
   "cell_type": "code",
   "execution_count": null,
   "id": "41b22afd",
   "metadata": {},
   "outputs": [],
   "source": [
    "head(diff_repeat_ts)"
   ]
  },
  {
   "cell_type": "code",
   "execution_count": null,
   "id": "cd9ad46b",
   "metadata": {},
   "outputs": [],
   "source": [
    "diff_repeat_ts$repeat_diff <- with(diff_repeat_ts, intervention-control)"
   ]
  },
  {
   "cell_type": "code",
   "execution_count": null,
   "id": "592abd7f",
   "metadata": {},
   "outputs": [],
   "source": [
    "head(diff_repeat_ts)"
   ]
  },
  {
   "cell_type": "code",
   "execution_count": null,
   "id": "ad803973",
   "metadata": {},
   "outputs": [],
   "source": [
    "plot(diff_repeat_ts$repeat_diff, \n",
    "      bty=\"n\",\n",
    "      col = gray(0.3,0.5), pch=19,\n",
    "      #ylim = c(170, 250), \n",
    "      xlim = c(0,72),\n",
    "      main = \"Difference in rate of repeated-clicker visitors (per 1,000 visitors)\",\n",
    "      xlab = \"Time elapsed since beginning of study (days)\", \n",
    "      ylab = \"Difference in rate of visitors (per 1,000)\")\n",
    "\n",
    "# Line marking the interruption\n",
    "abline( v=42, col=\"firebrick\",lwd = 2, lty=2 )\n",
    "text( 42, 29, \"Start of weighted related links\", col=\"firebrick\", cex=1.3, pos=4 )\n"
   ]
  },
  {
   "cell_type": "code",
   "execution_count": null,
   "id": "a72eb3d4",
   "metadata": {},
   "outputs": [],
   "source": [
    "reg_repeat_diff <- lm( repeat_diff ~ Time + Intervention + TimeSince +\n",
    "                tsModel::harmonic(diff_repeat_ts$date,2,7), \n",
    "                    data=diff_repeat_ts)\n"
   ]
  },
  {
   "cell_type": "code",
   "execution_count": null,
   "id": "82ddc616",
   "metadata": {},
   "outputs": [],
   "source": [
    "summary(reg_repeat_diff)"
   ]
  },
  {
   "cell_type": "code",
   "execution_count": null,
   "id": "eec6fc6d",
   "metadata": {},
   "outputs": [],
   "source": [
    "plot(acf(resid(reg_repeat_diff)))"
   ]
  },
  {
   "cell_type": "code",
   "execution_count": null,
   "id": "0e875d56",
   "metadata": {},
   "outputs": [],
   "source": [
    "# robust standrad error\n",
    "coeftest(reg_repeat_diff, vcov = NeweyWest(reg_repeat_diff, lag=3))"
   ]
  },
  {
   "cell_type": "code",
   "execution_count": null,
   "id": "435b0619",
   "metadata": {},
   "outputs": [],
   "source": [
    "rep_diff_pred1 <- predict(reg_repeat_diff, diff_repeat_ts) \n",
    "# To estimate all predicted values of Y, we just use our dataset\n",
    "\n",
    "rep_diff_datanew <- as.data.frame(cbind(\n",
    "    Time = rep(1 : length(diff_repeat_ts$Time)), \n",
    "    Intervention = 0, \n",
    "    TimeSince = 0)) \n",
    "# Create a new dataset where Treatment and Time Since Treatment are equal to 0 as the intervention did not occur.\n",
    "rep_diff_pred2 <- predict(reg_repeat_diff, rep_diff_datanew)\n",
    "# Predict the counterfactuals\n",
    "\n",
    "plot(diff_repeat_ts$repeat_diff, \n",
    "      bty=\"n\",\n",
    "      col = gray(0.3,0.5), pch=19,\n",
    "      ylim = c(0, 70), \n",
    "      xlim = c(0,72),\n",
    "      main = \"Difference in rate of repeated-clicker visitors (per 1,000 visitors)\",\n",
    "      xlab = \"Time elapsed since beginning of study (days)\", \n",
    "      ylab = \"Difference in rate of visitors (per 1,000)\")\n",
    "\n",
    "lines( 1:41, rep_diff_pred1[1:41], col=\"dodgerblue4\", lwd = 3 )\n",
    "lines( 41:70, rep_diff_pred1[41:70], col=\"dodgerblue4\", lwd = 3 )\n",
    "lines( 42:70, rep_diff_pred2[42:70], col=\"darkorange2\", lwd = 3, lty = 5 ) \n",
    "\n",
    "text(45, 38, labels = \"Predicted values\", pos = 4, cex = 1.3, col = \"dodgerblue3\")\n",
    "text(50, 68, labels = \"Counterfactual\", pos = 4, cex = 1.3, col = \"darkorange2\")\n",
    "\n",
    "# Line marking the interruption\n",
    "abline( v=42, col=\"firebrick\",lwd = 2, lty=2 )\n",
    "text( 42, 0, \"Start of weighted related links\", col=\"firebrick\", cex=1.3, pos=4 )\n"
   ]
  },
  {
   "cell_type": "markdown",
   "id": "89d02929",
   "metadata": {},
   "source": [
    "Here again, no expected effect of our intervention on the time series of the evaluation metric."
   ]
  },
  {
   "cell_type": "code",
   "execution_count": null,
   "id": "7da232c1",
   "metadata": {},
   "outputs": [],
   "source": []
  }
 ],
 "metadata": {
  "kernelspec": {
   "display_name": "R",
   "language": "R",
   "name": "ir"
  },
  "language_info": {
   "codemirror_mode": "r",
   "file_extension": ".r",
   "mimetype": "text/x-r-source",
   "name": "R",
   "pygments_lexer": "r",
   "version": "4.1.1"
  }
 },
 "nbformat": 4,
 "nbformat_minor": 5
}
