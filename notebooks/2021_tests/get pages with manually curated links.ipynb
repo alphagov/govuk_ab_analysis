{
 "cells": [
  {
   "cell_type": "code",
   "execution_count": 17,
   "metadata": {
    "ExecuteTime": {
     "end_time": "2021-11-24T15:28:59.230091Z",
     "start_time": "2021-11-24T15:28:46.286198Z"
    }
   },
   "outputs": [],
   "source": [
    "import pandas as pd\n",
    "\n",
    "import pymongo"
   ]
  },
  {
   "cell_type": "markdown",
   "metadata": {},
   "source": [
    "Use [govuk-mongodb-content](https://github.com/alphagov/govuk-mongodb-content) to setup local mongodb instance, using documentation [here](https://docs.google.com/document/d/1RhJwC79XLryOpr1ELWfG0E1eni4dGMompOjOZrDADd0/edit#heading=h.qkjm4ngtcm81)"
   ]
  },
  {
   "cell_type": "code",
   "execution_count": 2,
   "metadata": {
    "ExecuteTime": {
     "end_time": "2021-11-24T14:48:09.409067Z",
     "start_time": "2021-11-24T14:48:08.866932Z"
    }
   },
   "outputs": [],
   "source": [
    "mongo_client = pymongo.MongoClient(\"mongodb://localhost:27017/\")\n",
    "\n",
    "content_store_db = mongo_client['content_store']\n",
    "content_store_collection = content_store_db['content_items']"
   ]
  },
  {
   "cell_type": "code",
   "execution_count": 3,
   "metadata": {
    "ExecuteTime": {
     "end_time": "2021-11-24T14:49:53.739595Z",
     "start_time": "2021-11-24T14:49:53.734178Z"
    }
   },
   "outputs": [],
   "source": [
    "CONTENT_ID_PROJECTION = {\"content_id\": 1}"
   ]
  },
  {
   "cell_type": "code",
   "execution_count": 9,
   "metadata": {
    "ExecuteTime": {
     "end_time": "2021-11-24T14:56:56.793591Z",
     "start_time": "2021-11-24T14:56:56.789102Z"
    }
   },
   "outputs": [],
   "source": [
    "FILTER_HAS_MANUAL_RELATED_LINKS = {\n",
    "    \"$or\": [\n",
    "#             standard related links\n",
    "            {\"expanded_links.ordered_related_items\": {\"$exists\": True}},\n",
    "               \n",
    "#             related_mainstream_content link, e.g. see /guidance/work-out-if-youll-pay-the-scottish-rate-of-income-tax\n",
    "            {\"expanded_links.related_mainstream_content\": {\"$exists\": True}},\n",
    "        \n",
    "#             quick_links, e.g. see /government/organisations/hm-revenue-customs/contact/creative-industry-tax-reliefs\n",
    "            {\"details.quick_links\": {\"$exists\": True}} \n",
    "        ]}"
   ]
  },
  {
   "cell_type": "code",
   "execution_count": 14,
   "metadata": {
    "ExecuteTime": {
     "end_time": "2021-11-24T15:12:28.158087Z",
     "start_time": "2021-11-24T15:12:28.153940Z"
    },
    "code_folding": []
   },
   "outputs": [],
   "source": [
    "pages_with_manual_related_links_cursor = content_store_collection.find(\n",
    "    FILTER_HAS_MANUAL_RELATED_LINKS,\n",
    "    CONTENT_ID_PROJECTION)"
   ]
  },
  {
   "cell_type": "code",
   "execution_count": 15,
   "metadata": {
    "ExecuteTime": {
     "end_time": "2021-11-24T15:14:46.892710Z",
     "start_time": "2021-11-24T15:12:43.847572Z"
    }
   },
   "outputs": [],
   "source": [
    "pages_with_manual_related_links = list(pages_with_manual_related_links_cursor)"
   ]
  },
  {
   "cell_type": "code",
   "execution_count": 19,
   "metadata": {
    "ExecuteTime": {
     "end_time": "2021-11-24T15:34:39.154816Z",
     "start_time": "2021-11-24T15:34:39.140743Z"
    }
   },
   "outputs": [],
   "source": [
    "manual_related_links_df = pd.DataFrame(pages_with_manual_related_links)"
   ]
  },
  {
   "cell_type": "code",
   "execution_count": 22,
   "metadata": {
    "ExecuteTime": {
     "end_time": "2021-11-24T15:35:44.565258Z",
     "start_time": "2021-11-24T15:35:44.561134Z"
    }
   },
   "outputs": [],
   "source": [
    "manual_related_links_df = manual_related_links_df.rename(\n",
    "    columns = {'_id': 'page_path'})"
   ]
  },
  {
   "cell_type": "code",
   "execution_count": 24,
   "metadata": {
    "ExecuteTime": {
     "end_time": "2021-11-24T15:37:16.728717Z",
     "start_time": "2021-11-24T15:37:16.659298Z"
    }
   },
   "outputs": [],
   "source": [
    "manual_related_links_df.to_csv(\n",
    "    'manually_curated_related_links_pages.csv',\n",
    "    index=False)"
   ]
  }
 ],
 "metadata": {
  "kernelspec": {
   "display_name": "Python 3",
   "language": "python",
   "name": "python3"
  },
  "language_info": {
   "codemirror_mode": {
    "name": "ipython",
    "version": 3
   },
   "file_extension": ".py",
   "mimetype": "text/x-python",
   "name": "python",
   "nbconvert_exporter": "python",
   "pygments_lexer": "ipython3",
   "version": "3.7.2"
  },
  "toc": {
   "base_numbering": 1,
   "nav_menu": {},
   "number_sections": true,
   "sideBar": true,
   "skip_h1_title": false,
   "title_cell": "Table of Contents",
   "title_sidebar": "Contents",
   "toc_cell": false,
   "toc_position": {},
   "toc_section_display": true,
   "toc_window_display": false
  }
 },
 "nbformat": 4,
 "nbformat_minor": 2
}
