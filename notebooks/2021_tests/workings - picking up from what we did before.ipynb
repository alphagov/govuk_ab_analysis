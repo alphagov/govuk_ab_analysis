{
 "cells": [
  {
   "cell_type": "markdown",
   "metadata": {},
   "source": [
    "# Intro & Summary"
   ]
  },
  {
   "cell_type": "code",
   "execution_count": 1,
   "metadata": {
    "ExecuteTime": {
     "end_time": "2021-11-05T11:23:39.135021Z",
     "start_time": "2021-11-05T11:23:31.151206Z"
    }
   },
   "outputs": [],
   "source": [
    "import os\n",
    "import pymongo\n",
    "import yaml\n",
    "\n",
    "import pandas as pd"
   ]
  },
  {
   "cell_type": "markdown",
   "metadata": {},
   "source": [
    "## What we did before\n",
    "\n",
    "This is the previous function to see if a page was a \"loved\" page\n",
    "\n",
    "```\n",
    "def is_loved_page(page):\n",
    "    page = page.split('?')[0]\n",
    "    return any([\n",
    "        re.compile(r'/foreign-travel-advice/|/find-local-council/|/premises-licence/').match(page),\n",
    "        page in hmrc_contact_pages_set,\n",
    "        page in loved_page_paths_set,\n",
    "        page == '/help',\n",
    "        page in ['/help/terms-conditions', \n",
    "         '/help/about-govuk',\n",
    "         '/help/accessibility', \n",
    "         '/help/privacy-policy',\n",
    "         '/help/cookies', \n",
    "         '/help/update-email-notifications',\n",
    "         '/help/browsers', \n",
    "         '/help/beta'],\n",
    "        any([pagepath in page for pagepath in loved_smart_answers]), \n",
    "        \n",
    "        page in ['/visit-europe-brexit',\n",
    "            '/apply-company-tachograph-card',\n",
    "            '/cymraeg',\n",
    "            '/guidance/apprenticeship-funding-rules'],\n",
    "        any([pagepath in page for pagepath in [\n",
    "            '/food-premises-approval','/marriage-abroad',\n",
    "            '/guidance/transport-goods-out-of-the-uk-by-road-if-the-uk-leaves-the-eu-without-a-deal-checklist-for-hauliers',\n",
    "            '/check-british-citizenship','/renew-driving-licence']])\n",
    "        ])\n",
    "```\n"
   ]
  },
  {
   "cell_type": "markdown",
   "metadata": {},
   "source": [
    "`hmrc_contact_pages_set` came from the links on https://www.gov.uk/government/organisations/hm-revenue-customs/contact\n",
    "perhaps we can use a `document_type` or similar this time?"
   ]
  },
  {
   "cell_type": "markdown",
   "metadata": {},
   "source": [
    "Previously we were comparing just page paths, which meant having to expand out a page into a list of all the possible page paths based on its slugs, whereas if we use content IDs we won't have to do that"
   ]
  },
  {
   "cell_type": "markdown",
   "metadata": {},
   "source": [
    "### What this means"
   ]
  },
  {
   "cell_type": "markdown",
   "metadata": {},
   "source": [
    "- re.compile(r'/foreign-travel-advice/|/find-local-council/|/premises-licence/').match(page),\n",
    "    - /foreign-travel-advice/* pages have `links.ordered_related_items`\n",
    "    - /find-local-council/* pages have `links.ordered_related_items`\n",
    "    - /premises-licence/* pages have `links.ordered_related_items`\n",
    "- hmrc_contact_pages_set contains pages from https://www.gov.uk/government/organisations/hm-revenue-customs/contact,they have `document_type = contact`, they have `details.quicklinks` that are displayed in the right hand sidebar, and links in a field `links.related` that get shown at the bottom of the page\n",
    "    - another couple of pages have `document_type = contact` and also have `details.quicklinks` that are displayed in the right hand sidebar\n",
    "- loved_page_paths_set was created looking for     `related_mainstream_content.notnull() or ordered_related_items.notnull()or part_of_step_navs.notnull() or quick_links.notnull()`\n",
    "- page == '/help' has `links.ordered_related_items`\n",
    "    - '/help/terms-conditions', has `links.ordered_related_items`\n",
    "    - '/help/about-govuk', has `links.ordered_related_items`\n",
    "    - '/help/accessibility', has `links.ordered_related_items`\n",
    "    - '/help/privacy-policy', has `links.ordered_related_items`\n",
    "    - '/help/cookies',  does not have related links\n",
    "    - '/help/update-email-notifications', has `links.ordered_related_items`\n",
    "    -'/help/browsers', has `links.ordered_related_items`\n",
    "    -'/help/beta' has `links.ordered_related_items`\n",
    "- any([pagepath in page for pagepath in loved_smart_answers] is based on the set of pages with `document_type = simple_smart_answer`, these have `links.part_of_step_navs` and/or `links.ordered_related_items`\n",
    "- '/visit-europe-brexit' redirects to '/visit-eu-switzerland-norway-iceland-liechtenstein', which has `links.ordered_related_items` and `links.document_collections` \n",
    "- '/apply-company-tachograph-card' has `links.ordered_related_items` and `links.document_collections`\n",
    "- '/cymraeg' has `ordered_related_items`\n",
    "- '/guidance/apprenticeship-funding-rules' has `links.related_mainstream_content`\n",
    "- /food-premises-approval' has `links.ordered_related_items`\n",
    "- '/marriage-abroad' has `links.ordered_related_items`\n",
    "- '/guidance/transport-goods-out-of-the-uk-by-road-if-the-uk-leaves-the-eu-without-a-deal-checklist-for-hauliers' redirects to /guidance/transporting-goods-between-great-britain-and-the-eu-by-roro-freight-guidance-for-hauliers \n",
    "- '/check-british-citizenship' has `links.ordered_related_items`\n",
    "- ,'/renew-driving-licence' has `link.ordered_related_items`"
   ]
  },
  {
   "cell_type": "markdown",
   "metadata": {},
   "source": [
    "So what we should look for to find pages with manually curated links:\n",
    " - `links.ordered_related_items` exists\n",
    " - `links.related_mainstream_content` exists\n",
    " - `details.quicklinks` exists\n",
    " \n",
    " The following may mean any suggested links won't be shown:\n",
    " - `links.ordered_related_items` exists\n",
    " - `links.part_of_step_navs` exists\n",
    " - `details.quicklinks` exists"
   ]
  },
  {
   "cell_type": "markdown",
   "metadata": {},
   "source": [
    "# Workings"
   ]
  },
  {
   "cell_type": "markdown",
   "metadata": {},
   "source": [
    "## Connect to mongodb instance, look at some pages\n",
    "Using the guide in [govuk-mongodb-content](https://github.com/alphagov/govuk-mongodb-content)"
   ]
  },
  {
   "cell_type": "code",
   "execution_count": 2,
   "metadata": {
    "ExecuteTime": {
     "end_time": "2021-11-05T12:32:53.031259Z",
     "start_time": "2021-11-05T12:32:52.918440Z"
    }
   },
   "outputs": [],
   "source": [
    "mongo_client = pymongo.MongoClient(\"mongodb://localhost:27017/\")"
   ]
  },
  {
   "cell_type": "code",
   "execution_count": 3,
   "metadata": {
    "ExecuteTime": {
     "end_time": "2021-11-05T12:32:53.300545Z",
     "start_time": "2021-11-05T12:32:53.296727Z"
    }
   },
   "outputs": [],
   "source": [
    "content_store_db = mongo_client['content_store']\n",
    "content_store_collection = content_store_db['content_items']"
   ]
  },
  {
   "cell_type": "code",
   "execution_count": 4,
   "metadata": {
    "ExecuteTime": {
     "end_time": "2021-11-05T12:32:54.747997Z",
     "start_time": "2021-11-05T12:32:54.743245Z"
    }
   },
   "outputs": [],
   "source": [
    "def read_exclusions_yaml(filepath):\n",
    "    with open(filepath,'r') as f:\n",
    "        return yaml.safe_load(f)"
   ]
  },
  {
   "cell_type": "code",
   "execution_count": 5,
   "metadata": {
    "ExecuteTime": {
     "end_time": "2021-11-05T12:32:55.884820Z",
     "start_time": "2021-11-05T12:32:55.870676Z"
    }
   },
   "outputs": [],
   "source": [
    "BLOCKLIST_DOCUMENT_TYPES = read_exclusions_yaml(\n",
    "    '../../govuk-related-links-recommender/src/config/document_types_excluded_from_the_topic_taxonomy.yml')[\n",
    "    'document_types']"
   ]
  },
  {
   "cell_type": "code",
   "execution_count": 6,
   "metadata": {
    "ExecuteTime": {
     "end_time": "2021-11-05T12:32:56.506317Z",
     "start_time": "2021-11-05T12:32:56.503057Z"
    }
   },
   "outputs": [],
   "source": [
    "CONTENT_ID_PROJECTION = {\"content_id\": 1}"
   ]
  },
  {
   "cell_type": "code",
   "execution_count": 7,
   "metadata": {
    "ExecuteTime": {
     "end_time": "2021-11-04T11:43:22.639313Z",
     "start_time": "2021-11-04T11:43:22.635757Z"
    }
   },
   "outputs": [],
   "source": [
    "one_page = content_store_collection.find(\n",
    "    {\"_id\": {\"$eq\": \"/government/organisations/hm-revenue-customs/contact/creative-industry-tax-reliefs\"}})"
   ]
  },
  {
   "cell_type": "code",
   "execution_count": 8,
   "metadata": {
    "ExecuteTime": {
     "end_time": "2021-11-04T11:43:22.992576Z",
     "start_time": "2021-11-04T11:43:22.923001Z"
    }
   },
   "outputs": [],
   "source": [
    "page1 = list(one_page)[0]"
   ]
  },
  {
   "cell_type": "code",
   "execution_count": null,
   "metadata": {
    "ExecuteTime": {
     "end_time": "2021-11-04T11:43:23.153380Z",
     "start_time": "2021-11-04T11:43:23.138296Z"
    }
   },
   "outputs": [],
   "source": [
    "page1"
   ]
  },
  {
   "cell_type": "code",
   "execution_count": 8,
   "metadata": {
    "ExecuteTime": {
     "end_time": "2021-11-05T12:34:37.751888Z",
     "start_time": "2021-11-05T12:34:37.748732Z"
    }
   },
   "outputs": [],
   "source": [
    "simple_smart_answers = content_store_collection.find(\n",
    "    {\"document_type\": {\"$eq\": \"simple_smart_answer\"}},\n",
    "    {\"content_id\": 1})"
   ]
  },
  {
   "cell_type": "code",
   "execution_count": null,
   "metadata": {
    "ExecuteTime": {
     "end_time": "2021-11-05T12:35:59.505431Z",
     "start_time": "2021-11-05T12:34:43.252277Z"
    }
   },
   "outputs": [],
   "source": [
    "list(simple_smart_answers)"
   ]
  },
  {
   "cell_type": "markdown",
   "metadata": {},
   "source": [
    "## get pages that have curated related links\n",
    "previously known as `loved_page_paths_set`\n",
    "e.g. ordered_related_items as a field"
   ]
  },
  {
   "cell_type": "code",
   "execution_count": 10,
   "metadata": {
    "ExecuteTime": {
     "end_time": "2021-11-04T11:43:24.313534Z",
     "start_time": "2021-11-04T11:43:24.306844Z"
    }
   },
   "outputs": [],
   "source": [
    "FILTER_HAS_RELATED_LINKS = {\n",
    "    \"$and\": [\n",
    "        { \"$or\": [\n",
    "#             standard related links\n",
    "            {\"expanded_links.ordered_related_items\": {\"$exists\": True}},\n",
    "            \n",
    "#             step by step deails in the right hand panel, e.g. /limited-company-formation\n",
    "            {\"expanded_links.part_of_step_navs\": {\"$exists\": True}},\n",
    "        \n",
    "#             related_mainstream_content link, e.g. see /guidance/work-out-if-youll-pay-the-scottish-rate-of-income-tax\n",
    "            {\"expanded_links.related_mainstream_content\": {\"$exists\": True}},\n",
    "        \n",
    "#             quick_links, e.g. see /government/organisations/hm-revenue-customs/contact/creative-industry-tax-reliefs\n",
    "            {\"details.quick_links\": {\"$exists\": True}} \n",
    "        ]},\n",
    "        {\"document_type\": {\"$nin\": BLOCKLIST_DOCUMENT_TYPES}},\n",
    "        {\"phase\": \"live\"}]}\n",
    "\n",
    "pages_with_related_links = content_store_collection.find(FILTER_HAS_RELATED_LINKS, CONTENT_ID_PROJECTION)"
   ]
  },
  {
   "cell_type": "code",
   "execution_count": 11,
   "metadata": {
    "ExecuteTime": {
     "end_time": "2021-11-04T11:44:42.368279Z",
     "start_time": "2021-11-04T11:43:24.662808Z"
    }
   },
   "outputs": [],
   "source": [
    "list_pages_with_related_links = list(pages_with_related_links)"
   ]
  },
  {
   "cell_type": "code",
   "execution_count": 12,
   "metadata": {
    "ExecuteTime": {
     "end_time": "2021-11-04T11:44:42.380628Z",
     "start_time": "2021-11-04T11:44:42.371131Z"
    }
   },
   "outputs": [
    {
     "data": {
      "text/plain": [
       "{'_id': '/1619-bursary-fund',\n",
       " 'content_id': 'f4b96a38-5247-4afd-b554-8a258a0e8c93'}"
      ]
     },
     "execution_count": 12,
     "metadata": {},
     "output_type": "execute_result"
    }
   ],
   "source": [
    "list_pages_with_related_links[0]"
   ]
  },
  {
   "cell_type": "code",
   "execution_count": 13,
   "metadata": {
    "ExecuteTime": {
     "end_time": "2021-11-04T11:44:42.405120Z",
     "start_time": "2021-11-04T11:44:42.384377Z"
    }
   },
   "outputs": [],
   "source": [
    "df_pages_with_related_links = pd.DataFrame(list_pages_with_related_links)"
   ]
  },
  {
   "cell_type": "code",
   "execution_count": 14,
   "metadata": {
    "ExecuteTime": {
     "end_time": "2021-11-04T11:44:42.477212Z",
     "start_time": "2021-11-04T11:44:42.409981Z"
    }
   },
   "outputs": [
    {
     "data": {
      "text/html": [
       "<div>\n",
       "<style scoped>\n",
       "    .dataframe tbody tr th:only-of-type {\n",
       "        vertical-align: middle;\n",
       "    }\n",
       "\n",
       "    .dataframe tbody tr th {\n",
       "        vertical-align: top;\n",
       "    }\n",
       "\n",
       "    .dataframe thead th {\n",
       "        text-align: right;\n",
       "    }\n",
       "</style>\n",
       "<table border=\"1\" class=\"dataframe\">\n",
       "  <thead>\n",
       "    <tr style=\"text-align: right;\">\n",
       "      <th></th>\n",
       "      <th>_id</th>\n",
       "      <th>content_id</th>\n",
       "    </tr>\n",
       "  </thead>\n",
       "  <tbody>\n",
       "    <tr>\n",
       "      <th>0</th>\n",
       "      <td>/1619-bursary-fund</td>\n",
       "      <td>f4b96a38-5247-4afd-b554-8a258a0e8c93</td>\n",
       "    </tr>\n",
       "    <tr>\n",
       "      <th>1</th>\n",
       "      <td>/30-hours-free-childcare</td>\n",
       "      <td>ddda6dc8-e9de-49db-bbd1-97e3d0bc1e6f</td>\n",
       "    </tr>\n",
       "    <tr>\n",
       "      <th>2</th>\n",
       "      <td>/access-to-elected-office-fund</td>\n",
       "      <td>e12e3c54-b544-4d94-ba1f-9846144374d2</td>\n",
       "    </tr>\n",
       "    <tr>\n",
       "      <th>3</th>\n",
       "      <td>/addisons-disease-driving</td>\n",
       "      <td>b319d900-b15a-4ced-8a75-d3326f987948</td>\n",
       "    </tr>\n",
       "    <tr>\n",
       "      <th>4</th>\n",
       "      <td>/adi-part-1-test</td>\n",
       "      <td>f2533b63-0341-4b9a-b37e-a88276b4783e</td>\n",
       "    </tr>\n",
       "  </tbody>\n",
       "</table>\n",
       "</div>"
      ],
      "text/plain": [
       "                              _id                            content_id\n",
       "0              /1619-bursary-fund  f4b96a38-5247-4afd-b554-8a258a0e8c93\n",
       "1        /30-hours-free-childcare  ddda6dc8-e9de-49db-bbd1-97e3d0bc1e6f\n",
       "2  /access-to-elected-office-fund  e12e3c54-b544-4d94-ba1f-9846144374d2\n",
       "3       /addisons-disease-driving  b319d900-b15a-4ced-8a75-d3326f987948\n",
       "4                /adi-part-1-test  f2533b63-0341-4b9a-b37e-a88276b4783e"
      ]
     },
     "execution_count": 14,
     "metadata": {},
     "output_type": "execute_result"
    }
   ],
   "source": [
    "df_pages_with_related_links.head()"
   ]
  },
  {
   "cell_type": "code",
   "execution_count": 15,
   "metadata": {
    "ExecuteTime": {
     "end_time": "2021-11-04T11:44:42.587612Z",
     "start_time": "2021-11-04T11:44:42.480892Z"
    }
   },
   "outputs": [],
   "source": [
    "df_pages_with_related_links.to_csv('../data/df_pages_with_related_links.csv')"
   ]
  },
  {
   "cell_type": "code",
   "execution_count": 16,
   "metadata": {
    "ExecuteTime": {
     "end_time": "2021-11-04T11:44:42.595708Z",
     "start_time": "2021-11-04T11:44:42.590615Z"
    }
   },
   "outputs": [
    {
     "data": {
      "text/plain": [
       "(3093, 2)"
      ]
     },
     "execution_count": 16,
     "metadata": {},
     "output_type": "execute_result"
    }
   ],
   "source": [
    "df_pages_with_related_links.shape"
   ]
  },
  {
   "cell_type": "markdown",
   "metadata": {},
   "source": [
    "## Explore hmrc_contact_pages_set\n",
    "looking at 'metadata/hmrc_contact_pages.json' we had 130 page paths such as /government/organisations/hm-revenue-customs/contact/agent-dedicated-line-debt-management\n",
    "\n",
    "I think this may be where those links sit, and it looks like they have the document type `contact` https://www.gov.uk/government/organisations/hm-revenue-customs/contact\n",
    "\n"
   ]
  },
  {
   "cell_type": "code",
   "execution_count": 23,
   "metadata": {
    "ExecuteTime": {
     "end_time": "2021-11-04T13:10:43.877821Z",
     "start_time": "2021-11-04T13:10:43.874186Z"
    }
   },
   "outputs": [],
   "source": [
    "FILTER_HMRC_CONTACT_PAGES = {\n",
    "    \"$and\": [\n",
    "        {\"document_type\": {\"$eq\": \"contact\"}},\n",
    "        {\"phase\": \"live\"}]}\n",
    "\n",
    "hmrc_contact_pages = content_store_collection.find(FILTER_HMRC_CONTACT_PAGES, \n",
    "                                                  {\"content_id\": 1,\n",
    "                                                   \"title\": 1})"
   ]
  },
  {
   "cell_type": "code",
   "execution_count": 24,
   "metadata": {
    "ExecuteTime": {
     "end_time": "2021-11-04T13:12:26.660075Z",
     "start_time": "2021-11-04T13:10:45.008552Z"
    }
   },
   "outputs": [],
   "source": [
    "hmrc_contact_pages_list = list(hmrc_contact_pages)"
   ]
  },
  {
   "cell_type": "code",
   "execution_count": 25,
   "metadata": {
    "ExecuteTime": {
     "end_time": "2021-11-04T13:12:26.672489Z",
     "start_time": "2021-11-04T13:12:26.664174Z"
    }
   },
   "outputs": [
    {
     "data": {
      "text/plain": [
       "140"
      ]
     },
     "execution_count": 25,
     "metadata": {},
     "output_type": "execute_result"
    }
   ],
   "source": [
    "len(hmrc_contact_pages_list)"
   ]
  },
  {
   "cell_type": "code",
   "execution_count": null,
   "metadata": {
    "ExecuteTime": {
     "end_time": "2021-11-04T13:13:27.325453Z",
     "start_time": "2021-11-04T13:13:27.317936Z"
    }
   },
   "outputs": [],
   "source": [
    "sorted([page['title'] for page in hmrc_contact_pages_list])"
   ]
  },
  {
   "cell_type": "code",
   "execution_count": 32,
   "metadata": {
    "ExecuteTime": {
     "end_time": "2021-11-04T13:15:39.724542Z",
     "start_time": "2021-11-04T13:15:39.720943Z"
    }
   },
   "outputs": [],
   "source": [
    "import urllib.request, json"
   ]
  },
  {
   "cell_type": "code",
   "execution_count": 34,
   "metadata": {
    "ExecuteTime": {
     "end_time": "2021-11-04T13:17:09.568876Z",
     "start_time": "2021-11-04T13:17:09.391474Z"
    }
   },
   "outputs": [],
   "source": [
    "with urllib.request.urlopen('https://www.gov.uk/api/content/government/organisations/hm-revenue-customs/contact') as url:\n",
    "    list_on_contact_page = json.loads(url.read().decode())"
   ]
  },
  {
   "cell_type": "code",
   "execution_count": 38,
   "metadata": {
    "ExecuteTime": {
     "end_time": "2021-11-04T13:18:04.855063Z",
     "start_time": "2021-11-04T13:18:04.851817Z"
    }
   },
   "outputs": [],
   "source": [
    "links_on_contact_page = list_on_contact_page['links']['children']"
   ]
  },
  {
   "cell_type": "code",
   "execution_count": 39,
   "metadata": {
    "ExecuteTime": {
     "end_time": "2021-11-04T13:18:50.428952Z",
     "start_time": "2021-11-04T13:18:50.425565Z"
    }
   },
   "outputs": [],
   "source": [
    "titles_from_query = set([page['title'] for page in hmrc_contact_pages_list])"
   ]
  },
  {
   "cell_type": "code",
   "execution_count": 40,
   "metadata": {
    "ExecuteTime": {
     "end_time": "2021-11-04T13:19:05.211892Z",
     "start_time": "2021-11-04T13:19:05.208046Z"
    }
   },
   "outputs": [],
   "source": [
    "titles_from_contact_page = set([page['title'] for page in links_on_contact_page])"
   ]
  },
  {
   "cell_type": "code",
   "execution_count": 41,
   "metadata": {
    "ExecuteTime": {
     "end_time": "2021-11-04T13:19:16.745843Z",
     "start_time": "2021-11-04T13:19:16.742591Z"
    }
   },
   "outputs": [],
   "source": [
    "links_from_query_not_on_page =  titles_from_query - titles_from_contact_page"
   ]
  },
  {
   "cell_type": "code",
   "execution_count": 42,
   "metadata": {
    "ExecuteTime": {
     "end_time": "2021-11-04T13:19:21.021632Z",
     "start_time": "2021-11-04T13:19:21.016305Z"
    }
   },
   "outputs": [
    {
     "data": {
      "text/plain": [
       "{'Complain about HMRC',\n",
       " 'HM Passport Office webchat',\n",
       " 'Legal Aid Agency customer services',\n",
       " 'Mineral Oils Reliefs'}"
      ]
     },
     "execution_count": 42,
     "metadata": {},
     "output_type": "execute_result"
    }
   ],
   "source": [
    "links_from_query_not_on_page"
   ]
  },
  {
   "cell_type": "markdown",
   "metadata": {},
   "source": [
    "HM Passport Office webchat  has quicklinks\n",
    " https://www.gov.uk/api/content/government/organisations/hm-passport-office/contact/hm-passport-office-webchat\n",
    " \n",
    " Legal Aid Agency customer services has an empty quicklinks\n",
    " https://www.gov.uk/api/content/government/organisations/legal-aid-agency/contact/legal-aid-agency-customer-services"
   ]
  },
  {
   "cell_type": "code",
   "execution_count": 44,
   "metadata": {
    "ExecuteTime": {
     "end_time": "2021-11-04T13:20:27.346312Z",
     "start_time": "2021-11-04T13:20:27.341349Z"
    }
   },
   "outputs": [
    {
     "data": {
      "text/plain": [
       "{'Make a complaint about HMRC', 'Mineral oils reliefs'}"
      ]
     },
     "execution_count": 44,
     "metadata": {},
     "output_type": "execute_result"
    }
   ],
   "source": [
    "titles_from_contact_page - titles_from_query"
   ]
  },
  {
   "cell_type": "code",
   "execution_count": null,
   "metadata": {},
   "outputs": [],
   "source": []
  }
 ],
 "metadata": {
  "kernelspec": {
   "display_name": "Python 3",
   "language": "python",
   "name": "python3"
  },
  "language_info": {
   "codemirror_mode": {
    "name": "ipython",
    "version": 3
   },
   "file_extension": ".py",
   "mimetype": "text/x-python",
   "name": "python",
   "nbconvert_exporter": "python",
   "pygments_lexer": "ipython3",
   "version": "3.7.2"
  },
  "toc": {
   "base_numbering": 1,
   "nav_menu": {},
   "number_sections": true,
   "sideBar": true,
   "skip_h1_title": false,
   "title_cell": "Table of Contents",
   "title_sidebar": "Contents",
   "toc_cell": false,
   "toc_position": {},
   "toc_section_display": true,
   "toc_window_display": false
  }
 },
 "nbformat": 4,
 "nbformat_minor": 2
}
