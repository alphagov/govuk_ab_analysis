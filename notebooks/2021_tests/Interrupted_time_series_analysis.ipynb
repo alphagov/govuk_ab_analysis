{
 "cells": [
  {
   "cell_type": "markdown",
   "id": "fc6148e2",
   "metadata": {},
   "source": [
    "# Interrupted time-series analysis of the evaluation metrics in the intervention and control group"
   ]
  },
  {
   "cell_type": "markdown",
   "id": "e4f488db",
   "metadata": {},
   "source": [
    "## Aims\n",
    "\n",
    "- Explore the characteristics of the time-series of the main evaluation metrics (in terms of trends and seasonality) in the intervention and control group\n",
    "\n",
    "- Interrupted time-series analysis: compare the whole pre-test segment (so A0 to A2, i.e. 11-Oct to 19-Nov) and whole post-test segment (so B1-B2, i.e. 21-Nov to 19-Dec) using a univariate interrupted time-series analysis (ITS)\n",
    "\n",
    "- Use the control time-series to run a controlled interrupted time-series analysis (CITS) to try to disentangle the effects of the intervention from any effect due to external confounding factors (see section on Control Time-Series below for more info).\n",
    "\n",
    "IMPORTANT: the 20th Nov is the day where the related-link generator switched from unweighted to weighted and will be excluded from the analysis as the shift is not clear cut. \n",
    "\n",
    "\n",
    "\n",
    "### Background\n",
    "\n",
    "**Intervention time-series**\n",
    "\n",
    "With \"intervention time-series\", we mean the time-series of data that is impacted by the intervention (i.e., the switch from unweighted to weighted automatically-generated related links).  \n",
    "\n",
    "As main metrics, we are investigating:\n",
    "- (1) the proportion of day visitors who clicked on a RL at least once\n",
    "- (2) the proportion of day visitors who, having clicked on a RL, click again on at least another RL that day\n",
    " \n",
    "The denominator of (1) is the total number of visitors who, on a given day, visited at least one page displaying node2vec related links; the denominator for (2) is the total number of visitors in (1).\n",
    "\n",
    "Rationale:\n",
    "When a user is on a page, many elements compete for their attention. Thus, (1) reflects the fact that (one of) our related links provided the strongest/most promising clue (in information scent theory) and won their attention.\n",
    "(2) represents a type of \"trust mechanism\" our related links managed to build trust with the visitor: they clicked on a RL, and then they clicked again on more RLs, suggesting that the first \"RL experience\" was positive. The metric captures a kind of \"repeated-purchaser\" behaviour.\n",
    "\n",
    "\n",
    "\n",
    "**Control time-series**\n",
    "\n",
    "With \"control time-series\", we mean a time-series of data that, to our best knowledge:\n",
    "\n",
    "- spans the same time period as the intervention time-series \n",
    "- is not affected by the intervention. \n",
    "- shares confounders with the intervention time-series (i.e., same confounders should have the same effects on both control and intervention time series).\n",
    "\n",
    "These characterictis of the control time-series will allow us to pin down the effect of the intervention (i.e., shift from unweighted to weighted related links) beyond the \"whatever else\" which may also have affected the intervention time series (e.g., other experiments, like from Explore team, or external factors, like the increase in single-page visits due to covid to report flow tests or check travel info) .\n",
    "\n",
    "As controls that meet the above requirements, we chose:\n",
    "- the proportion of day visitors who clicked on a manually-cuarted related link\n",
    "- the proportion of day visitors who, having clicked on a manually-cuarted related link, go on to click on at least another one (repeated-clickers);\n",
    "importantly, we restricted the sample to only those visitors who, on a given day, only visited mainstream pages with manually curated related links (and nothing else). This, to ensure the user behaviour captured by these time series was not affected by our intervention.\n",
    "\n",
    "\n",
    "The time-series data were created by:\n",
    "\n",
    "- [**intervention**] the [`notebooks/2021_tests/gather_metrics.sql`](https://github.com/alphagov/govuk_ab_analysis/blob/master/notebooks/2021_tests/gather_metrics.sql`) for the time period 11-Oct-2021 to 19-Dec-2021 (covering both A (unwighted) and B (weighted) segments) with data saved in the `govuk-bigquery-analytics.datascience.related_links_20211011_20211219_intervention` BigQuery table.\n",
    "\n",
    "- [**control**] the [`notebooks/2021_tests/gather_metrics_control.sql`](https://github.com/alphagov/govuk_ab_analysis/blob/master/notebooks/2021_tests/gather_metrics_control.sql`) for the same time period 11-Oct-2021 to 19-Dec-2021 with data saved in the `govuk-bigquery-analytics.datascience.control_manual_links_20211011_20211219_data` BigQuery table.\n",
    "\n",
    "\n",
    "**IMPORTANT**: This notebook uses an R kernel.\n",
    "\n",
    "### How to setup Jupyter Notebook for R\n",
    "\n",
    "These instructions assume that you already have a working Python environment for your local repository of this project, and Jupyter Notebook already installed in that environment that you can execute from your Terminal.\n",
    "\n",
    "1. Install R \n",
    "\n",
    "   If not already installed, see https://cloud.r-project.org/index.html\n",
    "   \n",
    "\n",
    "2. Install R kernel for Jupyter Notebook\n",
    "\n",
    "    In your Terminal (note: not in RStudio, not in the R GUI):\n",
    "    \n",
    "    - launch R by entering `R` on the command line.\n",
    "\n",
    "    - You should now be using R from your Terminal. Thus, run:\n",
    "    ```\n",
    "    install.packages('IRkernel')\n",
    "    IRkernel::installspec()\n",
    "    ```\n",
    "\n",
    "    Done! You can now quit R by entering `q()`.\n",
    "\n",
    "If you now launch Jupyter Notebook, you'll have the option to choose `R` as kernel.\n"
   ]
  },
  {
   "cell_type": "markdown",
   "id": "9210da22",
   "metadata": {},
   "source": [
    "### Requirements\n",
    "\n",
    "You need to have service account credentials to the BigQuery `govuk-bigquery-analytics.datascience` dataset."
   ]
  },
  {
   "cell_type": "code",
   "execution_count": null,
   "id": "35436295",
   "metadata": {},
   "outputs": [],
   "source": []
  },
  {
   "cell_type": "markdown",
   "id": "5c1bbf2b",
   "metadata": {},
   "source": [
    "## Setting things up"
   ]
  },
  {
   "cell_type": "code",
   "execution_count": null,
   "id": "79e57651",
   "metadata": {},
   "outputs": [],
   "source": [
    "# Install packages, if they aren't already available.\n",
    "# This can take a minute or two.\n",
    "packages <- c(\"bigrquery\", \"tidyverse\", \"plotly\", \"gridExtra\", \n",
    "              \"tsibble\", \"lubridate\", \"feasts\", \"DT\", \"TTR\", \"lmtest\", \"Epi\", \"tsModel\", \"sandwich\", \"lmtest\")\n",
    "install.packages(setdiff(packages, rownames(installed.packages())), quiet = TRUE) "
   ]
  },
  {
   "cell_type": "code",
   "execution_count": null,
   "id": "651112e3",
   "metadata": {},
   "outputs": [],
   "source": [
    "for(pckg in packages){\n",
    "    suppressPackageStartupMessages(library(pckg, character.only = TRUE))\n",
    "}"
   ]
  },
  {
   "cell_type": "code",
   "execution_count": null,
   "id": "5bc00729",
   "metadata": {},
   "outputs": [],
   "source": [
    "#Authenticate\n",
    "#/path/to/your/service-account.json\n",
    "bq_auth(path = \"/Users/alessiatosi/Secrets/govuk-bigquery-analytics-service-credentials.json\")  "
   ]
  },
  {
   "cell_type": "code",
   "execution_count": null,
   "id": "9a9b342f",
   "metadata": {},
   "outputs": [],
   "source": [
    "# Make plots wider \n",
    "options(repr.plot.width=15, repr.plot.height=8)"
   ]
  },
  {
   "cell_type": "code",
   "execution_count": null,
   "id": "95927efd",
   "metadata": {},
   "outputs": [],
   "source": [
    "# create custom plotting theme\n",
    "theme_custom <- theme(plot.title = element_text(face = \"bold\", hjust = 0.5, size=18),\n",
    "                      plot.subtitle = element_text(size=14),\n",
    "                      axis.text.y = element_text(colour = 'black', size = 12), \n",
    "                      axis.title.y = element_text(size = 16, hjust = 0.5, vjust = 0.2),\n",
    "                      axis.text.x = element_text(colour = 'black', size = 12), \n",
    "                      axis.title.x = element_text(size = 16, hjust = 0.5, vjust = 0.2),\n",
    "                      panel.background = element_blank(),\n",
    "                      axis.line = element_line(colour = \"black\"),\n",
    "                      legend.position = \"bottom\",\n",
    "                      legend.direction = \"horizontal\")"
   ]
  },
  {
   "cell_type": "markdown",
   "id": "c08e9d56",
   "metadata": {},
   "source": [
    "## Get the data"
   ]
  },
  {
   "cell_type": "code",
   "execution_count": null,
   "id": "8e9e04b6",
   "metadata": {},
   "outputs": [],
   "source": [
    "#billing <- \"govuk-xgov\" # replace this with your project ID \n",
    "project = \"govuk-bigquery-analytics\"\n",
    "\n",
    "sql_intervention <- \"SELECT * FROM `govuk-bigquery-analytics.datascience.related_links_20211011_20211219_intervention`\"\n",
    "sql_control <- \"SELECT * FROM `govuk-bigquery-analytics.datascience.control_manual_links_20211011_20211219_data`\"\n",
    "\n",
    "tb <- bq_table_download(bq_project_query(project, sql_intervention))\n",
    "tb_control <- bq_table_download(bq_project_query(project, sql_control))"
   ]
  },
  {
   "cell_type": "markdown",
   "id": "37fda8d3",
   "metadata": {},
   "source": [
    "## Data pre-processing"
   ]
  },
  {
   "cell_type": "code",
   "execution_count": null,
   "id": "d9d0e901",
   "metadata": {},
   "outputs": [],
   "source": [
    "# cast date as a date type variable\n",
    "\n",
    "tb$date <- as.Date(strptime(tb$date, \"%Y%m%d\"))\n",
    "tb_control$date <- as.Date(strptime(tb_control$date, \"%Y%m%d\"))"
   ]
  },
  {
   "cell_type": "code",
   "execution_count": null,
   "id": "960813b8",
   "metadata": {},
   "outputs": [],
   "source": [
    "tb <- tb %>% \n",
    "    arrange(date)\n",
    "\n",
    "tb_control <- tb_control %>% \n",
    "    arrange(date)"
   ]
  },
  {
   "cell_type": "code",
   "execution_count": null,
   "id": "0e695f71",
   "metadata": {},
   "outputs": [],
   "source": [
    "# glimpse\n",
    "head(tb)"
   ]
  },
  {
   "cell_type": "code",
   "execution_count": null,
   "id": "4ab0287d",
   "metadata": {},
   "outputs": [],
   "source": []
  },
  {
   "cell_type": "markdown",
   "id": "36e8de43",
   "metadata": {},
   "source": [
    "## Plotting the time series of data"
   ]
  },
  {
   "cell_type": "markdown",
   "id": "af42e06e",
   "metadata": {},
   "source": [
    "Here we will plotting the time series of data for all the metrics. Later in the notebook we will explore seasonality and trends in the time series of the two main evaluation metrics:\n",
    "- Proportion of visitors who click a related link (RL) at least once\n",
    "- Proportion of repeated-clicker visitors (those that, having click on a RL, click on others)"
   ]
  },
  {
   "cell_type": "code",
   "execution_count": null,
   "id": "9c459692",
   "metadata": {},
   "outputs": [],
   "source": [
    "plot_timeseries <- function(data, \n",
    "                            ts_var=\"\", \n",
    "                            title=\"\", \n",
    "                            x_title=\"\", \n",
    "                            subtitle = \"Intervention time series (visited at least one page with node2vec related links)\"){\n",
    "    #'@param data (data.frame) : dataset  \n",
    "    #'@param ts_var (character string) : name of the variable containing the time-series data\n",
    "    #'@param title (character string) : plot title\n",
    "    #'@param x_title (character string) : x-axis title\n",
    "    #'@return time-series plot\n",
    "    \n",
    "    if(!\"date\" %in% colnames(data)) stop(paste0(\"column `date` is missing from dataset\"))\n",
    "    \n",
    "    sym_ts_var <- dplyr::sym(ts_var)\n",
    "    \n",
    "    data %>% \n",
    "    ggplot2::ggplot(., aes(date, !!sym_ts_var)) +\n",
    "    geom_point(size=2) +\n",
    "    geom_line(size=1) +\n",
    "    #geom_smooth(method=\"lm\", colour=\"blue\") +\n",
    "    geom_smooth(method = \"loess\", formula=y~x, colour=\"purple\", se=TRUE) +\n",
    "    geom_vline(aes(xintercept = as.Date(\"20211025\", \"%Y%m%d\")), col=\"blue\", linetype=2) +\n",
    "    geom_vline(aes(xintercept = as.Date(\"20211110\", \"%Y%m%d\")), col=\"darkgreen\", linetype=2) +\n",
    "    geom_vline(aes(xintercept = as.Date(\"20211111\", \"%Y%m%d\")), col=\"blue\", linetype=2) +\n",
    "    geom_vline(aes(xintercept = as.Date(\"20211120\", \"%Y%m%d\")), col=\"red\", linetype=2) +\n",
    "    geom_vline(aes(xintercept = as.Date(\"20211211\", \"%Y%m%d\")), col=\"red\", linetype=2) +\n",
    "    geom_vline(aes(xintercept = as.Date(\"20211213\", \"%Y%m%d\")), col=\"darkgreen\", linetype=2) +\n",
    "    geom_text(aes(x=as.Date(\"20211025\", \"%Y%m%d\"), y=0, label=\"25 Oct 2021 unweighted\"), \n",
    "              size=4, angle=90, vjust=-0.4, hjust=0, color=\"blue\") +\n",
    "    geom_text(aes(x=as.Date(\"20211110\", \"%Y%m%d\"), y=0, label=\"10 Nov 2021 menu bar v2\"), \n",
    "              size=4, angle=90, vjust=-0.4, hjust=0, color=\"darkgreen\") +\n",
    "    geom_text(aes(x=as.Date(\"20211111\", \"%Y%m%d\"), y=0, label=\"11 Nov 2021 unweighted\"), \n",
    "              size=4, angle=90, vjust=-0.4, hjust=0, color=\"blue\") +\n",
    "    geom_text(aes(x=as.Date(\"20211120\", \"%Y%m%d\"), y=0, label=\"20 Nov 2021 weighted\"), \n",
    "              size=4, angle=90, vjust=-0.4, hjust=0, color=\"red\") +\n",
    "    geom_text(aes(x=as.Date(\"20211211\", \"%Y%m%d\"), y=0, label=\"12 Dec 2021 weighted\"), \n",
    "              size=4, angle=90, vjust=-0.4, hjust=0, color=\"red\") +\n",
    "    geom_text(aes(x=as.Date(\"20211213\", \"%Y%m%d\"), y=0, label=\"13 Dec 2021 new homepage\"), \n",
    "              size=4, angle=90, vjust=-0.4, hjust=0, color=\"darkgreen\") +\n",
    "    labs(\n",
    "        title = title,\n",
    "        subtitle = subtitle) +\n",
    "    ylab(x_title) +\n",
    "    theme_custom\n",
    "    }"
   ]
  },
  {
   "cell_type": "code",
   "execution_count": null,
   "id": "321f2428",
   "metadata": {},
   "outputs": [],
   "source": []
  },
  {
   "cell_type": "markdown",
   "id": "8fd08a9b",
   "metadata": {},
   "source": [
    "### Intervention"
   ]
  },
  {
   "cell_type": "markdown",
   "id": "9972cadd",
   "metadata": {},
   "source": [
    "#### Main metrics of evaluation"
   ]
  },
  {
   "cell_type": "code",
   "execution_count": null,
   "id": "cbef55c3",
   "metadata": {},
   "outputs": [],
   "source": [
    "plot_timeseries(data=tb,\n",
    "               ts_var=\"pc_visitors_used_rl\",\n",
    "               title=\"Rate of visitors who clicked on at least 1 related link\",\n",
    "               x_title=\"Rate of visitors\")"
   ]
  },
  {
   "cell_type": "markdown",
   "id": "e7e570a7",
   "metadata": {},
   "source": [
    "There seems to be a decline throughout the whole time series which become more pronounced as the time series unfolds. However, this does not seem to coincide with the shift to weighted related links. \n",
    "We can also observe day-of-the week seasonality, with lower values consistently obeserved for Saturday and Sunday data."
   ]
  },
  {
   "cell_type": "markdown",
   "id": "ffdc1302",
   "metadata": {},
   "source": [
    "Let's check the number to see whether the decline may be explained by an increase in the denominator (so in the number of day visitors who visit at least one page with node2vec related links) rather than a decrease in the numerator (so the number of those who click on a related link). This may be the case if, for instance, external circumstance would bring visitors to come and look at one page only. "
   ]
  },
  {
   "cell_type": "code",
   "execution_count": null,
   "id": "9135273a",
   "metadata": {},
   "outputs": [],
   "source": [
    "plot_timeseries(data=tb,\n",
    "               ts_var=\"visitors_that_clicked_rl\",\n",
    "               title=\"Number of visitors who clicked on at least 1 related link\",\n",
    "               x_title=\"Number of visitors\")"
   ]
  },
  {
   "cell_type": "markdown",
   "id": "9ea5638f",
   "metadata": {},
   "source": [
    "It looks like that may partially explain the downward trend we observe in the previous graph of the proportion of day visitors."
   ]
  },
  {
   "cell_type": "code",
   "execution_count": null,
   "id": "3dade20e",
   "metadata": {},
   "outputs": [],
   "source": [
    "head(tb)"
   ]
  },
  {
   "cell_type": "code",
   "execution_count": null,
   "id": "faa67db1",
   "metadata": {
    "scrolled": true
   },
   "outputs": [],
   "source": [
    "plot_timeseries(data=tb,\n",
    "               ts_var=\"pc_visitors_returning_to_rl\",\n",
    "               title=\"Rate of repeated-clicker visitors (of those who clicked on one RL)\",\n",
    "               x_title=\"Rate of visitors\")"
   ]
  },
  {
   "cell_type": "markdown",
   "id": "6c4877b4",
   "metadata": {},
   "source": [
    "Here the trend is less pronounced. We can still observe some weekly seasonality.  "
   ]
  },
  {
   "cell_type": "markdown",
   "id": "c6d7eaf3",
   "metadata": {},
   "source": [
    "#### Other potential behaviour of interest"
   ]
  },
  {
   "cell_type": "code",
   "execution_count": null,
   "id": "ffac983c",
   "metadata": {},
   "outputs": [],
   "source": [
    "plot_timeseries(data=tb,\n",
    "               ts_var=\"pc_visitors_that_clicked_navigation\",\n",
    "               title=\"Rate of visitors who clicked on a navigation element\",\n",
    "               x_title=\"Rate of visitors\")"
   ]
  },
  {
   "cell_type": "code",
   "execution_count": null,
   "id": "3acb9cb3",
   "metadata": {},
   "outputs": [],
   "source": [
    "plot_timeseries(data=tb,\n",
    "               ts_var=\"pc_visitors_2_or_more_rl\",\n",
    "               title=\"Rate of visitors who clicked 2 or more related links\",\n",
    "               x_title=\"Rate of visitors\")"
   ]
  },
  {
   "cell_type": "code",
   "execution_count": null,
   "id": "e0c38ba6",
   "metadata": {},
   "outputs": [],
   "source": []
  },
  {
   "cell_type": "markdown",
   "id": "9e96796a",
   "metadata": {},
   "source": [
    "### Control"
   ]
  },
  {
   "cell_type": "markdown",
   "id": "168fd445",
   "metadata": {},
   "source": [
    "#### Main control metrics"
   ]
  },
  {
   "cell_type": "code",
   "execution_count": null,
   "id": "35a98d7d",
   "metadata": {},
   "outputs": [],
   "source": [
    "plot_timeseries(data=tb_control,\n",
    "               ts_var=\"pc_visitors_used_rl\",\n",
    "               title=\"Rate of visitors who clicked on at least 1 manually-curated related links\",\n",
    "               x_title=\"Rate of visitors\",\n",
    "               subtitle = \"Control time series (visited only manually-curated related-links pages)\")"
   ]
  },
  {
   "cell_type": "markdown",
   "id": "b150708d",
   "metadata": {},
   "source": [
    "Here as well we can observe a strong downward trend over time in the proportion of day visitors who clicked on at least one manually-curated realted links. \n",
    "Some weekly seasonality here as well, albet less clear cut."
   ]
  },
  {
   "cell_type": "code",
   "execution_count": null,
   "id": "c3df1901",
   "metadata": {},
   "outputs": [],
   "source": [
    "plot_timeseries(data=tb_control,\n",
    "               ts_var=\"pc_visitors_returning_to_rl\",\n",
    "               title=\"Rate of repeated-clicker visitors on a given day (manually-curated related links)\",\n",
    "               x_title=\"Rate of visitors\",\n",
    "               subtitle = \"Control time series (visited only manually-curated related-links pages)\")"
   ]
  },
  {
   "cell_type": "markdown",
   "id": "4aef7d9e",
   "metadata": {},
   "source": [
    "Hard to see any clear trend here. No clear sign of weekly seasonality either."
   ]
  },
  {
   "cell_type": "code",
   "execution_count": null,
   "id": "cef6d654",
   "metadata": {},
   "outputs": [],
   "source": []
  },
  {
   "cell_type": "markdown",
   "id": "dafb78a7",
   "metadata": {},
   "source": [
    "## Trends, seasonality and stationarity"
   ]
  },
  {
   "cell_type": "markdown",
   "id": "b2f8099f",
   "metadata": {},
   "source": [
    "- **Trend**: whether and when there is an overall increasing or decreasing pattern in our observations over time\n",
    "- **Seasonality**: whether and when there are repeating patterns in the series at fixed and known periods (e.g., weekly)\n",
    "- **Stationarity**: when a time-series has constant mean, variance and covariance over time\n",
    "Put another way, a time-series is **stationary** when it has no trend nor seasonality, and has constant variance over time. Typically, this will mean when you plot values over time, it will be roughly horizontal (though some cyclic behaviour is possible) and have constant variance.\n",
    "\n",
    "- **Remainder/random noise**: leftover of original time-series after trend and seasonality are removed\n",
    "- **Autocorrelation**: the strength of the relationship between a variable and its observations at prior time-periods\n",
    "The **autocorrelation function** is a plot of a **stationary** time-series with its lags (meaning its observations at prior time-periods). It can be used to obtain the order of a **moving-average model**, *q*. It will be the first lag at which the **autocorrelation** value passes the upper 95% **confidence interval**, as indicated by the blue dotted line in the corresponding **ACF** plot.\n",
    "\n",
    "- **Partial autocorrelation**: the strength of the relationship between an observation in a time-series with its observations at prior time-peridos, with the relationships of intervening observations removed. **Partial autocorrelation** is different to **autocorrelation** because the latter is comprised of both *direct* and *indirect* correlations, whereas the former removes these *indirect* correlations. It can be used to obtain the order of an auto-regressive model, *p*.^[Indirect correlations are a linear function of the correlation of the observation, with observations at intervening time periods.]\n",
    "\n",
    "Here we'll explore **trend** and **seasoanlity** to help identify whether our key metric values have evolved over time. We will make large use of the \"Seasonal and Trend decomposition using Loess\" (LST) method to decompose the time series and identify trends and seasonality patterns. For more info, see https://otexts.com/fpp2/stl.html. \n",
    "\n",
    "Whereas we will use the **ACF** (auto-correlation function) on the residuals of the time series (so on the time series made stationary after removing trend and seasonality) to identify any remaining auto-correlation patterns in the data.\n"
   ]
  },
  {
   "cell_type": "code",
   "execution_count": null,
   "id": "900fb1fd",
   "metadata": {},
   "outputs": [],
   "source": [
    "# convert to time-series object\n",
    "tb <- tb %>%\n",
    "    tsibble::as_tsibble(index = date)\n",
    "\n",
    "tb_control <- tb_control %>%\n",
    "    tsibble::as_tsibble(index = date)"
   ]
  },
  {
   "cell_type": "code",
   "execution_count": null,
   "id": "c5c999b0",
   "metadata": {},
   "outputs": [],
   "source": [
    "plot_SLT <- function(data, ts_var=\"\", title_ts_var=\"\"){\n",
    "    #'@param data (data.frame) : dataset  \n",
    "    #'@param ts_var (character string) : name of the variable containing the time-series data\n",
    "    #'@param title_ts_var (character string) : Plain English description of time-series variable\n",
    "    #'@return time-series plot\n",
    "    \n",
    "    if(!\"date\" %in% colnames(data)) stop(paste0(\"column `date` is missing from dataset\"))\n",
    "    \n",
    "    sym_ts_var <- dplyr::sym(ts_var)\n",
    "    \n",
    "    decomp <- data %>% model(STL(!!sym_ts_var)) %>% components()\n",
    "    \n",
    "    p1 <- decomp %>% autoplot()\n",
    "    \n",
    "    p2 <- decomp %>% \n",
    "        select(remainder) %>% \n",
    "        acf(main = \"ACF of residuals (trend and seasonality removed)\")\n",
    "    \n",
    "    list(p2, p1)\n",
    "    }"
   ]
  },
  {
   "cell_type": "code",
   "execution_count": null,
   "id": "0ebf338f",
   "metadata": {},
   "outputs": [],
   "source": [
    "# Show what a decomposed time series look like\n",
    "tb %>% model(STL(pc_visitors_used_rl)) %>% components() %>% head()"
   ]
  },
  {
   "cell_type": "markdown",
   "id": "dff7948b",
   "metadata": {},
   "source": [
    "### Intervention"
   ]
  },
  {
   "cell_type": "markdown",
   "id": "4bb9bc69",
   "metadata": {},
   "source": [
    "#### Rate of visitors who click RL at least once"
   ]
  },
  {
   "cell_type": "code",
   "execution_count": null,
   "id": "1f11f7a6",
   "metadata": {
    "scrolled": true
   },
   "outputs": [],
   "source": [
    "plot_SLT(tb, \"pc_visitors_used_rl\", \"Rate of visitors who clicked RL at least once\")"
   ]
  },
  {
   "cell_type": "markdown",
   "id": "a1b73dec",
   "metadata": {},
   "source": [
    "#### Rate of repeated-clicker visitors"
   ]
  },
  {
   "cell_type": "code",
   "execution_count": null,
   "id": "883278cb",
   "metadata": {},
   "outputs": [],
   "source": [
    "plot_SLT(tb, \"pc_visitors_returning_to_rl\", \n",
    "         \"Rate of visitors who clicked on more RLs after having clicked on one\")"
   ]
  },
  {
   "cell_type": "markdown",
   "id": "9b42d83b",
   "metadata": {},
   "source": [
    "#### Rate of visitors who clicked on a navigation element while on a RL page"
   ]
  },
  {
   "cell_type": "code",
   "execution_count": null,
   "id": "a3f83966",
   "metadata": {},
   "outputs": [],
   "source": [
    "plot_SLT(tb, \"pc_visitors_that_clicked_navigation\", \n",
    "         \"Rate of visitors who clicked on a navigation element\")"
   ]
  },
  {
   "cell_type": "markdown",
   "id": "444df7dd",
   "metadata": {},
   "source": [
    "### Control"
   ]
  },
  {
   "cell_type": "markdown",
   "id": "3f80fd68",
   "metadata": {},
   "source": [
    "#### Rate of visitors who click RL at least once"
   ]
  },
  {
   "cell_type": "code",
   "execution_count": null,
   "id": "b0e63882",
   "metadata": {},
   "outputs": [],
   "source": [
    "plot_SLT(tb_control, \"pc_visitors_used_rl\", \"Rate of visitors who clicked RL at least once\")"
   ]
  },
  {
   "cell_type": "markdown",
   "id": "5640d782",
   "metadata": {},
   "source": [
    "#### Rate of repeated-clicker visitors"
   ]
  },
  {
   "cell_type": "code",
   "execution_count": null,
   "id": "4946c320",
   "metadata": {},
   "outputs": [],
   "source": [
    "plot_SLT(tb_control, \"pc_visitors_returning_to_rl\", \n",
    "         \"Rate of visitors who clicked on more RLs after having clicked on one\")"
   ]
  },
  {
   "cell_type": "markdown",
   "id": "6cfa18c9",
   "metadata": {},
   "source": [
    "### Conclusions"
   ]
  },
  {
   "cell_type": "markdown",
   "id": "bf2751e8",
   "metadata": {},
   "source": [
    "The time series of our two main metrics of evaluation display both weekly seasonality and some downward not-fully linear trends that we will try to account for when modelling the time-series as part of the interrupted time series analysis.\n",
    "\n",
    "There are some signs of weak remaining auto-correlation on the de-trended stationary time series which we will see whether problematic when modelling the data. "
   ]
  },
  {
   "cell_type": "code",
   "execution_count": null,
   "id": "2d2c2343",
   "metadata": {},
   "outputs": [],
   "source": []
  },
  {
   "cell_type": "markdown",
   "id": "c3fd2e24",
   "metadata": {},
   "source": [
    "## Interrupted and Controlled Interrupted Time Series Analysis\n",
    "\n",
    "### Comparing whole intervention time-series (pre-/post segments) and control"
   ]
  },
  {
   "cell_type": "markdown",
   "id": "09a6ddf9",
   "metadata": {},
   "source": [
    "### Data preparation"
   ]
  },
  {
   "cell_type": "code",
   "execution_count": null,
   "id": "363bc6e3",
   "metadata": {},
   "outputs": [],
   "source": [
    "# join the two time series by date\n",
    "ts <- tb %>% inner_join(tb_control, by=\"date\")"
   ]
  },
  {
   "cell_type": "markdown",
   "id": "f6d10838",
   "metadata": {},
   "source": [
    "Too many variables, let's only retain the relevant for the analyses."
   ]
  },
  {
   "cell_type": "code",
   "execution_count": null,
   "id": "941c2324",
   "metadata": {},
   "outputs": [],
   "source": [
    "names(ts)"
   ]
  },
  {
   "cell_type": "code",
   "execution_count": null,
   "id": "e8327368",
   "metadata": {},
   "outputs": [],
   "source": [
    "ts <- ts[, c('date', \n",
    "             'visitors.x',\n",
    "             'visitors.y', \n",
    "             'visitors_that_clicked_rl.x',\n",
    "             'visitors_that_clicked_rl.y',\n",
    "             'visitors_2_or_more_rl.x',\n",
    "             'visitors_2_or_more_rl.y',\n",
    "             'pc_visitors_used_rl.x',\n",
    "             'pc_visitors_used_rl.y',\n",
    "             'pc_visitors_returning_to_rl.x',\n",
    "             'pc_visitors_returning_to_rl.y')]"
   ]
  },
  {
   "cell_type": "code",
   "execution_count": null,
   "id": "cc69cfa0",
   "metadata": {},
   "outputs": [],
   "source": [
    "ts_long <- gather(ts, metric, value, c('visitors.x',\n",
    "                                       'visitors.y', \n",
    "                                       'visitors_that_clicked_rl.x',\n",
    "                                       'visitors_that_clicked_rl.y',\n",
    "                                       'visitors_2_or_more_rl.x',\n",
    "                                       'visitors_2_or_more_rl.y',\n",
    "                                       'pc_visitors_used_rl.x',\n",
    "                                       'pc_visitors_used_rl.y',\n",
    "                                       'pc_visitors_returning_to_rl.x',\n",
    "                                       'pc_visitors_returning_to_rl.y'), \n",
    "                   factor_key=FALSE)\n",
    "\n"
   ]
  },
  {
   "cell_type": "code",
   "execution_count": null,
   "id": "8b33aaa0",
   "metadata": {},
   "outputs": [],
   "source": [
    "tail(ts_long)"
   ]
  },
  {
   "cell_type": "code",
   "execution_count": null,
   "id": "7a69d25e",
   "metadata": {},
   "outputs": [],
   "source": [
    "ts_long <- ts_long %>% \n",
    "    separate(metric, c(\"metric\", \"time_series\"), sep = \"\\\\.\") %>% \n",
    "    mutate(time_series = ifelse(time_series == \"x\", \"intervention\", \"control\"))   "
   ]
  },
  {
   "cell_type": "code",
   "execution_count": null,
   "id": "53ec1f3e",
   "metadata": {},
   "outputs": [],
   "source": [
    "head(ts_long)\n"
   ]
  },
  {
   "cell_type": "markdown",
   "id": "d2fff121",
   "metadata": {},
   "source": [
    "Here we are replotting the time series of data, this time intervention and control together in the same plot to facilitate comaparisons."
   ]
  },
  {
   "cell_type": "code",
   "execution_count": null,
   "id": "72a3f50b",
   "metadata": {},
   "outputs": [],
   "source": [
    "plot_multiple_timeseries <- function(data, \n",
    "                            ts_var=\"\", \n",
    "                            group_var=\"\",\n",
    "                            title=\"\", \n",
    "                            x_title=\"\", \n",
    "                            subtitle = \"Control-group time series (only visited pages with manually-curated links )\"){\n",
    "    #'@param data (data.frame) : dataset  \n",
    "    #'@param ts_var (character string) : name of the variable containing the time-series data\n",
    "    #'@param title (character string) : plot title\n",
    "    #'@param x_title (character string) : x-axis title\n",
    "    #'@return time-series plot\n",
    "    \n",
    "    if(!\"date\" %in% colnames(data)) stop(paste0(\"column `date` is missing from dataset\"))\n",
    "    \n",
    "    sym_ts_var <- dplyr::sym(ts_var)\n",
    "    sym_group_var <- dplyr::sym(group_var)\n",
    "    \n",
    "    data %>% \n",
    "    ggplot2::ggplot(., aes(date, !!sym_ts_var, group=!!sym_group_var, colour=!!sym_group_var)) +\n",
    "    geom_point(size=2) +\n",
    "    geom_line(size=1) +\n",
    "    #geom_smooth(method=\"lm\", colour=\"blue\") +\n",
    "    geom_smooth(method = \"loess\", formula=y~x, colour=\"purple\", se=TRUE) +\n",
    "    geom_vline(aes(xintercept = as.Date(\"20211025\", \"%Y%m%d\")), col=\"blue\", linetype=2) +\n",
    "    geom_vline(aes(xintercept = as.Date(\"20211110\", \"%Y%m%d\")), col=\"darkgreen\", linetype=2) +\n",
    "    geom_vline(aes(xintercept = as.Date(\"20211111\", \"%Y%m%d\")), col=\"blue\", linetype=2) +\n",
    "    geom_vline(aes(xintercept = as.Date(\"20211120\", \"%Y%m%d\")), col=\"red\", linetype=2) +\n",
    "    geom_vline(aes(xintercept = as.Date(\"20211211\", \"%Y%m%d\")), col=\"red\", linetype=2) +\n",
    "    geom_vline(aes(xintercept = as.Date(\"20211213\", \"%Y%m%d\")), col=\"darkgreen\", linetype=2) +\n",
    "    geom_text(aes(x=as.Date(\"20211025\", \"%Y%m%d\"), y=0, label=\"25 Oct 2021 unweighted\"), \n",
    "              size=4, angle=90, vjust=-0.4, hjust=0, color=\"blue\") +\n",
    "    geom_text(aes(x=as.Date(\"20211110\", \"%Y%m%d\"), y=0, label=\"10 Nov 2021 menu bar v2\"), \n",
    "              size=4, angle=90, vjust=-0.4, hjust=0, color=\"darkgreen\") +\n",
    "    geom_text(aes(x=as.Date(\"20211111\", \"%Y%m%d\"), y=0, label=\"11 Nov 2021 unweighted\"), \n",
    "              size=4, angle=90, vjust=-0.4, hjust=0, color=\"blue\") +\n",
    "    geom_text(aes(x=as.Date(\"20211120\", \"%Y%m%d\"), y=0, label=\"20 Nov 2021 weighted\"), \n",
    "              size=4, angle=90, vjust=-0.4, hjust=0, color=\"red\") +\n",
    "    geom_text(aes(x=as.Date(\"20211211\", \"%Y%m%d\"), y=0, label=\"12 Dec 2021 weighted\"), \n",
    "              size=4, angle=90, vjust=-0.4, hjust=0, color=\"red\") +\n",
    "    geom_text(aes(x=as.Date(\"20211213\", \"%Y%m%d\"), y=0, label=\"13 Dec 2021 new homepage\"), \n",
    "              size=4, angle=90, vjust=-0.4, hjust=0, color=\"darkgreen\") +\n",
    "    labs(\n",
    "        title = title,\n",
    "        subtitle = subtitle) +\n",
    "    ylab(x_title) +\n",
    "    theme_custom\n",
    "    }"
   ]
  },
  {
   "cell_type": "code",
   "execution_count": null,
   "id": "01b64feb",
   "metadata": {},
   "outputs": [],
   "source": [
    "ts_long %>%\n",
    "    filter(metric==\"pc_visitors_used_rl\") %>%\n",
    "    plot_multiple_timeseries(data=., \n",
    "                         ts_var=\"value\", \n",
    "                         group_var=\"time_series\",\n",
    "                         title=\"Rate of day visitors who clicked on at least 1 related-link\", \n",
    "                         x_title=\"Rate of day visitors\", \n",
    "                         subtitle = \"Intervention and control time series\")"
   ]
  },
  {
   "cell_type": "code",
   "execution_count": null,
   "id": "793dc9fc",
   "metadata": {},
   "outputs": [],
   "source": [
    "ts_long %>%\n",
    "    filter(metric==\"pc_visitors_returning_to_rl\") %>%\n",
    "    plot_multiple_timeseries(data=., \n",
    "                         ts_var=\"value\", \n",
    "                         group_var=\"time_series\",\n",
    "                         title=\"Rate of daily repeated-clicker visitors\", \n",
    "                         x_title=\"Rate of daily visitors\", \n",
    "                         subtitle = \"Intervention and control time series\")"
   ]
  },
  {
   "cell_type": "markdown",
   "id": "211d1e55",
   "metadata": {},
   "source": [
    "### Possible concurring cause"
   ]
  },
  {
   "cell_type": "markdown",
   "id": "0a712850",
   "metadata": {},
   "source": [
    "Here we will check whether an increase in single page visits, perhaps linked to an increased needs to find coronavirus information like reporting lateral flow test or checking travel advice, may explain the decrease in proportions of users who click on related links.\n",
    "\n",
    "Single-page visiting visitors, in fact, would \"inflate\" the denominator in our proportions."
   ]
  },
  {
   "cell_type": "code",
   "execution_count": null,
   "id": "acb95459",
   "metadata": {},
   "outputs": [],
   "source": [
    "sql_singlepage_sessions <- \"SELECT * FROM `govuk-bigquery-analytics.datascience.singlepage_dayvisitors_20211011_20211219`\"\n",
    "\n",
    "tb_ss <- bq_table_download(bq_project_query(project, sql_singlepage_sessions))"
   ]
  },
  {
   "cell_type": "code",
   "execution_count": null,
   "id": "f71d55d6",
   "metadata": {},
   "outputs": [],
   "source": [
    "# cast date as a date type variable\n",
    "tb_ss$date <- as.Date(strptime(tb_ss$date, \"%Y%m%d\"))\n",
    "\n",
    "# filter for the single-page session data\n",
    "tb_ss <- tb_ss %>%\n",
    "    filter(single_pagehit_session == TRUE)\n"
   ]
  },
  {
   "cell_type": "code",
   "execution_count": null,
   "id": "c9a411cd",
   "metadata": {},
   "outputs": [],
   "source": [
    "plot_timeseries(data=tb_ss, \n",
    "                ts_var=\"proportion\", \n",
    "                x_title=\"Rate of single-page day-visitors\", \n",
    "                title=\"Rate of visitors who only visited one page on given day\",\n",
    "               subtitle=\"\")"
   ]
  },
  {
   "cell_type": "code",
   "execution_count": null,
   "id": "810af3bb",
   "metadata": {},
   "outputs": [],
   "source": [
    "plot_timeseries(data=tb_ss, \n",
    "                ts_var=\"frequency\",\n",
    "                x_title=\"Number of single-page day-visitors\", \n",
    "                title=\"Number of visitors who only visited one page on given day\",\n",
    "               subtitle=\"\")"
   ]
  },
  {
   "cell_type": "markdown",
   "id": "0b9b1622",
   "metadata": {},
   "source": [
    "There seems to be an upward trend, especially in the number of day visitors who only visited one page. However, unless we do further investigation, we cannot be sure why this is the case and whether this is impacting either of our metrics."
   ]
  },
  {
   "cell_type": "code",
   "execution_count": null,
   "id": "69976246",
   "metadata": {},
   "outputs": [],
   "source": []
  },
  {
   "cell_type": "markdown",
   "id": "bb73016f",
   "metadata": {},
   "source": [
    "## Analysis"
   ]
  },
  {
   "cell_type": "markdown",
   "id": "9047f212",
   "metadata": {},
   "source": [
    "We refer you to the Google doc for a brief introduction to the Interrupted Time Series approach, what the model looks like, interpretation of coefficients and required data preparation.\n",
    "\n",
    "We will use a stricter significance level (false positive rate) of `alpha = 0.01`. "
   ]
  },
  {
   "cell_type": "code",
   "execution_count": null,
   "id": "83bdd97b",
   "metadata": {},
   "outputs": [],
   "source": [
    "ts_long <- ts_long %>%\n",
    "    mutate(day_of_week = weekdays(date))"
   ]
  },
  {
   "cell_type": "code",
   "execution_count": null,
   "id": "a69e1dba",
   "metadata": {},
   "outputs": [],
   "source": [
    "# let's remove the muddled 20th Nov data \n",
    "# NOTE: also tempted to remove the 21st Nov as well, since, given that it is a Sunday. \n",
    "# But hopefully if we model the seasonality correctly that shoudn't biased the results for the level parameter\n",
    "ts_long <- ts_long %>% filter(date != as.Date(\"2021-11-20\"))"
   ]
  },
  {
   "cell_type": "markdown",
   "id": "4c0589d3",
   "metadata": {},
   "source": [
    "### Proportion of visitors who clicked on at least one related link"
   ]
  },
  {
   "cell_type": "code",
   "execution_count": null,
   "id": "5acc318f",
   "metadata": {},
   "outputs": [],
   "source": [
    "clicks_ts <- ts_long %>% filter(metric=='pc_visitors_used_rl') "
   ]
  },
  {
   "cell_type": "markdown",
   "id": "eda76a41",
   "metadata": {},
   "source": [
    "Create new variables:\n",
    "- **Time**: time variable capturing time passed from start of the intervention\n",
    "- **Intervention**: dummy variable signalling before (0) and after (1) weighted related-links were introduced\n",
    "- **TimeSince**: variable capturing time passed since intervention (introduction of weighted related links) occured"
   ]
  },
  {
   "cell_type": "code",
   "execution_count": null,
   "id": "5a2fa0fa",
   "metadata": {},
   "outputs": [],
   "source": [
    "clicks_ts <- clicks_ts %>%\n",
    "    group_by(time_series) %>%\n",
    "    mutate(Time = row_number()) %>%\n",
    "    mutate(Intervention = ifelse(date <= as.Date(\"2021-11-20\"), 0, 1))"
   ]
  },
  {
   "cell_type": "code",
   "execution_count": null,
   "id": "50f6524b",
   "metadata": {},
   "outputs": [],
   "source": [
    "# how many data points after intervention took place?\n",
    "table(clicks_ts[clicks_ts$time_series==\"intervention\",]$Intervention)"
   ]
  },
  {
   "cell_type": "code",
   "execution_count": null,
   "id": "53d51fa5",
   "metadata": {},
   "outputs": [],
   "source": [
    "n_points_before <- as.numeric(table(clicks_ts[clicks_ts$time_series==\"intervention\",]$Intervention)[\"0\"])\n",
    "n_points_after <- as.numeric(table(clicks_ts[clicks_ts$time_series==\"intervention\",]$Intervention)[\"1\"])"
   ]
  },
  {
   "cell_type": "code",
   "execution_count": null,
   "id": "8153e3de",
   "metadata": {},
   "outputs": [],
   "source": [
    "clicks_ts$TimeSince <- 0\n",
    "clicks_ts[clicks_ts$time_series==\"intervention\",]$TimeSince <- c(rep(0, n_points_before), rep(1:n_points_after))\n",
    "clicks_ts[clicks_ts$time_series==\"control\",]$TimeSince <- c(rep(0, n_points_before), rep(1:n_points_after))"
   ]
  },
  {
   "cell_type": "code",
   "execution_count": null,
   "id": "ba6eccd9",
   "metadata": {},
   "outputs": [],
   "source": [
    "# Let's check around the date (20th Nov) when the intervention took place\n",
    "clicks_ts[37:45,]"
   ]
  },
  {
   "cell_type": "code",
   "execution_count": null,
   "id": "94c5e73a",
   "metadata": {},
   "outputs": [],
   "source": [
    "# everything looks as it should - GOOD\n",
    "# also notice the absence of Nov-20th which we removed"
   ]
  },
  {
   "cell_type": "markdown",
   "id": "2627479a",
   "metadata": {},
   "source": [
    "### Interrputed time-series analysis (ITS)"
   ]
  },
  {
   "cell_type": "markdown",
   "id": "b1b70fa9",
   "metadata": {},
   "source": [
    "We'll start with the single (intervention) time-seies, comparing pre- and post- intervention. So let's extract that data "
   ]
  },
  {
   "cell_type": "code",
   "execution_count": null,
   "id": "391dea32",
   "metadata": {},
   "outputs": [],
   "source": [
    "# intervention time-series only data\n",
    "clicks_its <- clicks_ts[clicks_ts$time_series==\"intervention\",]"
   ]
  },
  {
   "cell_type": "code",
   "execution_count": null,
   "id": "7061074d",
   "metadata": {},
   "outputs": [],
   "source": [
    "head(clicks_its)"
   ]
  },
  {
   "cell_type": "code",
   "execution_count": null,
   "id": "e0f63785",
   "metadata": {},
   "outputs": [],
   "source": []
  },
  {
   "cell_type": "markdown",
   "id": "7fda60da",
   "metadata": {},
   "source": [
    "**The following is for visualisation purpose only.**\n",
    "\n",
    "We will replot the data, displaying the predicted counterfactual and observed valued for the period after the intervention took place (i.e., from 21st Nov onwards).\n",
    "OSL makes it easier to see trends. We will model the data more thoroughly (accounting for seasonality and autocorrelation etc...) later - and those will be the statistical findings we will report. "
   ]
  },
  {
   "cell_type": "code",
   "execution_count": null,
   "id": "4d764c34",
   "metadata": {},
   "outputs": [],
   "source": [
    "# Only raw data \n",
    "# treating the time series of proportion\n",
    "plot(clicks_its$Time, \n",
    "    clicks_its$value,\n",
    "      bty=\"n\",\n",
    "      col = gray(0.3,0.5), pch=19,\n",
    "      ylim = c(0, 0.04), \n",
    "      xlim = c(0,72),\n",
    "      main = \"Proportion of visitors who clicked on at least 1 related link\",\n",
    "      xlab = \"Time elapsed since beginning of study (days)\", \n",
    "      ylab = \"Proportion of visitors\")\n",
    "mtext(side = 3, line = 0.25, at = 1, adj = -1.6, \"(node2vec-generated related links only)\")\n",
    "\n",
    "# Line marking the interruption\n",
    "abline( v=n_points_before+1, col=\"firebrick\", lty=2 )\n",
    "text( n_points_before+1, 0, \"Start of Weighted related links\", col=\"firebrick\", cex=1.3, pos=4 )\n"
   ]
  },
  {
   "cell_type": "code",
   "execution_count": null,
   "id": "5640f770",
   "metadata": {},
   "outputs": [],
   "source": [
    "# Regression line\n",
    "reg_clicks <- lm( value ~ Time + Intervention + TimeSince, data=clicks_its )\n",
    "\n",
    "# Estimate all predicted values of Y (we just use our original dataset)\n",
    "pred1 <- predict(reg_clicks, clicks_its) \n",
    "\n",
    "# Counterfactual\n",
    "# (1) create a new dataset where Intervention and TimeSince Treatment are equal to 0 \n",
    "# (as if the intervention did not happen)\n",
    "datanew <- as.data.frame(cbind(Time = rep(1 : length(clicks_its$Time)), \n",
    "                               Intervention = rep(0), \n",
    "                               TimeSince = rep(0))) \n",
    "# (2) predict the counterfactuals\n",
    "pred2 <- predict(reg_clicks, datanew) \n",
    "\n",
    "# Plot\n",
    "plot(clicks_its$Time, \n",
    "    clicks_its$value,\n",
    "      bty=\"n\",\n",
    "      col = gray(0.3,0.5), pch=19,\n",
    "      ylim = c(0, 0.04), \n",
    "      xlim = c(0,72),\n",
    "      main = \"Proportion of visitors who clicked on at least 1 related link\",\n",
    "      xlab = \"Time elapsed since beginning of study (days)\", \n",
    "      ylab = \"Proportion of visitors\")\n",
    "mtext(side = 3, line = 0.25, at = 1, adj = -1.6, \"(node2vec-generated related links only)\")\n",
    "\n",
    "# Add the prediected regression lines for the observed data (for befoe and after the intervention)\n",
    "lines( 1:(n_points_before), pred1[1:(n_points_before)], col=\"dodgerblue4\", lwd = 3 )\n",
    "lines( (n_points_before+1):70, pred1[(n_points_before+1):70], col=\"dodgerblue4\", lwd = 3 )\n",
    "# Add the counterfactual line\n",
    "lines( (n_points_before+1):70, pred2[(n_points_before+1):70], col=\"darkorange2\", lwd = 3, lty = 5 ) \n",
    "\n",
    "text(45, 0.015, labels = \"Predicted values\", pos = 4, cex = 1.3, col = \"dodgerblue3\")\n",
    "text(50, 0.025, labels = \"Counterfactual\", pos = 4, cex = 1.3, col = \"darkorange2\")\n",
    "\n",
    "# Line marking the interruption\n",
    "abline( v=(n_points_before+1), col=\"firebrick\",lwd = 2, lty=2 )\n",
    "text( (n_points_before+1), 0, \"Start of weighted related links\", col=\"firebrick\", cex=1.3, pos=4 )\n"
   ]
  },
  {
   "cell_type": "code",
   "execution_count": null,
   "id": "0994629f",
   "metadata": {},
   "outputs": [],
   "source": []
  },
  {
   "cell_type": "markdown",
   "id": "0c362cad",
   "metadata": {},
   "source": []
  },
  {
   "cell_type": "markdown",
   "id": "508d64fb",
   "metadata": {},
   "source": [
    "#### Poisson approach"
   ]
  },
  {
   "cell_type": "markdown",
   "id": "b233568c",
   "metadata": {},
   "source": [
    "There are different ways we can analyse this data. \n",
    "\n",
    "One way we can think of the data-generation process is as a Poisson process capturing the number of day visitors that clicked on at least a node2vec related links at a rate `lambda` per day.  \n",
    "\n",
    "The rate can be obtain, on each day, as: `number of visitors that clicked rl / number of visitors * 10^5`\n",
    "(so that would be the rate per 100,000 visitors).\n",
    "\n",
    "Remember that the denominator is not all visitors to gov.uk but those visitors who visited at least one page desplaying node2vec-generated related links. "
   ]
  },
  {
   "cell_type": "markdown",
   "id": "ca9fab4c",
   "metadata": {},
   "source": [
    "We can then analyse this data using a Poisson generalised linear model (https://en.wikipedia.org/wiki/Poisson_regression) with an offset variable capturing the log-denominator (https://www.theanalysisfactor.com/the-exposure-variable-in-poission-regression-models/), and regressing incidence/rate on time and the intervention indicator, while accouting for overdispersion, seasonality and autocorrelation effects.\n",
    "\n",
    "This is what we do here. \n",
    "\n",
    "However, it is well established in statistics, that the Normal distribution is a suitable approximation of the Poisson distribution when `lambda` (the rate) is high (say, lambda > 100).\n",
    "As it is the case here. So we will also re-do the analysis treating the process as a stochastic Normal process to show that the results (using an OLS regression) will be equivalent and stick to the OLS approach for remaining CTIS analysis as it simplifies the modelling/approach. \n",
    "\n"
   ]
  },
  {
   "cell_type": "markdown",
   "id": "25188b85",
   "metadata": {},
   "source": [
    "##### Data preparation"
   ]
  },
  {
   "cell_type": "code",
   "execution_count": null,
   "id": "e2a162e1",
   "metadata": {
    "scrolled": true
   },
   "outputs": [],
   "source": [
    "unique(ts_long$metric)"
   ]
  },
  {
   "cell_type": "code",
   "execution_count": null,
   "id": "465baa8a",
   "metadata": {},
   "outputs": [],
   "source": [
    "clicks_ts <- ts_long %>% filter(metric %in% c('visitors', 'visitors_that_clicked_rl')) \n",
    "\n",
    "clicks_ts <- clicks_ts %>%\n",
    "    group_by(time_series, metric) %>%\n",
    "    mutate(Time = row_number()) %>%\n",
    "    mutate(Intervention = ifelse(date <= as.Date(\"2021-11-20\"), 0, 1))"
   ]
  },
  {
   "cell_type": "code",
   "execution_count": null,
   "id": "cfaa31b2",
   "metadata": {},
   "outputs": [],
   "source": [
    "# check\n",
    "table(clicks_ts[clicks_ts$metric == \"visitors\",]$time_series)\n",
    "table(clicks_ts[clicks_ts$metric == \"visitors_that_clicked_rl\",]$time_series)"
   ]
  },
  {
   "cell_type": "code",
   "execution_count": null,
   "id": "40084253",
   "metadata": {},
   "outputs": [],
   "source": [
    "hist(clicks_ts[clicks_ts$metric == \"visitors_that_clicked_rl\",]$value, breaks=40)"
   ]
  },
  {
   "cell_type": "code",
   "execution_count": null,
   "id": "85d85947",
   "metadata": {},
   "outputs": [],
   "source": [
    "hist(clicks_ts[clicks_ts$metric == \"visitors\",]$value, breaks=40)"
   ]
  },
  {
   "cell_type": "code",
   "execution_count": null,
   "id": "1e4997c8",
   "metadata": {},
   "outputs": [],
   "source": [
    "# from long to wide: two separate columns for \"visitors\" and \"visitors_that_clicked_rl\"\n",
    "clicks_ts_spread <- clicks_ts %>%\n",
    "    spread(metric, value)"
   ]
  },
  {
   "cell_type": "code",
   "execution_count": null,
   "id": "31299ac5",
   "metadata": {},
   "outputs": [],
   "source": [
    "head(clicks_ts_spread)"
   ]
  },
  {
   "cell_type": "code",
   "execution_count": null,
   "id": "0b672824",
   "metadata": {},
   "outputs": [],
   "source": [
    "n_points_before <- as.numeric(table(clicks_ts_spread[clicks_ts_spread$time_series==\"intervention\",]$Intervention)[\"0\"])\n",
    "n_points_after <- as.numeric(table(clicks_ts_spread[clicks_ts_spread$time_series==\"intervention\",]$Intervention)[\"1\"])"
   ]
  },
  {
   "cell_type": "code",
   "execution_count": null,
   "id": "cf85fa47",
   "metadata": {},
   "outputs": [],
   "source": [
    "clicks_ts_spread$TimeSince <- 0\n",
    "clicks_ts_spread[clicks_ts_spread$time_series==\"intervention\",]$TimeSince <- c(rep(0, n_points_before), \n",
    "                                                                               rep(1:n_points_after))\n",
    "clicks_ts_spread[clicks_ts_spread$time_series==\"control\",]$TimeSince <- c(rep(0, n_points_before), \n",
    "                                                                          rep(1:n_points_after))"
   ]
  },
  {
   "cell_type": "code",
   "execution_count": null,
   "id": "19ef0885",
   "metadata": {},
   "outputs": [],
   "source": [
    "clicks_ts_spread_int <- clicks_ts_spread[clicks_ts_spread$time_series == \"intervention\",]"
   ]
  },
  {
   "cell_type": "code",
   "execution_count": null,
   "id": "c712c574",
   "metadata": {},
   "outputs": [],
   "source": [
    "# check\n",
    "clicks_ts_spread_int[37:45,]"
   ]
  },
  {
   "cell_type": "code",
   "execution_count": null,
   "id": "8a6531e9",
   "metadata": {},
   "outputs": [],
   "source": [
    "# poisson regression\n",
    "poisson_reg <- glm(visitors_that_clicked_rl ~ Time + Intervention + TimeSince + offset(log(visitors)), \n",
    "                    data=clicks_ts_spread_int, \n",
    "                    family = poisson(link = \"log\"))"
   ]
  },
  {
   "cell_type": "code",
   "execution_count": null,
   "id": "6e7b412d",
   "metadata": {},
   "outputs": [],
   "source": [
    "summary(poisson_reg)"
   ]
  },
  {
   "cell_type": "markdown",
   "id": "5b3e1cd7",
   "metadata": {},
   "source": [
    "##### Overdispersion...\n",
    "\n",
    "The Residual Deviance is greater than the degrees of freedom, thus over-dispersion exists. This means that the estimates are correct, but the standard errors are wrong and unaccounted for by the model. So False Positives.\n",
    "\n",
    "Let's use a quasi-poisson link family for the error to try to correct for this."
   ]
  },
  {
   "cell_type": "code",
   "execution_count": null,
   "id": "6cba6e31",
   "metadata": {},
   "outputs": [],
   "source": [
    "quasipoisson_reg <- glm(visitors_that_clicked_rl ~ Time + Intervention + TimeSince + offset(log(visitors)), \n",
    "                    data=clicks_ts_spread_int, \n",
    "                    family = quasipoisson(link = \"log\"))"
   ]
  },
  {
   "cell_type": "code",
   "execution_count": null,
   "id": "1ceb2bc7",
   "metadata": {},
   "outputs": [],
   "source": [
    "summary(quasipoisson_reg)"
   ]
  },
  {
   "cell_type": "code",
   "execution_count": null,
   "id": "0e2d9b35",
   "metadata": {},
   "outputs": [],
   "source": [
    "# nicer table of coefficient results, together with confidence intervals\n",
    "summary(quasipoisson_reg)$dispersion\n",
    "round(ci.lin(quasipoisson_reg, Exp=T),3)"
   ]
  },
  {
   "cell_type": "code",
   "execution_count": null,
   "id": "2efd33bd",
   "metadata": {},
   "outputs": [],
   "source": [
    "# let's check residuals for evidence of autocorrelation/ seasonality\n",
    "acf(residuals(quasipoisson_reg, type='deviance'))"
   ]
  },
  {
   "cell_type": "markdown",
   "id": "e449d2b7",
   "metadata": {},
   "source": [
    "Ok, the familiar day-of-the-week seasonality kicks in... and also some autocorrelation at lag-1 (with previous day) we should account for it in the model. "
   ]
  },
  {
   "cell_type": "code",
   "execution_count": null,
   "id": "c3df4575",
   "metadata": {},
   "outputs": [],
   "source": []
  },
  {
   "cell_type": "markdown",
   "id": "e62a8c01",
   "metadata": {},
   "source": [
    "##### Using Fourier terms to adjust for seasonlity, using sine and cosine transform functions\n",
    "\n",
    "These are periodic terms composed of sine and cosine waves that can model regular fluctuations, such as those from seasonal variation"
   ]
  },
  {
   "cell_type": "code",
   "execution_count": null,
   "id": "a876b3e9",
   "metadata": {},
   "outputs": [],
   "source": [
    "# Adjusting for seasonality\n",
    "# There are various ways of adjusting for seasonality\n",
    "# decided to use harmonic terms specifying the number of sin and cosine pairs to include \n",
    "# (in this case 2) and the length of the period (7 days)\n",
    "quasipoisson_reg_season <- glm(visitors_that_clicked_rl ~ Time + Intervention + TimeSince + \n",
    "                               offset(log(visitors)) +\n",
    "                               tsModel::harmonic(clicks_ts_spread_int$date,2,7), \n",
    "                    data=clicks_ts_spread_int, \n",
    "                    family = quasipoisson(link = \"log\"))\n"
   ]
  },
  {
   "cell_type": "code",
   "execution_count": null,
   "id": "41ded4dc",
   "metadata": {
    "scrolled": true
   },
   "outputs": [],
   "source": [
    "summary(quasipoisson_reg_season)"
   ]
  },
  {
   "cell_type": "code",
   "execution_count": null,
   "id": "f76cab62",
   "metadata": {},
   "outputs": [],
   "source": [
    "acf(residuals(quasipoisson_reg_season, type='deviance'))"
   ]
  },
  {
   "cell_type": "code",
   "execution_count": null,
   "id": "5b4398f0",
   "metadata": {},
   "outputs": [],
   "source": [
    "pacf(residuals(quasipoisson_reg_season, type='deviance'))"
   ]
  },
  {
   "cell_type": "markdown",
   "id": "e8c4e901",
   "metadata": {},
   "source": [
    "There is no longer seasonality, but still some autocorrelation though.\n",
    "\n",
    "Thus, we keep the quasi-Poisson model with fourier terms fitted ignoring the autocorrelation but adjust the\n",
    "standard errors using the Newey-West method (ref: https://researchonline.lshtm.ac.uk/id/eprint/4651093/1/Analysing-interrupted-time-series-with-a-control.pdf)"
   ]
  },
  {
   "cell_type": "markdown",
   "id": "66aa1d2c",
   "metadata": {},
   "source": [
    "##### Final results"
   ]
  },
  {
   "cell_type": "code",
   "execution_count": null,
   "id": "071b166e",
   "metadata": {
    "scrolled": true
   },
   "outputs": [],
   "source": [
    "coeftest(quasipoisson_reg_season, vcov = NeweyWest(quasipoisson_reg_season, verbose=TRUE))"
   ]
  },
  {
   "cell_type": "code",
   "execution_count": null,
   "id": "2a767adf",
   "metadata": {},
   "outputs": [],
   "source": [
    "coefci(quasipoisson_reg_season, vcov = NeweyWest(quasipoisson_reg_season, verbose=TRUE))"
   ]
  },
  {
   "cell_type": "markdown",
   "id": "0b8d99f1",
   "metadata": {},
   "source": [
    "Results:\n",
    "\n",
    "- We can see a significant negative effect of Time in the pre-intervention period (the pre-intervention temporal trend).\n",
    "- More importantly to our hypothesis, there is no \"level effect\" of our intervention. Switching from unweighted to weighted related links did not produce any immediate effect on the rate of visitors who clicked on at least a related links.\n",
    "- Also importantly, there was a significant long-term effect associated to our interevention: the difference between the slope before and after intervention is statistically significant. Unfortunately, the effect is not in the direction specified in our hypothesis. The rate of visitors who clicked on a related link after weighted related links were introduced decresed over time after the intervention took place. \n",
    "\n",
    "\n",
    "Note: Coefficient represent differences in log of expected counts/rates."
   ]
  },
  {
   "cell_type": "code",
   "execution_count": null,
   "id": "20bda01f",
   "metadata": {},
   "outputs": [],
   "source": []
  },
  {
   "cell_type": "markdown",
   "id": "46885527",
   "metadata": {},
   "source": [
    "#### OLS Regression\n",
    "\n",
    "As said above, the Normal is a good approximation of the Poisson when lambda is high. So here we show that we can use an OLS regression instead.\n",
    "\n",
    "Here as well we will use Fourier terms to adjust for seasonlity and adjust the standard errors using the Newey-West method to account for any remaining autocorrelation."
   ]
  },
  {
   "cell_type": "code",
   "execution_count": null,
   "id": "75f151b8",
   "metadata": {},
   "outputs": [],
   "source": [
    "# create the click through rate variable\n",
    "clicks_ts_spread_int$ctr <- with(clicks_ts_spread_int, visitors_that_clicked_rl/visitors*10^5)"
   ]
  },
  {
   "cell_type": "code",
   "execution_count": null,
   "id": "dd539e98",
   "metadata": {},
   "outputs": [],
   "source": [
    "reg_clicks <- lm( ctr ~ Time + Intervention + TimeSince +\n",
    "                tsModel::harmonic(clicks_ts_spread_int$date,2,7), \n",
    "                    data=clicks_ts_spread_int)\n"
   ]
  },
  {
   "cell_type": "code",
   "execution_count": null,
   "id": "a906321a",
   "metadata": {},
   "outputs": [],
   "source": [
    "pred1 <- predict(reg_clicks, clicks_ts_spread_int) \n",
    "# To estimate all predicted values of Y, we just use our dataset\n",
    "\n",
    "datanew <- as.data.frame(cbind(Time = rep(1 : length(clicks_its$Time)), Intervention = rep(0), TimeSince = rep(0))) \n",
    "# Create a new dataset where Treatment and Time Since Treatment are equal to 0 as the intervention did not occur.\n",
    "pred2 <- predict(reg_clicks, datanew)\n",
    "# Predict the counterfactuals\n",
    "\n",
    "plot(clicks_ts_spread_int$ctr, \n",
    "      bty=\"n\",\n",
    "      col = gray(0.3,0.5), pch=19,\n",
    "      #ylim = c(0, 0.04), \n",
    "      xlim = c(0,72),\n",
    "      main = \"Rate of visitors who clicked on at least 1 related link (per 10000 visitors)\",\n",
    "      xlab = \"Time elapsed since beginning of study (days)\", \n",
    "      ylab = \"Rate of visitors (per 10,000)\")\n",
    "mtext(side = 3, line = 0.25, at = 1, adj = -1.6, \"(node2vec-generated related links only)\")\n",
    "\n",
    "# cunterfactual\n",
    "lines( 1:(n_points_before), pred1[1:(n_points_before)], col=\"dodgerblue4\", lwd = 3 )\n",
    "lines( (n_points_before):70, pred1[(n_points_before):70], col=\"dodgerblue4\", lwd = 3 )\n",
    "# predicted line\n",
    "lines( (n_points_before+1):70, pred2[(n_points_before+1):70], col=\"darkorange2\", lwd = 3, lty = 5 ) \n",
    "\n",
    "text(45, 1500, labels = \"Predicted values\", pos = 4, cex = 1.3, col = \"dodgerblue3\")\n",
    "text(50, 2700, labels = \"Counterfactual\", pos = 4, cex = 1.3, col = \"darkorange2\")\n",
    "\n",
    "# Line marking the interruption\n",
    "abline( v=(n_points_before+1), col=\"firebrick\",lwd = 2, lty=2 )\n",
    "text( (n_points_before+1), 1200, \"Start of weighted related links\", col=\"firebrick\", cex=1.3, pos=4 )\n"
   ]
  },
  {
   "cell_type": "code",
   "execution_count": null,
   "id": "48b4ad3a",
   "metadata": {},
   "outputs": [],
   "source": [
    "summary(reg_clicks)"
   ]
  },
  {
   "cell_type": "code",
   "execution_count": null,
   "id": "7fa91f62",
   "metadata": {},
   "outputs": [],
   "source": [
    "plot(acf(resid(reg_clicks)))"
   ]
  },
  {
   "cell_type": "markdown",
   "id": "424162bb",
   "metadata": {},
   "source": [
    "Final results"
   ]
  },
  {
   "cell_type": "code",
   "execution_count": null,
   "id": "a1f203e7",
   "metadata": {},
   "outputs": [],
   "source": [
    "coeftest(reg_clicks, vcov = NeweyWest(reg_clicks, verbose=TRUE))"
   ]
  },
  {
   "cell_type": "markdown",
   "id": "81c5f313",
   "metadata": {},
   "source": [
    "Results are confirmed."
   ]
  },
  {
   "cell_type": "code",
   "execution_count": null,
   "id": "fd1f162c",
   "metadata": {},
   "outputs": [],
   "source": []
  },
  {
   "cell_type": "markdown",
   "id": "aad94d90",
   "metadata": {},
   "source": [
    "### Controlled Interrupted Time Series analysis"
   ]
  },
  {
   "cell_type": "markdown",
   "id": "81972311",
   "metadata": {},
   "source": [
    "An interrupted time series with a control (or comparative) group design (CITS) involves adding a control series, which was not exposed to the intervention, to the basic ITS design. This results in the definition of a more complex counterfactual based on both a before-after comparison and an intervention-control comparison. \n",
    "\n",
    "The primary benefit of this approach is that it can help to control for history bias due to time-varying confounders, in particular co-interventions and other events concurrent with the intervention. \n",
    "\n",
    "##### Key assumptions\n",
    "The key features of the control series is that it should be unaffected by the intervention, and share confounders with the intervention series. We also ssume the shared confounders have the same effect on both series."
   ]
  },
  {
   "attachments": {
    "image.png": {
     "image/png": "[encoded data removed]"
    }
   },
   "cell_type": "markdown",
   "id": "d7dbc33a",
   "metadata": {},
   "source": [
    "We follow the advice in the literature and use a control series (https://www.degruyter.com/document/doi/10.1515/em-2018-0010/html?lang=en), and adjust for (confounding) trend in the following way:\n",
    "\n",
    "We can eliminate the effect of the unobserved confounders (the trend) by subtracting the control series from the intervention series, getting the following model:\n",
    "\n",
    "![image.png](attachment:image.png)"
   ]
  },
  {
   "cell_type": "markdown",
   "id": "685e7147",
   "metadata": {},
   "source": [
    "As a model, we run an OLS regression on the difference between thw rates, accounting for seasonality and autocorrlation as before."
   ]
  },
  {
   "cell_type": "code",
   "execution_count": null,
   "id": "d15246c2",
   "metadata": {},
   "outputs": [],
   "source": [
    "clicks_ts_spread <- clicks_ts_spread %>%\n",
    "    mutate(ctr = visitors_that_clicked_rl/visitors*10^5)"
   ]
  },
  {
   "cell_type": "code",
   "execution_count": null,
   "id": "42a96dea",
   "metadata": {},
   "outputs": [],
   "source": [
    "ctr_ts_spread <- clicks_ts_spread %>%\n",
    "    select(date, Time, Intervention, TimeSince, time_series, ctr) %>%\n",
    "    spread(time_series, ctr)"
   ]
  },
  {
   "cell_type": "code",
   "execution_count": null,
   "id": "fed77bbf",
   "metadata": {},
   "outputs": [],
   "source": [
    "head(ctr_ts_spread)"
   ]
  },
  {
   "cell_type": "code",
   "execution_count": null,
   "id": "d2458760",
   "metadata": {},
   "outputs": [],
   "source": [
    "ctr_ts_spread$ctr_diff <- with(ctr_ts_spread, intervention-control)"
   ]
  },
  {
   "cell_type": "code",
   "execution_count": null,
   "id": "36411e0d",
   "metadata": {},
   "outputs": [],
   "source": [
    "head(ctr_ts_spread)"
   ]
  },
  {
   "cell_type": "code",
   "execution_count": null,
   "id": "88d8fd66",
   "metadata": {},
   "outputs": [],
   "source": [
    "plot(ctr_ts_spread$ctr_diff, \n",
    "      bty=\"n\",\n",
    "      col = gray(0.3,0.5), pch=19,\n",
    "      #ylim = c(0, 0.04), \n",
    "      xlim = c(0,72),\n",
    "      main = \"Difference in Rate of visitors who clicked on at least 1 related link (per 10000 visitors)\",\n",
    "      xlab = \"Time elapsed since beginning of study (days)\", \n",
    "      ylab = \"Difference in Rate of visitors (per 10,000)\")\n",
    "mtext(side = 3, line = 0.25, at = 1, adj = -2, \"between intervention and control\")\n",
    "\n",
    "# Line marking the interruption\n",
    "abline( v=42, col=\"firebrick\",lwd = 2, lty=2 )\n",
    "text( 42, 350, \"Start of weighted related links\", col=\"firebrick\", cex=1.3, pos=4 )\n"
   ]
  },
  {
   "cell_type": "code",
   "execution_count": null,
   "id": "09780ea4",
   "metadata": {},
   "outputs": [],
   "source": [
    "reg_ctr_diff <- lm( ctr_diff ~ Time + Intervention + TimeSince +\n",
    "                tsModel::harmonic(ctr_ts_spread$date,2,7), \n",
    "                    data=ctr_ts_spread)\n"
   ]
  },
  {
   "cell_type": "code",
   "execution_count": null,
   "id": "891e88dc",
   "metadata": {},
   "outputs": [],
   "source": [
    "summary(reg_ctr_diff)"
   ]
  },
  {
   "cell_type": "code",
   "execution_count": null,
   "id": "8d062a7d",
   "metadata": {},
   "outputs": [],
   "source": [
    "plot(acf(resid(reg_ctr_diff)))"
   ]
  },
  {
   "cell_type": "code",
   "execution_count": null,
   "id": "94f4ec7f",
   "metadata": {},
   "outputs": [],
   "source": [
    "# robust standrad error\n",
    "coeftest(reg_ctr_diff, vcov = NeweyWest(reg_ctr_diff, verbose=TRUE))"
   ]
  },
  {
   "cell_type": "code",
   "execution_count": null,
   "id": "257b7b7d",
   "metadata": {},
   "outputs": [],
   "source": [
    "coefci(reg_ctr_diff, vcov = NeweyWest(reg_ctr_diff, verbose=TRUE))"
   ]
  },
  {
   "cell_type": "code",
   "execution_count": null,
   "id": "7e32b2e7",
   "metadata": {},
   "outputs": [],
   "source": [
    "diff_pred1 <- predict(reg_ctr_diff, ctr_ts_spread) \n",
    "# To estimate all predicted values of Y, we just use our dataset\n",
    "\n",
    "diff_datanew <- as.data.frame(cbind(Time = rep(1 : length(ctr_ts_spread$Time)), \n",
    "                                    Intervention = 0, \n",
    "                                    TimeSince = 0)) \n",
    "# Create a new dataset where Treatment and Time Since Treatment are equal to 0 as the intervention did not occur.\n",
    "diff_pred2 <- predict(reg_ctr_diff, diff_datanew)\n",
    "# Predict the counterfactuals\n",
    "\n",
    "plot(ctr_ts_spread$ctr_diff, \n",
    "      bty=\"n\",\n",
    "      col = gray(0.3,0.5), pch=19,\n",
    "      #ylim = c(0, 0.04), \n",
    "      xlim = c(0,72),\n",
    "      main = \"Difference in Rate of visitors who clicked on at least 1 related link (per 100,000 visitors)\",\n",
    "      xlab = \"Time elapsed since beginning of study (days)\", \n",
    "      ylab = \"Difference in Rate of visitors (per 100,000)\")\n",
    "mtext(side = 3, line = 0.25, at = 1, adj = -1.6, \"between intervention and control\")\n",
    "\n",
    "# cunterfactual\n",
    "lines( 1:(n_points_before), diff_pred1[1:(n_points_before)], col=\"dodgerblue4\", lwd = 3 )\n",
    "lines( (n_points_before):70, diff_pred1[(n_points_before):70], col=\"dodgerblue4\", lwd = 3 )\n",
    "# predicted line\n",
    "lines( (n_points_before+1):70, diff_pred2[(n_points_before+1):70], col=\"darkorange2\", lwd = 3, lty = 5 ) \n",
    "\n",
    "text(45, 430, labels = \"Predicted values\", pos = 4, cex = 1.3, col = \"dodgerblue3\")\n",
    "text(50, 1100, labels = \"Counterfactual\", pos = 4, cex = 1.3, col = \"darkorange2\")\n",
    "\n",
    "# Line marking the interruption\n",
    "abline( v=(n_points_before+1), col=\"firebrick\",lwd = 2, lty=2 )\n",
    "text( (n_points_before+1), 350, \"Start of weighted related links\", col=\"firebrick\", cex=1.3, pos=4 )\n"
   ]
  },
  {
   "cell_type": "markdown",
   "id": "407fcba1",
   "metadata": {},
   "source": [
    "So after accounting for confounding variables via the controlled time series, we can see there is actually no effect whatsoever due to our intervention. Switching to the weighted related links did not affect nor improve the engagement of visitors with related links but it also did not make things worst. "
   ]
  },
  {
   "cell_type": "code",
   "execution_count": null,
   "id": "625c9dd5",
   "metadata": {},
   "outputs": [],
   "source": []
  },
  {
   "cell_type": "code",
   "execution_count": null,
   "id": "112465e2",
   "metadata": {},
   "outputs": [],
   "source": []
  },
  {
   "cell_type": "markdown",
   "id": "27dde629",
   "metadata": {},
   "source": [
    "## Rate of repeated-clicker visitors"
   ]
  },
  {
   "cell_type": "markdown",
   "id": "c11d5f53",
   "metadata": {},
   "source": [
    "Let's do the same for our second evaluation metric: the rate of visitors that, having clicked on a related link, click on at least one more during the same day."
   ]
  },
  {
   "cell_type": "code",
   "execution_count": null,
   "id": "db8116db",
   "metadata": {
    "scrolled": true
   },
   "outputs": [],
   "source": [
    "unique(ts_long$metric)"
   ]
  },
  {
   "cell_type": "code",
   "execution_count": null,
   "id": "1780deda",
   "metadata": {},
   "outputs": [],
   "source": [
    "repeat_ts <- ts_long %>% filter(metric %in% c('visitors_that_clicked_rl', 'visitors_2_or_more_rl')) \n",
    "\n",
    "repeat_ts <- repeat_ts %>%\n",
    "    group_by(time_series, metric) %>%\n",
    "    mutate(Time = row_number()) %>%\n",
    "    mutate(Intervention = ifelse(date <= as.Date(\"2021-11-20\"), 0, 1))"
   ]
  },
  {
   "cell_type": "code",
   "execution_count": null,
   "id": "239ca46c",
   "metadata": {},
   "outputs": [],
   "source": [
    "# check\n",
    "table(repeat_ts[repeat_ts$metric == \"visitors_2_or_more_rl\",]$time_series)\n",
    "table(repeat_ts[repeat_ts$metric == \"visitors_that_clicked_rl\",]$time_series)"
   ]
  },
  {
   "cell_type": "code",
   "execution_count": null,
   "id": "8f8e7599",
   "metadata": {},
   "outputs": [],
   "source": [
    "head(repeat_ts)"
   ]
  },
  {
   "cell_type": "code",
   "execution_count": null,
   "id": "f04deef8",
   "metadata": {},
   "outputs": [],
   "source": [
    "# from long to wide\n",
    "repeat_ts_spread <- repeat_ts %>%\n",
    "    spread(metric, value)"
   ]
  },
  {
   "cell_type": "code",
   "execution_count": null,
   "id": "753b6172",
   "metadata": {},
   "outputs": [],
   "source": [
    "n_points_before <- as.numeric(table(repeat_ts_spread[repeat_ts_spread$time_series==\"intervention\",]$Intervention)[\"0\"])\n",
    "n_points_after <- as.numeric(table(repeat_ts_spread[repeat_ts_spread$time_series==\"intervention\",]$Intervention)[\"1\"])"
   ]
  },
  {
   "cell_type": "code",
   "execution_count": null,
   "id": "8e5c34aa",
   "metadata": {},
   "outputs": [],
   "source": [
    "repeat_ts_spread$TimeSince <- 0\n",
    "repeat_ts_spread[repeat_ts_spread$time_series==\"intervention\",]$TimeSince <- c(rep(0, n_points_before), rep(1:n_points_after))\n",
    "repeat_ts_spread[repeat_ts_spread$time_series==\"control\",]$TimeSince <- c(rep(0, n_points_before), rep(1:n_points_after))"
   ]
  },
  {
   "cell_type": "code",
   "execution_count": null,
   "id": "d7a3c513",
   "metadata": {},
   "outputs": [],
   "source": [
    "# Outcome variable as rate (per 1,000 visitors)\n",
    "repeat_ts_spread$repeated_ctr <- with(repeat_ts_spread, visitors_2_or_more_rl/visitors_that_clicked_rl*10^3)"
   ]
  },
  {
   "cell_type": "code",
   "execution_count": null,
   "id": "356a391b",
   "metadata": {},
   "outputs": [],
   "source": [
    "head(repeat_ts_spread)"
   ]
  },
  {
   "cell_type": "code",
   "execution_count": null,
   "id": "cacdc577",
   "metadata": {},
   "outputs": [],
   "source": [
    "repeat_ts_int <- repeat_ts_spread %>% filter(time_series==\"intervention\")"
   ]
  },
  {
   "cell_type": "code",
   "execution_count": null,
   "id": "9b5c0178",
   "metadata": {},
   "outputs": [],
   "source": [
    "# check\n",
    "repeat_ts_int[38:44,]"
   ]
  },
  {
   "cell_type": "code",
   "execution_count": null,
   "id": "494707b8",
   "metadata": {},
   "outputs": [],
   "source": []
  },
  {
   "cell_type": "markdown",
   "id": "1447d52f",
   "metadata": {},
   "source": [
    "### ITS analysis\n",
    "\n",
    "We use the same approach and run an LSO on the rate values (per 10,000) (we can confirm with a quasipoisson as above later if needed), modelling seasonality with Fourier terms and autocorrelated errors with robust NeweyWest standard errors."
   ]
  },
  {
   "cell_type": "code",
   "execution_count": null,
   "id": "00b4bf13",
   "metadata": {},
   "outputs": [],
   "source": [
    "plot(repeat_ts_int$repeated_ctr, \n",
    "      bty=\"n\",\n",
    "      col = gray(0.3,0.5), pch=19,\n",
    "      xlim = c(0,72),\n",
    "      main = \"Rate of repeated-clicker visitors (per 1,000 visitors)\",\n",
    "      xlab = \"Time elapsed since beginning of study (days)\", \n",
    "      ylab = \"Rate of repeated-clicker visitors (per 1,000)\")\n",
    "mtext(side = 3, line = 0.25, at = 1, adj = -1.6, \"(node2vec related-link pages only)\")\n",
    "\n",
    "\n",
    "# Line marking the interruption\n",
    "abline( v=n_points_before+1, col=\"firebrick\",lwd = 2, lty=2 )\n",
    "text( n_points_before+1, 175.5, \"Start of weighted related links\", col=\"firebrick\", cex=1.3, pos=4 )\n"
   ]
  },
  {
   "cell_type": "code",
   "execution_count": null,
   "id": "9ac4e1c4",
   "metadata": {},
   "outputs": [],
   "source": [
    "reg_repeated <- lm( repeated_ctr ~ Time + Intervention + TimeSince +\n",
    "                tsModel::harmonic(repeat_ts_int$date,2,7), \n",
    "                    data=repeat_ts_int)\n"
   ]
  },
  {
   "cell_type": "code",
   "execution_count": null,
   "id": "19f575cc",
   "metadata": {},
   "outputs": [],
   "source": [
    "plot(acf(resid(reg_repeated)))"
   ]
  },
  {
   "cell_type": "code",
   "execution_count": null,
   "id": "9d50dc88",
   "metadata": {},
   "outputs": [],
   "source": [
    "# robust standrad error\n",
    "coeftest(reg_repeated, vcov = NeweyWest(reg_repeated, verbose=TRUE))"
   ]
  },
  {
   "cell_type": "code",
   "execution_count": null,
   "id": "6dae092c",
   "metadata": {},
   "outputs": [],
   "source": [
    "coefci(reg_repeated, vcov = NeweyWest(reg_repeated, verbose=TRUE))"
   ]
  },
  {
   "cell_type": "markdown",
   "id": "1a0b631f",
   "metadata": {},
   "source": [
    "No effect of our intervention (switch to related links), just a slight pre-intervention increase seemingly unaffacted by our intervention) "
   ]
  },
  {
   "cell_type": "code",
   "execution_count": null,
   "id": "2859a0b3",
   "metadata": {},
   "outputs": [],
   "source": [
    "rep_pred1 <- predict(reg_repeated, repeat_ts_int) \n",
    "# To estimate all predicted values of Y, we just use our dataset\n",
    "\n",
    "rep_datanew <- as.data.frame(cbind(\n",
    "    Time = rep(1 : length(repeat_ts_int$Time)), \n",
    "    Intervention = 0, \n",
    "    TimeSince = 0)) \n",
    "# Create a new dataset where Treatment and Time Since Treatment are equal to 0 as the intervention did not occur.\n",
    "rep_pred2 <- predict(reg_repeated, rep_datanew)\n",
    "# Predict the counterfactuals\n",
    "\n",
    "plot(repeat_ts_int$repeated_ctr, \n",
    "      bty=\"n\",\n",
    "      col = gray(0.3,0.5), pch=19,\n",
    "      ylim = c(170, 250), \n",
    "      xlim = c(0,72),\n",
    "      main = \"Rate of repeated-clicker visitors (per 1,000 visitors)\",\n",
    "      xlab = \"Time elapsed since beginning of study (days)\", \n",
    "      ylab = \"Rate of visitors (per 1,000)\")\n",
    "mtext(side = 3, line = 0.25, at = 1, adj = -1.6, \"(node2vec related-link pages only)\")\n",
    "\n",
    "# cunterfactual\n",
    "lines( 1:(n_points_before), rep_pred1[1:(n_points_before)], col=\"dodgerblue4\", lwd = 3 )\n",
    "lines( (n_points_before):70, rep_pred1[(n_points_before):70], col=\"dodgerblue4\", lwd = 3 )\n",
    "# predicted line\n",
    "lines( (n_points_before+1):70, rep_pred2[(n_points_before+1):70], col=\"darkorange2\", lwd = 3, lty = 5 ) \n",
    "\n",
    "text(43, 190, labels = \"Predicted values\", pos = 4, cex = 1.3, col = \"dodgerblue3\")\n",
    "text(50, 230, labels = \"Counterfactual\", pos = 4, cex = 1.3, col = \"darkorange2\")\n",
    "\n",
    "# Line marking the interruption\n",
    "abline( v=n_points_before+1, col=\"firebrick\",lwd = 2, lty=2 )\n",
    "text( n_points_before+1, 170, \"Start of weighted related links\", col=\"firebrick\", cex=1.3, pos=4 )\n"
   ]
  },
  {
   "cell_type": "code",
   "execution_count": null,
   "id": "a11069c0",
   "metadata": {},
   "outputs": [],
   "source": [
    "head(repeat_ts_spread)"
   ]
  },
  {
   "cell_type": "markdown",
   "id": "aee08c39",
   "metadata": {},
   "source": [
    "### Controlled time-series"
   ]
  },
  {
   "cell_type": "code",
   "execution_count": null,
   "id": "ac02f130",
   "metadata": {},
   "outputs": [],
   "source": [
    "head(repeat_ts_spread)"
   ]
  },
  {
   "cell_type": "code",
   "execution_count": null,
   "id": "5dfcc7af",
   "metadata": {},
   "outputs": [],
   "source": [
    "diff_repeat_ts <- repeat_ts_spread %>%\n",
    "    select(date, time_series, Time, Intervention, TimeSince, repeated_ctr) %>%\n",
    "    spread(time_series, repeated_ctr)"
   ]
  },
  {
   "cell_type": "code",
   "execution_count": null,
   "id": "41b22afd",
   "metadata": {},
   "outputs": [],
   "source": [
    "head(diff_repeat_ts)"
   ]
  },
  {
   "cell_type": "code",
   "execution_count": null,
   "id": "cd9ad46b",
   "metadata": {},
   "outputs": [],
   "source": [
    "diff_repeat_ts$repeat_diff <- with(diff_repeat_ts, intervention-control)"
   ]
  },
  {
   "cell_type": "code",
   "execution_count": null,
   "id": "592abd7f",
   "metadata": {},
   "outputs": [],
   "source": [
    "head(diff_repeat_ts)"
   ]
  },
  {
   "cell_type": "code",
   "execution_count": null,
   "id": "ad803973",
   "metadata": {},
   "outputs": [],
   "source": [
    "plot(diff_repeat_ts$repeat_diff, \n",
    "      bty=\"n\",\n",
    "      col = gray(0.3,0.5), pch=19,\n",
    "      #ylim = c(170, 250), \n",
    "      xlim = c(0,72),\n",
    "      main = \"Difference in rate of repeated-clicker visitors (per 1,000 visitors)\",\n",
    "      xlab = \"Time elapsed since beginning of study (days)\", \n",
    "      ylab = \"Difference in rate of visitors (per 1,000)\")\n",
    "mtext(side = 3, line = 0.25, at = 1, adj = -1.6, \"between Intervention and Control\")\n",
    "\n",
    "\n",
    "# Line marking the interruption\n",
    "abline( v=n_points_before+1, col=\"firebrick\",lwd = 2, lty=2 )\n",
    "text( n_points_before+1, 29, \"Start of weighted related links\", col=\"firebrick\", cex=1.3, pos=4 )\n"
   ]
  },
  {
   "cell_type": "code",
   "execution_count": null,
   "id": "a72eb3d4",
   "metadata": {},
   "outputs": [],
   "source": [
    "reg_repeat_diff <- lm( repeat_diff ~ Time + Intervention + TimeSince +\n",
    "                tsModel::harmonic(diff_repeat_ts$date,2,7), \n",
    "                    data=diff_repeat_ts)\n"
   ]
  },
  {
   "cell_type": "code",
   "execution_count": null,
   "id": "82ddc616",
   "metadata": {},
   "outputs": [],
   "source": [
    "summary(reg_repeat_diff)"
   ]
  },
  {
   "cell_type": "code",
   "execution_count": null,
   "id": "eec6fc6d",
   "metadata": {},
   "outputs": [],
   "source": [
    "plot(acf(resid(reg_repeat_diff)))"
   ]
  },
  {
   "cell_type": "code",
   "execution_count": null,
   "id": "0e875d56",
   "metadata": {},
   "outputs": [],
   "source": [
    "# robust standrad error\n",
    "coeftest(reg_repeat_diff, vcov = NeweyWest(reg_repeat_diff, verbose=TRUE))"
   ]
  },
  {
   "cell_type": "code",
   "execution_count": null,
   "id": "078caa5a",
   "metadata": {},
   "outputs": [],
   "source": [
    "coefci(reg_repeat_diff, vcov = NeweyWest(reg_repeat_diff, verbose=TRUE))"
   ]
  },
  {
   "cell_type": "code",
   "execution_count": null,
   "id": "435b0619",
   "metadata": {},
   "outputs": [],
   "source": [
    "rep_diff_pred1 <- predict(reg_repeat_diff, diff_repeat_ts) \n",
    "# To estimate all predicted values of Y, we just use our dataset\n",
    "\n",
    "rep_diff_datanew <- as.data.frame(cbind(\n",
    "    Time = rep(1 : length(diff_repeat_ts$Time)), \n",
    "    Intervention = 0, \n",
    "    TimeSince = 0)) \n",
    "# Create a new dataset where Treatment and Time Since Treatment are equal to 0 as the intervention did not occur.\n",
    "rep_diff_pred2 <- predict(reg_repeat_diff, rep_diff_datanew)\n",
    "# Predict the counterfactuals\n",
    "\n",
    "plot(diff_repeat_ts$repeat_diff, \n",
    "      bty=\"n\",\n",
    "      col = gray(0.3,0.5), pch=19,\n",
    "      ylim = c(0, 70), \n",
    "      xlim = c(0,72),\n",
    "      main = \"Difference in rate of repeated-clicker visitors (per 1,000 visitors)\",\n",
    "      xlab = \"Time elapsed since beginning of study (days)\", \n",
    "      ylab = \"Difference in rate of visitors (per 1,000)\")\n",
    "mtext(side = 3, line = 0.25, at = 1, adj = -1.6, \"between Intervention and Control\")\n",
    "\n",
    "# cunterfactual\n",
    "lines( 1:(n_points_before), rep_diff_pred1[1:(n_points_before)], col=\"dodgerblue4\", lwd = 3 )\n",
    "lines( (n_points_before):70, rep_diff_pred1[(n_points_before):70], col=\"dodgerblue4\", lwd = 3 )\n",
    "# predicted line\n",
    "lines( (n_points_before+1):70, rep_diff_pred2[(n_points_before+1):70], col=\"darkorange2\", lwd = 3, lty = 5 ) \n",
    "\n",
    "text(45, 38, labels = \"Predicted values\", pos = 4, cex = 1.3, col = \"dodgerblue3\")\n",
    "text(50, 68, labels = \"Counterfactual\", pos = 4, cex = 1.3, col = \"darkorange2\")\n",
    "\n",
    "# Line marking the interruption\n",
    "abline( v=(n_points_before+1), col=\"firebrick\",lwd = 2, lty=2 )\n",
    "text( (n_points_before+1), 0, \"Start of weighted related links\", col=\"firebrick\", cex=1.3, pos=4 )\n"
   ]
  },
  {
   "cell_type": "markdown",
   "id": "89d02929",
   "metadata": {},
   "source": [
    "Here again, even when accouting for possible confounding effects via the control time-series, no expected effect of our intervention on the time series of the evaluation metric."
   ]
  },
  {
   "cell_type": "code",
   "execution_count": null,
   "id": "7da232c1",
   "metadata": {},
   "outputs": [],
   "source": []
  }
 ],
 "metadata": {
  "kernelspec": {
   "display_name": "R",
   "language": "R",
   "name": "ir"
  },
  "language_info": {
   "codemirror_mode": "r",
   "file_extension": ".r",
   "mimetype": "text/x-r-source",
   "name": "R",
   "pygments_lexer": "r",
   "version": "4.1.1"
  }
 },
 "nbformat": 4,
 "nbformat_minor": 5
}
