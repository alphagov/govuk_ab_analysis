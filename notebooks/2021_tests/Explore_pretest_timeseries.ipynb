{
 "cells": [
  {
   "cell_type": "markdown",
   "id": "18f85a05",
   "metadata": {},
   "source": [
    "# Explore the time-series of metrics in the pre-test period"
   ]
  },
  {
   "cell_type": "markdown",
   "id": "e4f488db",
   "metadata": {},
   "source": [
    "#### Aim\n",
    "\n",
    "Explore the characteristics of the time-series of the main evaluation metrics (in terms of trends and seasonality) to determine how they should be modelled.\n",
    "\n",
    "#### Background\n",
    "\n",
    "The time-series data was created by the `notebooks/2021_tests/gather_metrics.sql` for the pre-intervention time period (segments A0 to A3) from 11-Oct-2021 to 19-Nov-2021 and saved in BigQuery data in the `govuk-bigquery-analytics.datascience.related_links_20211011_20211119_pre_test_data` table.\n",
    "\n",
    "\n",
    "**IMPORTANT**: This notebook uses an R kernel.\n",
    "\n",
    "#### How to setup Jupyter Notebook for R\n",
    "\n",
    "These instructions assume that you already have a working Python environment for your local repository of this project, and Jupyter Notebook already installed in that environment that you can execute from your Terminal.\n",
    "\n",
    "1. Install R \n",
    "\n",
    "   If not already installed, see https://cloud.r-project.org/index.html\n",
    "   \n",
    "\n",
    "2. Install R kernel for Jupyter Notebook\n",
    "\n",
    "    In your Terminal (note: not in RStudio, not in the R GUI):\n",
    "    \n",
    "    - launch R by entering `R` on the command line.\n",
    "\n",
    "    - You should now be using R from your Terminal. Thus, run:\n",
    "    ```\n",
    "    install.packages('IRkernel')\n",
    "    IRkernel::installspec()\n",
    "    ```\n",
    "\n",
    "    Done! You can now quit R by entering `q()`.\n",
    "\n",
    "If you now launch Jupyter Notebook, you'll have the option to choose `R` as kernel.\n"
   ]
  },
  {
   "cell_type": "markdown",
   "id": "5c1bbf2b",
   "metadata": {},
   "source": [
    "### Setting things up"
   ]
  },
  {
   "cell_type": "code",
   "execution_count": null,
   "id": "79e57651",
   "metadata": {},
   "outputs": [],
   "source": [
    "# Install packages, if they aren't already available.\n",
    "# This can take a minute or two.\n",
    "packages <- c(\"bigrquery\", \"tidyverse\", \"plotly\", \"gridExtra\", \"tsibble\", \"feasts\", \"DT\", \"TTR\")\n",
    "install.packages(setdiff(packages, rownames(installed.packages())), quiet = TRUE) "
   ]
  },
  {
   "cell_type": "code",
   "execution_count": null,
   "id": "651112e3",
   "metadata": {},
   "outputs": [],
   "source": [
    "for(pckg in packages){\n",
    "    suppressPackageStartupMessages(library(pckg, character.only = TRUE))\n",
    "}"
   ]
  },
  {
   "cell_type": "code",
   "execution_count": null,
   "id": "5bc00729",
   "metadata": {},
   "outputs": [],
   "source": [
    "#Authenticate\n",
    "#/path/to/your/service-account.json\n",
    "bq_auth(path = \"/Users/alessiatosi/Secrets/govuk-bigquery-analytics-service-credentials.json\")  "
   ]
  },
  {
   "cell_type": "code",
   "execution_count": null,
   "id": "9a9b342f",
   "metadata": {},
   "outputs": [],
   "source": [
    "# Make plots wider \n",
    "options(repr.plot.width=15, repr.plot.height=8)"
   ]
  },
  {
   "cell_type": "code",
   "execution_count": null,
   "id": "95927efd",
   "metadata": {},
   "outputs": [],
   "source": [
    "# create custom plotting theme\n",
    "theme_custom <- theme(plot.title = element_text(face = \"bold\", hjust = 0.5, size=18),\n",
    "                      plot.subtitle = element_text(size=14),\n",
    "                      axis.text.y = element_text(colour = 'black', size = 12), \n",
    "                      axis.title.y = element_text(size = 16, hjust = 0.5, vjust = 0.2),\n",
    "                      axis.text.x = element_text(colour = 'black', size = 12), \n",
    "                      axis.title.x = element_text(size = 16, hjust = 0.5, vjust = 0.2),\n",
    "                      panel.background = element_blank(),\n",
    "                      axis.line = element_line(colour = \"black\"),\n",
    "                      legend.position = \"bottom\",\n",
    "                      legend.direction = \"horizontal\")"
   ]
  },
  {
   "cell_type": "markdown",
   "id": "c08e9d56",
   "metadata": {},
   "source": [
    "### Get the data"
   ]
  },
  {
   "cell_type": "code",
   "execution_count": null,
   "id": "8e9e04b6",
   "metadata": {},
   "outputs": [],
   "source": [
    "#billing <- \"govuk-xgov\" # replace this with your project ID \n",
    "project = \"govuk-bigquery-analytics\"\n",
    "sql <- \"SELECT * FROM `govuk-bigquery-analytics.datascience.related_links_20211011_20211119_pre_test_data`\"\n",
    "\n",
    "tb <- bq_table_download(bq_project_query(project, sql))"
   ]
  },
  {
   "cell_type": "code",
   "execution_count": null,
   "id": "38da294b",
   "metadata": {
    "scrolled": true
   },
   "outputs": [],
   "source": [
    "tb"
   ]
  },
  {
   "cell_type": "markdown",
   "id": "37fda8d3",
   "metadata": {},
   "source": [
    "### Data pre-processing"
   ]
  },
  {
   "cell_type": "code",
   "execution_count": null,
   "id": "d9d0e901",
   "metadata": {},
   "outputs": [],
   "source": [
    "# cast date as a date type variable\n",
    "tb$date <- as.Date(strptime(tb$date, \"%Y%m%d\"))"
   ]
  },
  {
   "cell_type": "code",
   "execution_count": null,
   "id": "960813b8",
   "metadata": {},
   "outputs": [],
   "source": [
    "tb <- tb %>% \n",
    "    arrange(date)"
   ]
  },
  {
   "cell_type": "markdown",
   "id": "36e8de43",
   "metadata": {},
   "source": [
    "### Plotting the time series of data"
   ]
  },
  {
   "cell_type": "markdown",
   "id": "af42e06e",
   "metadata": {},
   "source": [
    "Here we will plotting the time series of data for all the metrics. Later in the notebook we will explore seasonality and trends in the time series of the two main evaluation metrics:\n",
    "- Proportion of visitors who click a related link (RL) at least once\n",
    "- Proportion of repeated-clicker visitors (those that, having click on a RL, click on others)"
   ]
  },
  {
   "cell_type": "code",
   "execution_count": null,
   "id": "8486ce45",
   "metadata": {},
   "outputs": [],
   "source": []
  },
  {
   "cell_type": "code",
   "execution_count": null,
   "id": "9c459692",
   "metadata": {},
   "outputs": [],
   "source": [
    "plot_timeseries <- function(data, ts_var=\"\", title=\"\", x_title=\"\"){\n",
    "    #'@param data (data.frame) : dataset  \n",
    "    #'@param ts_var (character string) : name of the variable containing the time-series data\n",
    "    #'@param title (character string) : plot title\n",
    "    #'@param x_title (character string) : x-axis title\n",
    "    #'@return time-series plot\n",
    "    \n",
    "    if(!\"date\" %in% colnames(data)) stop(paste0(\"column `date` is missing from dataset\"))\n",
    "    \n",
    "    sym_ts_var <- dplyr::sym(ts_var)\n",
    "    \n",
    "    data %>% \n",
    "    ggplot2::ggplot(., aes(date, !!sym_ts_var)) +\n",
    "    geom_point(size=2) +\n",
    "    geom_line(size=1) +\n",
    "    #geom_smooth(method=\"lm\", colour=\"blue\") +\n",
    "    geom_smooth(method = \"loess\", formula=y~x, colour=\"red\", se=TRUE) +\n",
    "    geom_vline(aes(xintercept = as.Date(\"20211111\", \"%Y%m%d\")), col=\"blue\", linetype=2) +\n",
    "    geom_vline(aes(xintercept = as.Date(\"20211025\", \"%Y%m%d\")), col=\"blue\", linetype=2) +\n",
    "    labs(\n",
    "        title = title,\n",
    "        subtitle = \"Pre-intervention time series\") +\n",
    "    ylab(x_title) +\n",
    "    theme_custom\n",
    "    }"
   ]
  },
  {
   "cell_type": "code",
   "execution_count": null,
   "id": "cbef55c3",
   "metadata": {},
   "outputs": [],
   "source": [
    "plot_timeseries(data=tb,\n",
    "               ts_var=\"pc_visitors_used_rl\",\n",
    "               title=\"Proportion of visitors who clicked on at least 1 related link\",\n",
    "               x_title=\"Proportion of visitors\")"
   ]
  },
  {
   "cell_type": "code",
   "execution_count": null,
   "id": "ffac983c",
   "metadata": {},
   "outputs": [],
   "source": [
    "plot_timeseries(data=tb,\n",
    "               ts_var=\"pc_visitors_that_clicked_navigation\",\n",
    "               title=\"Proportion of visitors who clicked on a navigation element\",\n",
    "               x_title=\"Proportion of visitors\")"
   ]
  },
  {
   "cell_type": "code",
   "execution_count": null,
   "id": "3acb9cb3",
   "metadata": {},
   "outputs": [],
   "source": [
    "plot_timeseries(data=tb,\n",
    "               ts_var=\"pc_visitors_2_or_more_rl\",\n",
    "               title=\"Proportion of visitors who clicked 2 or more related links\",\n",
    "               x_title=\"Proportion of visitors\")"
   ]
  },
  {
   "cell_type": "code",
   "execution_count": null,
   "id": "7732364c",
   "metadata": {},
   "outputs": [],
   "source": [
    "plot_timeseries(data=tb,\n",
    "               ts_var=\"pc_visitors_that_used_search\",\n",
    "               title=\"Proportion of visitors who used internal search\",\n",
    "               x_title=\"Proportion of visitors\")"
   ]
  },
  {
   "cell_type": "code",
   "execution_count": null,
   "id": "e0c38ba6",
   "metadata": {},
   "outputs": [],
   "source": [
    "plot_timeseries(data=tb,\n",
    "               ts_var=\"pc_visitors_returning_to_rl\",\n",
    "               title=\"Proportion of repeated-clicker visitors (they clicked one RL who then click again on a RL)\",\n",
    "               x_title=\"Proportion of visitors\")"
   ]
  },
  {
   "cell_type": "code",
   "execution_count": null,
   "id": "c11ffad4",
   "metadata": {},
   "outputs": [],
   "source": []
  },
  {
   "cell_type": "code",
   "execution_count": null,
   "id": "568ea57d",
   "metadata": {},
   "outputs": [],
   "source": []
  },
  {
   "cell_type": "markdown",
   "id": "dafb78a7",
   "metadata": {},
   "source": [
    "### Trends, seasonality and stationarity"
   ]
  },
  {
   "cell_type": "markdown",
   "id": "b2f8099f",
   "metadata": {},
   "source": [
    "- **Trend**: whether and when there is an overall increasing or decreasing pattern in our observations over time\n",
    "- **Seasonality**: whether and when there are repeating patterns in the series at fixed and known periods (e.g., weekly)\n",
    "- **Stationarity**: when a time-series has constant mean, variance and covariance over time\n",
    "Put another way, a time-series is **stationary** when it has no trend nor seasonality, and has constant variance over time. Typically, this will mean when you plot values over time, it will be roughly horizontal (though some cyclic behaviour is possible) and have constant variance.\n",
    "\n",
    "- **Remainder/random noise**: leftover of original time-series after trend and seasonality are removed\n",
    "- **Autocorrelation**: the strength of the relationship between a variable and its observations at prior time-periods\n",
    "The **autocorrelation function** is a plot of a **stationary** time-series with its lags (meaning its observations at prior time-periods). It can be used to obtain the order of a **moving-average model**, *q*. It will be the first lag at which the **autocorrelation** value passes the upper 95% **confidence interval**, as indicated by the blue dotted line in the corresponding **ACF** plot.\n",
    "\n",
    "- **Partial autocorrelation**: the strength of the relationship between an observation in a time-series with its observations at prior time-peridos, with the relationships of intervening observations removed. **Partial autocorrelation** is different to **autocorrelation** because the latter is comprised of both *direct* and *indirect* correlations, whereas the former removes these *indirect* correlations. It can be used to obtain the order of an auto-regressive model, *p*.^[Indirect correlations are a linear function of the correlation of the observation, with observations at intervening time periods.]\n",
    "\n",
    "We explore **trend** to help identify whether the shares in page view traffic by device cateogry has evolved over time, and whether this change in the cookie-policy has further affected this trend in any peculiar way. Whereas for the **ACF** and **PACF** concepts, we explore these to inform our choice of the statistical method to model our time-series data with.\n"
   ]
  },
  {
   "cell_type": "code",
   "execution_count": null,
   "id": "4dd67bde",
   "metadata": {},
   "outputs": [],
   "source": []
  },
  {
   "cell_type": "code",
   "execution_count": null,
   "id": "900fb1fd",
   "metadata": {},
   "outputs": [],
   "source": [
    "# convert to time-series object\n",
    "tb <- tb %>%\n",
    "    tsibble::as_tsibble(index = date)"
   ]
  },
  {
   "cell_type": "code",
   "execution_count": null,
   "id": "c5c999b0",
   "metadata": {},
   "outputs": [],
   "source": [
    "plot_SLT <- function(data, ts_var=\"\", title_ts_var=\"\"){\n",
    "    #'@param data (data.frame) : dataset  \n",
    "    #'@param ts_var (character string) : name of the variable containing the time-series data\n",
    "    #'@param title_ts_var (character string) : Plain English description of time-series variable\n",
    "    #'@return time-series plot\n",
    "    \n",
    "    if(!\"date\" %in% colnames(data)) stop(paste0(\"column `date` is missing from dataset\"))\n",
    "    \n",
    "    sym_ts_var <- dplyr::sym(ts_var)\n",
    "    \n",
    "    decomp <- data %>% model(STL(!!sym_ts_var)) %>% components()\n",
    "    \n",
    "    p1 <- data %>%\n",
    "        feasts::gg_tsdisplay(y = !!sym_ts_var, plot_type = \"partial\") + \n",
    "        labs(title = paste(title_ts_var, \"- Time, ACF and PACF plots\"))\n",
    "    \n",
    "    p2 <- decomp %>% autoplot()\n",
    "    \n",
    "    list(p1, p2)\n",
    "    }"
   ]
  },
  {
   "cell_type": "code",
   "execution_count": null,
   "id": "6be01afb",
   "metadata": {},
   "outputs": [],
   "source": []
  },
  {
   "cell_type": "markdown",
   "id": "4bb9bc69",
   "metadata": {},
   "source": [
    "#### Proportion of visitors who click RL at least once"
   ]
  },
  {
   "cell_type": "code",
   "execution_count": null,
   "id": "1f11f7a6",
   "metadata": {
    "scrolled": true
   },
   "outputs": [],
   "source": [
    "plot_SLT(tb, \"pc_visitors_used_rl\", \"Percentage of visitors who clicked RL at least once\")"
   ]
  },
  {
   "cell_type": "code",
   "execution_count": null,
   "id": "6827527b",
   "metadata": {},
   "outputs": [],
   "source": []
  },
  {
   "cell_type": "markdown",
   "id": "a1b73dec",
   "metadata": {},
   "source": [
    "#### Proportion of repeated-clicker visitors"
   ]
  },
  {
   "cell_type": "code",
   "execution_count": null,
   "id": "883278cb",
   "metadata": {},
   "outputs": [],
   "source": [
    "plot_SLT(tb, \"pc_visitors_returning_to_rl\", \n",
    "         \"Proportion of visitors who clicked on more RLs after having clicked on one\")"
   ]
  },
  {
   "cell_type": "markdown",
   "id": "9b42d83b",
   "metadata": {},
   "source": [
    "#### Proportion of visitors who clicked on a navigation element while on a RL page"
   ]
  },
  {
   "cell_type": "code",
   "execution_count": null,
   "id": "a3f83966",
   "metadata": {},
   "outputs": [],
   "source": [
    "plot_SLT(tb, \"pc_visitors_that_clicked_navigation\", \n",
    "         \"Proportion of visitors who clicked on a navigation element\")"
   ]
  },
  {
   "cell_type": "code",
   "execution_count": null,
   "id": "eb65f21b",
   "metadata": {},
   "outputs": [],
   "source": []
  },
  {
   "cell_type": "markdown",
   "id": "6cfa18c9",
   "metadata": {},
   "source": [
    "## Conclusions"
   ]
  },
  {
   "cell_type": "markdown",
   "id": "bf2751e8",
   "metadata": {},
   "source": [
    "The time series of our two main metrics of evaluation display both weekly seasonality and some upward not-fully linear trend that we will try to account for when modelling the time-series as part of the interrupted time series analysis."
   ]
  },
  {
   "cell_type": "code",
   "execution_count": null,
   "id": "2d2c2343",
   "metadata": {},
   "outputs": [],
   "source": []
  }
 ],
 "metadata": {
  "kernelspec": {
   "display_name": "R",
   "language": "R",
   "name": "ir"
  },
  "language_info": {
   "codemirror_mode": "r",
   "file_extension": ".r",
   "mimetype": "text/x-r-source",
   "name": "R",
   "pygments_lexer": "r",
   "version": "4.1.1"
  }
 },
 "nbformat": 4,
 "nbformat_minor": 5
}
