{
 "cells": [
  {
   "cell_type": "markdown",
   "id": "18f85a05",
   "metadata": {},
   "source": [
    "# Explore the time-series of metrics in the pre-test period"
   ]
  },
  {
   "cell_type": "markdown",
   "id": "e4f488db",
   "metadata": {},
   "source": [
    "IMPORTANT: This notebook uses an R kernel.\n",
    "\n",
    "#### How to setup Jupyter Notebook for R\n",
    "\n",
    "These instructions assume that you already have a working Python environment for your local repository of this project, and Jupyter Notebook already installed in that environment that you can execute from your Terminal.\n",
    "\n",
    "1. Install R \n",
    "\n",
    "   If not already installed, see https://cloud.r-project.org/index.html\n",
    "   \n",
    "\n",
    "2. Install R kernel for Jupyter Notebook\n",
    "\n",
    "    In your Terminal (note: not in RStudio, not in the R GUI):\n",
    "    \n",
    "    - launch R by entering `R` on the command line.\n",
    "\n",
    "    - You should now be using R from your Terminal. Thus, run:\n",
    "    ```\n",
    "    install.packages('IRkernel')\n",
    "    IRkernel::installspec()\n",
    "    ```\n",
    "\n",
    "    Done! You can now quit R by entering `q()`.\n",
    "\n",
    "If you now launch Jupyter Notebook, you'll have the option to choose `R` as kernel.\n"
   ]
  },
  {
   "cell_type": "markdown",
   "id": "5c1bbf2b",
   "metadata": {},
   "source": [
    "### Setting things up"
   ]
  },
  {
   "cell_type": "code",
   "execution_count": null,
   "id": "79e57651",
   "metadata": {},
   "outputs": [],
   "source": [
    "# Install packages, if they aren't already available.\n",
    "# This can take a minute or two.\n",
    "packages <- c(\"bigrquery\", \"tidyverse\", \"plotly\")\n",
    "install.packages(setdiff(packages, rownames(installed.packages())), quiet = TRUE) "
   ]
  },
  {
   "cell_type": "code",
   "execution_count": null,
   "id": "c807b753",
   "metadata": {},
   "outputs": [],
   "source": [
    "suppressPackageStartupMessages(library(plotly))\n",
    "suppressPackageStartupMessages(library(bigrquery))\n",
    "suppressPackageStartupMessages(library(tidyverse))"
   ]
  },
  {
   "cell_type": "code",
   "execution_count": null,
   "id": "5bc00729",
   "metadata": {},
   "outputs": [],
   "source": [
    "#Authenticate\n",
    "bq_auth(path = \"/Users/alessiatosi/Secrets/govuk-bigquery-analytics-service-credentials.json\")  #/path/to/your/service-account.json"
   ]
  },
  {
   "cell_type": "code",
   "execution_count": null,
   "id": "9a9b342f",
   "metadata": {},
   "outputs": [],
   "source": [
    "# Make plots wider \n",
    "options(repr.plot.width=15, repr.plot.height=8)"
   ]
  },
  {
   "cell_type": "code",
   "execution_count": null,
   "id": "95927efd",
   "metadata": {},
   "outputs": [],
   "source": [
    "# create custom plotting theme\n",
    "theme_custom <- theme(plot.title = element_text(face = \"bold\", hjust = 0.5, size=18),\n",
    "                      plot.subtitle = element_text(size=14),\n",
    "                      axis.text.y = element_text(colour = 'black', size = 12), \n",
    "                      axis.title.y = element_text(size = 16, hjust = 0.5, vjust = 0.2),\n",
    "                      axis.text.x = element_text(colour = 'black', size = 12), \n",
    "                      axis.title.x = element_text(size = 16, hjust = 0.5, vjust = 0.2),\n",
    "                      panel.background = element_blank(),\n",
    "                      axis.line = element_line(colour = \"black\"),\n",
    "                      legend.position = \"bottom\",\n",
    "                      legend.direction = \"horizontal\")"
   ]
  },
  {
   "cell_type": "markdown",
   "id": "c08e9d56",
   "metadata": {},
   "source": [
    "### Get the data"
   ]
  },
  {
   "cell_type": "code",
   "execution_count": null,
   "id": "8e9e04b6",
   "metadata": {},
   "outputs": [],
   "source": [
    "#billing <- \"govuk-xgov\" # replace this with your project ID \n",
    "project = \"govuk-bigquery-analytics\"\n",
    "sql <- \"SELECT * FROM `govuk-bigquery-analytics.datascience.related_links_20211023_20211119_pre_test_data`\"\n",
    "\n",
    "tb <- bq_table_download(bq_project_query(project, sql))"
   ]
  },
  {
   "cell_type": "code",
   "execution_count": null,
   "id": "38da294b",
   "metadata": {
    "scrolled": true
   },
   "outputs": [],
   "source": [
    "tb"
   ]
  },
  {
   "cell_type": "markdown",
   "id": "37fda8d3",
   "metadata": {},
   "source": [
    "### Data pre-processing"
   ]
  },
  {
   "cell_type": "code",
   "execution_count": null,
   "id": "d9d0e901",
   "metadata": {},
   "outputs": [],
   "source": [
    "# cast date as a date type variable\n",
    "tb$date <- as.Date(strptime(tb$date, \"%Y%m%d\"))"
   ]
  },
  {
   "cell_type": "code",
   "execution_count": null,
   "id": "960813b8",
   "metadata": {},
   "outputs": [],
   "source": [
    "tb <- tb %>% \n",
    "    arrange(date)"
   ]
  },
  {
   "cell_type": "markdown",
   "id": "36e8de43",
   "metadata": {},
   "source": [
    "### Plotting"
   ]
  },
  {
   "cell_type": "code",
   "execution_count": null,
   "id": "9c459692",
   "metadata": {},
   "outputs": [],
   "source": [
    "plot_timeseries <- function(data, ts_var=\"\", title=\"\", x_title=\"\"){\n",
    "    #'@param data (data.frame) : dataset  \n",
    "    #'@param ts_var (character string) : name of the variable containing the time-series data\n",
    "    #'@param title (character string) : plot title\n",
    "    #'@param x_title (character string) : x-axis title\n",
    "    #'@return time-series plot\n",
    "    \n",
    "    if(!\"date\" %in% colnames(data)) stop(paste0(\"column `date` is missing from dataset\"))\n",
    "    \n",
    "    sym_ts_var <- dplyr::sym(ts_var)\n",
    "    \n",
    "    data %>% \n",
    "    ggplot2::ggplot(., aes(date, !!sym_ts_var)) +\n",
    "    geom_point(size=2) +\n",
    "    geom_line(size=1) +\n",
    "    #geom_smooth(method=\"lm\", colour=\"blue\") +\n",
    "    geom_smooth(method = \"loess\", formula=y~x, colour=\"red\", se=TRUE) +\n",
    "    geom_vline(aes(xintercept = as.Date(\"20211111\", \"%Y%m%d\")), col=\"blue\", linetype=2) +\n",
    "    labs(\n",
    "        title = title,\n",
    "        subtitle = \"Pre-intervention time series\") +\n",
    "    ylab(x_title) +\n",
    "    theme_custom\n",
    "    }"
   ]
  },
  {
   "cell_type": "code",
   "execution_count": null,
   "id": "cbef55c3",
   "metadata": {},
   "outputs": [],
   "source": [
    "plot_timeseries(data=tb,\n",
    "               ts_var=\"pc_visitors_used_rl\",\n",
    "               title=\"Percentage of visitors who clicked on at least 1 related link\",\n",
    "               x_title=\"% of visitors\")"
   ]
  },
  {
   "cell_type": "code",
   "execution_count": null,
   "id": "ffac983c",
   "metadata": {},
   "outputs": [],
   "source": [
    "plot_timeseries(data=tb,\n",
    "               ts_var=\"pc_visitors_that_clicked_navigation\",\n",
    "               title=\"Percentage of visitors who clicked on a navigation element\",\n",
    "               x_title=\"% of visitors\")"
   ]
  },
  {
   "cell_type": "code",
   "execution_count": null,
   "id": "3acb9cb3",
   "metadata": {},
   "outputs": [],
   "source": [
    "plot_timeseries(data=tb,\n",
    "               ts_var=\"pc_visitors_2_or_more_rl\",\n",
    "               title=\"Percentage of visitors who clicked 2 or more related links\",\n",
    "               x_title=\"% of visitors\")"
   ]
  },
  {
   "cell_type": "code",
   "execution_count": null,
   "id": "7732364c",
   "metadata": {},
   "outputs": [],
   "source": [
    "plot_timeseries(data=tb,\n",
    "               ts_var=\"pc_visitors_that_used_search\",\n",
    "               title=\"Percentage of visitors who used internal search\",\n",
    "               x_title=\"% of visitors\")"
   ]
  },
  {
   "cell_type": "code",
   "execution_count": null,
   "id": "900fb1fd",
   "metadata": {},
   "outputs": [],
   "source": []
  },
  {
   "cell_type": "code",
   "execution_count": null,
   "id": "6d7e1f57",
   "metadata": {},
   "outputs": [],
   "source": []
  }
 ],
 "metadata": {
  "kernelspec": {
   "display_name": "R",
   "language": "R",
   "name": "ir"
  },
  "language_info": {
   "codemirror_mode": "r",
   "file_extension": ".r",
   "mimetype": "text/x-r-source",
   "name": "R",
   "pygments_lexer": "r",
   "version": "4.1.1"
  }
 },
 "nbformat": 4,
 "nbformat_minor": 5
}
