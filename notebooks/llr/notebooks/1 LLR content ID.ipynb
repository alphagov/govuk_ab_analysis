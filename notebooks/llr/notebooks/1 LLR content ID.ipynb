{
 "cells": [
  {
   "cell_type": "code",
   "execution_count": null,
   "metadata": {
    "ExecuteTime": {
     "end_time": "2019-02-25T17:07:11.046480Z",
     "start_time": "2019-02-25T17:06:57.264039Z"
    }
   },
   "outputs": [],
   "source": [
    "import os \n",
    "import pandas as pd"
   ]
  },
  {
   "cell_type": "code",
   "execution_count": null,
   "metadata": {
    "ExecuteTime": {
     "end_time": "2019-02-25T17:07:11.060146Z",
     "start_time": "2019-02-25T17:07:11.053138Z"
    }
   },
   "outputs": [],
   "source": [
    "ProjectID = 'govuk-bigquery-analytics'\n",
    "KEY_DIR = os.getenv(\"BQ_KEY_DIR\")\n",
    "key_file_path = os.path.join(KEY_DIR, os.listdir(KEY_DIR)[0])"
   ]
  },
  {
   "cell_type": "code",
   "execution_count": null,
   "metadata": {
    "ExecuteTime": {
     "end_time": "2019-02-25T17:07:11.070260Z",
     "start_time": "2019-02-25T17:07:11.063105Z"
    },
    "code_folding": [
     1,
     78
    ]
   },
   "outputs": [],
   "source": [
    "QUERY = \"\"\"\n",
    " WITH\n",
    "  session_pages AS (\n",
    "  SELECT\n",
    "    CONCAT(fullVisitorId,\"-\",CAST(visitId AS STRING)) AS sessionId,\n",
    "    content_id\n",
    "  FROM (\n",
    "    SELECT\n",
    "      fullVisitorId,\n",
    "      visitId,\n",
    "      hits.page.pagePath AS pagePath,\n",
    "      (\n",
    "      SELECT\n",
    "        value\n",
    "      FROM\n",
    "        hits.customDimensions\n",
    "      WHERE\n",
    "        index=4) AS content_id,\n",
    "      (\n",
    "      SELECT\n",
    "        value\n",
    "      FROM\n",
    "        hits.customDimensions\n",
    "      WHERE\n",
    "        index=2) AS document_type\n",
    "    FROM\n",
    "      `govuk-bigquery-analytics.87773428.ga_sessions_*` AS sessions\n",
    "    CROSS JOIN\n",
    "      UNNEST(sessions.hits) AS hits\n",
    "    WHERE\n",
    "      _TABLE_SUFFIX BETWEEN '{START_DATE}'\n",
    "      AND '{END_DATE}')\n",
    "  WHERE\n",
    "    pagePath != '/'\n",
    "    AND document_type NOT IN ('document_collection',\n",
    "      'finder',\n",
    "      'homepage',\n",
    "      'license_finder',\n",
    "      'mainstream_browse_page',\n",
    "      'organisation',\n",
    "      'search',\n",
    "      'service_manual_homepage',\n",
    "      'service_manual_topic',\n",
    "      'services_and_information',\n",
    "      'taxon',\n",
    "      'topic',\n",
    "      'topical_event')\n",
    "    AND content_id NOT IN ('00000000-0000-0000-0000-000000000000', '[object Object]')\n",
    "  GROUP BY\n",
    "    sessionId,\n",
    "    content_id),\n",
    "  occurrence_counts AS (\n",
    "  SELECT\n",
    "    page_1,\n",
    "    page_2,\n",
    "    co_occurrences,\n",
    "    SUM(co_occurrences) OVER (PARTITION BY page_1) AS page_1_occurrences,\n",
    "    SUM(co_occurrences) OVER (PARTITION BY page_2) AS page_2_occurrences,\n",
    "    SUM(co_occurrences) OVER () AS total_occurrences\n",
    "  FROM (\n",
    "    SELECT\n",
    "      session_pages_1.content_id AS page_1,\n",
    "      session_pages_2.content_id AS page_2,\n",
    "      COUNT(DISTINCT session_pages_1.sessionId) AS co_occurrences\n",
    "    FROM\n",
    "      session_pages session_pages_1\n",
    "    JOIN\n",
    "      session_pages session_pages_2\n",
    "    ON\n",
    "      session_pages_1.sessionId = session_pages_2.sessionId\n",
    "    WHERE\n",
    "      session_pages_1.content_id != session_pages_2.content_id\n",
    "    GROUP BY\n",
    "      page_1,\n",
    "      page_2 )\n",
    "--  WHERE co_occurrences > 1 \n",
    "    ),\n",
    "  llr_scores AS (\n",
    "  SELECT\n",
    "    page_1,\n",
    "    page_2,\n",
    "    k11,\n",
    "    -- k12,\n",
    "    -- k21,\n",
    "    -- k22,\n",
    "    -- N,\n",
    "    -- k11_k21,\n",
    "    -- k11_k12,\n",
    "    -- k21_k22,\n",
    "    -- k12_k22,\n",
    "    -- H_k,\n",
    "    -- H_rowsums_k,\n",
    "    -- H_colsums_k,\n",
    "    2*N*(H_k - H_rowsums_k - H_colsums_k) AS llr_score\n",
    "  FROM (\n",
    "    SELECT\n",
    "      page_1,\n",
    "      page_2,\n",
    "      k11,\n",
    "      -- k12,\n",
    "      -- k21,\n",
    "      -- k22,\n",
    "      N,\n",
    "      -- k11_k21,\n",
    "      -- k11_k12,\n",
    "      -- k21_k22,\n",
    "      -- k12_k22,\n",
    "      IF(k11>0,\n",
    "        k11*LOG(k11/N),\n",
    "        0) + IF(k12>0,\n",
    "        k12*LOG(k12/N),\n",
    "        0) + IF(k21>0,\n",
    "        k21*LOG(k21/N),\n",
    "        0) + IF(k22>0,\n",
    "        k22*LOG(k22/N),\n",
    "        0) AS H_k,\n",
    "      k11_k12*LOG(k11_k12/N) + k21_k22*LOG(k21_k22/N) AS H_rowsums_k,\n",
    "      k11_k21*LOG(k11_k21/N) + k12_k22*LOG(k12_k22/N) AS H_colsums_k\n",
    "    FROM (\n",
    "      SELECT\n",
    "        page_1,\n",
    "        page_2,\n",
    "        co_occurrences AS k11,\n",
    "        page_1_occurrences AS k11_k21,\n",
    "        page_2_occurrences AS k11_k12,\n",
    "        page_2_occurrences - co_occurrences AS k12,\n",
    "        page_1_occurrences - co_occurrences AS k21,\n",
    "        total_occurrences - page_2_occurrences - page_1_occurrences + co_occurrences AS k22,\n",
    "        total_occurrences - page_2_occurrences AS k21_k22,\n",
    "        total_occurrences - page_1_occurrences AS k12_k22,\n",
    "        total_occurrences AS N\n",
    "      FROM\n",
    "        occurrence_counts ) ) )\n",
    "\n",
    "  -- query to output a few ranked links per link\n",
    "SELECT\n",
    "  page_1,\n",
    "  page_2,\n",
    "  co_occurrences,\n",
    "  llr_score,\n",
    "  rank\n",
    "FROM (\n",
    "  SELECT\n",
    "    page_1,\n",
    "    page_2,\n",
    "    k11 AS co_occurrences,\n",
    "    llr_score,\n",
    "    RANK() OVER (PARTITION BY page_1 ORDER BY CAST(llr_score AS numeric) DESC) AS rank\n",
    "  FROM\n",
    "    llr_scores )\n",
    "WHERE\n",
    "  rank < 11\n",
    "ORDER BY\n",
    "  page_1,\n",
    "  rank\n",
    "\"\"\""
   ]
  },
  {
   "cell_type": "code",
   "execution_count": null,
   "metadata": {
    "ExecuteTime": {
     "end_time": "2019-02-25T17:07:11.084332Z",
     "start_time": "2019-02-25T17:07:11.074326Z"
    },
    "scrolled": false
   },
   "outputs": [],
   "source": [
    "print(QUERY.format(START_DATE='20190221', END_DATE='20190221'))"
   ]
  },
  {
   "cell_type": "code",
   "execution_count": null,
   "metadata": {
    "ExecuteTime": {
     "end_time": "2019-02-25T16:52:37.520523Z",
     "start_time": "2019-02-25T16:49:23.663764Z"
    }
   },
   "outputs": [],
   "source": [
    "# df_llr_recs_1 = pd.io.gbq.read_gbq(\n",
    "#     QUERY.format(START_DATE='20190218', END_DATE='20190221'),\n",
    "#                            project_id=ProjectID,\n",
    "#                            reauth=False,\n",
    "#                            # verbose=True,\n",
    "#                            private_key=key_file_path,\n",
    "#                            dialect='standard')"
   ]
  },
  {
   "cell_type": "code",
   "execution_count": null,
   "metadata": {
    "ExecuteTime": {
     "end_time": "2019-02-25T17:07:15.286561Z",
     "start_time": "2019-02-25T17:07:15.282447Z"
    }
   },
   "outputs": [],
   "source": [
    "DATA_DIR = os.getenv(\"DATA_DIR\")\n"
   ]
  },
  {
   "cell_type": "code",
   "execution_count": null,
   "metadata": {
    "ExecuteTime": {
     "end_time": "2019-02-25T16:58:08.765460Z",
     "start_time": "2019-02-25T16:57:47.885503Z"
    }
   },
   "outputs": [],
   "source": [
    "# df_llr_recs_1.to_csv(os.path.join(DATA_DIR, 'llr_recs_1.csv.gz'),\n",
    "#                      compression='gzip', index=False)"
   ]
  },
  {
   "cell_type": "code",
   "execution_count": null,
   "metadata": {
    "ExecuteTime": {
     "end_time": "2019-02-25T17:07:56.459150Z",
     "start_time": "2019-02-25T17:07:52.929981Z"
    }
   },
   "outputs": [],
   "source": [
    "df_llr_recs_1 = pd.read_csv(os.path.join(DATA_DIR, 'llr_recs_1.csv.gz'))"
   ]
  },
  {
   "cell_type": "code",
   "execution_count": null,
   "metadata": {
    "ExecuteTime": {
     "end_time": "2019-02-25T17:07:56.525612Z",
     "start_time": "2019-02-25T17:07:56.462208Z"
    }
   },
   "outputs": [],
   "source": [
    "df_llr_recs_1"
   ]
  },
  {
   "cell_type": "code",
   "execution_count": null,
   "metadata": {
    "ExecuteTime": {
     "end_time": "2019-02-25T17:08:08.674692Z",
     "start_time": "2019-02-25T17:08:08.658025Z"
    }
   },
   "outputs": [],
   "source": [
    "content_json_path = '/Users/suganyasivaskantharajah/Downloads/content.json.gz'"
   ]
  },
  {
   "cell_type": "code",
   "execution_count": null,
   "metadata": {
    "ExecuteTime": {
     "end_time": "2019-02-26T09:42:46.661370Z",
     "start_time": "2019-02-26T09:42:33.890309Z"
    }
   },
   "outputs": [],
   "source": [
    "content_lookup_df = pd.read_csv(\n",
    "    '/Users/suganyasivaskantharajah/code/govuk-taxonomy-supervised-learning/data/clean_content.csv')"
   ]
  },
  {
   "cell_type": "code",
   "execution_count": null,
   "metadata": {
    "ExecuteTime": {
     "end_time": "2019-02-26T09:43:03.214582Z",
     "start_time": "2019-02-26T09:43:03.190885Z"
    }
   },
   "outputs": [],
   "source": [
    "content_lookup_df.head()"
   ]
  },
  {
   "cell_type": "code",
   "execution_count": null,
   "metadata": {
    "ExecuteTime": {
     "end_time": "2019-02-26T09:48:00.336402Z",
     "start_time": "2019-02-26T09:48:00.254992Z"
    }
   },
   "outputs": [],
   "source": [
    "content_lookup_df = content_lookup_df.set_index('content_id')"
   ]
  },
  {
   "cell_type": "code",
   "execution_count": null,
   "metadata": {
    "ExecuteTime": {
     "end_time": "2019-02-26T09:48:59.854579Z",
     "start_time": "2019-02-26T09:48:56.247804Z"
    }
   },
   "outputs": [],
   "source": [
    "content_lookup_dict = content_lookup_df.to_dict(orient='index')"
   ]
  },
  {
   "cell_type": "code",
   "execution_count": null,
   "metadata": {
    "ExecuteTime": {
     "end_time": "2019-02-26T09:50:18.991277Z",
     "start_time": "2019-02-26T09:50:18.986145Z"
    }
   },
   "outputs": [],
   "source": [
    "df_llr_recs_1.columns"
   ]
  },
  {
   "cell_type": "code",
   "execution_count": null,
   "metadata": {
    "ExecuteTime": {
     "end_time": "2019-02-26T09:50:57.414356Z",
     "start_time": "2019-02-26T09:50:57.339464Z"
    }
   },
   "outputs": [],
   "source": [
    "df_llr_recs_1 = df_llr_recs_1.drop('Unnamed: 0', axis=1)"
   ]
  },
  {
   "cell_type": "code",
   "execution_count": null,
   "metadata": {
    "ExecuteTime": {
     "end_time": "2019-02-26T09:50:58.274419Z",
     "start_time": "2019-02-26T09:50:58.262232Z"
    }
   },
   "outputs": [],
   "source": [
    "df_llr_recs_1.head()"
   ]
  },
  {
   "cell_type": "code",
   "execution_count": null,
   "metadata": {
    "ExecuteTime": {
     "end_time": "2019-02-26T09:52:55.478307Z",
     "start_time": "2019-02-26T09:52:55.473793Z"
    }
   },
   "outputs": [],
   "source": [
    "content_lookup_dict['04a0cc0d-0b9f-45ad-bf57-7c54cbab9df9']"
   ]
  },
  {
   "cell_type": "code",
   "execution_count": null,
   "metadata": {
    "ExecuteTime": {
     "end_time": "2019-02-26T09:57:58.663778Z",
     "start_time": "2019-02-26T09:57:58.659923Z"
    }
   },
   "outputs": [],
   "source": [
    "def get_page_title(content_id):\n",
    "    try:\n",
    "        return content_lookup_dict[content_id]['title']\n",
    "    except KeyError:\n",
    "        return 'unknown'\n",
    "def get_page_url(content_id):\n",
    "    try:\n",
    "        return f\"www.gov.uk{content_lookup_dict[content_id]['base_path']}\"\n",
    "    except KeyError:\n",
    "        return 'unknown'"
   ]
  },
  {
   "cell_type": "code",
   "execution_count": null,
   "metadata": {
    "ExecuteTime": {
     "end_time": "2019-02-26T09:56:14.457607Z",
     "start_time": "2019-02-26T09:56:14.452963Z"
    }
   },
   "outputs": [],
   "source": [
    "get_page_url('04a0cc0d-0b9f-45ad-bf57-7c54cbab9df9')"
   ]
  },
  {
   "cell_type": "code",
   "execution_count": null,
   "metadata": {
    "ExecuteTime": {
     "end_time": "2019-02-26T09:56:15.581631Z",
     "start_time": "2019-02-26T09:56:14.678768Z"
    }
   },
   "outputs": [],
   "source": [
    "df_llr_recs_1['page_1_url'] = df_llr_recs_1['page_1'].map(get_page_url)"
   ]
  },
  {
   "cell_type": "code",
   "execution_count": null,
   "metadata": {
    "ExecuteTime": {
     "end_time": "2019-02-26T09:57:23.055305Z",
     "start_time": "2019-02-26T09:57:22.583381Z"
    }
   },
   "outputs": [],
   "source": [
    "df_llr_recs_1[df_llr_recs_1['page_1_url'] != 'unknown']"
   ]
  },
  {
   "cell_type": "code",
   "execution_count": null,
   "metadata": {
    "ExecuteTime": {
     "end_time": "2019-02-26T09:58:45.021216Z",
     "start_time": "2019-02-26T09:58:41.515925Z"
    }
   },
   "outputs": [],
   "source": [
    "df_llr_recs_1['page_2_url'] = df_llr_recs_1['page_2'].map(get_page_url)\n",
    "\n",
    "df_llr_recs_1['page_1_title'] = df_llr_recs_1['page_1'].map(get_page_title)\n",
    "df_llr_recs_1['page_2_title'] = df_llr_recs_1['page_2'].map(get_page_title)"
   ]
  },
  {
   "cell_type": "code",
   "execution_count": null,
   "metadata": {
    "ExecuteTime": {
     "end_time": "2019-02-26T10:06:40.601548Z",
     "start_time": "2019-02-26T10:06:19.707540Z"
    }
   },
   "outputs": [],
   "source": [
    "df_llr_recs_1.to_csv(os.path.join(DATA_DIR, 'llr_recs_with_links.tsv'),\n",
    "                     index=False, sep='\\t')"
   ]
  },
  {
   "cell_type": "code",
   "execution_count": null,
   "metadata": {
    "ExecuteTime": {
     "end_time": "2019-02-26T10:31:13.191708Z",
     "start_time": "2019-02-26T10:31:13.185598Z"
    }
   },
   "outputs": [],
   "source": [
    "df_llr_recs_1.shape"
   ]
  },
  {
   "cell_type": "code",
   "execution_count": null,
   "metadata": {
    "ExecuteTime": {
     "end_time": "2019-02-26T10:43:11.720827Z",
     "start_time": "2019-02-26T10:43:11.436542Z"
    }
   },
   "outputs": [],
   "source": [
    "df_llr_recs_1[df_llr_recs_1['page_1_url'] != 'unknown'].shape"
   ]
  },
  {
   "cell_type": "code",
   "execution_count": null,
   "metadata": {
    "ExecuteTime": {
     "end_time": "2019-02-26T10:43:30.317860Z",
     "start_time": "2019-02-26T10:43:30.311967Z"
    }
   },
   "outputs": [],
   "source": [
    "int(df_llr_recs_1['rank'][0])"
   ]
  },
  {
   "cell_type": "code",
   "execution_count": null,
   "metadata": {
    "ExecuteTime": {
     "end_time": "2019-02-26T11:11:14.243323Z",
     "start_time": "2019-02-26T11:11:12.338865Z"
    }
   },
   "outputs": [],
   "source": [
    "df_llr_recs_1.query(\n",
    "    'rank <=6 & page_1_url != \"unknown\" & page_2_url != \"unknown\" & co_occurrences>1')[['page_1_url'\n",
    "                 ,'page_2_url','page_1_title','page_2_title',  'llr_score','rank'\n",
    "                ]].to_csv('../data/llr_recs_with_linkssubset.csv', index=False)"
   ]
  },
  {
   "cell_type": "code",
   "execution_count": null,
   "metadata": {
    "ExecuteTime": {
     "end_time": "2019-02-26T10:49:05.698781Z",
     "start_time": "2019-02-26T10:49:05.680610Z"
    }
   },
   "outputs": [],
   "source": [
    "df_llr_recs_1.head(10)\n",
    "\n"
   ]
  },
  {
   "cell_type": "code",
   "execution_count": null,
   "metadata": {},
   "outputs": [],
   "source": []
  }
 ],
 "metadata": {
  "kernelspec": {
   "display_name": "Python 3",
   "language": "python",
   "name": "python3"
  },
  "language_info": {
   "codemirror_mode": {
    "name": "ipython",
    "version": 3
   },
   "file_extension": ".py",
   "mimetype": "text/x-python",
   "name": "python",
   "nbconvert_exporter": "python",
   "pygments_lexer": "ipython3",
   "version": "3.7.2"
  },
  "toc": {
   "base_numbering": 1,
   "nav_menu": {},
   "number_sections": true,
   "sideBar": true,
   "skip_h1_title": false,
   "title_cell": "Table of Contents",
   "title_sidebar": "Contents",
   "toc_cell": false,
   "toc_position": {},
   "toc_section_display": true,
   "toc_window_display": false
  }
 },
 "nbformat": 4,
 "nbformat_minor": 2
}
