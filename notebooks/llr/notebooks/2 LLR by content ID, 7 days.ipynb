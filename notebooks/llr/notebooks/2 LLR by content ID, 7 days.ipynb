{
 "cells": [
  {
   "cell_type": "code",
   "execution_count": null,
   "metadata": {
    "ExecuteTime": {
     "end_time": "2019-03-01T13:28:38.180614Z",
     "start_time": "2019-03-01T13:28:35.377365Z"
    }
   },
   "outputs": [],
   "source": [
    "import os \n",
    "import pandas as pd"
   ]
  },
  {
   "cell_type": "code",
   "execution_count": null,
   "metadata": {
    "ExecuteTime": {
     "end_time": "2019-03-01T13:28:38.188733Z",
     "start_time": "2019-03-01T13:28:38.183798Z"
    }
   },
   "outputs": [],
   "source": [
    "# set up pandas, bigquery, data dir stuff\n",
    "ProjectID = 'govuk-bigquery-analytics'\n",
    "KEY_DIR = os.getenv(\"BQ_KEY_DIR\")\n",
    "key_file_path = os.path.join(KEY_DIR, os.listdir(KEY_DIR)[0])\n",
    "\n",
    "DATA_DIR = os.getenv(\"DATA_DIR\")"
   ]
  },
  {
   "cell_type": "code",
   "execution_count": null,
   "metadata": {
    "ExecuteTime": {
     "end_time": "2019-02-26T11:56:24.671890Z",
     "start_time": "2019-02-26T11:56:24.667709Z"
    },
    "scrolled": false
   },
   "outputs": [],
   "source": [
    "print(QUERY.format(START_DATE='20190218', END_DATE='20190224'))"
   ]
  },
  {
   "cell_type": "code",
   "execution_count": null,
   "metadata": {
    "ExecuteTime": {
     "end_time": "2019-02-26T11:56:23.448029Z",
     "start_time": "2019-02-26T11:56:23.443305Z"
    },
    "code_folding": [
     2,
     77,
     138
    ]
   },
   "outputs": [],
   "source": [
    "# LLR query, need to sub in START_DATE and END_DATE to run\n",
    "\n",
    "QUERY = \"\"\"\n",
    " WITH\n",
    "  session_pages AS (\n",
    "  SELECT\n",
    "    CONCAT(fullVisitorId,\"-\",CAST(visitId AS STRING)) AS sessionId,\n",
    "    content_id\n",
    "  FROM (\n",
    "    SELECT\n",
    "      fullVisitorId,\n",
    "      visitId,\n",
    "      hits.page.pagePath AS pagePath,\n",
    "      (\n",
    "      SELECT\n",
    "        value\n",
    "      FROM\n",
    "        hits.customDimensions\n",
    "      WHERE\n",
    "        index=4) AS content_id,\n",
    "      (\n",
    "      SELECT\n",
    "        value\n",
    "      FROM\n",
    "        hits.customDimensions\n",
    "      WHERE\n",
    "        index=2) AS document_type\n",
    "    FROM\n",
    "      `govuk-bigquery-analytics.87773428.ga_sessions_*` AS sessions\n",
    "    CROSS JOIN\n",
    "      UNNEST(sessions.hits) AS hits\n",
    "    WHERE\n",
    "      _TABLE_SUFFIX BETWEEN '{START_DATE}'\n",
    "      AND '{END_DATE}')\n",
    "  WHERE\n",
    "    pagePath != '/'\n",
    "    AND document_type NOT IN ('document_collection',\n",
    "      'finder',\n",
    "      'homepage',\n",
    "      'license_finder',\n",
    "      'mainstream_browse_page',\n",
    "      'organisation',\n",
    "      'search',\n",
    "      'service_manual_homepage',\n",
    "      'service_manual_topic',\n",
    "      'services_and_information',\n",
    "      'taxon',\n",
    "      'topic',\n",
    "      'topical_event')\n",
    "    AND content_id NOT IN ('00000000-0000-0000-0000-000000000000', '[object Object]')\n",
    "  GROUP BY\n",
    "    sessionId,\n",
    "    content_id),\n",
    "  occurrence_counts AS (\n",
    "  SELECT\n",
    "    page_1,\n",
    "    page_2,\n",
    "    co_occurrences,\n",
    "    SUM(co_occurrences) OVER (PARTITION BY page_1) AS page_1_occurrences,\n",
    "    SUM(co_occurrences) OVER (PARTITION BY page_2) AS page_2_occurrences,\n",
    "    SUM(co_occurrences) OVER () AS total_occurrences\n",
    "  FROM (\n",
    "    SELECT\n",
    "      session_pages_1.content_id AS page_1,\n",
    "      session_pages_2.content_id AS page_2,\n",
    "      COUNT(DISTINCT session_pages_1.sessionId) AS co_occurrences\n",
    "    FROM\n",
    "      session_pages session_pages_1\n",
    "    JOIN\n",
    "      session_pages session_pages_2\n",
    "    ON\n",
    "      session_pages_1.sessionId = session_pages_2.sessionId\n",
    "    WHERE\n",
    "      session_pages_1.content_id != session_pages_2.content_id\n",
    "    GROUP BY\n",
    "      page_1,\n",
    "      page_2 )\n",
    "--  WHERE co_occurrences > 1 \n",
    "    ),\n",
    "  llr_scores AS (\n",
    "  SELECT\n",
    "    page_1,\n",
    "    page_2,\n",
    "    k11,\n",
    "    page_1_occurrences,\n",
    "    -- k12,\n",
    "    -- k21,\n",
    "    -- k22,\n",
    "    -- N,\n",
    "    -- k11_k21,\n",
    "    -- k11_k12,\n",
    "    -- k21_k22,\n",
    "    -- k12_k22,\n",
    "    -- H_k,\n",
    "    -- H_rowsums_k,\n",
    "    -- H_colsums_k,\n",
    "    2*N*(H_k - H_rowsums_k - H_colsums_k) AS llr_score\n",
    "  FROM (\n",
    "    SELECT\n",
    "      page_1,\n",
    "      page_2,\n",
    "      k11,\n",
    "      -- k12,\n",
    "      -- k21,\n",
    "      -- k22,\n",
    "      N,\n",
    "      k11_k21 AS page_1_occurrences,\n",
    "      -- k11_k12,\n",
    "      -- k21_k22,\n",
    "      -- k12_k22,\n",
    "      IF(k11>0,\n",
    "        k11*LOG(k11/N),\n",
    "        0) + IF(k12>0,\n",
    "        k12*LOG(k12/N),\n",
    "        0) + IF(k21>0,\n",
    "        k21*LOG(k21/N),\n",
    "        0) + IF(k22>0,\n",
    "        k22*LOG(k22/N),\n",
    "        0) AS H_k,\n",
    "      k11_k12*LOG(k11_k12/N) + k21_k22*LOG(k21_k22/N) AS H_rowsums_k,\n",
    "      k11_k21*LOG(k11_k21/N) + k12_k22*LOG(k12_k22/N) AS H_colsums_k\n",
    "    FROM (\n",
    "      SELECT\n",
    "        page_1,\n",
    "        page_2,\n",
    "        co_occurrences AS k11,\n",
    "        page_1_occurrences AS k11_k21,\n",
    "        page_2_occurrences AS k11_k12,\n",
    "        page_2_occurrences - co_occurrences AS k12,\n",
    "        page_1_occurrences - co_occurrences AS k21,\n",
    "        total_occurrences - page_2_occurrences - page_1_occurrences + co_occurrences AS k22,\n",
    "        total_occurrences - page_2_occurrences AS k21_k22,\n",
    "        total_occurrences - page_1_occurrences AS k12_k22,\n",
    "        total_occurrences AS N\n",
    "      FROM\n",
    "        occurrence_counts ) ) )\n",
    "\n",
    "  -- query to output a few ranked links per link\n",
    "SELECT\n",
    "  page_1,\n",
    "  page_2,\n",
    "  page_1_occurrences,\n",
    "  co_occurrences,\n",
    "  llr_score,\n",
    "  rank\n",
    "FROM (\n",
    "  SELECT\n",
    "    page_1,\n",
    "    page_2,\n",
    "    page_1_occurrences,\n",
    "    k11 AS co_occurrences,\n",
    "    llr_score,\n",
    "    RANK() OVER (PARTITION BY page_1 ORDER BY CAST(llr_score AS numeric) DESC) AS rank\n",
    "  FROM\n",
    "    llr_scores\n",
    "    )\n",
    "WHERE\n",
    "  rank < 11\n",
    "ORDER BY\n",
    "  page_1,\n",
    "  rank\n",
    "\"\"\""
   ]
  },
  {
   "cell_type": "code",
   "execution_count": null,
   "metadata": {
    "ExecuteTime": {
     "end_time": "2019-02-26T12:02:13.917079Z",
     "start_time": "2019-02-26T11:58:32.871922Z"
    },
    "code_folding": []
   },
   "outputs": [],
   "source": [
    "# run for a week of data\n",
    "df_llr_recs = pd.io.gbq.read_gbq(\n",
    "    QUERY.format(START_DATE='20190218', END_DATE='20190224'),\n",
    "                           project_id=ProjectID,\n",
    "                           reauth=False,\n",
    "                           verbose=True,\n",
    "                           private_key=key_file_path,\n",
    "                           dialect='standard')"
   ]
  },
  {
   "cell_type": "code",
   "execution_count": null,
   "metadata": {
    "ExecuteTime": {
     "end_time": "2019-02-26T12:02:33.620517Z",
     "start_time": "2019-02-26T12:02:13.919812Z"
    }
   },
   "outputs": [],
   "source": [
    "df_llr_recs.to_csv(os.path.join(DATA_DIR, 'llr_recs_20190218_20190224.csv.gz'),\n",
    "                     compression='gzip', index=False)"
   ]
  },
  {
   "cell_type": "code",
   "execution_count": null,
   "metadata": {
    "ExecuteTime": {
     "end_time": "2019-02-26T12:02:33.648914Z",
     "start_time": "2019-02-26T12:02:33.622727Z"
    }
   },
   "outputs": [],
   "source": [
    "df_llr_recs.head()"
   ]
  },
  {
   "cell_type": "code",
   "execution_count": null,
   "metadata": {
    "ExecuteTime": {
     "end_time": "2019-02-26T12:05:30.306616Z",
     "start_time": "2019-02-26T12:05:29.843591Z"
    }
   },
   "outputs": [],
   "source": [
    "print(df_llr_recs.shape)\n",
    "print(df_llr_recs[df_llr_recs['page_1_occurrences']>1].shape)\n",
    "print(df_llr_recs[df_llr_recs['page_1_occurrences']>10].shape)\n",
    "print(df_llr_recs[df_llr_recs['page_1_occurrences']>100].shape)"
   ]
  },
  {
   "cell_type": "code",
   "execution_count": null,
   "metadata": {
    "ExecuteTime": {
     "end_time": "2019-02-26T12:05:03.393914Z",
     "start_time": "2019-02-26T12:04:51.341010Z"
    }
   },
   "outputs": [],
   "source": [
    "content_lookup_df = pd.read_csv(\n",
    "    '/Users/suganyasivaskantharajah/code/govuk-taxonomy-supervised-learning/data/clean_content.csv')"
   ]
  },
  {
   "cell_type": "code",
   "execution_count": null,
   "metadata": {
    "ExecuteTime": {
     "end_time": "2019-02-26T12:05:03.413577Z",
     "start_time": "2019-02-26T12:05:03.396305Z"
    }
   },
   "outputs": [],
   "source": [
    "content_lookup_df.head()"
   ]
  },
  {
   "cell_type": "code",
   "execution_count": null,
   "metadata": {
    "ExecuteTime": {
     "end_time": "2019-02-27T14:25:24.739258Z",
     "start_time": "2019-02-27T14:25:24.733251Z"
    }
   },
   "outputs": [],
   "source": [
    "content_lookup_df.shape"
   ]
  },
  {
   "cell_type": "code",
   "execution_count": null,
   "metadata": {
    "ExecuteTime": {
     "end_time": "2019-02-26T12:06:02.856236Z",
     "start_time": "2019-02-26T12:06:02.769394Z"
    }
   },
   "outputs": [],
   "source": [
    "content_lookup_df = content_lookup_df.set_index('content_id')"
   ]
  },
  {
   "cell_type": "code",
   "execution_count": null,
   "metadata": {
    "ExecuteTime": {
     "end_time": "2019-02-26T12:06:06.512685Z",
     "start_time": "2019-02-26T12:06:03.318191Z"
    }
   },
   "outputs": [],
   "source": [
    "content_lookup_dict = content_lookup_df.to_dict(orient='index')"
   ]
  },
  {
   "cell_type": "code",
   "execution_count": null,
   "metadata": {
    "ExecuteTime": {
     "end_time": "2019-02-26T12:06:22.957478Z",
     "start_time": "2019-02-26T12:06:22.945763Z"
    }
   },
   "outputs": [],
   "source": [
    "df_llr_recs.head()"
   ]
  },
  {
   "cell_type": "code",
   "execution_count": null,
   "metadata": {
    "ExecuteTime": {
     "end_time": "2019-02-26T12:06:27.849951Z",
     "start_time": "2019-02-26T12:06:27.845213Z"
    }
   },
   "outputs": [],
   "source": [
    "content_lookup_dict['04a0cc0d-0b9f-45ad-bf57-7c54cbab9df9']"
   ]
  },
  {
   "cell_type": "code",
   "execution_count": null,
   "metadata": {
    "ExecuteTime": {
     "end_time": "2019-02-26T12:06:49.899675Z",
     "start_time": "2019-02-26T12:06:49.895042Z"
    }
   },
   "outputs": [],
   "source": [
    "def get_page_title(content_id):\n",
    "    try:\n",
    "        return content_lookup_dict[content_id]['title']\n",
    "    except KeyError:\n",
    "        return 'unknown'\\\n",
    "\n",
    "def get_page_url(content_id):\n",
    "    try:\n",
    "        return f\"www.gov.uk{content_lookup_dict[content_id]['base_path']}\"\n",
    "    except KeyError:\n",
    "        return 'unknown'"
   ]
  },
  {
   "cell_type": "code",
   "execution_count": null,
   "metadata": {
    "ExecuteTime": {
     "end_time": "2019-02-26T12:06:38.324579Z",
     "start_time": "2019-02-26T12:06:38.320111Z"
    }
   },
   "outputs": [],
   "source": [
    "get_page_url('04a0cc0d-0b9f-45ad-bf57-7c54cbab9df9')"
   ]
  },
  {
   "cell_type": "code",
   "execution_count": null,
   "metadata": {
    "ExecuteTime": {
     "end_time": "2019-02-26T12:07:31.968340Z",
     "start_time": "2019-02-26T12:07:26.899787Z"
    }
   },
   "outputs": [],
   "source": [
    "df_llr_recs['page_1_url'] = df_llr_recs['page_1'].map(get_page_url)\n",
    "df_llr_recs['page_2_url'] = df_llr_recs['page_2'].map(get_page_url)\n",
    "\n",
    "df_llr_recs['page_1_title'] = df_llr_recs['page_1'].map(get_page_title)\n",
    "df_llr_recs['page_2_title'] = df_llr_recs['page_2'].map(get_page_title)"
   ]
  },
  {
   "cell_type": "code",
   "execution_count": null,
   "metadata": {
    "ExecuteTime": {
     "end_time": "2019-02-26T12:07:49.529674Z",
     "start_time": "2019-02-26T12:07:48.701092Z"
    }
   },
   "outputs": [],
   "source": [
    "df_llr_recs[df_llr_recs['page_1_url'] != 'unknown'].shape"
   ]
  },
  {
   "cell_type": "code",
   "execution_count": null,
   "metadata": {
    "ExecuteTime": {
     "end_time": "2019-02-26T12:15:56.805048Z",
     "start_time": "2019-02-26T12:15:56.572646Z"
    }
   },
   "outputs": [],
   "source": [
    "df_llr_recs.query(\n",
    "    'page_1_url != \"unknown\" & page_2_url != \"unknown\" & co_occurrences>1 & rank <6')[\n",
    "    ['page_1_url','page_2_url','page_1_title','page_2_title',  'llr_score',\n",
    "     'rank']].shape"
   ]
  },
  {
   "cell_type": "code",
   "execution_count": null,
   "metadata": {
    "ExecuteTime": {
     "end_time": "2019-02-26T13:00:39.094317Z",
     "start_time": "2019-02-26T13:00:39.000485Z"
    }
   },
   "outputs": [],
   "source": [
    "df_llr_recs.query(\n",
    "    'page_1_url != \"unknown\" & page_2_url != \"unknown\" & page_1_occurrences > 500  & rank <6')[\n",
    "    ['page_1_url','page_2_url','page_1_title','page_2_title',  'llr_score','co_occurrences',\n",
    "     'rank']].shape"
   ]
  },
  {
   "cell_type": "code",
   "execution_count": null,
   "metadata": {
    "ExecuteTime": {
     "end_time": "2019-02-26T12:18:34.412810Z",
     "start_time": "2019-02-26T12:18:33.952639Z"
    }
   },
   "outputs": [],
   "source": [
    "df_llr_recs.query(\n",
    "    'page_1_url != \"unknown\" & page_2_url != \"unknown\" & page_1_occurrences > 500 & rank <6')[\n",
    "    ['page_1_url','page_2_url','page_1_title','page_2_title',  'llr_score','co_occurrences',\n",
    "     'rank']].to_csv(\n",
    "    os.path.join(\n",
    "        DATA_DIR, 'llr_recs_with_links_20190218_20190224_filter_1.csv'),\n",
    "    index=False)"
   ]
  },
  {
   "cell_type": "code",
   "execution_count": null,
   "metadata": {
    "ExecuteTime": {
     "end_time": "2019-02-27T11:04:11.029882Z",
     "start_time": "2019-02-27T11:04:09.800925Z"
    }
   },
   "outputs": [],
   "source": [
    "content_rl_lookup_df = pd.read_csv(\n",
    "    '/Users/suganyasivaskantharajah/code/govuk-taxonomy-supervised-learning/data/clean_content_rl.csv')"
   ]
  },
  {
   "cell_type": "code",
   "execution_count": null,
   "metadata": {
    "ExecuteTime": {
     "end_time": "2019-02-27T11:07:45.931262Z",
     "start_time": "2019-02-27T11:07:45.879870Z"
    }
   },
   "outputs": [],
   "source": [
    "content_rl_lookup_df[content_rl_lookup_df.related_links_content_ids.notnull()]"
   ]
  },
  {
   "cell_type": "code",
   "execution_count": null,
   "metadata": {
    "ExecuteTime": {
     "end_time": "2019-02-27T11:34:21.537952Z",
     "start_time": "2019-02-27T11:34:21.529809Z"
    }
   },
   "outputs": [],
   "source": [
    "content_rl_lookup_df.shape"
   ]
  },
  {
   "cell_type": "code",
   "execution_count": null,
   "metadata": {
    "ExecuteTime": {
     "end_time": "2019-02-27T11:44:10.838284Z",
     "start_time": "2019-02-27T11:44:10.832335Z"
    }
   },
   "outputs": [],
   "source": [
    "import ast"
   ]
  },
  {
   "cell_type": "code",
   "execution_count": null,
   "metadata": {
    "ExecuteTime": {
     "end_time": "2019-02-27T11:57:02.164048Z",
     "start_time": "2019-02-27T11:57:02.140952Z"
    }
   },
   "outputs": [],
   "source": [
    "content_rl_lookup_df[content_rl_lookup_df['content_id']==\"fa748fae-3de4-4266-ae85-0797ada3f40c\"]['related_links_content_ids']"
   ]
  },
  {
   "cell_type": "code",
   "execution_count": null,
   "metadata": {
    "ExecuteTime": {
     "end_time": "2019-02-27T12:01:53.555938Z",
     "start_time": "2019-02-27T12:01:53.507839Z"
    }
   },
   "outputs": [],
   "source": [
    "content_rl_lookup_df.query('document_type == \"answer\"')[content_rl_lookup_df.related_links_content_ids.isnull()]\n"
   ]
  },
  {
   "cell_type": "code",
   "execution_count": null,
   "metadata": {
    "ExecuteTime": {
     "end_time": "2019-02-27T11:56:37.247046Z",
     "start_time": "2019-02-27T11:56:37.214167Z"
    }
   },
   "outputs": [],
   "source": [
    "content_rl_lookup_df.base_path[0]"
   ]
  },
  {
   "cell_type": "code",
   "execution_count": null,
   "metadata": {
    "ExecuteTime": {
     "end_time": "2019-02-27T11:57:37.324176Z",
     "start_time": "2019-02-27T11:57:37.317768Z"
    }
   },
   "outputs": [],
   "source": [
    "content_rl_lookup_df.related_links_content_ids[199960]"
   ]
  },
  {
   "cell_type": "code",
   "execution_count": null,
   "metadata": {
    "ExecuteTime": {
     "end_time": "2019-02-27T12:17:10.181071Z",
     "start_time": "2019-02-27T12:17:10.125864Z"
    }
   },
   "outputs": [],
   "source": [
    "content_rl_lookup_df.query('primary_publishing_organisation == \"Government Digital Service\"')[content_rl_lookup_df.related_links_content_ids.isnull()]\n"
   ]
  },
  {
   "cell_type": "code",
   "execution_count": null,
   "metadata": {
    "ExecuteTime": {
     "end_time": "2019-02-28T11:49:06.909765Z",
     "start_time": "2019-02-28T11:49:06.442567Z"
    }
   },
   "outputs": [],
   "source": [
    "content_rl_lookup_df[content_rl_lookup_df.related_links_content_ids.notnull()].groupby('publishing_app').count()"
   ]
  },
  {
   "cell_type": "code",
   "execution_count": null,
   "metadata": {
    "ExecuteTime": {
     "start_time": "2019-03-01T13:25:01.826Z"
    }
   },
   "outputs": [],
   "source": [
    "content_rl_lookup_df.shape"
   ]
  },
  {
   "cell_type": "code",
   "execution_count": null,
   "metadata": {
    "ExecuteTime": {
     "start_time": "2019-03-01T12:50:00.484Z"
    }
   },
   "outputs": [],
   "source": [
    "clean_content_links_lookup_df = pd.read_csv(\n",
    "    '/Users/suganyasivaskantharajah/code/govuk-taxonomy-supervised-learning/data/clean_content_links.csv')"
   ]
  },
  {
   "cell_type": "code",
   "execution_count": null,
   "metadata": {},
   "outputs": [],
   "source": [
    "clean_content_links_lookup_df.head()"
   ]
  }
 ],
 "metadata": {
  "kernelspec": {
   "display_name": "Python 3",
   "language": "python",
   "name": "python3"
  },
  "language_info": {
   "codemirror_mode": {
    "name": "ipython",
    "version": 3
   },
   "file_extension": ".py",
   "mimetype": "text/x-python",
   "name": "python",
   "nbconvert_exporter": "python",
   "pygments_lexer": "ipython3",
   "version": "3.7.2"
  },
  "toc": {
   "base_numbering": 1,
   "nav_menu": {},
   "number_sections": true,
   "sideBar": true,
   "skip_h1_title": false,
   "title_cell": "Table of Contents",
   "title_sidebar": "Contents",
   "toc_cell": false,
   "toc_position": {},
   "toc_section_display": true,
   "toc_window_display": false
  }
 },
 "nbformat": 4,
 "nbformat_minor": 2
}
