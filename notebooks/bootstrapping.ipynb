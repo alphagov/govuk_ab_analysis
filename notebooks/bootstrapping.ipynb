{
 "cells": [
  {
   "cell_type": "markdown",
   "metadata": {},
   "source": [
    "# Testing out a counter-based bootstrap\n",
    "Instead of an element per occurrence, can we use values and number of occurrences per value to speed up this process?"
   ]
  },
  {
   "cell_type": "markdown",
   "metadata": {},
   "source": [
    "## Testing on dummy data"
   ]
  },
  {
   "cell_type": "code",
   "execution_count": 1,
   "metadata": {
    "ExecuteTime": {
     "end_time": "2019-02-20T13:25:13.528544Z",
     "start_time": "2019-02-20T13:25:13.074791Z"
    }
   },
   "outputs": [],
   "source": [
    "import numpy as np\n",
    "\n",
    "from collections import Counter"
   ]
  },
  {
   "cell_type": "code",
   "execution_count": 2,
   "metadata": {
    "ExecuteTime": {
     "end_time": "2019-02-20T13:25:13.535969Z",
     "start_time": "2019-02-20T13:25:13.532319Z"
    }
   },
   "outputs": [],
   "source": [
    "# list of numbers, for example, the different values of journey length\n",
    "Y = [7,9,8,25,11,26,7,9,8]"
   ]
  },
  {
   "cell_type": "code",
   "execution_count": 3,
   "metadata": {
    "ExecuteTime": {
     "end_time": "2019-02-20T13:25:13.545940Z",
     "start_time": "2019-02-20T13:25:13.543412Z"
    }
   },
   "outputs": [],
   "source": [
    "boot_reps = 4000"
   ]
  },
  {
   "cell_type": "code",
   "execution_count": 20,
   "metadata": {
    "ExecuteTime": {
     "end_time": "2019-02-20T13:28:06.647366Z",
     "start_time": "2019-02-20T13:28:06.643109Z"
    }
   },
   "outputs": [],
   "source": [
    "# bayesian_bootstrap fn https://github.com/lmc2179/bayesian_bootstrap/blob/master/bayesian_bootstrap/bootstrap.py\n",
    "def mean_bb(X, n_replications):\n",
    "    \"\"\"Simulate the posterior distribution of the mean.\n",
    "    Parameter X: The observed data (array like)\n",
    "    Parameter n_replications: The number of bootstrap replications to perform (positive integer)\n",
    "    Returns: Samples from the posterior\n",
    "    \"\"\"\n",
    "    samples = []\n",
    "    weights = np.random.dirichlet([1]*len(X), n_replications)\n",
    "    for w in weights:\n",
    "        samples.append(np.dot(X, w))\n",
    "    return samples"
   ]
  },
  {
   "cell_type": "code",
   "execution_count": 6,
   "metadata": {
    "ExecuteTime": {
     "end_time": "2019-02-20T13:25:21.167612Z",
     "start_time": "2019-02-20T13:25:21.154398Z"
    }
   },
   "outputs": [
    {
     "data": {
      "text/plain": [
       "array([[0.03237257, 0.1061762 , 0.02516559, ..., 0.16463726, 0.17605893,\n",
       "        0.2998557 ],\n",
       "       [0.07348467, 0.02280695, 0.0743896 , ..., 0.15561783, 0.08690552,\n",
       "        0.33336323],\n",
       "       [0.12733391, 0.03897725, 0.12102781, ..., 0.02079075, 0.42946135,\n",
       "        0.04036476],\n",
       "       ...,\n",
       "       [0.13782901, 0.33588651, 0.00095084, ..., 0.20534844, 0.07543616,\n",
       "        0.13614675],\n",
       "       [0.10617225, 0.37424176, 0.13101396, ..., 0.02663349, 0.2483882 ,\n",
       "        0.00412601],\n",
       "       [0.17886845, 0.10698402, 0.32436949, ..., 0.0460063 , 0.06795785,\n",
       "        0.06392503]])"
      ]
     },
     "execution_count": 6,
     "metadata": {},
     "output_type": "execute_result"
    }
   ],
   "source": [
    "samples = []\n",
    "weights = np.random.dirichlet([1]*len(Y), boot_reps)\n",
    "weights"
   ]
  },
  {
   "cell_type": "code",
   "execution_count": 7,
   "metadata": {
    "ExecuteTime": {
     "end_time": "2019-02-20T13:25:28.428268Z",
     "start_time": "2019-02-20T13:25:28.425430Z"
    }
   },
   "outputs": [],
   "source": [
    "# A Counter is a dict subclass for counting hashable objects. It is an\n",
    "# unordered collection where elements are stored as dictionary keys and their\n",
    "# counts are stored as dictionary values. Counts are allowed to be any integer\n",
    "# value including zero or negative counts. The Counter class is similar to\n",
    "# bags or multisets in other languages.\n",
    "counter_Y = Counter(Y)"
   ]
  },
  {
   "cell_type": "code",
   "execution_count": 8,
   "metadata": {
    "ExecuteTime": {
     "end_time": "2019-02-20T13:25:35.100777Z",
     "start_time": "2019-02-20T13:25:31.130270Z"
    }
   },
   "outputs": [
    {
     "name": "stdout",
     "output_type": "stream",
     "text": [
      "487 ns ± 7.78 ns per loop (mean ± std. dev. of 7 runs, 1000000 loops each)\n"
     ]
    }
   ],
   "source": [
    "%timeit [val for val in counter_Y.values()]"
   ]
  },
  {
   "cell_type": "code",
   "execution_count": 9,
   "metadata": {
    "ExecuteTime": {
     "end_time": "2019-02-20T13:25:38.010505Z",
     "start_time": "2019-02-20T13:25:35.103160Z"
    }
   },
   "outputs": [
    {
     "name": "stdout",
     "output_type": "stream",
     "text": [
      "355 ns ± 4.75 ns per loop (mean ± std. dev. of 7 runs, 1000000 loops each)\n"
     ]
    }
   ],
   "source": [
    "%timeit list(counter_Y.values())"
   ]
  },
  {
   "cell_type": "code",
   "execution_count": 36,
   "metadata": {
    "ExecuteTime": {
     "end_time": "2019-02-20T13:34:53.398653Z",
     "start_time": "2019-02-20T13:34:53.394450Z"
    }
   },
   "outputs": [],
   "source": [
    "def mean_ss(counter_X_keys, counter_X_vals, n_replications):\n",
    "    \"\"\"Simulate the posterior distribution of the mean.\n",
    "    Parameter X: The observed data (array like)\n",
    "    Parameter n_replications: The number of bootstrap replications to perform (positive integer)\n",
    "    Returns: Samples from the posterior\n",
    "    \"\"\"\n",
    "    samples = []\n",
    "    weights = np.random.dirichlet(counter_X_vals, n_replications)\n",
    "    for w in weights:\n",
    "        samples.append(np.dot(counter_X_keys, w))\n",
    "    return samples"
   ]
  },
  {
   "cell_type": "code",
   "execution_count": 38,
   "metadata": {
    "ExecuteTime": {
     "end_time": "2019-02-20T13:34:58.446199Z",
     "start_time": "2019-02-20T13:34:58.443139Z"
    }
   },
   "outputs": [],
   "source": [
    "counter_Y_keys = list(counter_Y.keys())\n",
    "counter_Y_vals = list(counter_Y.values())"
   ]
  },
  {
   "cell_type": "code",
   "execution_count": 41,
   "metadata": {
    "ExecuteTime": {
     "end_time": "2019-02-20T13:35:19.488412Z",
     "start_time": "2019-02-20T13:35:17.356023Z"
    }
   },
   "outputs": [
    {
     "name": "stdout",
     "output_type": "stream",
     "text": [
      "26.2 ms ± 625 µs per loop (mean ± std. dev. of 7 runs, 10 loops each)\n"
     ]
    }
   ],
   "source": [
    "%timeit np.mean(mean_ss(counter_Y_keys, counter_Y_vals, 10000))"
   ]
  },
  {
   "cell_type": "code",
   "execution_count": 42,
   "metadata": {
    "ExecuteTime": {
     "end_time": "2019-02-20T13:35:21.870804Z",
     "start_time": "2019-02-20T13:35:19.491047Z"
    }
   },
   "outputs": [
    {
     "name": "stdout",
     "output_type": "stream",
     "text": [
      "29.1 ms ± 718 µs per loop (mean ± std. dev. of 7 runs, 10 loops each)\n"
     ]
    }
   ],
   "source": [
    "%timeit np.mean(mean_bb(Y, 10000))"
   ]
  },
  {
   "cell_type": "markdown",
   "metadata": {},
   "source": [
    "## Testing on A/B test 1"
   ]
  },
  {
   "cell_type": "code",
   "execution_count": 48,
   "metadata": {
    "ExecuteTime": {
     "end_time": "2019-02-20T14:57:01.681667Z",
     "start_time": "2019-02-20T14:57:01.620134Z"
    }
   },
   "outputs": [],
   "source": [
    "import os \n",
    "import pandas as pd\n",
    "import ast\n",
    "import re\n",
    "\n",
    "# bayesian bootstrap and vis\n",
    "import matplotlib.pyplot as plt\n",
    "import seaborn as sns\n",
    "import bayesian_bootstrap.bootstrap as bb\n",
    "from astropy.utils import NumpyRNGContext\n",
    "\n",
    "# progress bar\n",
    "from tqdm import tqdm, tqdm_notebook\n",
    "\n",
    "# instantiate progress bar goodness\n",
    "tqdm.pandas(tqdm_notebook)\n",
    "\n",
    "pd.set_option('max_colwidth',500)\n"
   ]
  },
  {
   "cell_type": "code",
   "execution_count": 64,
   "metadata": {
    "ExecuteTime": {
     "end_time": "2019-02-20T15:16:00.710249Z",
     "start_time": "2019-02-20T15:16:00.701337Z"
    }
   },
   "outputs": [
    {
     "data": {
      "text/plain": [
       "'/Users/suganyasivaskantharajah/code/govuk_ab_analysis/data/sampled_journey/taxon_ab_2019-02-14.csv.gz'"
      ]
     },
     "execution_count": 64,
     "metadata": {},
     "output_type": "execute_result"
    }
   ],
   "source": [
    "DATA_DIR = os.getenv(\"DATA_DIR\")\n",
    "filename = \"taxon_ab_2019-02-14.csv.gz\"\n",
    "filepath = os.path.join(\n",
    "    DATA_DIR, \"sampled_journey\",\n",
    "    filename)\n",
    "filepath"
   ]
  },
  {
   "cell_type": "code",
   "execution_count": 65,
   "metadata": {
    "ExecuteTime": {
     "end_time": "2019-02-20T15:16:51.039648Z",
     "start_time": "2019-02-20T15:16:02.826025Z"
    }
   },
   "outputs": [
    {
     "name": "stderr",
     "output_type": "stream",
     "text": [
      "100%|██████████| 202770/202770 [00:22<00:00, 8991.38it/s] \n",
      "100%|██████████| 202770/202770 [00:15<00:00, 13141.58it/s]\n",
      "100%|██████████| 202770/202770 [00:05<00:00, 40200.64it/s]\n"
     ]
    }
   ],
   "source": [
    "# read in processed sampled journey with just the cols we need for related links\n",
    "df = pd.read_csv(filepath, sep =\"\\t\", compression=\"gzip\")\n",
    "# convert from str to list\n",
    "df['Event_cat_act_agg']= df['Event_cat_act_agg'].progress_apply(ast.literal_eval)\n",
    "df['Page_Event_List'] = df['Page_Event_List'].progress_apply(ast.literal_eval)\n",
    "df['Page_List'] = df['Page_List'].progress_apply(ast.literal_eval)"
   ]
  },
  {
   "cell_type": "code",
   "execution_count": 66,
   "metadata": {
    "ExecuteTime": {
     "end_time": "2019-02-20T15:16:51.349985Z",
     "start_time": "2019-02-20T15:16:51.043440Z"
    }
   },
   "outputs": [
    {
     "name": "stderr",
     "output_type": "stream",
     "text": [
      "100%|██████████| 202770/202770 [00:00<00:00, 678882.07it/s]\n"
     ]
    }
   ],
   "source": [
    "df['Page_List_Length'] = df['Page_List'].progress_apply(len)"
   ]
  },
  {
   "cell_type": "code",
   "execution_count": 67,
   "metadata": {
    "ExecuteTime": {
     "end_time": "2019-02-20T15:16:51.393352Z",
     "start_time": "2019-02-20T15:16:51.352131Z"
    }
   },
   "outputs": [],
   "source": [
    "# drop dodgy rows, where page variant is not A or B. \n",
    "df = df.query('ABVariant in [\"A\", \"B\"]')"
   ]
  },
  {
   "cell_type": "code",
   "execution_count": 68,
   "metadata": {
    "ExecuteTime": {
     "end_time": "2019-02-20T15:16:51.400358Z",
     "start_time": "2019-02-20T15:16:51.396160Z"
    }
   },
   "outputs": [
    {
     "data": {
      "text/plain": [
       "(202770, 6)"
      ]
     },
     "execution_count": 68,
     "metadata": {},
     "output_type": "execute_result"
    }
   ],
   "source": [
    "df.shape"
   ]
  },
  {
   "cell_type": "code",
   "execution_count": 57,
   "metadata": {
    "ExecuteTime": {
     "end_time": "2019-02-20T15:14:23.732622Z",
     "start_time": "2019-02-20T15:14:23.720074Z"
    }
   },
   "outputs": [],
   "source": [
    "# df = df.head(10000)"
   ]
  },
  {
   "cell_type": "code",
   "execution_count": 69,
   "metadata": {
    "ExecuteTime": {
     "end_time": "2019-02-20T15:17:20.946421Z",
     "start_time": "2019-02-20T15:17:20.854106Z"
    }
   },
   "outputs": [
    {
     "data": {
      "text/plain": [
       "array([10,  0,  1, ...,  3,  1,  3])"
      ]
     },
     "execution_count": 69,
     "metadata": {},
     "output_type": "execute_result"
    }
   ],
   "source": [
    "a_len = np.repeat(df[df.ABVariant == \"A\"].Page_List_Length, df[df.ABVariant == \"A\"].Occurrences)\n",
    "a_len.values\n",
    "\n",
    "b_len = np.repeat(df[df.ABVariant == \"B\"].Page_List_Length, df[df.ABVariant == \"B\"].Occurrences)\n",
    "b_len.values"
   ]
  },
  {
   "cell_type": "code",
   "execution_count": 70,
   "metadata": {
    "ExecuteTime": {
     "end_time": "2019-02-20T15:18:45.173692Z",
     "start_time": "2019-02-20T15:17:22.978560Z"
    }
   },
   "outputs": [],
   "source": [
    "with NumpyRNGContext(1337):\n",
    "    a_bootstrap = bb.mean(a_len.values, n_replications=boot_reps)\n",
    "    b_bootstrap = bb.mean(b_len.values, n_replications=boot_reps)"
   ]
  },
  {
   "cell_type": "code",
   "execution_count": 73,
   "metadata": {
    "ExecuteTime": {
     "end_time": "2019-02-20T15:19:00.186679Z",
     "start_time": "2019-02-20T15:19:00.156558Z"
    }
   },
   "outputs": [],
   "source": [
    "grouped_by_length =  df.groupby('Page_List_Length').sum().reset_index()"
   ]
  },
  {
   "cell_type": "code",
   "execution_count": 84,
   "metadata": {
    "ExecuteTime": {
     "end_time": "2019-02-20T15:23:24.718021Z",
     "start_time": "2019-02-20T15:23:24.122924Z"
    }
   },
   "outputs": [],
   "source": [
    "with NumpyRNGContext(1337):\n",
    "    A_grouped_by_length =  df[df.ABVariant == \"A\"].groupby(\n",
    "        'Page_List_Length').sum().reset_index()\n",
    "    B_grouped_by_length =  df[df.ABVariant == \"B\"].groupby(\n",
    "        'Page_List_Length').sum().reset_index()\n",
    "    a_bootstrap_ss = mean_ss(A_grouped_by_length['Page_List_Length'], \n",
    "        A_grouped_by_length['Occurrences'], \n",
    "        boot_reps)\n",
    "    b_bootstrap_ss = mean_ss(B_grouped_by_length['Page_List_Length'], \n",
    "        B_grouped_by_length['Occurrences'], \n",
    "        boot_reps)\n"
   ]
  },
  {
   "cell_type": "code",
   "execution_count": 85,
   "metadata": {
    "ExecuteTime": {
     "end_time": "2019-02-20T15:23:26.874264Z",
     "start_time": "2019-02-20T15:23:26.422870Z"
    }
   },
   "outputs": [
    {
     "data": {
      "image/png": "[encoded data removed]",
      "text/plain": [
       "<Figure size 432x288 with 1 Axes>"
      ]
     },
     "metadata": {
      "needs_background": "light"
     },
     "output_type": "display_data"
    }
   ],
   "source": [
    "ax = sns.distplot(b_bootstrap, label='B')\n",
    "ax = sns.distplot(a_bootstrap, label='A', ax=ax, color='salmon')\n",
    "ax.set(xlabel='Journey Length', ylabel='Density')\n",
    "sns.despine()\n",
    "plt.legend(facecolor='white');"
   ]
  },
  {
   "cell_type": "code",
   "execution_count": 87,
   "metadata": {
    "ExecuteTime": {
     "end_time": "2019-02-20T15:27:11.141603Z",
     "start_time": "2019-02-20T15:27:11.132128Z"
    }
   },
   "outputs": [
    {
     "name": "stdout",
     "output_type": "stream",
     "text": [
      "low ci: 2.7168695286412095 \n",
      "high ci: 2.7511399643542775\n",
      "low ci: 2.731517818586557 \n",
      "high ci: 2.766280584795612\n"
     ]
    }
   ],
   "source": [
    "# Calculate a 95% HDI\n",
    "a_ci_low, a_ci_hi = bb.highest_density_interval(a_bootstrap)\n",
    "print('low ci:', a_ci_low, '\\nhigh ci:', a_ci_hi)\n",
    "\n",
    "# Calculate a 95% HDI\n",
    "b_ci_low, b_ci_hi = bb.highest_density_interval(b_bootstrap)\n",
    "print('low ci:', b_ci_low, '\\nhigh ci:', b_ci_hi)"
   ]
  },
  {
   "cell_type": "code",
   "execution_count": 86,
   "metadata": {
    "ExecuteTime": {
     "end_time": "2019-02-20T15:23:27.370369Z",
     "start_time": "2019-02-20T15:23:26.877251Z"
    }
   },
   "outputs": [
    {
     "data": {
      "image/png": "[encoded data removed]",
      "text/plain": [
       "<Figure size 432x288 with 1 Axes>"
      ]
     },
     "metadata": {
      "needs_background": "light"
     },
     "output_type": "display_data"
    }
   ],
   "source": [
    "ax = sns.distplot(b_bootstrap_ss, label='B')\n",
    "ax = sns.distplot(a_bootstrap_ss, label='A', ax=ax, color='salmon')\n",
    "ax.set(xlabel='Journey Length', ylabel='Density')\n",
    "sns.despine()\n",
    "plt.legend(facecolor='white');"
   ]
  },
  {
   "cell_type": "code",
   "execution_count": 88,
   "metadata": {
    "ExecuteTime": {
     "end_time": "2019-02-20T15:27:19.040339Z",
     "start_time": "2019-02-20T15:27:19.032428Z"
    }
   },
   "outputs": [
    {
     "name": "stdout",
     "output_type": "stream",
     "text": [
      "low ci: 2.7166774394424515 \n",
      "high ci: 2.7515641802213637\n",
      "low ci: 2.731881533862873 \n",
      "high ci: 2.7658374940180686\n"
     ]
    }
   ],
   "source": [
    "# Calculate a 95% HDI\n",
    "a_ci_low, a_ci_hi = bb.highest_density_interval(a_bootstrap_ss)\n",
    "print('low ci:', a_ci_low, '\\nhigh ci:', a_ci_hi)\n",
    "\n",
    "# Calculate a 95% HDI\n",
    "b_ci_low, b_ci_hi = bb.highest_density_interval(b_bootstrap_ss)\n",
    "print('low ci:', b_ci_low, '\\nhigh ci:', b_ci_hi)"
   ]
  },
  {
   "cell_type": "code",
   "execution_count": 89,
   "metadata": {
    "ExecuteTime": {
     "end_time": "2019-02-20T15:37:47.431008Z",
     "start_time": "2019-02-20T15:28:23.660086Z"
    }
   },
   "outputs": [
    {
     "name": "stdout",
     "output_type": "stream",
     "text": [
      "1min 10s ± 3.34 s per loop (mean ± std. dev. of 7 runs, 1 loop each)\n"
     ]
    }
   ],
   "source": [
    "%%timeit \n",
    "with NumpyRNGContext(1337):\n",
    "    a_bootstrap = bb.mean(a_len.values, n_replications=boot_reps)\n",
    "    b_bootstrap = bb.mean(b_len.values, n_replications=boot_reps)\\\n",
    "    \n",
    "# 1min 10s ± 3.34 s per loop (mean ± std. dev. of 7 runs, 1 loop each)"
   ]
  },
  {
   "cell_type": "code",
   "execution_count": 90,
   "metadata": {
    "ExecuteTime": {
     "end_time": "2019-02-20T15:37:52.320342Z",
     "start_time": "2019-02-20T15:37:47.437159Z"
    }
   },
   "outputs": [
    {
     "name": "stdout",
     "output_type": "stream",
     "text": [
      "593 ms ± 26.9 ms per loop (mean ± std. dev. of 7 runs, 1 loop each)\n"
     ]
    }
   ],
   "source": [
    "%%timeit\n",
    "with NumpyRNGContext(1337):\n",
    "    A_grouped_by_length =  df[df.ABVariant == \"A\"].groupby(\n",
    "        'Page_List_Length').sum().reset_index()\n",
    "    B_grouped_by_length =  df[df.ABVariant == \"B\"].groupby(\n",
    "        'Page_List_Length').sum().reset_index()\n",
    "    a_bootstrap_ss = mean_ss(A_grouped_by_length['Page_List_Length'], \n",
    "        A_grouped_by_length['Occurrences'], \n",
    "        boot_reps)\n",
    "    b_bootstrap_ss = mean_ss(B_grouped_by_length['Page_List_Length'], \n",
    "        B_grouped_by_length['Occurrences'], \n",
    "        boot_reps)\n",
    "\n",
    "# 593 ms ± 26.9 ms per loop (mean ± std. dev. of 7 runs, 1 loop each)"
   ]
  },
  {
   "cell_type": "code",
   "execution_count": null,
   "metadata": {},
   "outputs": [],
   "source": []
  }
 ],
 "metadata": {
  "kernelspec": {
   "display_name": "Python 3",
   "language": "python",
   "name": "python3"
  },
  "language_info": {
   "codemirror_mode": {
    "name": "ipython",
    "version": 3
   },
   "file_extension": ".py",
   "mimetype": "text/x-python",
   "name": "python",
   "nbconvert_exporter": "python",
   "pygments_lexer": "ipython3",
   "version": "3.7.2"
  },
  "toc": {
   "base_numbering": 1,
   "nav_menu": {},
   "number_sections": true,
   "sideBar": true,
   "skip_h1_title": false,
   "title_cell": "Table of Contents",
   "title_sidebar": "Contents",
   "toc_cell": false,
   "toc_position": {},
   "toc_section_display": true,
   "toc_window_display": true
  }
 },
 "nbformat": 4,
 "nbformat_minor": 2
}
