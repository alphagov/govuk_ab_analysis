{
 "cells": [
  {
   "cell_type": "code",
   "execution_count": null,
   "metadata": {
    "ExecuteTime": {
     "end_time": "2019-02-19T11:15:22.943288Z",
     "start_time": "2019-02-19T11:15:22.940125Z"
    }
   },
   "outputs": [],
   "source": [
    "import os \n",
    "import pandas as pd"
   ]
  },
  {
   "cell_type": "code",
   "execution_count": null,
   "metadata": {
    "ExecuteTime": {
     "end_time": "2019-02-19T11:15:23.201060Z",
     "start_time": "2019-02-19T11:15:23.197240Z"
    }
   },
   "outputs": [],
   "source": [
    "# Some of the columns we will look at can be quite wide, but it's good to get an idea of what they contain\n",
    "print(pd.get_option('max_colwidth'))\n",
    "pd.set_option('max_colwidth',500)"
   ]
  },
  {
   "cell_type": "markdown",
   "metadata": {},
   "source": [
    "# Page types\n",
    "\n",
    "Edit the query to look at the dates you care about\n",
    "\n",
    "We want to know what page types different pages are because we care about navigation elements clicked **from a content page** and the total number of journeys that contain **only content pages and related links**.\n",
    "\n",
    "Initially we wanted to use [User journey supertype](https://docs.publishing.service.gov.uk/document-types/user_journey_document_supertype.html) from [custom dimensions](https://gov-uk.atlassian.net/wiki/spaces/GOVUK/pages/23855552/Analytics+on+GOV.UK#AnalyticsonGOV.UK-customDimensionsCustomdimensions), where each page is either classified as 'finding' or 'thing'. Unfortunately this dimension is poorly populated in BigQuery due to someone disabling it, and occasionally the same page path and page title can be reported as both a 'finding' and a 'thing' at different times (e.g. the GOV.UK homepage).\n",
    "\n",
    "The next option is using 'Format' (document type) from [custom dimensions](https://gov-uk.atlassian.net/wiki/spaces/GOVUK/pages/23855552/Analytics+on+GOV.UK#AnalyticsonGOV.UK-customDimensionsCustomdimensions), which is a lot better populated but a lot more granular, you can find a sample of a day's data with pageviews from GA [here](https://docs.google.com/spreadsheets/d/1-jen8DbRgvmvF9aYapmwsFAe0ncHeq5y-ks75iyCvVU/edit#gid=177174931).\n",
    "\n",
    "*NB - a data dump from the content API is probably the most reliable source for a mapping of page paths to document types and then to finding/thing, however there's a bit of outlay in understanding how that data can be accessed and how it is structured so a BigQuery query is most appropriate for a first stab at this.*"
   ]
  },
  {
   "cell_type": "markdown",
   "metadata": {},
   "source": [
    "**TODO** one query to get pagePath, format (or map this to finding/thing), content ID, where content_id != '00000000-0000-0000-0000-000000000000'"
   ]
  },
  {
   "cell_type": "code",
   "execution_count": null,
   "metadata": {
    "ExecuteTime": {
     "end_time": "2019-02-19T11:15:24.232337Z",
     "start_time": "2019-02-19T11:15:24.227020Z"
    }
   },
   "outputs": [],
   "source": [
    "ProjectID = 'govuk-bigquery-analytics'\n",
    "KEY_DIR = os.getenv(\"BQ_KEY_DIR\")\n",
    "key_file_path = os.path.join(KEY_DIR, os.listdir(KEY_DIR)[0])"
   ]
  },
  {
   "cell_type": "code",
   "execution_count": null,
   "metadata": {
    "ExecuteTime": {
     "end_time": "2019-02-19T11:15:55.238579Z",
     "start_time": "2019-02-19T11:15:55.235533Z"
    }
   },
   "outputs": [],
   "source": [
    "QUERY = \"\"\"\n",
    "    SELECT \n",
    "    pagePath,\n",
    "    MAX(IF(document_type IN ('document_collection',\n",
    "      'finder',\n",
    "      'homepage',\n",
    "      'license_finder',\n",
    "      'mainstream_browse_page',\n",
    "      'organisation',\n",
    "      'search',\n",
    "      'service_manual_homepage',\n",
    "      'service_manual_topic',\n",
    "      'services_and_information',\n",
    "      'taxon',\n",
    "      'topic',\n",
    "      'topical_event'),1,0)) AS is_finding\n",
    "    FROM\n",
    "      (SELECT \n",
    "          (\n",
    "        SELECT\n",
    "          value\n",
    "        FROM\n",
    "          hits.customDimensions\n",
    "        WHERE\n",
    "          index=4) AS content_id,\n",
    "          hits.page.pagePath, \n",
    "        (\n",
    "        SELECT\n",
    "          value\n",
    "        FROM\n",
    "          hits.customDimensions\n",
    "        WHERE\n",
    "          index=2) AS document_type\n",
    "      FROM\n",
    "        `govuk-bigquery-analytics.87773428.ga_sessions_*` AS sessions\n",
    "      CROSS JOIN\n",
    "        UNNEST(sessions.hits) AS hits\n",
    "         WHERE _TABLE_SUFFIX BETWEEN '20190214'\n",
    "     AND '20190218'\n",
    "      )\n",
    "    WHERE\n",
    "      content_id != '00000000-0000-0000-0000-000000000000'\n",
    "      AND content_id != '[object Object]'\n",
    "      AND content_id IS NOT NULL\n",
    "    GROUP BY 1\n",
    "\"\"\""
   ]
  },
  {
   "cell_type": "code",
   "execution_count": null,
   "metadata": {
    "ExecuteTime": {
     "end_time": "2019-02-19T11:17:17.093967Z",
     "start_time": "2019-02-19T11:15:57.110228Z"
    }
   },
   "outputs": [],
   "source": [
    "df_finding_thing = pd.io.gbq.read_gbq(QUERY,\n",
    "                           project_id=ProjectID,\n",
    "                           reauth=False,\n",
    "                           # verbose=True,\n",
    "                           private_key=key_file_path,\n",
    "                           dialect='standard')"
   ]
  },
  {
   "cell_type": "code",
   "execution_count": null,
   "metadata": {
    "ExecuteTime": {
     "end_time": "2019-02-19T11:17:28.424520Z",
     "start_time": "2019-02-19T11:17:17.096560Z"
    }
   },
   "outputs": [],
   "source": [
    "df_finding_thing.to_csv('../../data/raw_bq_extract/document_types_20190214_20190218.csv.gz',\n",
    "             sep=\"\\t\", index=False, compression='gzip')"
   ]
  },
  {
   "cell_type": "code",
   "execution_count": null,
   "metadata": {
    "ExecuteTime": {
     "end_time": "2019-02-08T10:54:19.472847Z",
     "start_time": "2019-02-08T10:54:15.955593Z"
    }
   },
   "outputs": [],
   "source": [
    "# df_finding_thing = pd.read_csv(\n",
    "#     '../../data/raw_bq_extract/document_types.csv.gz',\n",
    "#              sep=\"\\t\", compression='gzip')"
   ]
  },
  {
   "cell_type": "code",
   "execution_count": null,
   "metadata": {},
   "outputs": [],
   "source": []
  }
 ],
 "metadata": {
  "kernelspec": {
   "display_name": "Python 3",
   "language": "python",
   "name": "python3"
  },
  "language_info": {
   "codemirror_mode": {
    "name": "ipython",
    "version": 3
   },
   "file_extension": ".py",
   "mimetype": "text/x-python",
   "name": "python",
   "nbconvert_exporter": "python",
   "pygments_lexer": "ipython3",
   "version": "3.7.0"
  },
  "toc": {
   "base_numbering": 1,
   "nav_menu": {},
   "number_sections": true,
   "sideBar": true,
   "skip_h1_title": false,
   "title_cell": "Table of Contents",
   "title_sidebar": "Contents",
   "toc_cell": false,
   "toc_position": {
    "height": "507px",
    "left": "159px",
    "top": "110px",
    "width": "165px"
   },
   "toc_section_display": true,
   "toc_window_display": true
  }
 },
 "nbformat": 4,
 "nbformat_minor": 2
}
